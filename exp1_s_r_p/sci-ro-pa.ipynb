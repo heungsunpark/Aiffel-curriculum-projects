{
 "cells": [
  {
   "cell_type": "code",
   "execution_count": 1,
   "id": "57394d91",
   "metadata": {},
   "outputs": [],
   "source": [
    "import tensorflow as tf\n",
    "from tensorflow import keras\n",
    "\n",
    "import numpy as np\n",
    "import matplotlib.pyplot as plt\n",
    "import os"
   ]
  },
  {
   "cell_type": "code",
   "execution_count": 2,
   "id": "23d955cc",
   "metadata": {},
   "outputs": [],
   "source": [
    "from PIL import Image\n",
    "import glob"
   ]
  },
  {
   "cell_type": "markdown",
   "id": "2a897eec",
   "metadata": {},
   "source": [
    "### [함수 정의] 학습용 데이터 리사이즈 함수 "
   ]
  },
  {
   "cell_type": "code",
   "execution_count": 3,
   "id": "f8d06c00",
   "metadata": {},
   "outputs": [],
   "source": [
    "def resize_images(img_path):\n",
    "    images=glob.glob(img_path + \"/*.jpg\")\n",
    "    print(len(images), \" images to be resized.\")\n",
    "\n",
    "    # 파일마다 모두 28x28 사이즈로 바꾸어 저장합니다.\n",
    "    target_size=(28,28)\n",
    "    for img in images:\n",
    "        old_img=Image.open(img)\n",
    "        new_img=old_img.resize(target_size,Image.ANTIALIAS)\n",
    "        new_img.save(img, \"JPEG\")\n",
    "    \n",
    "    print(len(images), \" images resized.\")"
   ]
  },
  {
   "cell_type": "markdown",
   "id": "d8dc8959",
   "metadata": {},
   "source": [
    "### 학습용 데이터 리사이즈 하기"
   ]
  },
  {
   "cell_type": "code",
   "execution_count": 4,
   "id": "efea74a4",
   "metadata": {},
   "outputs": [
    {
     "name": "stdout",
     "output_type": "stream",
     "text": [
      "300  images to be resized.\n",
      "300  images resized.\n",
      "가위 이미지 resize 완료!\n",
      "300  images to be resized.\n",
      "300  images resized.\n",
      "바위 이미지 resize 완료!\n",
      "300  images to be resized.\n",
      "300  images resized.\n",
      "보 이미지 resize 완료!\n"
     ]
    }
   ],
   "source": [
    "# 가위 이미지가 저장된 디렉토리 아래의 모든 jpg 파일을 읽어들여서\n",
    "\n",
    "image_dir_path = os.getenv(\"HOME\") + \"/aiffel/rock_scissor_paper/scissor_1\"\n",
    "resize_images(image_dir_path)\n",
    "print(\"가위 이미지 resize 완료!\")\n",
    "\n",
    "# 바위 이미지가 저장된 디렉토리 아래의 모든 jpg 파일을 읽어들여서\n",
    "\n",
    "image_dir_path = os.getenv(\"HOME\") + \"/aiffel/rock_scissor_paper/rock_1\"\n",
    "resize_images(image_dir_path)\n",
    "print(\"바위 이미지 resize 완료!\")\n",
    "\n",
    "# 보 이미지가 저장된 디렉토리 아래의 모든 jpg 파일을 읽어들여서\n",
    "\n",
    "image_dir_path = os.getenv(\"HOME\") + \"/aiffel/rock_scissor_paper/paper_1\"\n",
    "resize_images(image_dir_path)\n",
    "print(\"보 이미지 resize 완료!\")"
   ]
  },
  {
   "cell_type": "markdown",
   "id": "a70541fe",
   "metadata": {},
   "source": [
    "### [함수 정의] 가위, 바위, 보 데이터를 읽을 수 있는 load_data() 함수  \n",
    "- 이 코드를 활용하면 임의의 사진 데이터에 적용 가능\n",
    "- load_data() 함수는 입력으로 이미지가 있는 폴더 위치 필요. 여기서는 rock_scissor_paper 폴더 위치\n",
    "- 가위바위보의 경우 3개의 클래스 즉, 가위: 0, 바위: 1, 보: 2 로 라벨링"
   ]
  },
  {
   "cell_type": "code",
   "execution_count": 5,
   "id": "e0862b27",
   "metadata": {},
   "outputs": [],
   "source": [
    "def load_data(img_path, number_of_data=900):  # 가위바위보 이미지 개수 총합에 주의하세요.\n",
    "    # 가위 : 0, 바위 : 1, 보 : 2\n",
    "    img_size=28\n",
    "    color=3\n",
    "    #이미지 데이터와 라벨(가위 : 0, 바위 : 1, 보 : 2) 데이터를 담을 행렬(matrix) 영역을 생성합니다.\n",
    "    imgs=np.zeros(number_of_data*img_size*img_size*color,dtype=np.int32).reshape(number_of_data,img_size,img_size,color)\n",
    "    labels=np.zeros(number_of_data,dtype=np.int32)\n",
    "\n",
    "    idx=0\n",
    "    for file in glob.iglob(img_path+'/scissor_1/*.jpg'):\n",
    "        img = np.array(Image.open(file),dtype=np.int32)\n",
    "        imgs[idx,:,:,:]=img    # 데이터 영역에 이미지 행렬을 복사\n",
    "        labels[idx]=0   # 가위 : 0\n",
    "        idx=idx+1\n",
    "\n",
    "    for file in glob.iglob(img_path+'/rock_1/*.jpg'):\n",
    "        img = np.array(Image.open(file),dtype=np.int32)\n",
    "        imgs[idx,:,:,:]=img    # 데이터 영역에 이미지 행렬을 복사\n",
    "        labels[idx]=1   # 바위 : 1\n",
    "        idx=idx+1  \n",
    "    \n",
    "    for file in glob.iglob(img_path+'/paper_1/*.jpg'):\n",
    "        img = np.array(Image.open(file),dtype=np.int32)\n",
    "        imgs[idx,:,:,:]=img    # 데이터 영역에 이미지 행렬을 복사\n",
    "        labels[idx]=2   # 보 : 2\n",
    "        idx=idx+1\n",
    "        \n",
    "    print(\"학습데이터(x_train)의 이미지 개수는\", idx,\"입니다.\")\n",
    "    return imgs, labels"
   ]
  },
  {
   "cell_type": "markdown",
   "id": "989f1c28",
   "metadata": {},
   "source": [
    "### 학습용 데이터 읽어오기\n",
    "- load_data() 함수는 입력으로 이미지가 있는 폴더 위치 필요  \n",
    "- aiffel/rock_scissor_paper 폴더 아래에 가위, 바위, 보 각각에 대한 폴더를 생성해서 이미지 저장"
   ]
  },
  {
   "cell_type": "code",
   "execution_count": 6,
   "id": "853fec90",
   "metadata": {},
   "outputs": [
    {
     "name": "stdout",
     "output_type": "stream",
     "text": [
      "학습데이터(x_train)의 이미지 개수는 900 입니다.\n",
      "x_train shape: (900, 28, 28, 3)\n",
      "y_train shape: (900,)\n"
     ]
    }
   ],
   "source": [
    "image_dir_path = os.getenv(\"HOME\") + \"/aiffel/rock_scissor_paper\"\n",
    "(x_train, y_train)=load_data(image_dir_path)\n",
    "x_train_norm = x_train/255.0   # 입력은 0~1 사이의 값으로 정규화\n",
    "\n",
    "print(\"x_train shape: {}\".format(x_train.shape))\n",
    "print(\"y_train shape: {}\".format(y_train.shape))"
   ]
  },
  {
   "cell_type": "markdown",
   "id": "4077e14a",
   "metadata": {},
   "source": [
    "### 이미지 확인하기"
   ]
  },
  {
   "cell_type": "code",
   "execution_count": 7,
   "id": "79a69bb6",
   "metadata": {},
   "outputs": [
    {
     "name": "stdout",
     "output_type": "stream",
     "text": [
      "라벨:  0\n"
     ]
    },
    {
     "data": {
      "image/png": "[encoded data removed]",
      "text/plain": [
       "<Figure size 432x288 with 1 Axes>"
      ]
     },
     "metadata": {
      "needs_background": "light"
     },
     "output_type": "display_data"
    }
   ],
   "source": [
    "plt.imshow(x_train[100])\n",
    "print('라벨: ', y_train[100])"
   ]
  },
  {
   "cell_type": "markdown",
   "id": "344eed74",
   "metadata": {},
   "source": [
    "### 딥러닝 모델 설계\n",
    "다음의 파라미터 값을 바꾸면서 정확도를 올리는 파라미터들을 찾는다:\n",
    "- n_channel_1   (=16)  \n",
    "- n_channel_2   (=128)  \n",
    "- n_dense       (=1024)  \n",
    "- n_train_epoch (=9)"
   ]
  },
  {
   "cell_type": "code",
   "execution_count": 98,
   "id": "6cb8e550",
   "metadata": {},
   "outputs": [
    {
     "name": "stdout",
     "output_type": "stream",
     "text": [
      "Model: \"sequential_21\"\n",
      "_________________________________________________________________\n",
      "Layer (type)                 Output Shape              Param #   \n",
      "=================================================================\n",
      "conv2d_42 (Conv2D)           (None, 26, 26, 16)        448       \n",
      "_________________________________________________________________\n",
      "max_pooling2d_42 (MaxPooling (None, 13, 13, 16)        0         \n",
      "_________________________________________________________________\n",
      "conv2d_43 (Conv2D)           (None, 11, 11, 128)       18560     \n",
      "_________________________________________________________________\n",
      "max_pooling2d_43 (MaxPooling (None, 5, 5, 128)         0         \n",
      "_________________________________________________________________\n",
      "flatten_21 (Flatten)         (None, 3200)              0         \n",
      "_________________________________________________________________\n",
      "dense_42 (Dense)             (None, 1024)              3277824   \n",
      "_________________________________________________________________\n",
      "dense_43 (Dense)             (None, 3)                 3075      \n",
      "=================================================================\n",
      "Total params: 3,299,907\n",
      "Trainable params: 3,299,907\n",
      "Non-trainable params: 0\n",
      "_________________________________________________________________\n"
     ]
    }
   ],
   "source": [
    "# model을 직접 만들어 보세요.\n",
    "# Hint! model의 입력/출력부에 특히 유의해 주세요. 가위바위보 데이터셋은 MNIST 데이터셋과 어떤 점이 달라졌나요?\n",
    "\n",
    "n_channel_1 = 16\n",
    "n_channel_2 = 128\n",
    "n_dense = 1024\n",
    "n_train_epoch = 8\n",
    "\n",
    "# [16, 128, 1024] 9: 최대 66%\n",
    "\n",
    "model=keras.models.Sequential()\n",
    "model.add(keras.layers.Conv2D(n_channel_1, (3,3), activation='relu', input_shape=(28,28,3)))\n",
    "model.add(keras.layers.MaxPool2D(2,2))\n",
    "model.add(keras.layers.Conv2D(n_channel_2, (3,3), activation='relu'))\n",
    "model.add(keras.layers.MaxPooling2D((2,2)))\n",
    "model.add(keras.layers.Flatten())\n",
    "model.add(keras.layers.Dense(n_dense, activation='relu'))\n",
    "model.add(keras.layers.Dense(3, activation='softmax'))\n",
    "\n",
    "model.summary()"
   ]
  },
  {
   "cell_type": "markdown",
   "id": "1f388054",
   "metadata": {},
   "source": [
    "### 딥러닝 모델 학습"
   ]
  },
  {
   "cell_type": "code",
   "execution_count": 99,
   "id": "321730b6",
   "metadata": {},
   "outputs": [
    {
     "name": "stdout",
     "output_type": "stream",
     "text": [
      "Epoch 1/8\n",
      "29/29 [==============================] - 0s 4ms/step - loss: 32.2323 - accuracy: 0.5467\n",
      "Epoch 2/8\n",
      "29/29 [==============================] - 0s 4ms/step - loss: 0.3412 - accuracy: 0.8633\n",
      "Epoch 3/8\n",
      "29/29 [==============================] - 0s 3ms/step - loss: 0.0850 - accuracy: 0.9811\n",
      "Epoch 4/8\n",
      "29/29 [==============================] - 0s 4ms/step - loss: 0.0269 - accuracy: 0.9967\n",
      "Epoch 5/8\n",
      "29/29 [==============================] - 0s 3ms/step - loss: 0.0365 - accuracy: 0.9889\n",
      "Epoch 6/8\n",
      "29/29 [==============================] - 0s 4ms/step - loss: 0.0423 - accuracy: 0.9900\n",
      "Epoch 7/8\n",
      "29/29 [==============================] - 0s 3ms/step - loss: 0.3161 - accuracy: 0.9133\n",
      "Epoch 8/8\n",
      "29/29 [==============================] - 0s 3ms/step - loss: 0.0218 - accuracy: 0.9956\n"
     ]
    },
    {
     "data": {
      "text/plain": [
       "<keras.callbacks.History at 0x7f8b7c83a640>"
      ]
     },
     "execution_count": 99,
     "metadata": {},
     "output_type": "execute_result"
    }
   ],
   "source": [
    "# model을 학습시키는 코드를 직접 작성해 보세요.\n",
    "# Hint! model.compile()과 model.fit()을 사용해 봅시다.\n",
    "\n",
    "model.compile(optimizer='adam',\n",
    "             loss='sparse_categorical_crossentropy',\n",
    "             metrics=['accuracy'])\n",
    "\n",
    "# 모델 훈련\n",
    "model.fit(x_train, y_train, epochs=n_train_epoch)"
   ]
  },
  {
   "cell_type": "markdown",
   "id": "a0829e08",
   "metadata": {},
   "source": [
    "### 얼마나 잘 만들었는지 확인하기 - 테스트 데이터 만들기\n",
    "- 테스트 데이터 리사이즈  \n",
    "- 테스트 데이터와 학습용 데이터는 위치한 폴더와 갯수와 다르므로 테스트 데이터 로드 함수 정의  \n",
    "- 테스트 데이터 정규화"
   ]
  },
  {
   "cell_type": "code",
   "execution_count": 100,
   "id": "04a60663",
   "metadata": {},
   "outputs": [
    {
     "name": "stdout",
     "output_type": "stream",
     "text": [
      "100  images to be resized.\n",
      "100  images resized.\n",
      "100  images to be resized.\n",
      "100  images resized.\n",
      "100  images to be resized.\n",
      "100  images resized.\n",
      "테스트 데이터(x_test)의 이미지 개수는 300 입니다.\n",
      "x_test shape: (300, 28, 28, 3)\n",
      "y_test shape: (300,)\n"
     ]
    }
   ],
   "source": [
    "# x_test, y_test를 만드는 방법은 x_train, y_train을 만드는 방법과 아주 유사합니다.\n",
    "\n",
    "# 가위 이미지가 저장된 디렉토리 아래의 모든 jpg 파일을 읽어들여서\n",
    "# 파일마다 모두 28x28 사이즈로 바꾸어 저장합니다.\n",
    "\n",
    "image_dir_path = os.getenv(\"HOME\") + \"/aiffel/rock_scissor_paper/test/scissor\"\n",
    "resize_images(image_dir_path)\n",
    "\n",
    "# 바위 이미지가 저장된 디렉토리 아래의 모든 jpg 파일을 읽어들여서\n",
    "# 파일마다 모두 28x28 사이즈로 바꾸어 저장합니다.\n",
    "\n",
    "image_dir_path = os.getenv(\"HOME\") + \"/aiffel/rock_scissor_paper/test/rock\"\n",
    "resize_images(image_dir_path)\n",
    "\n",
    "# 보 이미지가 저장된 디렉토리 아래의 모든 jpg 파일을 읽어들여서\n",
    "# 파일마다 모두 28x28 사이즈로 바꾸어 저장합니다.\n",
    "\n",
    "image_dir_path = os.getenv(\"HOME\") + \"/aiffel/rock_scissor_paper/test/paper\"\n",
    "resize_images(image_dir_path)\n",
    "\n",
    "# 테스트 데이터 로드 함수\n",
    "def load_data(img_path, number_of_data=300):  # 가위바위보 이미지 개수 총합에 주의하세요.\n",
    "    # 가위 : 0, 바위 : 1, 보 : 2\n",
    "    img_size=28\n",
    "    color=3\n",
    "    #이미지 데이터와 라벨(가위 : 0, 바위 : 1, 보 : 2) 데이터를 담을 행렬(matrix) 영역을 생성합니다.\n",
    "    imgs=np.zeros(number_of_data*img_size*img_size*color,dtype=np.int32).reshape(number_of_data,img_size,img_size,color)\n",
    "    labels=np.zeros(number_of_data,dtype=np.int32)\n",
    "\n",
    "    idx=0\n",
    "    for file in glob.iglob(img_path+'/scissor/*.jpg'):\n",
    "        img = np.array(Image.open(file),dtype=np.int32)\n",
    "        imgs[idx,:,:,:]=img    # 데이터 영역에 이미지 행렬을 복사\n",
    "        labels[idx]=0   # 가위 : 0\n",
    "        idx=idx+1\n",
    "\n",
    "    for file in glob.iglob(img_path+'/rock/*.jpg'):\n",
    "        img = np.array(Image.open(file),dtype=np.int32)\n",
    "        imgs[idx,:,:,:]=img    # 데이터 영역에 이미지 행렬을 복사\n",
    "        labels[idx]=1   # 바위 : 1\n",
    "        idx=idx+1  \n",
    "    \n",
    "    for file in glob.iglob(img_path+'/paper/*.jpg'):\n",
    "        img = np.array(Image.open(file),dtype=np.int32)\n",
    "        imgs[idx,:,:,:]=img    # 데이터 영역에 이미지 행렬을 복사\n",
    "        labels[idx]=2   # 보 : 2\n",
    "        idx=idx+1\n",
    "        \n",
    "    print(\"테스트 데이터(x_test)의 이미지 개수는\", idx,\"입니다.\")\n",
    "    return imgs, labels\n",
    "\n",
    "image_dir_path = os.getenv(\"HOME\") + \"/aiffel/rock_scissor_paper/test\"\n",
    "(x_test, y_test)=load_data(image_dir_path)\n",
    "x_test_norm = x_test/255.0   # 입력은 0~1 사이의 값으로 정규화\n",
    "\n",
    "print(\"x_test shape: {}\".format(x_test.shape))\n",
    "print(\"y_test shape: {}\".format(y_test.shape))"
   ]
  },
  {
   "cell_type": "markdown",
   "id": "021a77bd",
   "metadata": {},
   "source": [
    "### 훈련시킨 모델 성능 평가 - Accuracy 측정"
   ]
  },
  {
   "cell_type": "code",
   "execution_count": 101,
   "id": "040944d5",
   "metadata": {},
   "outputs": [
    {
     "name": "stdout",
     "output_type": "stream",
     "text": [
      "10/10 - 0s - loss: 5.8737 - accuracy: 0.4600\n",
      "test_loss: 5.873671054840088 \n",
      "test_accuracy: 0.46000000834465027\n"
     ]
    }
   ],
   "source": [
    "# model을 평가하는 코드를 직접 작성해 보세요.\n",
    "# Hint! model.evaluate()을 사용해 봅시다.\n",
    "\n",
    "test_loss, test_accuracy = model.evaluate(x_test,y_test, verbose=2)\n",
    "print(\"test_loss: {} \".format(test_loss))\n",
    "print(\"test_accuracy: {}\".format(test_accuracy))"
   ]
  },
  {
   "cell_type": "markdown",
   "id": "83351ff0",
   "metadata": {},
   "source": [
    "### Confusion matrix 확인"
   ]
  },
  {
   "cell_type": "code",
   "execution_count": 102,
   "id": "5f7da687",
   "metadata": {},
   "outputs": [
    {
     "data": {
      "text/html": [
       "<div>\n",
       "<style scoped>\n",
       "    .dataframe tbody tr th:only-of-type {\n",
       "        vertical-align: middle;\n",
       "    }\n",
       "\n",
       "    .dataframe tbody tr th {\n",
       "        vertical-align: top;\n",
       "    }\n",
       "\n",
       "    .dataframe thead th {\n",
       "        text-align: right;\n",
       "    }\n",
       "</style>\n",
       "<table border=\"1\" class=\"dataframe\">\n",
       "  <thead>\n",
       "    <tr style=\"text-align: right;\">\n",
       "      <th></th>\n",
       "      <th>scissor</th>\n",
       "      <th>rock</th>\n",
       "      <th>paper</th>\n",
       "      <th>accuracy</th>\n",
       "      <th>macro avg</th>\n",
       "      <th>weighted avg</th>\n",
       "    </tr>\n",
       "  </thead>\n",
       "  <tbody>\n",
       "    <tr>\n",
       "      <th>precision</th>\n",
       "      <td>0.875000</td>\n",
       "      <td>0.362963</td>\n",
       "      <td>0.214286</td>\n",
       "      <td>0.383333</td>\n",
       "      <td>0.484083</td>\n",
       "      <td>0.484083</td>\n",
       "    </tr>\n",
       "    <tr>\n",
       "      <th>recall</th>\n",
       "      <td>0.140000</td>\n",
       "      <td>0.980000</td>\n",
       "      <td>0.030000</td>\n",
       "      <td>0.383333</td>\n",
       "      <td>0.383333</td>\n",
       "      <td>0.383333</td>\n",
       "    </tr>\n",
       "    <tr>\n",
       "      <th>f1-score</th>\n",
       "      <td>0.241379</td>\n",
       "      <td>0.529730</td>\n",
       "      <td>0.052632</td>\n",
       "      <td>0.383333</td>\n",
       "      <td>0.274580</td>\n",
       "      <td>0.274580</td>\n",
       "    </tr>\n",
       "    <tr>\n",
       "      <th>support</th>\n",
       "      <td>100.000000</td>\n",
       "      <td>100.000000</td>\n",
       "      <td>100.000000</td>\n",
       "      <td>0.383333</td>\n",
       "      <td>300.000000</td>\n",
       "      <td>300.000000</td>\n",
       "    </tr>\n",
       "  </tbody>\n",
       "</table>\n",
       "</div>"
      ],
      "text/plain": [
       "              scissor        rock       paper  accuracy   macro avg  \\\n",
       "precision    0.875000    0.362963    0.214286  0.383333    0.484083   \n",
       "recall       0.140000    0.980000    0.030000  0.383333    0.383333   \n",
       "f1-score     0.241379    0.529730    0.052632  0.383333    0.274580   \n",
       "support    100.000000  100.000000  100.000000  0.383333  300.000000   \n",
       "\n",
       "           weighted avg  \n",
       "precision      0.484083  \n",
       "recall         0.383333  \n",
       "f1-score       0.274580  \n",
       "support      300.000000  "
      ]
     },
     "execution_count": 102,
     "metadata": {},
     "output_type": "execute_result"
    }
   ],
   "source": [
    "from tensorflow.math import confusion_matrix\n",
    "from sklearn.metrics import classification_report\n",
    "import pandas as pd\n",
    "\n",
    "y_pred = np.argmax(model.predict(x_test_norm), axis=1) # 예측결과(각 샘플 당 3개) 중 가장 높은 값\n",
    "                                                         # 이 값이 결국 클래스를 의미\n",
    "_confusion_report = classification_report(y_test, y_pred, \n",
    "                                          target_names=['scissor', 'rock', 'paper'], \n",
    "                                          output_dict=True) # dict 형태로 출력(dataframe 만들기 위해)\n",
    "pd.DataFrame(_confusion_report)"
   ]
  },
  {
   "cell_type": "code",
   "execution_count": 103,
   "id": "e2fb347b",
   "metadata": {},
   "outputs": [
    {
     "data": {
      "image/png": "[encoded data removed]",
      "text/plain": [
       "<Figure size 432x288 with 2 Axes>"
      ]
     },
     "metadata": {
      "needs_background": "light"
     },
     "output_type": "display_data"
    }
   ],
   "source": [
    "import seaborn as sns\n",
    "\n",
    "_confusion_matrix = confusion_matrix(y_test, y_pred) # Confusion Matrix 만들기\n",
    "df_confusion = pd.DataFrame(_confusion_matrix.numpy(),\n",
    "                           columns=['scissor', 'rock', 'paper'],\n",
    "                           index=['scissor', 'rock', 'paper'])\n",
    "sns.heatmap(df_confusion, annot=True, fmt='g') # Confusion Matrix를 heatmap으로 시각화\n",
    "plt.title('Confusion Matrix', fontsize=20)\n",
    "plt.show()"
   ]
  },
  {
   "cell_type": "markdown",
   "id": "9e3f3c98",
   "metadata": {},
   "source": [
    "### 해석\n",
    "\n",
    "- 다음의 파라미터 값들을 바꾸면서 정확도를 확인\n",
    "  - n_channel_1   (= 16, 교재 기본 값)  \n",
    "  - n_channel_2   (= 32, 교재 기본 값)  \n",
    "  - n_dense       (= 32, 교재 기본 값)  \n",
    "  - n_train_epoch (= 10, 교재 기본 값)  \n",
    "      \n",
    "      \n",
    "- 훈련 데이터 수를 가위, 바위 보 각 100개씩 총 300개를 사용했을 경우\n",
    "      - n_channel_1   = 16  \n",
    "      - n_channel_2   = 128  \n",
    "      - n_dense       = 512  \n",
    "      - n_train_epoch = 8  \n",
    "      \n",
    "  - 위 파라미터 사용 시 최대 정확도 59% 기록  \n",
    "  - 같은 파라미터를 사용하더라도 학습시킬 때마다 **결과가 다름**... 이유는 모르겠음  \n",
    "  - 각 층의 채널 수를 무작정 높여서 정확도가 높아지는 것은 아님  \n",
    "  - 동일한 채널 파라미터에 대해 Epoch수는 일정 수준을 넘어가면 정확도 감소: 위의 경우 9부터 감소  \n",
    "  - 최적의 파라미터는 Trial-and-Error로 찾기는 불가능하며 수리적 방법이나 경험적 방법으로 찾아야 할 것으로 보임  \n",
    "  \n",
    "      \n",
    "- 훈련 데이터 수를 가위, 바위 보 각 300개씩 총 900개를 사용했을 경우 (300개 새로 찍고, 동료 사진 300개 추가)\n",
    "      - n_channel_1   = 16  \n",
    "      - n_channel_2   = 128  \n",
    "      - n_dense       = 1024  \n",
    "      - n_train_epoch = 9  \n",
    "      \n",
    "  - 위 파라미터 사용 시 최대 정확도 66% 기록    \n",
    "  - 같은 파라미터를 사용하더라도 학습시킬 때마다 **결과가 다름**... 이유는 모르겠음\n",
    "  - 훈련(학습) 데이터 수가 300인 경우와 정확도는 별 차이가 없으며 낮은 수준임\n",
    "  - 데이터 수를 더 늘려서 해보는 것이 필요할 것 같음\n",
    "  - 물론 데이터 수에 정확도가 비례할 것으로 보이지는 않으나 900개도 매우 적은 것으로 판단됨\n"
   ]
  },
  {
   "cell_type": "code",
   "execution_count": null,
   "id": "79b9fb64",
   "metadata": {},
   "outputs": [],
   "source": []
  }
 ],
 "metadata": {
  "kernelspec": {
   "display_name": "Python 3 (ipykernel)",
   "language": "python",
   "name": "python3"
  },
  "language_info": {
   "codemirror_mode": {
    "name": "ipython",
    "version": 3
   },
   "file_extension": ".py",
   "mimetype": "text/x-python",
   "name": "python",
   "nbconvert_exporter": "python",
   "pygments_lexer": "ipython3",
   "version": "3.9.7"
  }
 },
 "nbformat": 4,
 "nbformat_minor": 5
}
