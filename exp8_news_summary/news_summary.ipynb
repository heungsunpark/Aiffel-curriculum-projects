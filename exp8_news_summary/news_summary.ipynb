{
 "cells": [
  {
   "cell_type": "markdown",
   "id": "0645d711",
   "metadata": {},
   "source": [
    "# 8-13. 프로젝트: 뉴스기사 요약해보기\n",
    "- 새로운 데이터셋에 대해 **추상적요약(abstractive summrization)**과 **추출적요약(extractive summarization)** 해보기"
   ]
  },
  {
   "cell_type": "markdown",
   "id": "25ccb473",
   "metadata": {},
   "source": [
    "# Step 0. 필요한 패키지 불러오기\n",
    "- NLTK 패키지에서 불용어 사전 다운로드\n",
    "- 데이터 전처리를 위한 패키지 불러오기"
   ]
  },
  {
   "cell_type": "code",
   "execution_count": 1,
   "id": "fa485499",
   "metadata": {},
   "outputs": [
    {
     "name": "stderr",
     "output_type": "stream",
     "text": [
      "[nltk_data] Downloading package stopwords to /aiffel/nltk_data...\n",
      "[nltk_data]   Package stopwords is already up-to-date!\n"
     ]
    },
    {
     "name": "stdout",
     "output_type": "stream",
     "text": [
      "=3\n"
     ]
    }
   ],
   "source": [
    "import nltk\n",
    "nltk.download('stopwords')\n",
    "\n",
    "import numpy as np\n",
    "import pandas as pd\n",
    "import os\n",
    "import re\n",
    "import matplotlib.pyplot as plt\n",
    "from nltk.corpus import stopwords\n",
    "from bs4 import BeautifulSoup \n",
    "from tensorflow.keras.preprocessing.text import Tokenizer \n",
    "from tensorflow.keras.preprocessing.sequence import pad_sequences\n",
    "import urllib.request\n",
    "import warnings\n",
    "warnings.filterwarnings(\"ignore\", category=UserWarning, module='bs4')\n",
    "\n",
    "print('=3')\n"
   ]
  },
  {
   "cell_type": "markdown",
   "id": "a80be497",
   "metadata": {},
   "source": [
    "# Step 1. 데이터 수집하기\n",
    "- 데이터는 아래 링크에 있는 뉴스 기사 데이터(news_summary_more.csv) 사용\n",
    "  - sunnysai12345/News_Summary(https://github.com/sunnysai12345/News_Summary)"
   ]
  },
  {
   "cell_type": "markdown",
   "id": "38d3ba5a",
   "metadata": {},
   "source": [
    "- 데이터는 기사의 본문에 해당되는 text와 headlines 두 개 열로 구성\n",
    "  - 추상적요약에는 text를 본문, headlines를 요약으로 사용\n",
    "  - 추출적요약에는 text만 사용"
   ]
  },
  {
   "cell_type": "markdown",
   "id": "72a5d1b2",
   "metadata": {},
   "source": [
    "### 1-1. 데이터 다운로드"
   ]
  },
  {
   "cell_type": "code",
   "execution_count": 2,
   "id": "fe7a09d2",
   "metadata": {},
   "outputs": [
    {
     "name": "stdout",
     "output_type": "stream",
     "text": [
      "전체 샘플수 : 98401\n"
     ]
    }
   ],
   "source": [
    "import urllib.request\n",
    "urllib.request.urlretrieve(\"https://raw.githubusercontent.com/sunnysai12345/News_Summary/master/news_summary_more.csv\", filename=\"news_summary_more.csv\")\n",
    "data = pd.read_csv('news_summary_more.csv', encoding='iso-8859-1')\n",
    "print('전체 샘플수 :', (len(data)))"
   ]
  },
  {
   "cell_type": "markdown",
   "id": "7da28623",
   "metadata": {},
   "source": [
    "- 전체 샘플 (데이터) 수: 98,401개\n",
    "  - csv 파일에는 98,404개의 데이터 있음.  데이터를 읽는 과정에서 **3개의 차이**가 남 (아래에 원인 파악함)"
   ]
  },
  {
   "cell_type": "code",
   "execution_count": 3,
   "id": "6e074a62",
   "metadata": {},
   "outputs": [
    {
     "data": {
      "text/html": [
       "<div>\n",
       "<style scoped>\n",
       "    .dataframe tbody tr th:only-of-type {\n",
       "        vertical-align: middle;\n",
       "    }\n",
       "\n",
       "    .dataframe tbody tr th {\n",
       "        vertical-align: top;\n",
       "    }\n",
       "\n",
       "    .dataframe thead th {\n",
       "        text-align: right;\n",
       "    }\n",
       "</style>\n",
       "<table border=\"1\" class=\"dataframe\">\n",
       "  <thead>\n",
       "    <tr style=\"text-align: right;\">\n",
       "      <th></th>\n",
       "      <th>headlines</th>\n",
       "      <th>text</th>\n",
       "    </tr>\n",
       "  </thead>\n",
       "  <tbody>\n",
       "    <tr>\n",
       "      <th>0</th>\n",
       "      <td>upGrad learner switches to career in ML &amp; Al w...</td>\n",
       "      <td>Saurav Kant, an alumnus of upGrad and IIIT-B's...</td>\n",
       "    </tr>\n",
       "    <tr>\n",
       "      <th>1</th>\n",
       "      <td>Delhi techie wins free food from Swiggy for on...</td>\n",
       "      <td>Kunal Shah's credit card bill payment platform...</td>\n",
       "    </tr>\n",
       "    <tr>\n",
       "      <th>2</th>\n",
       "      <td>New Zealand end Rohit Sharma-led India's 12-ma...</td>\n",
       "      <td>New Zealand defeated India by 8 wickets in the...</td>\n",
       "    </tr>\n",
       "    <tr>\n",
       "      <th>3</th>\n",
       "      <td>Aegon life iTerm insurance plan helps customer...</td>\n",
       "      <td>With Aegon Life iTerm Insurance plan, customer...</td>\n",
       "    </tr>\n",
       "    <tr>\n",
       "      <th>4</th>\n",
       "      <td>Have known Hirani for yrs, what if MeToo claim...</td>\n",
       "      <td>Speaking about the sexual harassment allegatio...</td>\n",
       "    </tr>\n",
       "  </tbody>\n",
       "</table>\n",
       "</div>"
      ],
      "text/plain": [
       "                                           headlines  \\\n",
       "0  upGrad learner switches to career in ML & Al w...   \n",
       "1  Delhi techie wins free food from Swiggy for on...   \n",
       "2  New Zealand end Rohit Sharma-led India's 12-ma...   \n",
       "3  Aegon life iTerm insurance plan helps customer...   \n",
       "4  Have known Hirani for yrs, what if MeToo claim...   \n",
       "\n",
       "                                                text  \n",
       "0  Saurav Kant, an alumnus of upGrad and IIIT-B's...  \n",
       "1  Kunal Shah's credit card bill payment platform...  \n",
       "2  New Zealand defeated India by 8 wickets in the...  \n",
       "3  With Aegon Life iTerm Insurance plan, customer...  \n",
       "4  Speaking about the sexual harassment allegatio...  "
      ]
     },
     "execution_count": 3,
     "metadata": {},
     "output_type": "execute_result"
    }
   ],
   "source": [
    "data.head()"
   ]
  },
  {
   "cell_type": "markdown",
   "id": "8175b42e",
   "metadata": {},
   "source": [
    "### 1-2. 데이터프레임 열 이름 변경\n",
    "- 교재에 있는 프로그램을 변경없이 사용하기 위해 교재와 같은 이름으로 변경"
   ]
  },
  {
   "cell_type": "code",
   "execution_count": 4,
   "id": "4329601a",
   "metadata": {},
   "outputs": [
    {
     "data": {
      "text/html": [
       "<div>\n",
       "<style scoped>\n",
       "    .dataframe tbody tr th:only-of-type {\n",
       "        vertical-align: middle;\n",
       "    }\n",
       "\n",
       "    .dataframe tbody tr th {\n",
       "        vertical-align: top;\n",
       "    }\n",
       "\n",
       "    .dataframe thead th {\n",
       "        text-align: right;\n",
       "    }\n",
       "</style>\n",
       "<table border=\"1\" class=\"dataframe\">\n",
       "  <thead>\n",
       "    <tr style=\"text-align: right;\">\n",
       "      <th></th>\n",
       "      <th>Summary</th>\n",
       "      <th>Text</th>\n",
       "    </tr>\n",
       "  </thead>\n",
       "  <tbody>\n",
       "    <tr>\n",
       "      <th>0</th>\n",
       "      <td>upGrad learner switches to career in ML &amp; Al w...</td>\n",
       "      <td>Saurav Kant, an alumnus of upGrad and IIIT-B's...</td>\n",
       "    </tr>\n",
       "    <tr>\n",
       "      <th>1</th>\n",
       "      <td>Delhi techie wins free food from Swiggy for on...</td>\n",
       "      <td>Kunal Shah's credit card bill payment platform...</td>\n",
       "    </tr>\n",
       "    <tr>\n",
       "      <th>2</th>\n",
       "      <td>New Zealand end Rohit Sharma-led India's 12-ma...</td>\n",
       "      <td>New Zealand defeated India by 8 wickets in the...</td>\n",
       "    </tr>\n",
       "    <tr>\n",
       "      <th>3</th>\n",
       "      <td>Aegon life iTerm insurance plan helps customer...</td>\n",
       "      <td>With Aegon Life iTerm Insurance plan, customer...</td>\n",
       "    </tr>\n",
       "    <tr>\n",
       "      <th>4</th>\n",
       "      <td>Have known Hirani for yrs, what if MeToo claim...</td>\n",
       "      <td>Speaking about the sexual harassment allegatio...</td>\n",
       "    </tr>\n",
       "  </tbody>\n",
       "</table>\n",
       "</div>"
      ],
      "text/plain": [
       "                                             Summary  \\\n",
       "0  upGrad learner switches to career in ML & Al w...   \n",
       "1  Delhi techie wins free food from Swiggy for on...   \n",
       "2  New Zealand end Rohit Sharma-led India's 12-ma...   \n",
       "3  Aegon life iTerm insurance plan helps customer...   \n",
       "4  Have known Hirani for yrs, what if MeToo claim...   \n",
       "\n",
       "                                                Text  \n",
       "0  Saurav Kant, an alumnus of upGrad and IIIT-B's...  \n",
       "1  Kunal Shah's credit card bill payment platform...  \n",
       "2  New Zealand defeated India by 8 wickets in the...  \n",
       "3  With Aegon Life iTerm Insurance plan, customer...  \n",
       "4  Speaking about the sexual harassment allegatio...  "
      ]
     },
     "execution_count": 4,
     "metadata": {},
     "output_type": "execute_result"
    }
   ],
   "source": [
    "#데이터프레임 열 이름 변경: 교재에 있는 프로그램을 사용하기 위해 교재와 같은 이름으로 변경\n",
    "data.columns = ['Summary', 'Text']\n",
    "#열 이름 변경 확인\n",
    "data.head()"
   ]
  },
  {
   "cell_type": "markdown",
   "id": "e1926e30",
   "metadata": {},
   "source": [
    "- csv 파일 대조 결과:\n",
    "  | data 번호 (index) | csv 파일 행 번호 | 비고 |\n",
    "  |:----:|:----:|:----:|\n",
    "  | 0 | 2 | csv 파일은 1번행부터 시작하며 <br> 1번행은 열 이름임 |\n",
    "  | 1 | 3 |  |"
   ]
  },
  {
   "cell_type": "code",
   "execution_count": 5,
   "id": "df683216",
   "metadata": {},
   "outputs": [
    {
     "data": {
      "text/html": [
       "<div>\n",
       "<style scoped>\n",
       "    .dataframe tbody tr th:only-of-type {\n",
       "        vertical-align: middle;\n",
       "    }\n",
       "\n",
       "    .dataframe tbody tr th {\n",
       "        vertical-align: top;\n",
       "    }\n",
       "\n",
       "    .dataframe thead th {\n",
       "        text-align: right;\n",
       "    }\n",
       "</style>\n",
       "<table border=\"1\" class=\"dataframe\">\n",
       "  <thead>\n",
       "    <tr style=\"text-align: right;\">\n",
       "      <th></th>\n",
       "      <th>Summary</th>\n",
       "      <th>Text</th>\n",
       "    </tr>\n",
       "  </thead>\n",
       "  <tbody>\n",
       "    <tr>\n",
       "      <th>26324</th>\n",
       "      <td>US man who left baby under debris says the new...</td>\n",
       "      <td>A US man who abandoned a 5-month-old baby unde...</td>\n",
       "    </tr>\n",
       "    <tr>\n",
       "      <th>18227</th>\n",
       "      <td>Japan admits 1st death from 2011 Fukushima nuc...</td>\n",
       "      <td>Japan has acknowledged for the first time that...</td>\n",
       "    </tr>\n",
       "    <tr>\n",
       "      <th>12103</th>\n",
       "      <td>Bill Gates praises 'Condom King' for promoting...</td>\n",
       "      <td>Microsoft Co-founder Bill Gates has praised ac...</td>\n",
       "    </tr>\n",
       "    <tr>\n",
       "      <th>32623</th>\n",
       "      <td>India to reach 100% power target before deadli...</td>\n",
       "      <td>India is set to achieve its target of universa...</td>\n",
       "    </tr>\n",
       "    <tr>\n",
       "      <th>30441</th>\n",
       "      <td>NASA planet-hunting telescope captures 2 lakh ...</td>\n",
       "      <td>NASA's new planet-hunting telescope has captur...</td>\n",
       "    </tr>\n",
       "    <tr>\n",
       "      <th>5916</th>\n",
       "      <td>Disappointment wakes you up: Katrina on 'Thugs...</td>\n",
       "      <td>Speaking about her film 'Thugs of Hindostan' a...</td>\n",
       "    </tr>\n",
       "    <tr>\n",
       "      <th>62612</th>\n",
       "      <td>No dictator should ever underestimate US' reso...</td>\n",
       "      <td>No dictator, no regime and no nation should ev...</td>\n",
       "    </tr>\n",
       "    <tr>\n",
       "      <th>55830</th>\n",
       "      <td>Guests did not click Adira at b'day due to Adi...</td>\n",
       "      <td>Rani Mukerji has said that guests did not clic...</td>\n",
       "    </tr>\n",
       "    <tr>\n",
       "      <th>85829</th>\n",
       "      <td>Kriti Sanon, Sushant Singh Rajput's 'Raabta' h...</td>\n",
       "      <td>'Raabta', which released on Friday, \"lacks the...</td>\n",
       "    </tr>\n",
       "    <tr>\n",
       "      <th>25012</th>\n",
       "      <td>Does BJP want to convert India into Taliban st...</td>\n",
       "      <td>Slamming PM Narendra Modi for remaining silent...</td>\n",
       "    </tr>\n",
       "    <tr>\n",
       "      <th>11674</th>\n",
       "      <td>Want to do JasleenÃ¢ÂÂs kanyadaan: Anup afte...</td>\n",
       "      <td>Bhajan singer Anup Jalota, who claimed his rel...</td>\n",
       "    </tr>\n",
       "    <tr>\n",
       "      <th>8615</th>\n",
       "      <td>Lewis Hamilton wins season-ending Abu Dhabi Gr...</td>\n",
       "      <td>Mercedes' British driver Lewis Hamilton, who h...</td>\n",
       "    </tr>\n",
       "    <tr>\n",
       "      <th>76922</th>\n",
       "      <td>M Venkaiah Naidu elected India's 15th Vice-Pre...</td>\n",
       "      <td>BJP-led NDA's candidate and former Union Minis...</td>\n",
       "    </tr>\n",
       "    <tr>\n",
       "      <th>94094</th>\n",
       "      <td>US deploys naval strike group near North Korea</td>\n",
       "      <td>US has deployed a navy strike group towards th...</td>\n",
       "    </tr>\n",
       "    <tr>\n",
       "      <th>25684</th>\n",
       "      <td>Bride's kin abduct engineer at gunpoint, forci...</td>\n",
       "      <td>A railway engineer was allegedly abducted at g...</td>\n",
       "    </tr>\n",
       "  </tbody>\n",
       "</table>\n",
       "</div>"
      ],
      "text/plain": [
       "                                                 Summary  \\\n",
       "26324  US man who left baby under debris says the new...   \n",
       "18227  Japan admits 1st death from 2011 Fukushima nuc...   \n",
       "12103  Bill Gates praises 'Condom King' for promoting...   \n",
       "32623  India to reach 100% power target before deadli...   \n",
       "30441  NASA planet-hunting telescope captures 2 lakh ...   \n",
       "5916   Disappointment wakes you up: Katrina on 'Thugs...   \n",
       "62612  No dictator should ever underestimate US' reso...   \n",
       "55830  Guests did not click Adira at b'day due to Adi...   \n",
       "85829  Kriti Sanon, Sushant Singh Rajput's 'Raabta' h...   \n",
       "25012  Does BJP want to convert India into Taliban st...   \n",
       "11674  Want to do JasleenÃ¢ÂÂs kanyadaan: Anup afte...   \n",
       "8615   Lewis Hamilton wins season-ending Abu Dhabi Gr...   \n",
       "76922  M Venkaiah Naidu elected India's 15th Vice-Pre...   \n",
       "94094     US deploys naval strike group near North Korea   \n",
       "25684  Bride's kin abduct engineer at gunpoint, forci...   \n",
       "\n",
       "                                                    Text  \n",
       "26324  A US man who abandoned a 5-month-old baby unde...  \n",
       "18227  Japan has acknowledged for the first time that...  \n",
       "12103  Microsoft Co-founder Bill Gates has praised ac...  \n",
       "32623  India is set to achieve its target of universa...  \n",
       "30441  NASA's new planet-hunting telescope has captur...  \n",
       "5916   Speaking about her film 'Thugs of Hindostan' a...  \n",
       "62612  No dictator, no regime and no nation should ev...  \n",
       "55830  Rani Mukerji has said that guests did not clic...  \n",
       "85829  'Raabta', which released on Friday, \"lacks the...  \n",
       "25012  Slamming PM Narendra Modi for remaining silent...  \n",
       "11674  Bhajan singer Anup Jalota, who claimed his rel...  \n",
       "8615   Mercedes' British driver Lewis Hamilton, who h...  \n",
       "76922  BJP-led NDA's candidate and former Union Minis...  \n",
       "94094  US has deployed a navy strike group towards th...  \n",
       "25684  A railway engineer was allegedly abducted at g...  "
      ]
     },
     "execution_count": 5,
     "metadata": {},
     "output_type": "execute_result"
    }
   ],
   "source": [
    "data.sample(15)"
   ]
  },
  {
   "cell_type": "markdown",
   "id": "ff8ebbee",
   "metadata": {},
   "source": [
    "- 랜덤한 15개 샘플 출력 및 확인\n",
    "  - csv 파일과 대조해본 결과 index에서 차이가 남\n",
    "  - 확인 결과 아래와 같이 **26, 28, 29행**이 잘못되어 있음"
   ]
  },
  {
   "attachments": {
    "image.png": {
     "image/png": "[encoded data removed]"
    }
   },
   "cell_type": "markdown",
   "id": "d4b7d118",
   "metadata": {},
   "source": [
    "![image.png](attachment:image.png)"
   ]
  },
  {
   "cell_type": "markdown",
   "id": "7b8b57f8",
   "metadata": {},
   "source": [
    "# Step 2. 데이터 전처리하기 (추상적 요약)\n",
    "#### [프로젝트 지시사항]\n",
    "- 실습에서 사용된 전처리를 참고하여 각자 필요하다고 생각하는 전처리를 추가 사용하여 텍스트를 정규화 또는 정제해 보세요\n",
    "- 만약, 불용어 제거를 선택한다면 상대적으로 길이가 짧은 요약 데이터에 대해서도 불용어를 제거하는 것이 좋을지 고민해 보세요"
   ]
  },
  {
   "cell_type": "markdown",
   "id": "6a9354d3",
   "metadata": {},
   "source": [
    "### 2-1. 중복 샘플 제거\n",
    "- 중복 샘플 유무 확인"
   ]
  },
  {
   "cell_type": "code",
   "execution_count": 6,
   "id": "ee8f2e88",
   "metadata": {},
   "outputs": [
    {
     "name": "stdout",
     "output_type": "stream",
     "text": [
      "Text열에서 중복을 배제한 유일한 샘플의 수: 98360\n",
      "Summary열에서 중복을 배제한 유일한 샘플의 수: 98280\n"
     ]
    }
   ],
   "source": [
    "print('Text열에서 중복을 배제한 유일한 샘플의 수:', data['Text'].nunique())\n",
    "print('Summary열에서 중복을 배제한 유일한 샘플의 수:', data['Summary'].nunique())"
   ]
  },
  {
   "cell_type": "markdown",
   "id": "0e6f1a03",
   "metadata": {},
   "source": [
    "|   | 전체 데이터 수 | Unique 데이터 수 | 조치 사항 |\n",
    "|:----:|:----:|:----:|:----:|\n",
    "| **Text열** | 98,401 | 98,360 | 중복 데이터 제거 필요 |\n",
    "| **Summary열** | 98,401 | 98,280 | Text가 달라도 Summary는 같을 수 있으므로 별도 조치 불필요 |\n",
    "\n",
    "\n",
    "- 데이터프레임의 drop_duplicates()를 사용, 중복 샘플 제거"
   ]
  },
  {
   "cell_type": "code",
   "execution_count": 7,
   "id": "546abc8e",
   "metadata": {},
   "outputs": [
    {
     "name": "stdout",
     "output_type": "stream",
     "text": [
      "전체 샘플수 : 98360\n"
     ]
    }
   ],
   "source": [
    "# inplace=True 를 설정하면 DataFrame 타입 값을 return 하지 않고 data 내부를 직접적으로 바꿉니다\n",
    "data.drop_duplicates(subset = ['Text'], inplace=True)\n",
    "print('전체 샘플수 :', (len(data)))"
   ]
  },
  {
   "cell_type": "markdown",
   "id": "ff03f0ee",
   "metadata": {},
   "source": [
    "### 2-2. Null값이 존재하는 샘플 제거\n",
    "- Null 값이 있는 샘플 확인: .isnull().sum() 사용"
   ]
  },
  {
   "cell_type": "code",
   "execution_count": 8,
   "id": "069036e8",
   "metadata": {},
   "outputs": [
    {
     "name": "stdout",
     "output_type": "stream",
     "text": [
      "Summary    0\n",
      "Text       0\n",
      "dtype: int64\n"
     ]
    }
   ],
   "source": [
    "print(data.isnull().sum())"
   ]
  },
  {
   "cell_type": "markdown",
   "id": "c39e11a5",
   "metadata": {},
   "source": [
    "- 없음"
   ]
  },
  {
   "cell_type": "code",
   "execution_count": 9,
   "id": "f87fc6b1",
   "metadata": {},
   "outputs": [
    {
     "name": "stdout",
     "output_type": "stream",
     "text": [
      "전체 샘플수 : 98360\n"
     ]
    }
   ],
   "source": [
    "data.dropna(axis=0, inplace=True)\n",
    "print('전체 샘플수 :', (len(data)))"
   ]
  },
  {
   "cell_type": "markdown",
   "id": "d027c1e2",
   "metadata": {},
   "source": [
    "### 2-3. 텍스트 정규화 (Text Normalization) 준비\n",
    "- 같은 의미인데도 다른 표현으로 쓰이는 단어들을 같은 표현으로 통일\n",
    "- 텍스트 정규화를 위한 사전(dictionary)을 교재와 같이 구성\n",
    "  - 정규화 사전 출처(https://stackoverflow.com/questions/19790188/expanding-english-language-contractions-in-python)"
   ]
  },
  {
   "cell_type": "code",
   "execution_count": 10,
   "id": "f70c2af4",
   "metadata": {},
   "outputs": [
    {
     "name": "stdout",
     "output_type": "stream",
     "text": [
      "정규화 사전의 수:  120\n"
     ]
    }
   ],
   "source": [
    "contractions = {\"ain't\": \"is not\", \"aren't\": \"are not\",\"can't\": \"cannot\", \"'cause\": \"because\", \"could've\": \"could have\", \"couldn't\": \"could not\",\n",
    "                           \"didn't\": \"did not\",  \"doesn't\": \"does not\", \"don't\": \"do not\", \"hadn't\": \"had not\", \"hasn't\": \"has not\", \"haven't\": \"have not\",\n",
    "                           \"he'd\": \"he would\",\"he'll\": \"he will\", \"he's\": \"he is\", \"how'd\": \"how did\", \"how'd'y\": \"how do you\", \"how'll\": \"how will\", \"how's\": \"how is\",\n",
    "                           \"I'd\": \"I would\", \"I'd've\": \"I would have\", \"I'll\": \"I will\", \"I'll've\": \"I will have\",\"I'm\": \"I am\", \"I've\": \"I have\", \"i'd\": \"i would\",\n",
    "                           \"i'd've\": \"i would have\", \"i'll\": \"i will\",  \"i'll've\": \"i will have\",\"i'm\": \"i am\", \"i've\": \"i have\", \"isn't\": \"is not\", \"it'd\": \"it would\",\n",
    "                           \"it'd've\": \"it would have\", \"it'll\": \"it will\", \"it'll've\": \"it will have\",\"it's\": \"it is\", \"let's\": \"let us\", \"ma'am\": \"madam\",\n",
    "                           \"mayn't\": \"may not\", \"might've\": \"might have\",\"mightn't\": \"might not\",\"mightn't've\": \"might not have\", \"must've\": \"must have\",\n",
    "                           \"mustn't\": \"must not\", \"mustn't've\": \"must not have\", \"needn't\": \"need not\", \"needn't've\": \"need not have\",\"o'clock\": \"of the clock\",\n",
    "                           \"oughtn't\": \"ought not\", \"oughtn't've\": \"ought not have\", \"shan't\": \"shall not\", \"sha'n't\": \"shall not\", \"shan't've\": \"shall not have\",\n",
    "                           \"she'd\": \"she would\", \"she'd've\": \"she would have\", \"she'll\": \"she will\", \"she'll've\": \"she will have\", \"she's\": \"she is\",\n",
    "                           \"should've\": \"should have\", \"shouldn't\": \"should not\", \"shouldn't've\": \"should not have\", \"so've\": \"so have\",\"so's\": \"so as\",\n",
    "                           \"this's\": \"this is\",\"that'd\": \"that would\", \"that'd've\": \"that would have\", \"that's\": \"that is\", \"there'd\": \"there would\",\n",
    "                           \"there'd've\": \"there would have\", \"there's\": \"there is\", \"here's\": \"here is\",\"they'd\": \"they would\", \"they'd've\": \"they would have\",\n",
    "                           \"they'll\": \"they will\", \"they'll've\": \"they will have\", \"they're\": \"they are\", \"they've\": \"they have\", \"to've\": \"to have\",\n",
    "                           \"wasn't\": \"was not\", \"we'd\": \"we would\", \"we'd've\": \"we would have\", \"we'll\": \"we will\", \"we'll've\": \"we will have\", \"we're\": \"we are\",\n",
    "                           \"we've\": \"we have\", \"weren't\": \"were not\", \"what'll\": \"what will\", \"what'll've\": \"what will have\", \"what're\": \"what are\",\n",
    "                           \"what's\": \"what is\", \"what've\": \"what have\", \"when's\": \"when is\", \"when've\": \"when have\", \"where'd\": \"where did\", \"where's\": \"where is\",\n",
    "                           \"where've\": \"where have\", \"who'll\": \"who will\", \"who'll've\": \"who will have\", \"who's\": \"who is\", \"who've\": \"who have\",\n",
    "                           \"why's\": \"why is\", \"why've\": \"why have\", \"will've\": \"will have\", \"won't\": \"will not\", \"won't've\": \"will not have\",\n",
    "                           \"would've\": \"would have\", \"wouldn't\": \"would not\", \"wouldn't've\": \"would not have\", \"y'all\": \"you all\",\n",
    "                           \"y'all'd\": \"you all would\",\"y'all'd've\": \"you all would have\",\"y'all're\": \"you all are\",\"y'all've\": \"you all have\",\n",
    "                           \"you'd\": \"you would\", \"you'd've\": \"you would have\", \"you'll\": \"you will\", \"you'll've\": \"you will have\",\n",
    "                           \"you're\": \"you are\", \"you've\": \"you have\"}\n",
    "\n",
    "print(\"정규화 사전의 수: \", len(contractions))"
   ]
  },
  {
   "cell_type": "markdown",
   "id": "a0c0233f",
   "metadata": {},
   "source": [
    "- 정규화 준비 완료"
   ]
  },
  {
   "cell_type": "markdown",
   "id": "4c9f7a3e",
   "metadata": {},
   "source": [
    "### 2-4. 불용어(Stopwords) 제거 준비\n",
    "- 불용어(stopwords): 텍스트에는 자주 등장하지만 자연어 처리를 할 때 별 도움이 되지 않는 단어들\n",
    "- NLTK(Natural Language ToolKit)에서 제공하는 불용어 리스트를 참조해, 샘플에서 불용어 제거"
   ]
  },
  {
   "cell_type": "code",
   "execution_count": 11,
   "id": "45290fb0",
   "metadata": {},
   "outputs": [
    {
     "name": "stdout",
     "output_type": "stream",
     "text": [
      "불용어 개수 : 179\n",
      "['i', 'me', 'my', 'myself', 'we', 'our', 'ours', 'ourselves', 'you', \"you're\", \"you've\", \"you'll\", \"you'd\", 'your', 'yours', 'yourself', 'yourselves', 'he', 'him', 'his', 'himself', 'she', \"she's\", 'her', 'hers', 'herself', 'it', \"it's\", 'its', 'itself', 'they', 'them', 'their', 'theirs', 'themselves', 'what', 'which', 'who', 'whom', 'this', 'that', \"that'll\", 'these', 'those', 'am', 'is', 'are', 'was', 'were', 'be', 'been', 'being', 'have', 'has', 'had', 'having', 'do', 'does', 'did', 'doing', 'a', 'an', 'the', 'and', 'but', 'if', 'or', 'because', 'as', 'until', 'while', 'of', 'at', 'by', 'for', 'with', 'about', 'against', 'between', 'into', 'through', 'during', 'before', 'after', 'above', 'below', 'to', 'from', 'up', 'down', 'in', 'out', 'on', 'off', 'over', 'under', 'again', 'further', 'then', 'once', 'here', 'there', 'when', 'where', 'why', 'how', 'all', 'any', 'both', 'each', 'few', 'more', 'most', 'other', 'some', 'such', 'no', 'nor', 'not', 'only', 'own', 'same', 'so', 'than', 'too', 'very', 's', 't', 'can', 'will', 'just', 'don', \"don't\", 'should', \"should've\", 'now', 'd', 'll', 'm', 'o', 're', 've', 'y', 'ain', 'aren', \"aren't\", 'couldn', \"couldn't\", 'didn', \"didn't\", 'doesn', \"doesn't\", 'hadn', \"hadn't\", 'hasn', \"hasn't\", 'haven', \"haven't\", 'isn', \"isn't\", 'ma', 'mightn', \"mightn't\", 'mustn', \"mustn't\", 'needn', \"needn't\", 'shan', \"shan't\", 'shouldn', \"shouldn't\", 'wasn', \"wasn't\", 'weren', \"weren't\", 'won', \"won't\", 'wouldn', \"wouldn't\"]\n"
     ]
    }
   ],
   "source": [
    "print('불용어 개수 :', len(stopwords.words('english') ))\n",
    "print(stopwords.words('english'))"
   ]
  },
  {
   "cell_type": "markdown",
   "id": "91ddfc86",
   "metadata": {},
   "source": [
    "#### [프로젝트 지시사항에 대한 조치]\n",
    "- 만약, 불용어 제거를 선택한다면 상대적으로 길이가 짧은 **요약 데이터에 대해서도 불용어를 제거하는 것이 좋을지** 고민해 보세요.\n",
    "<br> <br>\n",
    "- 프로젝트 데이터의 경우, 요약 데이터는 **신문기사 헤드라인**이며, Abstractive한 문장 요약 결과문이 자연스러운 문장이 되려면 <br>\n",
    "    이 **불용어들이 Summary에는 남아 있는 게 더 좋을 것으로 판단**\n",
    "- 불용어에는 많은 전치사들이 포함되어 있음\n",
    "- [참고] 아래는 70763번 데이터의 원문임\n",
    "  - 아래 헤드라인에서 ' , '나 ' into '와 같은 전치사가 빠진다면 의미 전달이 제대로 되지 않을 것으로 판단"
   ]
  },
  {
   "cell_type": "code",
   "execution_count": 12,
   "id": "f93a902d",
   "metadata": {},
   "outputs": [
    {
     "data": {
      "text/plain": [
       "Summary    IndusInd Bank, Bharat Financial enter into mer...\n",
       "Text       Bharat Financial Inclusion (BFIL) has entered ...\n",
       "Name: 70763, dtype: object"
      ]
     },
     "execution_count": 12,
     "metadata": {},
     "output_type": "execute_result"
    }
   ],
   "source": [
    "data.loc[70763]"
   ]
  },
  {
   "attachments": {
    "image.png": {
     "image/png": "[encoded data removed]"
    }
   },
   "cell_type": "markdown",
   "id": "41289641",
   "metadata": {},
   "source": [
    "![image.png](attachment:image.png)"
   ]
  },
  {
   "cell_type": "markdown",
   "id": "29413d43",
   "metadata": {},
   "source": [
    "### 2-5. 기타 전처리를 포함한 데이터 전처리 함수 생성\n",
    "#### [기타 전처리]\n",
    "- 모든 영어 문자는 소문자로 만들기\n",
    "- 섞여있을 수 있는 html 태그 제거\n",
    "- 정규 표현식을 통해 각종 특수문자 제거"
   ]
  },
  {
   "cell_type": "code",
   "execution_count": 13,
   "id": "c05b0ae8",
   "metadata": {},
   "outputs": [
    {
     "name": "stdout",
     "output_type": "stream",
     "text": [
      "=3\n"
     ]
    }
   ],
   "source": [
    "# 데이터 전처리 함수\n",
    "def preprocess_sentence(sentence, remove_stopwords=True):\n",
    "    sentence = sentence.lower() # 텍스트 소문자화\n",
    "    sentence = BeautifulSoup(sentence, \"lxml\").text # <br />, <a href = ...> 등의 html 태그 제거\n",
    "    #sentence = re.sub(r'\\([^)]*\\)', '', sentence) # 괄호로 닫힌 문자열 (...) 제거 Ex) my husband (and myself!) for => my husband for\n",
    "    sentence = re.sub('\"','', sentence) # 쌍따옴표 \" 제거\n",
    "    sentence = ' '.join([contractions[t] if t in contractions else t for t in sentence.split(\" \")]) # 약어 정규화\n",
    "    #sentence = re.sub(r\"'s\\b\",\"\", sentence) # 소유격 제거. Ex) roland's -> roland\n",
    "    #sentence = re.sub(\"[^a-zA-Z]\", \" \", sentence) # 영어 외 문자(숫자, 특수문자 등) 공백으로 변환\n",
    "    sentence = re.sub(\"[^a-zA-Z0-9]\", \" \", sentence) # 영어, 숫자 외 문자(특수문자 등) 공백으로 변환\n",
    "    #sentence = re.sub('[m]{2,}', 'mm', sentence) # m이 3개 이상이면 2개로 변경. Ex) ummmmmmm yeah -> umm yeah\n",
    "    \n",
    "    # 불용어 제거 (Text)\n",
    "    if remove_stopwords:\n",
    "        tokens = ' '.join(word for word in sentence.split() if not word in stopwords.words('english') if len(word) > 1)\n",
    "    # 불용어 미제거 (Summary)\n",
    "    else:\n",
    "        tokens = ' '.join(word for word in sentence.split() if len(word) > 1)\n",
    "    return tokens\n",
    "print('=3')"
   ]
  },
  {
   "cell_type": "markdown",
   "id": "d8b46abd",
   "metadata": {},
   "source": [
    "- 전처리 결과 확인: 임의의 text와 summary를 만들어 함수 호출 및 결과 확인"
   ]
  },
  {
   "cell_type": "code",
   "execution_count": 14,
   "id": "002117c6",
   "metadata": {},
   "outputs": [
    {
     "name": "stdout",
     "output_type": "stream",
     "text": [
      "text:  everything bought great infact ordered twice third ordered wasfor mother father\n",
      "summary(불용어 미제거): great way to start or finish the day\n",
      "summary(불용어 제거): great way start finish day\n"
     ]
    }
   ],
   "source": [
    "temp_text = 'Everything I bought was great, infact I ordered twice and the third ordered was<br />for my mother and father.'\n",
    "temp_summary = 'Great way to start (or finish) the day!!!'\n",
    "\n",
    "print(\"text: \", preprocess_sentence(temp_text))\n",
    "print(\"summary(불용어 미제거):\", preprocess_sentence(temp_summary, False))  # 불용어를 제거하지 않습니다.\n",
    "print(\"summary(불용어 제거):\", preprocess_sentence(temp_summary))  # 불용어를 제거하지 않습니다."
   ]
  },
  {
   "cell_type": "markdown",
   "id": "03f9fe4f",
   "metadata": {},
   "source": [
    "### 2-6. 데이터 전처리 실행"
   ]
  },
  {
   "cell_type": "markdown",
   "id": "82cbdd60",
   "metadata": {},
   "source": [
    "- Text 전처리 후 결과 확인 (상위 5개 출력) - **불용어 제거**"
   ]
  },
  {
   "cell_type": "code",
   "execution_count": 15,
   "id": "5704e053",
   "metadata": {},
   "outputs": [
    {
     "name": "stdout",
     "output_type": "stream",
     "text": [
      "Text 전처리 후 결과:  ['saurav kant alumnus upgrad iiit pg program machine learning artificial intelligence sr systems engineer infosys almost years work experience program upgrad 360 degree career support helped transition data scientist tech mahindra 90 salary hike upgrad online power learning powered lakh careers', 'kunal shah credit card bill payment platform cred gave users chance win free food swiggy one year pranav kaushik delhi techie bagged reward spending 2000 cred coins users get one cred coin per rupee bill paid used avail rewards brands like ixigo bookmyshow ubereats cult fit', 'new zealand defeated india wickets fourth odi hamilton thursday win first match five match odi series india lost international match rohit sharma captaincy 12 consecutive victories dating back march 2018 match witnessed india getting 92 seventh lowest total odi cricket history', 'aegon life iterm insurance plan customers enjoy tax benefits premiums paid save 46 800 taxes plan provides life cover age 100 years also customers options insure critical illnesses disability accidental death benefit rider life cover age 80 years', 'speaking sexual harassment allegations rajkumar hirani sonam kapoor said known hirani many years true metoo movement get derailed metoo movement always believe woman case need reserve judgment added hirani accused assistant worked sanju']\n"
     ]
    }
   ],
   "source": [
    "clean_text = []\n",
    "# 전체 Text 데이터에 대한 전처리 : 10분 이상 시간이 걸릴 수 있습니다. \n",
    "for s in data['Text']:\n",
    "    clean_text.append(preprocess_sentence(s))\n",
    "\n",
    "# 전처리 후 출력\n",
    "print(\"Text 전처리 후 결과: \", clean_text[:5])"
   ]
  },
  {
   "cell_type": "markdown",
   "id": "2c4ce528",
   "metadata": {},
   "source": [
    "- Summary 전처리 후 결과 확인 (상위 5개 출력) - **불용어 미제거**"
   ]
  },
  {
   "cell_type": "code",
   "execution_count": 16,
   "id": "4ab0ebfe",
   "metadata": {},
   "outputs": [
    {
     "name": "stdout",
     "output_type": "stream",
     "text": [
      "Summary 전처리 후 결과:  ['upgrad learner switches to career in ml al with 90 salary hike', 'delhi techie wins free food from swiggy for one year on cred', 'new zealand end rohit sharma led india 12 match winning streak', 'aegon life iterm insurance plan helps customers save tax', 'have known hirani for yrs what if metoo claims are not true sonam']\n"
     ]
    }
   ],
   "source": [
    "clean_summary = []\n",
    "# 전체 Summary 데이터에 대한 전처리 : 5분 이상 시간이 걸릴 수 있습니다. \n",
    "for s in data['Summary']:\n",
    "    clean_summary.append(preprocess_sentence(s, False))\n",
    "\n",
    "print(\"Summary 전처리 후 결과: \", clean_summary[:5])"
   ]
  },
  {
   "cell_type": "markdown",
   "id": "22fe739c",
   "metadata": {},
   "source": [
    "### 2-7. 전처리된 데이터 중 빈(empty) 샘플 유무 확인"
   ]
  },
  {
   "cell_type": "code",
   "execution_count": 17,
   "id": "8de7030a",
   "metadata": {},
   "outputs": [
    {
     "name": "stdout",
     "output_type": "stream",
     "text": [
      "=3\n"
     ]
    }
   ],
   "source": [
    "# 데이터들을 데이터프레임에 재저장\n",
    "data['Text'] = clean_text\n",
    "data['Summary'] = clean_summary\n",
    "\n",
    "# 빈 값을 Null 값으로 변환\n",
    "data.replace('', np.nan, inplace=True)\n",
    "print('=3')"
   ]
  },
  {
   "cell_type": "markdown",
   "id": "b5653ba6",
   "metadata": {},
   "source": [
    "- .isnull().sum()을 사용해서 Null 값이 있는지 확인"
   ]
  },
  {
   "cell_type": "code",
   "execution_count": 18,
   "id": "c8b0e566",
   "metadata": {},
   "outputs": [
    {
     "data": {
      "text/plain": [
       "Summary    0\n",
       "Text       0\n",
       "dtype: int64"
      ]
     },
     "execution_count": 18,
     "metadata": {},
     "output_type": "execute_result"
    }
   ],
   "source": [
    "data.isnull().sum()"
   ]
  },
  {
   "cell_type": "markdown",
   "id": "0276b9b3",
   "metadata": {},
   "source": [
    "- **없음**"
   ]
  },
  {
   "cell_type": "code",
   "execution_count": 19,
   "id": "64e02d81",
   "metadata": {},
   "outputs": [
    {
     "name": "stdout",
     "output_type": "stream",
     "text": [
      "전체 샘플수 : 98360\n"
     ]
    }
   ],
   "source": [
    "data.dropna(axis=0, inplace=True)\n",
    "print('전체 샘플수 :', (len(data)))"
   ]
  },
  {
   "cell_type": "markdown",
   "id": "3802ad86",
   "metadata": {},
   "source": [
    "### 2-8. 각 데이터의 최대 크기 결정 및 최대 크기로 데이터 정제\n",
    "\n",
    "- 훈련에 사용할 샘플의 최대 길이 결정\n",
    "- Text와 Summary의 최소, 최대, 평균 길이 파악 및 길이 분포 시각화"
   ]
  },
  {
   "cell_type": "code",
   "execution_count": 20,
   "id": "76358620",
   "metadata": {},
   "outputs": [
    {
     "name": "stdout",
     "output_type": "stream",
     "text": [
      "텍스트의 최소 길이 : 1\n",
      "텍스트의 최대 길이 : 60\n",
      "텍스트의 평균 길이 : 36.592252948352986\n",
      "요약의 최소 길이 : 1\n",
      "요약의 최대 길이 : 16\n",
      "요약의 평균 길이 : 9.57014030093534\n"
     ]
    },
    {
     "data": {
      "image/png": "[encoded data removed]",
      "text/plain": [
       "<Figure size 432x288 with 2 Axes>"
      ]
     },
     "metadata": {
      "needs_background": "light"
     },
     "output_type": "display_data"
    },
    {
     "data": {
      "image/png": "[encoded data removed]",
      "text/plain": [
       "<Figure size 432x288 with 1 Axes>"
      ]
     },
     "metadata": {
      "needs_background": "light"
     },
     "output_type": "display_data"
    },
    {
     "data": {
      "image/png": "[encoded data removed]",
      "text/plain": [
       "<Figure size 432x288 with 1 Axes>"
      ]
     },
     "metadata": {
      "needs_background": "light"
     },
     "output_type": "display_data"
    }
   ],
   "source": [
    "# 길이 분포 출력\n",
    "import matplotlib.pyplot as plt\n",
    "\n",
    "text_len = [len(s.split()) for s in data['Text']]\n",
    "summary_len = [len(s.split()) for s in data['Summary']]\n",
    "\n",
    "print('텍스트의 최소 길이 : {}'.format(np.min(text_len)))\n",
    "print('텍스트의 최대 길이 : {}'.format(np.max(text_len)))\n",
    "print('텍스트의 평균 길이 : {}'.format(np.mean(text_len)))\n",
    "print('요약의 최소 길이 : {}'.format(np.min(summary_len)))\n",
    "print('요약의 최대 길이 : {}'.format(np.max(summary_len)))\n",
    "print('요약의 평균 길이 : {}'.format(np.mean(summary_len)))\n",
    "\n",
    "plt.subplot(1,2,1)\n",
    "plt.boxplot(text_len)\n",
    "plt.title('Text')\n",
    "plt.subplot(1,2,2)\n",
    "plt.boxplot(summary_len)\n",
    "plt.title('Summary')\n",
    "plt.tight_layout()\n",
    "plt.show()\n",
    "\n",
    "plt.title('Text')\n",
    "plt.hist(text_len, bins = 40)\n",
    "plt.xlabel('length of samples')\n",
    "plt.ylabel('number of samples')\n",
    "plt.show()\n",
    "\n",
    "plt.title('Summary')\n",
    "plt.hist(summary_len, bins = 40)\n",
    "plt.xlabel('length of samples')\n",
    "plt.ylabel('number of samples')\n",
    "plt.show()"
   ]
  },
  {
   "cell_type": "markdown",
   "id": "59628d61",
   "metadata": {},
   "source": [
    "#### [결과 정리]\n",
    "\n",
    "|   | 최소 길이 | 최대 길이 | 평균 길이 | 분포 |\n",
    "|:----:|:----:|:----:|:----:|:----:|\n",
    "| **Text** | 1 | 60 | 37 | 25 ~ 45 범위에 대부분 포함 |\n",
    "| **Summary** | 1 | 16 | 10 | 7 ~ 12 범위에 대부분 포함 |\n",
    "\n",
    "#### [각 데이터의 최대 길이 결정] \n",
    "- 이로부터 다음과 같이 결정:\n",
    "  - Text의 최대 길이 = 45\n",
    "  - Summary의 최대 길이 = 12"
   ]
  },
  {
   "cell_type": "code",
   "execution_count": 21,
   "id": "5f3f5996",
   "metadata": {},
   "outputs": [
    {
     "name": "stdout",
     "output_type": "stream",
     "text": [
      "=3\n"
     ]
    }
   ],
   "source": [
    "text_max_len = 45\n",
    "summary_max_len = 12\n",
    "print('=3')"
   ]
  },
  {
   "cell_type": "markdown",
   "id": "633e5b38",
   "metadata": {},
   "source": [
    "- 훈련 데이터와 샘플의 길이를 입력하면, 데이터의 몇 %가 해당하는지 계산하는 함수 정의"
   ]
  },
  {
   "cell_type": "code",
   "execution_count": 22,
   "id": "5acd5591",
   "metadata": {},
   "outputs": [
    {
     "name": "stdout",
     "output_type": "stream",
     "text": [
      "=3\n"
     ]
    }
   ],
   "source": [
    "def below_threshold_len(max_len, nested_list):\n",
    "  cnt = 0\n",
    "  for s in nested_list:\n",
    "    if(len(s.split()) <= max_len):\n",
    "        cnt = cnt + 1\n",
    "  print('전체 샘플 중 길이가 %s 이하인 샘플의 비율: %s'%(max_len, (cnt / len(nested_list))))\n",
    "print('=3')"
   ]
  },
  {
   "cell_type": "markdown",
   "id": "b084c210",
   "metadata": {},
   "source": [
    "- 함수를 Text와 Summary에 적용"
   ]
  },
  {
   "cell_type": "code",
   "execution_count": 23,
   "id": "9f45828d",
   "metadata": {},
   "outputs": [
    {
     "name": "stdout",
     "output_type": "stream",
     "text": [
      "전체 샘플 중 길이가 45 이하인 샘플의 비율: 0.9858275721838146\n",
      "전체 샘플 중 길이가 12 이하인 샘플의 비율: 0.9790056933712892\n"
     ]
    }
   ],
   "source": [
    "below_threshold_len(text_max_len, data['Text'])\n",
    "below_threshold_len(summary_max_len,  data['Summary'])"
   ]
  },
  {
   "cell_type": "markdown",
   "id": "e8b6007a",
   "metadata": {},
   "source": [
    "#### [각 데이터의 최대 크기로 데이터 정제]\n",
    "- 최대 길이보다 긴 데이터 제외"
   ]
  },
  {
   "cell_type": "code",
   "execution_count": 24,
   "id": "b61e4ee1",
   "metadata": {},
   "outputs": [
    {
     "name": "stdout",
     "output_type": "stream",
     "text": [
      "전체 샘플수 : 94954\n"
     ]
    }
   ],
   "source": [
    "data = data[data['Text'].apply(lambda x: len(x.split()) <= text_max_len)]\n",
    "data = data[data['Summary'].apply(lambda x: len(x.split()) <= summary_max_len)]\n",
    "print('전체 샘플수 :', (len(data)))"
   ]
  },
  {
   "cell_type": "markdown",
   "id": "dcd4e1cc",
   "metadata": {},
   "source": [
    "### 2-9. 시작토큰과 종료토큰 추가하기\n",
    "- seq2seq 훈련을 위해 디코더의 입력과 레이블에 시작 토큰과 종료 토큰을 추가\n",
    "- 시작 토큰은 sostoken, 종료 토큰은 eostoken이라 명명하고 앞, 뒤로 추가\n",
    "  - decoder_input: 디코더의 입력에 해당하면서 시작 토큰이 맨 앞에 있는 문장의 이름\n",
    "  - decoder_target: 디코더의 출력 또는 레이블에 해당되면서 종료 토큰이 맨 뒤에 붙는 문장의 이름\n",
    "  - 두 개의 문장 모두 Summary 열로부터 만듦"
   ]
  },
  {
   "cell_type": "code",
   "execution_count": 25,
   "id": "3ecec470",
   "metadata": {},
   "outputs": [
    {
     "data": {
      "text/html": [
       "<div>\n",
       "<style scoped>\n",
       "    .dataframe tbody tr th:only-of-type {\n",
       "        vertical-align: middle;\n",
       "    }\n",
       "\n",
       "    .dataframe tbody tr th {\n",
       "        vertical-align: top;\n",
       "    }\n",
       "\n",
       "    .dataframe thead th {\n",
       "        text-align: right;\n",
       "    }\n",
       "</style>\n",
       "<table border=\"1\" class=\"dataframe\">\n",
       "  <thead>\n",
       "    <tr style=\"text-align: right;\">\n",
       "      <th></th>\n",
       "      <th>Summary</th>\n",
       "      <th>Text</th>\n",
       "      <th>decoder_input</th>\n",
       "      <th>decoder_target</th>\n",
       "    </tr>\n",
       "  </thead>\n",
       "  <tbody>\n",
       "    <tr>\n",
       "      <th>0</th>\n",
       "      <td>upgrad learner switches to career in ml al with 90 salary hike</td>\n",
       "      <td>saurav kant alumnus upgrad iiit pg program machine learning artificial intelligence sr systems engineer infosys almost years work experience program upgrad 360 degree career support helped transition data scientist tech mahindra 90 salary hike upgrad online power learning powered lakh careers</td>\n",
       "      <td>sostoken upgrad learner switches to career in ml al with 90 salary hike</td>\n",
       "      <td>upgrad learner switches to career in ml al with 90 salary hike eostoken</td>\n",
       "    </tr>\n",
       "    <tr>\n",
       "      <th>2</th>\n",
       "      <td>new zealand end rohit sharma led india 12 match winning streak</td>\n",
       "      <td>new zealand defeated india wickets fourth odi hamilton thursday win first match five match odi series india lost international match rohit sharma captaincy 12 consecutive victories dating back march 2018 match witnessed india getting 92 seventh lowest total odi cricket history</td>\n",
       "      <td>sostoken new zealand end rohit sharma led india 12 match winning streak</td>\n",
       "      <td>new zealand end rohit sharma led india 12 match winning streak eostoken</td>\n",
       "    </tr>\n",
       "    <tr>\n",
       "      <th>3</th>\n",
       "      <td>aegon life iterm insurance plan helps customers save tax</td>\n",
       "      <td>aegon life iterm insurance plan customers enjoy tax benefits premiums paid save 46 800 taxes plan provides life cover age 100 years also customers options insure critical illnesses disability accidental death benefit rider life cover age 80 years</td>\n",
       "      <td>sostoken aegon life iterm insurance plan helps customers save tax</td>\n",
       "      <td>aegon life iterm insurance plan helps customers save tax eostoken</td>\n",
       "    </tr>\n",
       "    <tr>\n",
       "      <th>5</th>\n",
       "      <td>rahat fateh ali khan denies getting notice for smuggling currency</td>\n",
       "      <td>pakistani singer rahat fateh ali khan denied receiving notice enforcement directorate allegedly smuggling foreign currency india would better authorities would served notice first publicised reads press release issued behalf rahat statement called allegation bizarre</td>\n",
       "      <td>sostoken rahat fateh ali khan denies getting notice for smuggling currency</td>\n",
       "      <td>rahat fateh ali khan denies getting notice for smuggling currency eostoken</td>\n",
       "    </tr>\n",
       "    <tr>\n",
       "      <th>7</th>\n",
       "      <td>govt directs alok verma to join work day before his retirement</td>\n",
       "      <td>weeks ex cbi director alok verma told department personnel training consider retired home ministry asked join work last day fixed tenure director thursday ministry directed immediately join dg fire services post transferred removal cbi chief</td>\n",
       "      <td>sostoken govt directs alok verma to join work day before his retirement</td>\n",
       "      <td>govt directs alok verma to join work day before his retirement eostoken</td>\n",
       "    </tr>\n",
       "  </tbody>\n",
       "</table>\n",
       "</div>"
      ],
      "text/plain": [
       "                                                             Summary  \\\n",
       "0     upgrad learner switches to career in ml al with 90 salary hike   \n",
       "2     new zealand end rohit sharma led india 12 match winning streak   \n",
       "3           aegon life iterm insurance plan helps customers save tax   \n",
       "5  rahat fateh ali khan denies getting notice for smuggling currency   \n",
       "7     govt directs alok verma to join work day before his retirement   \n",
       "\n",
       "                                                                                                                                                                                                                                                                                                    Text  \\\n",
       "0  saurav kant alumnus upgrad iiit pg program machine learning artificial intelligence sr systems engineer infosys almost years work experience program upgrad 360 degree career support helped transition data scientist tech mahindra 90 salary hike upgrad online power learning powered lakh careers   \n",
       "2                  new zealand defeated india wickets fourth odi hamilton thursday win first match five match odi series india lost international match rohit sharma captaincy 12 consecutive victories dating back march 2018 match witnessed india getting 92 seventh lowest total odi cricket history   \n",
       "3                                                 aegon life iterm insurance plan customers enjoy tax benefits premiums paid save 46 800 taxes plan provides life cover age 100 years also customers options insure critical illnesses disability accidental death benefit rider life cover age 80 years   \n",
       "5                             pakistani singer rahat fateh ali khan denied receiving notice enforcement directorate allegedly smuggling foreign currency india would better authorities would served notice first publicised reads press release issued behalf rahat statement called allegation bizarre   \n",
       "7                                                      weeks ex cbi director alok verma told department personnel training consider retired home ministry asked join work last day fixed tenure director thursday ministry directed immediately join dg fire services post transferred removal cbi chief   \n",
       "\n",
       "                                                                decoder_input  \\\n",
       "0     sostoken upgrad learner switches to career in ml al with 90 salary hike   \n",
       "2     sostoken new zealand end rohit sharma led india 12 match winning streak   \n",
       "3           sostoken aegon life iterm insurance plan helps customers save tax   \n",
       "5  sostoken rahat fateh ali khan denies getting notice for smuggling currency   \n",
       "7     sostoken govt directs alok verma to join work day before his retirement   \n",
       "\n",
       "                                                               decoder_target  \n",
       "0     upgrad learner switches to career in ml al with 90 salary hike eostoken  \n",
       "2     new zealand end rohit sharma led india 12 match winning streak eostoken  \n",
       "3           aegon life iterm insurance plan helps customers save tax eostoken  \n",
       "5  rahat fateh ali khan denies getting notice for smuggling currency eostoken  \n",
       "7     govt directs alok verma to join work day before his retirement eostoken  "
      ]
     },
     "execution_count": 25,
     "metadata": {},
     "output_type": "execute_result"
    }
   ],
   "source": [
    "# 요약 데이터에는 시작 토큰과 종료 토큰을 추가한다.\n",
    "# 문자열 전체 보기(show full long string in pandas DataFrame) 출처: https://signing.tistory.com/52 [끄적거림]\n",
    "pd.options.display.max_colwidth = 2000\n",
    "data['decoder_input'] = data['Summary'].apply(lambda x : 'sostoken '+ x)\n",
    "data['decoder_target'] = data['Summary'].apply(lambda x : x + ' eostoken')\n",
    "data.head()"
   ]
  },
  {
   "cell_type": "markdown",
   "id": "eca188a6",
   "metadata": {},
   "source": [
    "- 인코더의 입력, 디코더의 입력과 레이블을 각각 다시 Numpy 타입으로 저장"
   ]
  },
  {
   "cell_type": "code",
   "execution_count": 26,
   "id": "69156502",
   "metadata": {},
   "outputs": [
    {
     "name": "stdout",
     "output_type": "stream",
     "text": [
      "=3\n"
     ]
    }
   ],
   "source": [
    "encoder_input = np.array(data['Text']) # 인코더의 입력\n",
    "decoder_input = np.array(data['decoder_input']) # 디코더의 입력\n",
    "decoder_target = np.array(data['decoder_target']) # 디코더의 레이블\n",
    "print('=3')"
   ]
  },
  {
   "cell_type": "markdown",
   "id": "673eebf5",
   "metadata": {},
   "source": [
    "### 2-10. 훈련데이터와 테스트데이터 나누기"
   ]
  },
  {
   "cell_type": "markdown",
   "id": "182181de",
   "metadata": {},
   "source": [
    "- encoder_input과 크기와 형태가 같은 순서가 섞인 정수 시퀀스 생성"
   ]
  },
  {
   "cell_type": "code",
   "execution_count": 27,
   "id": "639311a5",
   "metadata": {},
   "outputs": [
    {
     "name": "stdout",
     "output_type": "stream",
     "text": [
      "[ 4189 83613  1386 ... 26225 16341 64835] ['34 year old doctor working aiims delhi allegedly jumped death balcony house gautam nagar tuesday fight wife manish sharma reportedly inebriated state consumed sleeping pills incident police said eyewitnesses saw jump suspect foul play'\n",
      " 'actress alia bhatt said denying spend time actor sidharth malhotra happy going parties spotted lunches thing friends well sidharth always special added alia'\n",
      " 'afghan taliban rejected reports resuming talks us pakistan taliban said talks could resume focussed us withdrawal afghanistan exchange prisoners lifting ban movement taliban leaders taliban refused allow afghan government join negotiations aimed ending afghan war'\n",
      " ...\n",
      " 'working manuscript american singer songwriter bruce springsteen 43 year old song born run sold crore 250 000 auction sotheby buyer identity disclosed seller floyd bradley duke benefactor piece expected fetch 300 000 auction earlier sold 197 000 2013'\n",
      " 'bihar court ordered fir actor salman khan upcoming home production loveratri allegedly hurts hindu sentiments promotes vulgarity comes advocate filed complaint alleging title loveratri ridicules festival navratri disrespectful towards goddess durga salman brother law aayush sharma plays lead film'\n",
      " 'aadhaar official twitter handle wished followers happy dussehra illustration arrows shot ravana reacting user tweeted would issue aadhaar ravana aadhaar handle replied resident india hence eligible another user tweeted durga mata many hands many fingerprints valid']\n"
     ]
    }
   ],
   "source": [
    "indices = np.arange(encoder_input.shape[0])\n",
    "np.random.shuffle(indices)\n",
    "print(indices, encoder_input[indices])"
   ]
  },
  {
   "cell_type": "markdown",
   "id": "4f697d0d",
   "metadata": {},
   "source": [
    "- 정수 시퀀스를 이용해 데이터의 샘플 순서를 정의 -> 잘 섞인 샘플 생성"
   ]
  },
  {
   "cell_type": "code",
   "execution_count": 28,
   "id": "792e3290",
   "metadata": {},
   "outputs": [
    {
     "name": "stdout",
     "output_type": "stream",
     "text": [
      "=3\n"
     ]
    }
   ],
   "source": [
    "encoder_input = encoder_input[indices]\n",
    "decoder_input = decoder_input[indices]\n",
    "decoder_target = decoder_target[indices]\n",
    "print('=3')"
   ]
  },
  {
   "cell_type": "markdown",
   "id": "d697491f",
   "metadata": {},
   "source": [
    "- 섞인 데이터를 8:2의 비율로 훈련 데이터와 테스트 데이터로 분리\n",
    "  - 전체 데이터의 크기에 0.2를 곱해서 테스트 데이터의 크기 정의"
   ]
  },
  {
   "cell_type": "code",
   "execution_count": 29,
   "id": "3e154448",
   "metadata": {},
   "outputs": [
    {
     "name": "stdout",
     "output_type": "stream",
     "text": [
      "테스트 데이터의 수 : 18990\n"
     ]
    }
   ],
   "source": [
    "n_of_val = int(len(encoder_input)*0.2)\n",
    "print('테스트 데이터의 수 :', n_of_val)"
   ]
  },
  {
   "cell_type": "code",
   "execution_count": 30,
   "id": "24f8f81d",
   "metadata": {},
   "outputs": [
    {
     "name": "stdout",
     "output_type": "stream",
     "text": [
      "훈련 데이터의 개수 : 75964\n",
      "훈련 레이블의 개수 : 75964\n",
      "테스트 데이터의 개수 : 18990\n",
      "테스트 레이블의 개수 : 18990\n"
     ]
    }
   ],
   "source": [
    "encoder_input_train = encoder_input[:-n_of_val]\n",
    "decoder_input_train = decoder_input[:-n_of_val]\n",
    "decoder_target_train = decoder_target[:-n_of_val]\n",
    "\n",
    "encoder_input_test = encoder_input[-n_of_val:]\n",
    "decoder_input_test = decoder_input[-n_of_val:]\n",
    "decoder_target_test = decoder_target[-n_of_val:]\n",
    "\n",
    "print('훈련 데이터의 개수 :', len(encoder_input_train))\n",
    "print('훈련 레이블의 개수 :', len(decoder_input_train))\n",
    "print('테스트 데이터의 개수 :', len(encoder_input_test))\n",
    "print('테스트 레이블의 개수 :', len(decoder_input_test))"
   ]
  },
  {
   "cell_type": "markdown",
   "id": "9fa895ae",
   "metadata": {},
   "source": [
    "- 훈련 데이터와 테스트 데이터(94,954개)가 각각 75,964개와 18,990개로 분리"
   ]
  },
  {
   "cell_type": "markdown",
   "id": "b32728ee",
   "metadata": {},
   "source": [
    "### 2-11. 단어집합(vocabulary) 만들기와 정수 인코딩\n",
    "- 각 단어에 고유한 정수를 매핑하는 작업\n",
    "- Keras의 토크나이저를 사용"
   ]
  },
  {
   "cell_type": "markdown",
   "id": "71cbfeb1",
   "metadata": {},
   "source": [
    "#### 2-11-1. Text에 대한 Vocabulary(단어집합) 만들기\n",
    "- Text 훈련데이터에 대한 단어집합 만들기"
   ]
  },
  {
   "cell_type": "code",
   "execution_count": 31,
   "id": "752f6195",
   "metadata": {},
   "outputs": [
    {
     "name": "stdout",
     "output_type": "stream",
     "text": [
      "=3\n"
     ]
    }
   ],
   "source": [
    "src_tokenizer = Tokenizer() # 토크나이저 정의\n",
    "src_tokenizer.fit_on_texts(encoder_input_train) # 입력된 데이터로부터 단어 집합 생성\n",
    "print('=3')"
   ]
  },
  {
   "cell_type": "markdown",
   "id": "55e9b78a",
   "metadata": {},
   "source": [
    "- 현재 생성된 단어집합은 src_tokenizer.word_index에 저장\n",
    "- 빈도수가 낮은 단어들은 훈련 데이터에서 제외\n",
    "  - 등장 빈도수가 7회 미만(6회 이하)인 단어들의 비중 확인\n",
    "  - src_tokenizer.word_counts.items()에 단어와 각 단어의 등장 빈도수가 저장되어 있음\n",
    "  \n",
    "<span style=\"color:red; font-weight:bold; font-size:20px\"> [검토사항] 등장 빈도수를 7회 미만으로 하는 이유는? </span>"
   ]
  },
  {
   "cell_type": "code",
   "execution_count": 32,
   "id": "dd2bf0e0",
   "metadata": {},
   "outputs": [
    {
     "name": "stdout",
     "output_type": "stream",
     "text": [
      "단어집합(vocabulary)의 크기: 71320\n",
      "등장 빈도가 6번 이하인 희귀단어의 수: 48519\n",
      "단어집합에서 희귀단어를 제외시킬 경우의 단어집합의 크기: 22801\n",
      "단어집합에서 희귀단어의 비율: 68.03000560852496\n",
      "전체 등장 빈도에서 희귀단어 등장 빈도 비율: 3.5883922357265936\n"
     ]
    }
   ],
   "source": [
    "threshold = 7\n",
    "total_cnt = len(src_tokenizer.word_index) # 단어의 수\n",
    "rare_cnt = 0 # 등장 빈도수가 threshold보다 작은 단어의 개수를 카운트\n",
    "total_freq = 0 # 훈련 데이터의 전체 단어 빈도수 총 합\n",
    "rare_freq = 0 # 등장 빈도수가 threshold보다 작은 단어의 등장 빈도수의 총 합\n",
    "\n",
    "# 단어와 빈도수의 쌍(pair)을 key와 value로 받는다.\n",
    "for key, value in src_tokenizer.word_counts.items():\n",
    "    total_freq = total_freq + value\n",
    "\n",
    "    # 단어의 등장 빈도수가 threshold보다 작으면\n",
    "    if(value < threshold):\n",
    "        rare_cnt = rare_cnt + 1\n",
    "        rare_freq = rare_freq + value\n",
    "\n",
    "print('단어집합(vocabulary)의 크기:', total_cnt)\n",
    "print('등장 빈도가 %s번 이하인 희귀단어의 수: %s'%(threshold - 1, rare_cnt))\n",
    "print('단어집합에서 희귀단어를 제외시킬 경우의 단어집합의 크기: %s'%(total_cnt - rare_cnt))\n",
    "print(\"단어집합에서 희귀단어의 비율:\", (rare_cnt / total_cnt)*100)\n",
    "print(\"전체 등장 빈도에서 희귀단어 등장 빈도 비율:\", (rare_freq / total_freq)*100)"
   ]
  },
  {
   "cell_type": "markdown",
   "id": "21bf048d",
   "metadata": {},
   "source": [
    "**[결과 분석]**\n",
    "- encoder_input_train에는 7만여 개의 단어가 있음\n",
    "- 등장 빈도가 6회 이하인 단어들(희귀단어)은 단어 집합에서 68% 차지\n",
    "- 희귀단어가 훈련 데이터에서 등장 빈도로 차지하는 비중은 3.6%\n",
    "<br> <br> \n",
    "\n",
    "**[조치 사항]**\n",
    "- 등장 빈도가 6회 이하인 단어들은 정수 인코딩 과정에서 빼고, 훈련 데이터에서 제거\n",
    "- 단어집합의 크기 결정: 71,320 - 48,519 = 22,801이므로 **단어집합의 크기를 20,000으로** 제한\n",
    "  - 토크나이저 정의할 때 num_words의 값을 20,000으로 지정"
   ]
  },
  {
   "cell_type": "code",
   "execution_count": 33,
   "id": "c629cadb",
   "metadata": {},
   "outputs": [
    {
     "name": "stdout",
     "output_type": "stream",
     "text": [
      "=3\n"
     ]
    }
   ],
   "source": [
    "src_vocab = 20000\n",
    "src_tokenizer = Tokenizer(num_words=src_vocab) # 단어 집합의 크기를 20,000으로 제한\n",
    "src_tokenizer.fit_on_texts(encoder_input_train) # 단어 집합 재생성\n",
    "print('=3')"
   ]
  },
  {
   "cell_type": "markdown",
   "id": "6338ace8",
   "metadata": {},
   "source": [
    "#### 2-11-2. Text에 대한 정수 인코딩\n",
    "- Text 훈련 데이터와 테스트 데이터의 단어들을 모두 정수로 바꾸기"
   ]
  },
  {
   "cell_type": "markdown",
   "id": "d33ea267",
   "metadata": {},
   "source": [
    "- texts_to_sequences() 사용: 생성된 단어집합에 기반하여 입력으로 주어진 텍스트 데이터의 단어들을 모두 정수로 변환(정수 인코딩)\n",
    "  - 단어집합의 크기를 20,000으로 제한했으므로 20,000이 넘는 숫자들은 정수 인코딩 후에는 데이터에 존재하지 않음"
   ]
  },
  {
   "cell_type": "code",
   "execution_count": 34,
   "id": "c7d839cf",
   "metadata": {},
   "outputs": [
    {
     "name": "stdout",
     "output_type": "stream",
     "text": [
      "[[1324, 4, 15, 1525, 273, 3873, 28, 56, 2423, 183, 7542, 140, 2127, 3356, 63, 716, 169, 2446, 256, 22, 8483, 20, 4270, 3589, 8484, 149, 10, 1, 12764, 933, 3549, 1939, 5890, 298], [75, 1296, 1395, 1, 2936, 2615, 27, 50, 2990, 2361, 673, 418, 924, 1897, 1384, 835, 329, 2990, 586, 384, 3, 1296], [2321, 1940, 949, 31, 762, 5, 44, 1940, 1, 762, 87, 4529, 8485, 5, 3550, 744, 1235, 2906, 5195, 420, 1323, 1940, 441, 1940, 584, 756, 2321, 7, 1284, 4662, 925, 2755, 2321, 391]]\n"
     ]
    }
   ],
   "source": [
    "# 텍스트 시퀀스를 정수 시퀀스로 변환\n",
    "encoder_input_train = src_tokenizer.texts_to_sequences(encoder_input_train) \n",
    "encoder_input_test = src_tokenizer.texts_to_sequences(encoder_input_test)\n",
    "\n",
    "# 잘 진행되었는지 샘플 출력\n",
    "print(encoder_input_train[:3])"
   ]
  },
  {
   "cell_type": "markdown",
   "id": "ef6f95ef",
   "metadata": {},
   "source": [
    "#### 2-11-3. Summary에 대한 단어집합 만들기 및 정수 인코딩\n",
    "  - 케라스의 토크나이저를 사용하여 decoder_input_train을 입력으로 전체 단어집합과 각 단어에 대한 빈도수 계산"
   ]
  },
  {
   "cell_type": "code",
   "execution_count": 35,
   "id": "914264d0",
   "metadata": {},
   "outputs": [
    {
     "name": "stdout",
     "output_type": "stream",
     "text": [
      "=3\n"
     ]
    }
   ],
   "source": [
    "tar_tokenizer = Tokenizer()\n",
    "tar_tokenizer.fit_on_texts(decoder_input_train)  # 입력된 데이터로부터 단어 집합 생성\n",
    "print('=3')"
   ]
  },
  {
   "cell_type": "markdown",
   "id": "76b0ea3c",
   "metadata": {},
   "source": [
    "- 단어집합이 생성되는 동시에 각 단어에 고유한 정수 부여: tar_tokenizer.word_index에 저장\n",
    "- tar_tokenizer.word_counts.items()에는 단어와 각 단어의 등장 빈도수가 저장\n",
    "  - 이를 통해서 등장 빈도수가 6회 미만인 단어들이 이 데이터에서 차지하는 비중 확인\n",
    "  \n",
    "  <span style=\"color:red; font-weight:bold; font-size:20px\"> [검토사항] 등장 빈도수를 6회 미만으로 하는 이유는? </span>"
   ]
  },
  {
   "cell_type": "code",
   "execution_count": 36,
   "id": "055c26dc",
   "metadata": {},
   "outputs": [
    {
     "name": "stdout",
     "output_type": "stream",
     "text": [
      "단어 집합(vocabulary)의 크기 : 31377\n",
      "등장 빈도가 5번 이하인 희귀 단어의 수: 20798\n",
      "단어 집합에서 희귀 단어를 제외시킬 경우의 단어 집합의 크기 10579\n",
      "단어 집합에서 희귀 단어의 비율: 66.2842209261561\n",
      "전체 등장 빈도에서 희귀 단어 등장 빈도 비율: 4.98967933797188\n"
     ]
    }
   ],
   "source": [
    "threshold = 6\n",
    "total_cnt = len(tar_tokenizer.word_index) # 단어의 수\n",
    "rare_cnt = 0 # 등장 빈도수가 threshold보다 작은 단어의 개수를 카운트\n",
    "total_freq = 0 # 훈련 데이터의 전체 단어 빈도수 총 합\n",
    "rare_freq = 0 # 등장 빈도수가 threshold보다 작은 단어의 등장 빈도수의 총 합\n",
    "\n",
    "# 단어와 빈도수의 쌍(pair)을 key와 value로 받는다.\n",
    "for key, value in tar_tokenizer.word_counts.items():\n",
    "    total_freq = total_freq + value\n",
    "\n",
    "    # 단어의 등장 빈도수가 threshold보다 작으면\n",
    "    if(value < threshold):\n",
    "        rare_cnt = rare_cnt + 1\n",
    "        rare_freq = rare_freq + value\n",
    "\n",
    "print('단어 집합(vocabulary)의 크기 :', total_cnt)\n",
    "print('등장 빈도가 %s번 이하인 희귀 단어의 수: %s'%(threshold - 1, rare_cnt))\n",
    "print('단어 집합에서 희귀 단어를 제외시킬 경우의 단어 집합의 크기 %s'%(total_cnt - rare_cnt))\n",
    "print(\"단어 집합에서 희귀 단어의 비율:\", (rare_cnt / total_cnt)*100)\n",
    "print(\"전체 등장 빈도에서 희귀 단어 등장 빈도 비율:\", (rare_freq / total_freq)*100)"
   ]
  },
  {
   "cell_type": "markdown",
   "id": "65476a13",
   "metadata": {},
   "source": [
    "**[결과 분석]**\n",
    "- decoder_input_train에는 3만여 개의 단어가 있음\n",
    "- 등장 빈도가 5회 이하인 단어들(희귀단어)은 단어집합에서 66% 차지\n",
    "- 희귀단어가 훈련 데이터에서 등장 빈도로 차지하는 비중은 5%\n",
    "<br> <br> \n",
    "\n",
    "**[조치 사항]**\n",
    "- 등장 빈도가 5회 이하인 단어들은 정수 인코딩 과정에서 빼고, 훈련 데이터에서 제거\n",
    "- 단어집합의 크기 결정: 31,377 - 20,798 = 10,579이므로 **단어집합의 크기를 10,000으로** 제한\n",
    "  - 토크나이저 정의할 때 num_words의 값을 10,000으로 지정\n"
   ]
  },
  {
   "cell_type": "code",
   "execution_count": 37,
   "id": "f98445cd",
   "metadata": {},
   "outputs": [
    {
     "name": "stdout",
     "output_type": "stream",
     "text": [
      "input\n",
      "input  [[1, 2273, 893, 1201, 3, 97, 11, 410, 8, 114, 4, 26], [1, 455, 44, 3836, 85, 72, 1829, 56, 8, 1545, 584], [1, 1250, 595, 446, 8, 13, 4, 96], [1, 3948, 6232, 2329, 4446, 2645, 321, 1236, 428, 133], [1, 916, 61, 8923, 5276, 12, 1339, 8313, 1803]]\n",
      "target\n",
      "decoder  [[2273, 893, 1201, 3, 97, 11, 410, 8, 114, 4, 26, 2], [455, 44, 3836, 85, 72, 1829, 56, 8, 1545, 584, 2], [1250, 595, 446, 8, 13, 4, 96, 2], [3948, 6232, 2329, 4446, 2645, 321, 1236, 428, 133, 2], [916, 61, 8923, 5276, 12, 1339, 8313, 1803, 2]]\n"
     ]
    }
   ],
   "source": [
    "tar_vocab = 10000\n",
    "tar_tokenizer = Tokenizer(num_words=tar_vocab) \n",
    "tar_tokenizer.fit_on_texts(decoder_input_train)\n",
    "tar_tokenizer.fit_on_texts(decoder_target_train)\n",
    "\n",
    "# 텍스트 시퀀스를 정수 시퀀스로 변환\n",
    "decoder_input_train = tar_tokenizer.texts_to_sequences(decoder_input_train) \n",
    "decoder_target_train = tar_tokenizer.texts_to_sequences(decoder_target_train)\n",
    "decoder_input_test = tar_tokenizer.texts_to_sequences(decoder_input_test)\n",
    "decoder_target_test = tar_tokenizer.texts_to_sequences(decoder_target_test)\n",
    "\n",
    "# 잘 변환되었는지 확인\n",
    "print('input')\n",
    "print('input ',decoder_input_train[:5])\n",
    "print('target')\n",
    "print('decoder ',decoder_target_train[:5])"
   ]
  },
  {
   "cell_type": "markdown",
   "id": "dd41c649",
   "metadata": {},
   "source": [
    "- 정수 인코딩 작업 완료"
   ]
  },
  {
   "cell_type": "markdown",
   "id": "22573556",
   "metadata": {},
   "source": [
    "### 2-12. 빈도수 낮은 단어 삭제로 인한 빈(empty) 샘플 찾아서 삭제\n",
    "- 요약문에서 길이가 0이 된 샘플들의 인덱스 파악\n",
    "  - (주의할 점) decoder_input에는 sostoken, decoder_target에는 eostoken이 추가된 상태\n",
    "     - 길이가 0이 된 요약문의 실제 길이는 1\n",
    "- 훈련 데이터와 테스트 데이터에 대해서 요약문의 길이가 1인 경우의 인덱스를 각각 drop_train과 drop_test라는 변수에 저장\n",
    "  - 이 샘플들은 모두 삭제"
   ]
  },
  {
   "cell_type": "code",
   "execution_count": 38,
   "id": "2edad690",
   "metadata": {},
   "outputs": [
    {
     "name": "stdout",
     "output_type": "stream",
     "text": [
      "삭제할 훈련 데이터의 개수 : 0\n",
      "삭제할 테스트 데이터의 개수 : 0\n",
      "훈련 데이터의 개수 : 75964\n",
      "훈련 레이블의 개수 : 75964\n",
      "테스트 데이터의 개수 : 18990\n",
      "테스트 레이블의 개수 : 18990\n"
     ]
    }
   ],
   "source": [
    "drop_train = [index for index, sentence in enumerate(decoder_input_train) if len(sentence) == 1]\n",
    "drop_test = [index for index, sentence in enumerate(decoder_input_test) if len(sentence) == 1]\n",
    "\n",
    "print('삭제할 훈련 데이터의 개수 :', len(drop_train))\n",
    "print('삭제할 테스트 데이터의 개수 :', len(drop_test))\n",
    "\n",
    "encoder_input_train = [sentence for index, sentence in enumerate(encoder_input_train) if index not in drop_train]\n",
    "decoder_input_train = [sentence for index, sentence in enumerate(decoder_input_train) if index not in drop_train]\n",
    "decoder_target_train = [sentence for index, sentence in enumerate(decoder_target_train) if index not in drop_train]\n",
    "\n",
    "encoder_input_test = [sentence for index, sentence in enumerate(encoder_input_test) if index not in drop_test]\n",
    "decoder_input_test = [sentence for index, sentence in enumerate(decoder_input_test) if index not in drop_test]\n",
    "decoder_target_test = [sentence for index, sentence in enumerate(decoder_target_test) if index not in drop_test]\n",
    "\n",
    "print('훈련 데이터의 개수 :', len(encoder_input_train))\n",
    "print('훈련 레이블의 개수 :', len(decoder_input_train))\n",
    "print('테스트 데이터의 개수 :', len(encoder_input_test))\n",
    "print('테스트 레이블의 개수 :', len(decoder_input_test))"
   ]
  },
  {
   "cell_type": "markdown",
   "id": "a9c625fb",
   "metadata": {},
   "source": [
    "### 2-13. 패딩하기\n",
    "- 서로 다른 길이의 샘플들을 병렬 처리하기 위해 같은 길이로 맞추기\n",
    "- 최대 길이보다 짧은 데이터들은 뒤의 공간에 숫자 0을 넣어 최대 길이로 길이로 맞춤\n",
    "- 2-8에서 결정 (text_max_len = 45, summary_max_len = 12)"
   ]
  },
  {
   "cell_type": "code",
   "execution_count": 39,
   "id": "5c32c6db",
   "metadata": {},
   "outputs": [
    {
     "name": "stdout",
     "output_type": "stream",
     "text": [
      "=3\n"
     ]
    }
   ],
   "source": [
    "encoder_input_train = pad_sequences(encoder_input_train, maxlen=text_max_len, padding='post')\n",
    "encoder_input_test = pad_sequences(encoder_input_test, maxlen=text_max_len, padding='post')\n",
    "decoder_input_train = pad_sequences(decoder_input_train, maxlen=summary_max_len, padding='post')\n",
    "decoder_target_train = pad_sequences(decoder_target_train, maxlen=summary_max_len, padding='post')\n",
    "decoder_input_test = pad_sequences(decoder_input_test, maxlen=summary_max_len, padding='post')\n",
    "decoder_target_test = pad_sequences(decoder_target_test, maxlen=summary_max_len, padding='post')\n",
    "print('=3')"
   ]
  },
  {
   "cell_type": "markdown",
   "id": "311457b8",
   "metadata": {},
   "source": [
    "<span style=\"color:blue; font-weight:bold; font-size:15px\">[학습에 필요한 데이터 전처리 완료]</span>"
   ]
  },
  {
   "cell_type": "markdown",
   "id": "367594dc",
   "metadata": {},
   "source": [
    "# Step 3. 어텐션 메커니즘 사용하기 (추상적 요약)\n",
    "#### [프로젝트 지시사항]\n",
    "- 일반적인 seq2seq보다는 어텐션 메커니즘을 사용한 seq2seq를 사용하는 것이 더 나은 성능을 얻을 수 있어요. \n",
    "- 실습 내용을 참고하여 어텐션 메커니즘을 사용한 seq2seq를 설계해 보세요."
   ]
  },
  {
   "cell_type": "markdown",
   "id": "90a23531",
   "metadata": {},
   "source": [
    "### 3-1. 인코더 설계"
   ]
  },
  {
   "cell_type": "code",
   "execution_count": 40,
   "id": "8ae3e3b9",
   "metadata": {},
   "outputs": [
    {
     "name": "stdout",
     "output_type": "stream",
     "text": [
      "WARNING:tensorflow:Layer lstm will not use cuDNN kernels since it doesn't meet the criteria. It will use a generic GPU kernel as fallback when running on GPU.\n",
      "WARNING:tensorflow:Layer lstm_1 will not use cuDNN kernels since it doesn't meet the criteria. It will use a generic GPU kernel as fallback when running on GPU.\n",
      "WARNING:tensorflow:Layer lstm_2 will not use cuDNN kernels since it doesn't meet the criteria. It will use a generic GPU kernel as fallback when running on GPU.\n"
     ]
    }
   ],
   "source": [
    "from tensorflow.keras.layers import Input, LSTM, Embedding, Dense, Concatenate, TimeDistributed\n",
    "from tensorflow.keras.models import Model\n",
    "from tensorflow.keras.callbacks import EarlyStopping, ModelCheckpoint\n",
    "# 인코더 설계 시작\n",
    "embedding_dim = 128\n",
    "hidden_size = 256\n",
    "# 인코더\n",
    "encoder_inputs = Input(shape=(text_max_len,))\n",
    "# 인코더의 임베딩 층\n",
    "enc_emb = Embedding(src_vocab, embedding_dim)(encoder_inputs)\n",
    "# 인코더의 LSTM 1\n",
    "encoder_lstm1 = LSTM(hidden_size, return_sequences=True, return_state=True ,dropout = 0.4, recurrent_dropout = 0.4)\n",
    "encoder_output1, state_h1, state_c1 = encoder_lstm1(enc_emb)\n",
    "# 인코더의 LSTM 2\n",
    "encoder_lstm2 = LSTM(hidden_size, return_sequences=True, return_state=True, dropout=0.4, recurrent_dropout=0.4)\n",
    "encoder_output2, state_h2, state_c2 = encoder_lstm2(encoder_output1)\n",
    "# 인코더의 LSTM 3\n",
    "encoder_lstm3 = LSTM(hidden_size, return_state=True, return_sequences=True, dropout=0.4, recurrent_dropout=0.4)\n",
    "encoder_outputs, state_h, state_c= encoder_lstm3(encoder_output2)"
   ]
  },
  {
   "cell_type": "markdown",
   "id": "6e719422",
   "metadata": {},
   "source": [
    "- 임베딩 벡터의 차원은 128로 정의하고, hidden state의 크기를 256으로 정의\n",
    "  - hidden state: LSTM의 수용력(capacity)을 정하는 파라미터\n",
    "    - LSTM의 용량의 크기 또는 LSTM에서의 뉴런의 개수\n",
    "    - 무조건 용량을 많이 준다고 해서 성능이 반드시 올라가는 것은 아님\n",
    "- 인코더의 LSTM은 총 3개의 층으로 구성\n",
    "- LSTM은 dropout과 recurrent dropout 사용\n",
    "  - **dropout**: 레이어의 weight를 랜덤으로 생략하여 모델의 과적합(overfitting)을 해결\n",
    "  - **recurrent dropout**: dropout을 레이어가 아닌 time step마다 해주는 방식. 즉 time step의 입력을 랜덤으로 생략. 일반적인 dropout와 같이 regularization(규제)을 해주며 과적합 방지\n",
    "  - dropout과 recurrent dropout을 모두 사용한 것을 **Variational Dropout**이라고 함"
   ]
  },
  {
   "cell_type": "markdown",
   "id": "3f3c2be5",
   "metadata": {},
   "source": [
    "### 3-2. 디코더 설계"
   ]
  },
  {
   "cell_type": "markdown",
   "id": "a6d7370f",
   "metadata": {},
   "source": [
    "#### 디코더의 임베딩 층과 LSTM 설계"
   ]
  },
  {
   "cell_type": "code",
   "execution_count": 41,
   "id": "b253be8d",
   "metadata": {},
   "outputs": [
    {
     "name": "stdout",
     "output_type": "stream",
     "text": [
      "WARNING:tensorflow:Layer lstm_3 will not use cuDNN kernels since it doesn't meet the criteria. It will use a generic GPU kernel as fallback when running on GPU.\n"
     ]
    }
   ],
   "source": [
    "# 디코더 설계\n",
    "decoder_inputs = Input(shape=(None,))\n",
    "# 디코더의 임베딩 층\n",
    "dec_emb_layer = Embedding(tar_vocab, embedding_dim)\n",
    "dec_emb = dec_emb_layer(decoder_inputs)\n",
    "# 디코더의 LSTM\n",
    "decoder_lstm = LSTM(hidden_size, return_sequences=True, return_state=True, dropout=0.4, recurrent_dropout=0.2)\n",
    "decoder_outputs, _, _ = decoder_lstm(dec_emb, initial_state=[state_h, state_c])"
   ]
  },
  {
   "cell_type": "markdown",
   "id": "077844ec",
   "metadata": {},
   "source": [
    "- LSTM의 입력 정의: initial_state의 인자값으로 인코더의 hidden state와 cell state의 값 입력\n",
    "\n",
    "#### 디코더의 출력층 설계"
   ]
  },
  {
   "cell_type": "code",
   "execution_count": 42,
   "id": "0734fd4a",
   "metadata": {},
   "outputs": [
    {
     "name": "stdout",
     "output_type": "stream",
     "text": [
      "Model: \"model\"\n",
      "__________________________________________________________________________________________________\n",
      "Layer (type)                    Output Shape         Param #     Connected to                     \n",
      "==================================================================================================\n",
      "input_1 (InputLayer)            [(None, 45)]         0                                            \n",
      "__________________________________________________________________________________________________\n",
      "embedding (Embedding)           (None, 45, 128)      2560000     input_1[0][0]                    \n",
      "__________________________________________________________________________________________________\n",
      "lstm (LSTM)                     [(None, 45, 256), (N 394240      embedding[0][0]                  \n",
      "__________________________________________________________________________________________________\n",
      "input_2 (InputLayer)            [(None, None)]       0                                            \n",
      "__________________________________________________________________________________________________\n",
      "lstm_1 (LSTM)                   [(None, 45, 256), (N 525312      lstm[0][0]                       \n",
      "__________________________________________________________________________________________________\n",
      "embedding_1 (Embedding)         (None, None, 128)    1280000     input_2[0][0]                    \n",
      "__________________________________________________________________________________________________\n",
      "lstm_2 (LSTM)                   [(None, 45, 256), (N 525312      lstm_1[0][0]                     \n",
      "__________________________________________________________________________________________________\n",
      "lstm_3 (LSTM)                   [(None, None, 256),  394240      embedding_1[0][0]                \n",
      "                                                                 lstm_2[0][1]                     \n",
      "                                                                 lstm_2[0][2]                     \n",
      "__________________________________________________________________________________________________\n",
      "dense (Dense)                   (None, None, 10000)  2570000     lstm_3[0][0]                     \n",
      "==================================================================================================\n",
      "Total params: 8,249,104\n",
      "Trainable params: 8,249,104\n",
      "Non-trainable params: 0\n",
      "__________________________________________________________________________________________________\n"
     ]
    }
   ],
   "source": [
    "# 디코더의 출력층\n",
    "decoder_softmax_layer = Dense(tar_vocab, activation='softmax')\n",
    "decoder_softmax_outputs = decoder_softmax_layer(decoder_outputs) \n",
    "\n",
    "# 모델 정의\n",
    "model = Model([encoder_inputs, decoder_inputs], decoder_softmax_outputs)\n",
    "model.summary()"
   ]
  },
  {
   "cell_type": "markdown",
   "id": "af05ff15",
   "metadata": {},
   "source": [
    "### 3-3. 어텐션 메커니즘 결합 디코더 출력층 수정\n",
    "- TensorFlow에 이미 구현된 어텐션 함수를 가져와서 디코더의 출력층에 결합\n",
    "  - Bahdanau 스타일의 어텐션 사용\n",
    "- 아래와 같이 어텐션 층을 만들고, 위에서 설계한 디코더의 출력층 수정"
   ]
  },
  {
   "cell_type": "code",
   "execution_count": 43,
   "id": "5c82048e",
   "metadata": {},
   "outputs": [
    {
     "name": "stdout",
     "output_type": "stream",
     "text": [
      "Model: \"model_1\"\n",
      "__________________________________________________________________________________________________\n",
      "Layer (type)                    Output Shape         Param #     Connected to                     \n",
      "==================================================================================================\n",
      "input_1 (InputLayer)            [(None, 45)]         0                                            \n",
      "__________________________________________________________________________________________________\n",
      "embedding (Embedding)           (None, 45, 128)      2560000     input_1[0][0]                    \n",
      "__________________________________________________________________________________________________\n",
      "lstm (LSTM)                     [(None, 45, 256), (N 394240      embedding[0][0]                  \n",
      "__________________________________________________________________________________________________\n",
      "input_2 (InputLayer)            [(None, None)]       0                                            \n",
      "__________________________________________________________________________________________________\n",
      "lstm_1 (LSTM)                   [(None, 45, 256), (N 525312      lstm[0][0]                       \n",
      "__________________________________________________________________________________________________\n",
      "embedding_1 (Embedding)         (None, None, 128)    1280000     input_2[0][0]                    \n",
      "__________________________________________________________________________________________________\n",
      "lstm_2 (LSTM)                   [(None, 45, 256), (N 525312      lstm_1[0][0]                     \n",
      "__________________________________________________________________________________________________\n",
      "lstm_3 (LSTM)                   [(None, None, 256),  394240      embedding_1[0][0]                \n",
      "                                                                 lstm_2[0][1]                     \n",
      "                                                                 lstm_2[0][2]                     \n",
      "__________________________________________________________________________________________________\n",
      "attention_layer (AdditiveAttent (None, None, 256)    256         lstm_3[0][0]                     \n",
      "                                                                 lstm_2[0][0]                     \n",
      "__________________________________________________________________________________________________\n",
      "concat_layer (Concatenate)      (None, None, 512)    0           lstm_3[0][0]                     \n",
      "                                                                 attention_layer[0][0]            \n",
      "__________________________________________________________________________________________________\n",
      "dense_1 (Dense)                 (None, None, 10000)  5130000     concat_layer[0][0]               \n",
      "==================================================================================================\n",
      "Total params: 10,809,360\n",
      "Trainable params: 10,809,360\n",
      "Non-trainable params: 0\n",
      "__________________________________________________________________________________________________\n"
     ]
    }
   ],
   "source": [
    "from tensorflow.keras.layers import AdditiveAttention\n",
    "\n",
    "# 어텐션 층(어텐션 함수)\n",
    "attn_layer = AdditiveAttention(name='attention_layer')\n",
    "# 인코더와 디코더의 모든 time step의 hidden state를 어텐션 층에 전달하고 결과를 리턴\n",
    "attn_out = attn_layer([decoder_outputs, encoder_outputs])\n",
    "# 어텐션의 결과와 디코더의 hidden state들을 연결\n",
    "decoder_concat_input = Concatenate(axis=-1, name='concat_layer')([decoder_outputs, attn_out])\n",
    "# 디코더의 출력층\n",
    "decoder_softmax_layer = Dense(tar_vocab, activation='softmax')\n",
    "decoder_softmax_outputs = decoder_softmax_layer(decoder_concat_input)\n",
    "# 모델 정의\n",
    "model = Model([encoder_inputs, decoder_inputs], decoder_softmax_outputs)\n",
    "model.summary()"
   ]
  },
  {
   "cell_type": "markdown",
   "id": "297906b3",
   "metadata": {},
   "source": [
    "- 인코더의 hidden state들과 디코더의 hidden state들을 어텐션 함수의 입력으로 사용\n",
    "- 어텐션 함수가 리턴한 값을 예측 시에 디코더의 hidden state와 함께 활용"
   ]
  },
  {
   "cell_type": "markdown",
   "id": "a6191936",
   "metadata": {},
   "source": [
    "### 3-4. 모델 훈련하기"
   ]
  },
  {
   "cell_type": "code",
   "execution_count": 44,
   "id": "fefce0dc",
   "metadata": {},
   "outputs": [
    {
     "name": "stdout",
     "output_type": "stream",
     "text": [
      "Epoch 1/50\n",
      "297/297 [==============================] - 201s 623ms/step - loss: 5.7633 - val_loss: 5.3146\n",
      "Epoch 2/50\n",
      "297/297 [==============================] - 184s 621ms/step - loss: 5.1859 - val_loss: 4.9574\n",
      "Epoch 3/50\n",
      "297/297 [==============================] - 184s 618ms/step - loss: 4.8478 - val_loss: 4.6995\n",
      "Epoch 4/50\n",
      "297/297 [==============================] - 185s 621ms/step - loss: 4.5755 - val_loss: 4.4761\n",
      "Epoch 5/50\n",
      "297/297 [==============================] - 184s 620ms/step - loss: 4.3611 - val_loss: 4.3406\n",
      "Epoch 6/50\n",
      "297/297 [==============================] - 186s 628ms/step - loss: 4.1847 - val_loss: 4.2326\n",
      "Epoch 7/50\n",
      "297/297 [==============================] - 183s 618ms/step - loss: 4.0354 - val_loss: 4.1262\n",
      "Epoch 8/50\n",
      "297/297 [==============================] - 183s 617ms/step - loss: 3.9084 - val_loss: 4.0455\n",
      "Epoch 9/50\n",
      "297/297 [==============================] - 183s 616ms/step - loss: 3.7921 - val_loss: 3.9960\n",
      "Epoch 10/50\n",
      "297/297 [==============================] - 186s 627ms/step - loss: 3.6937 - val_loss: 3.9421\n",
      "Epoch 11/50\n",
      "297/297 [==============================] - 184s 619ms/step - loss: 3.6059 - val_loss: 3.9071\n",
      "Epoch 12/50\n",
      "297/297 [==============================] - 184s 618ms/step - loss: 3.5249 - val_loss: 3.8696\n",
      "Epoch 13/50\n",
      "297/297 [==============================] - 184s 619ms/step - loss: 3.4496 - val_loss: 3.8438\n",
      "Epoch 14/50\n",
      "297/297 [==============================] - 184s 619ms/step - loss: 3.3819 - val_loss: 3.8248\n",
      "Epoch 15/50\n",
      "297/297 [==============================] - 184s 620ms/step - loss: 3.3222 - val_loss: 3.8009\n",
      "Epoch 16/50\n",
      "297/297 [==============================] - 184s 619ms/step - loss: 3.2648 - val_loss: 3.7835\n",
      "Epoch 17/50\n",
      "297/297 [==============================] - 183s 618ms/step - loss: 3.2109 - val_loss: 3.7734\n",
      "Epoch 18/50\n",
      "297/297 [==============================] - 184s 619ms/step - loss: 3.1622 - val_loss: 3.7548\n",
      "Epoch 19/50\n",
      "297/297 [==============================] - 183s 617ms/step - loss: 3.1183 - val_loss: 3.7479\n",
      "Epoch 20/50\n",
      "297/297 [==============================] - 183s 618ms/step - loss: 3.0746 - val_loss: 3.7429\n",
      "Epoch 21/50\n",
      "297/297 [==============================] - 183s 617ms/step - loss: 3.0305 - val_loss: 3.7315\n",
      "Epoch 22/50\n",
      "297/297 [==============================] - 183s 618ms/step - loss: 2.9922 - val_loss: 3.7258\n",
      "Epoch 23/50\n",
      "297/297 [==============================] - 182s 613ms/step - loss: 2.9559 - val_loss: 3.7225\n",
      "Epoch 24/50\n",
      "297/297 [==============================] - 183s 616ms/step - loss: 2.9212 - val_loss: 3.7158\n",
      "Epoch 25/50\n",
      "297/297 [==============================] - 183s 616ms/step - loss: 2.8901 - val_loss: 3.7127\n",
      "Epoch 26/50\n",
      "297/297 [==============================] - 183s 615ms/step - loss: 2.8582 - val_loss: 3.7128\n",
      "Epoch 27/50\n",
      "297/297 [==============================] - 182s 613ms/step - loss: 2.8288 - val_loss: 3.7037\n",
      "Epoch 28/50\n",
      "297/297 [==============================] - 183s 616ms/step - loss: 2.7966 - val_loss: 3.7077\n",
      "Epoch 29/50\n",
      "297/297 [==============================] - 183s 616ms/step - loss: 2.7667 - val_loss: 3.7083\n",
      "Epoch 00029: early stopping\n"
     ]
    }
   ],
   "source": [
    "model.compile(optimizer='rmsprop', loss='sparse_categorical_crossentropy')\n",
    "es = EarlyStopping(monitor='val_loss', patience=2, verbose=1)\n",
    "history = model.fit(x=[encoder_input_train, decoder_input_train], y=decoder_target_train, \\\n",
    "          validation_data=([encoder_input_test, decoder_input_test], decoder_target_test), \\\n",
    "          batch_size=256, callbacks=[es], epochs=50)"
   ]
  },
  {
   "cell_type": "markdown",
   "id": "c4752ec9",
   "metadata": {},
   "source": [
    "- val_loss(검증 데이터의 손실)을 관찰하다가, 검증 데이터의 손실이 줄어들지 않고 증가하는 현상이 2회(patience=2) 관측되면 학습을 멈추도록 설정\n",
    "- EarlyStopping이 작동하여 epoch 29 실행 후 종료: **Epoch 00029: early stopping** <span style=\"color:blue; font-weight:bold; font-size:15px\">(실행시마다 다름)</span>\n",
    "- 총 실행시간: 약 1시간 35분 <span style=\"color:blue; font-weight:bold; font-size:15px\">(실행시마다 다름)</span>"
   ]
  },
  {
   "cell_type": "markdown",
   "id": "8e6d92b0",
   "metadata": {},
   "source": [
    "#### [훈련 데이터 손실 및 검증 데이터 손실 변화 시각화]"
   ]
  },
  {
   "cell_type": "code",
   "execution_count": 45,
   "id": "ba1fb83b",
   "metadata": {},
   "outputs": [
    {
     "data": {
      "image/png": "[encoded data removed]",
      "text/plain": [
       "<Figure size 432x288 with 1 Axes>"
      ]
     },
     "metadata": {
      "needs_background": "light"
     },
     "output_type": "display_data"
    }
   ],
   "source": [
    "plt.plot(history.history['loss'], label='train')\n",
    "plt.plot(history.history['val_loss'], label='test')\n",
    "plt.legend()\n",
    "plt.show()"
   ]
  },
  {
   "cell_type": "markdown",
   "id": "728cd175",
   "metadata": {},
   "source": [
    "# Step 4. 실제 결과와 요약문 비교하기 (추상적 요약)\n",
    "- 원래의 요약문(headlines 열)과 학습을 통해 얻은 추상적 요약의 결과를 비교해 보세요."
   ]
  },
  {
   "cell_type": "markdown",
   "id": "d054d102",
   "metadata": {},
   "source": [
    "### 4-1. 인퍼런스 모델 구현하기\n",
    "- seq2seq는 훈련할 때와 실제 동작할 때(인퍼런스 단계)의 방식이 다르므로 그에 맞게 모델 설계를 별개로 진행해야 함\n",
    "- 훈련 단계에서는 디코더의 입력부에 정답이 되는 문장 전체를 한꺼번에 넣고 디코더의 출력과 한 번에 비교할 수 있으므로, 인코더와 디코더를 엮은 통짜 모델 하나만 준비\n",
    "- 정답 문장이 없는 인퍼런스 단계에서는 만들어야 할 문장의 길이만큼 디코더가 반복 구조로 동작해야 하기 때문에 인퍼런스를 위한 모델 설계를 별도로 해야 함\n",
    "  - 인코더 모델과 디코더 모델을 분리해서 설계"
   ]
  },
  {
   "cell_type": "markdown",
   "id": "7b36315a",
   "metadata": {},
   "source": [
    "#### 4-1-1. 실제 데이터 복원에 필요한 3개 사전 준비"
   ]
  },
  {
   "cell_type": "code",
   "execution_count": 46,
   "id": "f6959b63",
   "metadata": {},
   "outputs": [
    {
     "name": "stdout",
     "output_type": "stream",
     "text": [
      "=3\n"
     ]
    }
   ],
   "source": [
    "src_index_to_word = src_tokenizer.index_word # 원문 단어 집합에서 정수 -> 단어를 얻음\n",
    "tar_word_to_index = tar_tokenizer.word_index # 요약 단어 집합에서 단어 -> 정수를 얻음\n",
    "tar_index_to_word = tar_tokenizer.index_word # 요약 단어 집합에서 정수 -> 단어를 얻음\n",
    "\n",
    "print('=3')"
   ]
  },
  {
   "cell_type": "markdown",
   "id": "9605e41b",
   "metadata": {},
   "source": [
    "#### 4-1-2. 인코더 설계"
   ]
  },
  {
   "cell_type": "code",
   "execution_count": 47,
   "id": "5f0b45b5",
   "metadata": {},
   "outputs": [
    {
     "name": "stdout",
     "output_type": "stream",
     "text": [
      "=3\n"
     ]
    }
   ],
   "source": [
    "# 인코더 설계\n",
    "encoder_model = Model(inputs=encoder_inputs, outputs=[encoder_outputs, state_h, state_c])\n",
    "\n",
    "# 이전 시점의 상태들을 저장하는 텐서\n",
    "decoder_state_input_h = Input(shape=(hidden_size,))\n",
    "decoder_state_input_c = Input(shape=(hidden_size,))\n",
    "\n",
    "dec_emb2 = dec_emb_layer(decoder_inputs)\n",
    "\n",
    "# 문장의 다음 단어를 예측하기 위해서 초기 상태(initial_state)를 이전 시점의 상태로 사용. 이는 뒤의 함수 decode_sequence()에 구현\n",
    "# 훈련 과정에서와 달리 LSTM의 리턴하는 은닉 상태와 셀 상태인 state_h와 state_c를 버리지 않음.\n",
    "decoder_outputs2, state_h2, state_c2 = decoder_lstm(dec_emb2, initial_state=[decoder_state_input_h, decoder_state_input_c])\n",
    "\n",
    "print('=3')"
   ]
  },
  {
   "cell_type": "markdown",
   "id": "dec839ec",
   "metadata": {},
   "source": [
    "#### 4-1-3. 어텐션 메커니즘을 사용하는 출력층(디코더) 설계"
   ]
  },
  {
   "cell_type": "code",
   "execution_count": 48,
   "id": "5f74defd",
   "metadata": {},
   "outputs": [
    {
     "name": "stdout",
     "output_type": "stream",
     "text": [
      "=3\n"
     ]
    }
   ],
   "source": [
    "# 어텐션 함수\n",
    "decoder_hidden_state_input = Input(shape=(text_max_len, hidden_size))\n",
    "attn_out_inf = attn_layer([decoder_outputs2, decoder_hidden_state_input])\n",
    "decoder_inf_concat = Concatenate(axis=-1, name='concat')([decoder_outputs2, attn_out_inf])\n",
    "\n",
    "# 디코더의 출력층\n",
    "decoder_outputs2 = decoder_softmax_layer(decoder_inf_concat) \n",
    "\n",
    "# 최종 디코더 모델\n",
    "decoder_model = Model(\n",
    "    [decoder_inputs] + [decoder_hidden_state_input,decoder_state_input_h, decoder_state_input_c],\n",
    "    [decoder_outputs2] + [state_h2, state_c2])\n",
    "\n",
    "print('=3')"
   ]
  },
  {
   "cell_type": "markdown",
   "id": "052fa851",
   "metadata": {},
   "source": [
    "#### [인퍼런스 단계에서 단어 시퀀스를 완성하는 함수 생성]"
   ]
  },
  {
   "cell_type": "code",
   "execution_count": 49,
   "id": "702d532e",
   "metadata": {},
   "outputs": [
    {
     "name": "stdout",
     "output_type": "stream",
     "text": [
      "=3\n"
     ]
    }
   ],
   "source": [
    "def decode_sequence(input_seq):\n",
    "    # 입력으로부터 인코더의 상태를 얻음\n",
    "    e_out, e_h, e_c = encoder_model.predict(input_seq)\n",
    "\n",
    "     # <SOS>에 해당하는 토큰 생성\n",
    "    target_seq = np.zeros((1,1))\n",
    "    target_seq[0, 0] = tar_word_to_index['sostoken']\n",
    "\n",
    "    stop_condition = False\n",
    "    decoded_sentence = ''\n",
    "    while not stop_condition: # stop_condition이 True가 될 때까지 루프 반복\n",
    "\n",
    "        output_tokens, h, c = decoder_model.predict([target_seq] + [e_out, e_h, e_c])\n",
    "        sampled_token_index = np.argmax(output_tokens[0, -1, :])\n",
    "        sampled_token = tar_index_to_word[sampled_token_index]\n",
    "\n",
    "        if (sampled_token!='eostoken'):\n",
    "            decoded_sentence += ' '+sampled_token\n",
    "\n",
    "        #  <eos>에 도달하거나 최대 길이를 넘으면 중단.\n",
    "        if (sampled_token == 'eostoken'  or len(decoded_sentence.split()) >= (summary_max_len-1)):\n",
    "            stop_condition = True\n",
    "\n",
    "        # 길이가 1인 타겟 시퀀스를 업데이트\n",
    "        target_seq = np.zeros((1,1))\n",
    "        target_seq[0, 0] = sampled_token_index\n",
    "\n",
    "        # 상태를 업데이트 합니다.\n",
    "        e_h, e_c = h, c\n",
    "\n",
    "    return decoded_sentence\n",
    "print('=3')"
   ]
  },
  {
   "cell_type": "markdown",
   "id": "64268c64",
   "metadata": {},
   "source": [
    "### 4-2. 실제 요약과 예측된 요약 비교(모델 테스트) 하기"
   ]
  },
  {
   "cell_type": "markdown",
   "id": "928f64e8",
   "metadata": {},
   "source": [
    "#### [주어진 정수 시퀀스를 텍스트 시퀀스로 변환하는 함수 생성]\n",
    "- Text의 정수 시퀀스에서는 패딩을 위해 사용되는 숫자 0 제외\n",
    "- Summary의 정수 시퀀스에서는 숫자 0, 시작 토큰의 인덱스, 종료 토큰의 인덱스를 출력에서 제외"
   ]
  },
  {
   "cell_type": "code",
   "execution_count": 50,
   "id": "d90add42",
   "metadata": {},
   "outputs": [
    {
     "name": "stdout",
     "output_type": "stream",
     "text": [
      "=3\n"
     ]
    }
   ],
   "source": [
    "# 원문의 정수 시퀀스를 텍스트 시퀀스로 변환\n",
    "def seq2text(input_seq):\n",
    "    temp=''\n",
    "    for i in input_seq:\n",
    "        if (i!=0):\n",
    "            temp = temp + src_index_to_word[i]+' '\n",
    "    return temp\n",
    "\n",
    "# 요약문의 정수 시퀀스를 텍스트 시퀀스로 변환\n",
    "def seq2summary(input_seq):\n",
    "    temp=''\n",
    "    for i in input_seq:\n",
    "        if ((i!=0 and i!=tar_word_to_index['sostoken']) and i!=tar_word_to_index['eostoken']):\n",
    "            temp = temp + tar_index_to_word[i] + ' '\n",
    "    return temp\n",
    "\n",
    "print('=3')"
   ]
  },
  {
   "cell_type": "markdown",
   "id": "8b74f7d7",
   "metadata": {},
   "source": [
    "#### [실제 요약과 예측된 요약 비교]\n",
    "- 테스트 데이터 약 50개의 샘플에 대해서 요약 비교"
   ]
  },
  {
   "cell_type": "code",
   "execution_count": 51,
   "id": "e5aec2dd",
   "metadata": {},
   "outputs": [
    {
     "name": "stdout",
     "output_type": "stream",
     "text": [
      "원문 : bank england governor mark carney said bitcoin pretty much failed currency said bitcoin store value map nobody uses medium exchange however cryptocurrency underlying technology may still prove useful verifying financial transactions way added \n",
      "실제 요약 : bitcoin pretty much failed as currency bank of england \n",
      "예측 요약 :  bitcoin is not bitcoin bitcoin exchange ceo\n",
      "\n",
      "\n",
      "원문 : class student died thursday fight fellow students school washroom delhi police detained three students saw five students including deceased fighting inside washroom cctv footage victim fell received punches fight died later police added \n",
      "실제 요약 : class boy dies after fight at school students detained \n",
      "예측 요약 :  class boy found dead in school school in delhi\n",
      "\n",
      "\n",
      "원문 : pakistan international airlines pia flight saturday landed midway lahore due low visibility asked passengers onboard travel bus destination according reports however passengers protested refused leave aircraft airline shut air conditioners leading suffocation several passengers reports added \n",
      "실제 요약 : pak int flight lands midway asks passengers to take bus \n",
      "예측 요약 :  pak flight forced to take back to plane engine\n",
      "\n",
      "\n",
      "원문 : prime minister narendra modi inaugurated first ever india institute ayurveda delhi today occasion 2nd ayurveda day first institute ministry ayush national accreditation board hospitals healthcare providers accreditation institute separate yoga units among others \n",
      "실제 요약 : pm modi inaugurates 1st ever all india institute of \n",
      "예측 요약 :  pm modi inaugurates india first in india\n",
      "\n",
      "\n",
      "원문 : upside house built city russia nearly 300 000 crore house fit least 50 people believed biggest kind curator said upside house people walking ceiling furniture even clothes hanging upside \n",
      "실제 요약 : upside down house comes up in russia \n",
      "예측 요약 :  russian town set up to sell aircraft for crore\n",
      "\n",
      "\n",
      "원문 : pm narendra modi paytm founder vijay shekhar sharma indians named time magazine 100 influential people list 2017 modi achieved feat third time last four years featured list 2014 2015 sharma featured year list includes amazon ceo jeff bezos \n",
      "실제 요약 : pm paytm ceo feature in time 100 most influential people \n",
      "예측 요약 :  india born by pm modi times than women in 2017\n",
      "\n",
      "\n",
      "원문 : total market valuation 100 largest companies globally increased 15 since last year 20 trillion according report auditing company pwc us retained leading position 54 companies top 100 accounting 61 total market capitalisation report said apple remained valuable company seventh straight year added \n",
      "실제 요약 : total market cap of top 100 firms hits 20 trillion report \n",
      "예측 요약 :  india biggest trillion in market cap in 2017 report\n",
      "\n",
      "\n",
      "원문 : around 700 employees aviation ground handling agency delhi mumbai airports paid nearly years employees started agitation mumbai tuesday demanding immediate payment dues aviation founded 1954 shut 2016 owners left united states \n",
      "실제 요약 : unpaid for years aviation staffers protest \n",
      "예측 요약 :  mumbai to pay over 50 000 employees to stay\n",
      "\n",
      "\n",
      "원문 : two time ipl champions chennai super kings returning tournament two years retained ms dhoni suresh raina ravindra jadeja ipl 2018 meanwhile royal challengers bangalore 2017 champions mumbai indians retained virat kohli rohit sharma respectively bhuvneshwar kumar david warner steven smith also retained respective franchises \n",
      "실제 요약 : csk retains ms dhoni rcb keeps virat kohli for ipl 2018 \n",
      "예측 요약 :  dhoni takes wickets in ipl 2018 to be run by srh\n",
      "\n",
      "\n",
      "원문 : us supreme court tuesday ruled immigrants face possible deportation detained indefinitely without receiving bond hearings even entered country legally seeking asylum reversed ruling san francisco based 9th us circuit court appeals set six month limit detention without bond hearings immigrants risking national security \n",
      "실제 요약 : us supreme court rules immigrants can be held indefinitely \n",
      "예측 요약 :  us court rules us court rules for us court\n",
      "\n",
      "\n",
      "원문 : nike tuesday unveiled self smart basketball shoes adapt bb controlled app shoes contain motor gear train senses tension required user foot accordingly user tighten shoes required physical buttons shoes connected app \n",
      "실제 요약 : nike makes self smart shoes controlled by an app \n",
      "예측 요약 :  company makes robot that can be made for carrying\n",
      "\n",
      "\n",
      "원문 : many 16 vehicles stolen every day bengaluru police able detect 27 cases 2017 city police data revealed according police vehicles stolen residential areas night commercial areas day city also gangs steal vehicles \n",
      "실제 요약 : 16 vehicles stolen daily in bengaluru police data \n",
      "예측 요약 :  10 000 people arrested for illegal in bengaluru\n",
      "\n",
      "\n",
      "원문 : mp bai resigned bjp saying party trying create divisions society work dalits bjp nothing dalit reservation said adding continue mp till end term earlier accused bjp ram mandir issue due elections \n",
      "실제 요약 : bjp trying to create in society quits party \n",
      "예측 요약 :  bjp mp bjp leaders to resign for bjp\n",
      "\n",
      "\n",
      "원문 : premier league leaders manchester city extended record run consecutive top flight wins 17 matches thrashing bournemouth saturday 101 goals 2017 city became first english team since liverpool 106 1982 score 100 plus goals top flight calendar year meanwhile chelsea held goalless draw everton \n",
      "실제 요약 : man city thrash mouth extend winning run to 17 games \n",
      "예측 요약 :  man utd beat arsenal to win 2nd straight pl title\n",
      "\n",
      "\n",
      "원문 : operator masala library restaurants massive restaurants raised reported amount 160 crore mumbai based private equity firm gaja capital round gaja capital become major minority shareholder company according reports founded 2012 chef kalra massive restaurants operates brand names including caf pa pa ya \n",
      "실제 요약 : masala library restaurants operator raises funding \n",
      "예측 요약 :  myntra buys stake in gurugram\n",
      "\n",
      "\n",
      "원문 : speaking congress lead rajasthan madhya pradesh chhattisgarh assembly elections party president rahul gandhi press conference said want make india mukt free anyone agree somebody fight try added rahul also thanked workers party performance elections \n",
      "실제 요약 : do not want to make india of anyone rahul gandhi \n",
      "예측 요약 :  rahul gandhi is not good for any country mp cm\n",
      "\n",
      "\n",
      "원문 : umpires american baseball league major league baseball wore white matches protest abusive player behaviour move come detroit second ian fined suspended recent verbal umpire angel match last monday called bad umpire \n",
      "실제 요약 : baseball umpires wear to protest abuse by players \n",
      "예측 요약 :  baseball player gets notice for ball to stop umpire\n",
      "\n",
      "\n",
      "원문 : person killed three others sustained serious injuries following blast trinamool congress office west bengal district sunday police launched probe matter arrests made far notably locals claimed people inside office trying make bomb accidentally exploded \n",
      "실제 요약 : blast at tmc office kills injures in west bengal \n",
      "예측 요약 :  killed in blast attack on suspicion of killing in bengal\n",
      "\n",
      "\n",
      "원문 : actor akshay kumar said marathi cinema hindi films adding content marathi cinema doubt better hindi cinema talking upcoming production said films gone festivals felt give name film content really good \n",
      "실제 요약 : marathi cinema is than hindi films akshay kumar \n",
      "예측 요약 :  film is not to be part of film fest akshay\n",
      "\n",
      "\n",
      "원문 : actor ranveer singh said would different person actor added wanted hero hindi films today become said despite theatre background studying theory acting learnt job \n",
      "실제 요약 : would have been different person had not been actor ranveer \n",
      "예측 요약 :  ranveer singh is the best actor\n",
      "\n",
      "\n",
      "원문 : per reports income tax appellate tribunal asked actress priyanka chopra include 40 lakh watch 27 lakh toyota car received gifts taxable income priyanka reportedly shown watch car gifts companies order said cover four years financial year 2006 07 onwards \n",
      "실제 요약 : priyanka asked to pay tax for gifts like watch report \n",
      "예측 요약 :  ranveer singh given notice to 15 lakh over rafale deal\n",
      "\n",
      "\n",
      "원문 : south africa sunday chased target 153 124 balls six wickets spare hand australia seventh consecutive defeat odi cricket first time australia lost seven odis row odi history australia lost 10 11 odis played 2018 \n",
      "실제 요약 : australia lose consecutive odis for the first time ever \n",
      "예측 요약 :  south africa beat australia to take wickets in odi series\n",
      "\n",
      "\n",
      "원문 : video showing several guests wedding uttar pradesh agra thrashing dj colleagues refusing play music 10 pm surfaced online dj stopped playing music according government rules guests also broke lights sound system kept dance floor \n",
      "실제 요약 : guests thrash dj for not playing music post 10 pm at wedding \n"
     ]
    },
    {
     "name": "stdout",
     "output_type": "stream",
     "text": [
      "예측 요약 :  video shows up govt members in up to make wedding\n",
      "\n",
      "\n",
      "원문 : bengaluru based self drive vehicle rental startup reportedly last stage talks raise 60 million around 430 crore series round funding comes startup raised 20 million around 140 crore series round november founded 2015 lets vehicle owners list idle vehicles rent customers \n",
      "실제 요약 : luru vehicle rental startup to raise report \n",
      "예측 요약 :  bengaluru based grocery startup raises 10 million\n",
      "\n",
      "\n",
      "원문 : talking death five civilians amid protests cm mehbooba mufti monday appealed parents ensure children embrace death adding sunday extremely sad said way needs found children army soldiers policemen killed \n",
      "실제 요약 : ensure children do not death cm to parents \n",
      "예측 요약 :  no one can be killed in kerala cm on death\n",
      "\n",
      "\n",
      "원문 : talking ayodhya dispute vishva hindu parishad president vishnu said issue neither political mileage explored lord ram name issue linked elections temple issue faith hindus political parties also faith ram added \n",
      "실제 요약 : let us not explore political in ram name vhp chief \n",
      "예측 요약 :  ram mandir should be given to speak in ayodhya shia chief\n",
      "\n",
      "\n",
      "원문 : rajya sabha deputy chairman harivansh narayan singh asked dmk mp kanimozhi conclude speech hindi sir speak language understand singh repeated english singh told kanimozhi jo tha aap bol hain taken double time allotted \n",
      "실제 요약 : can you speak in language understand to rs dy chairman \n",
      "예측 요약 :  mp mp speaker calls mp for calling him\n",
      "\n",
      "\n",
      "원문 : indian railways cleared 12 000 crore proposal 000 electric european train control system level ii system provides information upcoming signals train pilots installed entire km long golden route connecting four metropolitan cities make fully accident free corridor \n",
      "실제 요약 : railways approves cr upgrade of train protection system \n",
      "예측 요약 :  railways to get crore to railways\n",
      "\n",
      "\n",
      "원문 : one 24 rescued uttar pradesh deoria shelter house inmates women including minors physically sexually abused said visitors distributed sweets taking children away four people took year old boy december last year year old twin sisters march year girl said told going spain added \n",
      "실제 요약 : visitors came gave sweets and took kids up shelter house inmate \n",
      "예측 요약 :  girls rescued from shelter home rescued after 24 years rescued\n",
      "\n",
      "\n",
      "원문 : bengaluru international airport said plans introduce boarding passengers airlines next year use facial recognition technology passengers faces identified move across airport prevent showing physical documents repeatedly move initially apply passengers jet airways air asia spicejet \n",
      "실제 요약 : bengaluru airport to use face recognition for boarding passengers \n",
      "예측 요약 :  singapore airport to get facial recognition tech\n",
      "\n",
      "\n",
      "원문 : pnb detected 77 billion worth fraud transactions said three firms linked jeweller nirav modi approached buyer credit pay overseas suppliers two bank employees fraudulently approved without making entries bank system based fake approvals foreign branches allahabad bank axis bank appeared advanced money firms abroad \n",
      "실제 요약 : how did pnb employees pull off the 77 billion fraud \n",
      "예측 요약 :  pnb fraud accused of nirav modi fraud\n",
      "\n",
      "\n",
      "원문 : six year old homeless girl allegedly kidnapped raped 24 year old man drug addict delhi police said found lying pool blood admitted hospital critical condition delhi commission women chief swati maliwal visited said bad condition \n",
      "실제 요약 : year old homeless girl raped by drug addict in delhi \n",
      "예측 요약 :  year old girl raped by year old in mumbai\n",
      "\n",
      "\n",
      "원문 : nearly 63 crore trees planted 12 hours sunday across 12 districts along narmada river madhya pradesh 15 lakh volunteers participated environmental campaign organised state government officials guinness world records present event expected confirm state set new world record \n",
      "실제 요약 : crore trees planted in 12 hours in madhya pradesh \n",
      "예측 요약 :  bengaluru civic body to get 100 crore in bengaluru\n",
      "\n",
      "\n",
      "원문 : chapters cm yogi adityanath gurus including baba gorakhnath baba included textbooks classes uttar pradesh government schools students also learn freedom fighters singh rani bai among others cm yogi directed basic department include chapters personalities neglected earlier \n",
      "실제 요약 : on cm yogi in up govt school syllabus \n",
      "예측 요약 :  ramdev to be compulsory in up cm yogi adityanath\n",
      "\n",
      "\n",
      "원문 : vladimir putin spokesperson dmitry peskov said us president donald trump directly accuse russian president critics answering question interview could surely answer whatsoever peskov added trump asked agreed putin involved responded probably \n",
      "실제 요약 : trump did not directly accuse putin of russia \n",
      "예측 요약 :  trump calls putin very good thing for us president putin\n",
      "\n",
      "\n",
      "원문 : common admission test cat 2017 admission india premier business schools scheduled sunday november 26 preparation mba cat 2017 scholarship exam currently underway aims provide cat aspirants realistic insights cat preparation top three performers also win scholarship lakh \n",
      "실제 요약 : cat 2017 scholarship exam begins \n",
      "예측 요약 :  irrfan to include admission in india from april 2018\n",
      "\n",
      "\n",
      "원문 : 15 year old boy killed 19 year old performing dagger dance engagement function hyderabad victim throat slit trying get close performer died undergoing treatment hospital saturday incident purely accidental hidden intention police officials said \n",
      "실제 요약 : 15 year old killed during sword dance at function in hyd \n",
      "예측 요약 :  delhi teen kills self after girlfriend dances to girlfriend\n",
      "\n",
      "\n",
      "원문 : indian spinner ekta bisht named icc women odi t20i teams 2017 making lone cricketer feature teams ekta took 34 wickets 19 odis 11 wickets seven t20is period consideration odi side included mithali raj harmanpreet kaur featured t20i side \n",
      "실제 요약 : india ekta in both icc women odi and t20i teams of 2017 \n",
      "예측 요약 :  india becomes 1st t20i t20i scorer in t20i cricket\n",
      "\n",
      "\n",
      "원문 : train accident averted railway staffer noticed track damaged waved red flag alert chennai express said official pilot stopped train damaged track staffer received award 000 informed section engineers damage \n",
      "실제 요약 : railway staffer sees damaged track saves train with red flag \n",
      "예측 요약 :  train derails in mumbai\n",
      "\n",
      "\n",
      "원문 : india women openers poonam raut sharma set record highest ever odi opening stand came know record whatsapp group poonam revealed informed done post match recovery session two shared stand 320 runs becoming first women pair go past 300 runs \n",
      "실제 요약 : india came to know of their world record on whatsapp \n",
      "예측 요약 :  india record highest score in odis history to score in india\n",
      "\n",
      "\n",
      "원문 : anand indian origin senior facebook executive named head workplace social media giant communications tool businesses anand computer science graduate iiit hyderabad also studied school management us worked microsoft 15 years joining facebook nearly four years ago \n",
      "실제 요약 : hyderabad graduate anand to head facebook workplace \n",
      "예측 요약 :  indian origin woman joins facebook for sexual harassment\n",
      "\n",
      "\n",
      "원문 : sex abuse charges filed australia pope francis chief financial adviser george pope said honest repeatedly condemned acts abuse minors immoral pope also ask resign post rather granted leave return australia fight charges \n",
      "실제 요약 : pope francis backs aide in fight against sex abuse charges \n",
      "예측 요약 :  pope francis calls for sex abuse victims\n",
      "\n",
      "\n",
      "원문 : relationship us turkey like marriage us state department spokeswoman heather said adding sometimes relationships good day sometimes bad day comes amid ongoing tension two countries arrest turkish gold trader us alleged evasion us sanctions iran \n",
      "실제 요약 : us likens its relationship with turkey to marriage \n",
      "예측 요약 :  us troops not to be part of us prince putin\n",
      "\n",
      "\n",
      "원문 : petrol price increased first time wednesday since dynamic fuel pricing came effect june 16 indian oil raised price petrol delhi paisa per litre thursday petrol price fallen 45 per litre delhi last 13 days diesel price reduced 41 per litre \n",
      "실제 요약 : petrol price rises for the first time since pricing \n",
      "예측 요약 :  petrol price cut by petrol diesel by diesel\n",
      "\n",
      "\n",
      "원문 : group lawyers allegedly thrashed fellow advocate thursday uttar pradesh giving legal help accused preventing children singing national anthem madrasa independence day advocate along colleague also expelled local bar association victim said would file police report assault \n",
      "실제 요약 : lawyer of man who opposed singing national anthem beaten up \n"
     ]
    },
    {
     "name": "stdout",
     "output_type": "stream",
     "text": [
      "예측 요약 :  fir against lord krishna for not singing in up\n",
      "\n",
      "\n",
      "원문 : pakistan rejected statement made brics nations terror groups country pose threat regional security brics nations issued declaration slamming pakistan based terror groups like jaish mohammed lashkar taiba reject declaration terrorist organization safe havens pakistan defence minister khan said \n",
      "실제 요약 : pakistan rejects brics declaration on terror groups \n",
      "예측 요약 :  pak rejects new saeed terror weapons\n",
      "\n",
      "\n",
      "원문 : switzerland defeated serbia friday become first team come behind win group match 2018 fifa world cup match witnessed midfielder become third swiss player score multiple world cups midfielder became second swiss player score euro world cup \n",
      "실제 요약 : switzerland 1st team to post comeback win in 2018 fifa wc \n",
      "예측 요약 :  japan beat japan to enter world 1st wc final\n",
      "\n",
      "\n",
      "원문 : windies defeated england five wickets second test register first win tests england since 2000 levelling three match series windies helped hope slammed tons innings becoming first batsman first class match final test start september \n",
      "실제 요약 : windies register first test win in england after 17 years \n",
      "예측 요약 :  england beat windies to take wickets in test series\n",
      "\n",
      "\n",
      "원문 : tesla ceo elon musk reportedly emailed entire company sunday night saying employee caught conducting damaging sabotage operations employee allegedly made direct code changes manufacturing system sent large amounts highly sensitive data third parties musk said employee claimed receive promotion \n",
      "실제 요약 : tesla ceo musk emails entire staff on damage caused by an employee \n",
      "예측 요약 :  tesla ceo tesla staff sue elon musk over production\n",
      "\n",
      "\n",
      "원문 : hotels restaurants within 500 metres national state highways cannot serve liquor supreme court clarified friday earlier attorney general mukul rohatgi suggested order would apply hotels restaurants sc rejected view areas population 20 000 distance reduced 220 metres \n",
      "실제 요약 : hotels restaurants near highways cannot serve liquor sc \n",
      "예측 요약 :  govt to remain in delhi over illegal rule\n",
      "\n",
      "\n"
     ]
    }
   ],
   "source": [
    "for i in range(0, 50):\n",
    "    print(\"원문 :\", seq2text(encoder_input_test[i]))\n",
    "    print(\"실제 요약 :\", seq2summary(decoder_input_test[i]))\n",
    "    print(\"예측 요약 :\", decode_sequence(encoder_input_test[i].reshape(1, text_max_len)))\n",
    "    print(\"\\n\")"
   ]
  },
  {
   "cell_type": "markdown",
   "id": "14f79c94",
   "metadata": {},
   "source": [
    "### 4-3. 결과 분석\n",
    "\n",
    "#### [20개 예측 요약 분석]\n",
    "\n",
    "1. 원문 : bank england governor mark carney said bitcoin pretty much failed currency said bitcoin store value map nobody uses medium exchange however cryptocurrency underlying technology may still prove useful verifying financial transactions way added \n",
    "- 실제 요약 : bitcoin pretty much failed as currency bank of england \n",
    "- 예측 요약 :  bitcoin is not bitcoin bitcoin exchange ceo\n",
    "- <span style=\"color:blue; font-weight:bold; font-size:15px\">그다지 좋지 않은 요약</span>\n",
    "\n",
    "2. 원문 : class student died thursday fight fellow students school washroom delhi police detained three students saw five students including deceased fighting inside washroom cctv footage victim fell received punches fight died later police added \n",
    "- 실제 요약 : class boy dies after fight at school students detained \n",
    "- 예측 요약 :  class boy found dead in school school in delhi\n",
    "- <span style=\"color:blue; font-weight:bold; font-size:15px\">원문에 없던 단어를 사용해서 요약</span>\n",
    "\n",
    "3. 원문 : pakistan international airlines pia flight saturday landed midway lahore due low visibility asked passengers onboard travel bus destination according reports however passengers protested refused leave aircraft airline shut air conditioners leading suffocation several passengers reports added \n",
    "- 실제 요약 : pak int flight lands midway asks passengers to take bus \n",
    "- 예측 요약 :  pak flight forced to take back to plane engine\n",
    "- <span style=\"color:blue; font-weight:bold; font-size:15px\">그다지 좋지 않은 요약</span>\n",
    "\n",
    "4. 원문 : prime minister narendra modi inaugurated first ever india institute ayurveda delhi today occasion 2nd ayurveda day first institute ministry ayush national accreditation board hospitals healthcare providers accreditation institute separate yoga units among others \n",
    "- 실제 요약 : pm modi inaugurates 1st ever all india institute of \n",
    "- 예측 요약 :  pm modi inaugurates india first in india\n",
    "- <span style=\"color:blue; font-weight:bold; font-size:15px\">그다지 좋지 않은 요약</span>\n",
    "\n",
    "5. 원문 : upside house built city russia nearly 300 000 crore house fit least 50 people believed biggest kind curator said upside house people walking ceiling furniture even clothes hanging upside \n",
    "- 실제 요약 : upside down house comes up in russia \n",
    "- 예측 요약 :  russian town set up to sell aircraft for crore\n",
    "- <span style=\"color:blue; font-weight:bold; font-size:15px\">그다지 좋지 않은 요약</span>\n",
    "- (csv 원문) An upside-down house has been built in Ufa city, Russia. The nearly â¬300,000 (â¹2.4 crore) house can fit at least 50 people and is believed to be the biggest of its kind. Its curator said, \"It is an upside-down house, people are walking on the ceiling and all the furniture is above them... even clothes are hanging upside down.\"\n",
    "\n",
    "6. 원문 : pm narendra modi paytm founder vijay shekhar sharma indians named time magazine 100 influential people list 2017 modi achieved feat third time last four years featured list 2014 2015 sharma featured year list includes amazon ceo jeff bezos \n",
    "- 실제 요약 : pm paytm ceo feature in time 100 most influential people \n",
    "- 예측 요약 :  india born by pm modi times than women in 2017\n",
    "- <span style=\"color:blue; font-weight:bold; font-size:15px\">그다지 좋지 않은 요약</span>\n",
    "\n",
    "7. 원문 : total market valuation 100 largest companies globally increased 15 since last year 20 trillion according report auditing company pwc us retained leading position 54 companies top 100 accounting 61 total market capitalisation report said apple remained valuable company seventh straight year added \n",
    "- 실제 요약 : total market cap of top 100 firms hits 20 trillion report \n",
    "- 예측 요약 :  india biggest trillion in market cap in 2017 report\n",
    "- <span style=\"color:blue; font-weight:bold; font-size:15px\">그다지 좋지 않은 요약</span>\n",
    "\n",
    "8. 원문 : around 700 employees aviation ground handling agency delhi mumbai airports paid nearly years employees started agitation mumbai tuesday demanding immediate payment dues aviation founded 1954 shut 2016 owners left united states \n",
    "- 실제 요약 : unpaid for years aviation staffers protest \n",
    "- 예측 요약 :  mumbai to pay over 50 000 employees to stay\n",
    "- <span style=\"color:blue; font-weight:bold; font-size:15px\">그다지 좋지 않은 요약</span>\n",
    "\n",
    "9. 원문 : two time ipl champions chennai super kings returning tournament two years retained ms dhoni suresh raina ravindra jadeja ipl 2018 meanwhile royal challengers bangalore 2017 champions mumbai indians retained virat kohli rohit sharma respectively bhuvneshwar kumar david warner steven smith also retained respective franchises \n",
    "- 실제 요약 : csk retains ms dhoni rcb keeps virat kohli for ipl 2018 \n",
    "- 예측 요약 :  dhoni takes wickets in ipl 2018 to be run by srh\n",
    "- <span style=\"color:blue; font-weight:bold; font-size:15px\">그다지 좋지 않은 요약</span>\n",
    "\n",
    "10. 원문 : us supreme court tuesday ruled immigrants face possible deportation detained indefinitely without receiving bond hearings even entered country legally seeking asylum reversed ruling san francisco based 9th us circuit court appeals set six month limit detention without bond hearings immigrants risking national security \n",
    "- 실제 요약 : us supreme court rules immigrants can be held indefinitely \n",
    "- 예측 요약 :  us court rules us court rules for us court\n",
    "- <span style=\"color:blue; font-weight:bold; font-size:15px\">그다지 좋지 않은 요약</span>\n",
    "\n",
    "11. 원문 : nike tuesday unveiled self smart basketball shoes adapt bb controlled app shoes contain motor gear train senses tension required user foot accordingly user tighten shoes required physical buttons shoes connected app \n",
    "- 실제 요약 : nike makes self smart shoes controlled by an app \n",
    "- 예측 요약 :  company makes robot that can be made for carrying\n",
    "- <span style=\"color:blue; font-weight:bold; font-size:15px\">그다지 좋지 않은 요약</span>\n",
    "\n",
    "12. 원문 : many 16 vehicles stolen every day bengaluru police able detect 27 cases 2017 city police data revealed according police vehicles stolen residential areas night commercial areas day city also gangs steal vehicles \n",
    "- 실제 요약 : 16 vehicles stolen daily in bengaluru police data \n",
    "- 예측 요약 :  10 000 people arrested for illegal in bengaluru\n",
    "- <span style=\"color:blue; font-weight:bold; font-size:15px\">그다지 좋지 않은 요약</span>\n",
    "\n",
    "13. 원문 : mp bai resigned bjp saying party trying create divisions society work dalits bjp nothing dalit reservation said adding continue mp till end term earlier accused bjp ram mandir issue due elections \n",
    "- 실제 요약 : bjp trying to create in society quits party \n",
    "- 예측 요약 :  bjp mp bjp leaders to resign for bjp\n",
    "- <span style=\"color:blue; font-weight:bold; font-size:15px\">그다지 좋지 않은 요약</span>\n",
    "\n",
    "14. 원문 : premier league leaders manchester city extended record run consecutive top flight wins 17 matches thrashing bournemouth saturday 101 goals 2017 city became first english team since liverpool 106 1982 score 100 plus goals top flight calendar year meanwhile chelsea held goalless draw everton \n",
    "- 실제 요약 : man city thrash mouth extend winning run to 17 games \n",
    "- 예측 요약 :  man utd beat arsenal to win 2nd straight pl title\n",
    "- <span style=\"color:blue; font-weight:bold; font-size:15px\">그다지 좋지 않은 요약. 없는 얘기 지어냄 ㅎㅎ</span>\n",
    "\n",
    "15. 원문 : operator masala library restaurants massive restaurants raised reported amount 160 crore mumbai based private equity firm gaja capital round gaja capital become major minority shareholder company according reports founded 2012 chef kalra massive restaurants operates brand names including caf pa pa ya \n",
    "- 실제 요약 : masala library restaurants operator raises funding \n",
    "- 예측 요약 :  myntra buys stake in gurugram\n",
    "- <span style=\"color:blue; font-weight:bold; font-size:15px\">그다지 좋지 않은 요약. 없는 얘기 지어냄 ㅎㅎ</span>\n",
    "\n",
    "16. 원문 : speaking congress lead rajasthan madhya pradesh chhattisgarh assembly elections party president rahul gandhi press conference said want make india mukt free anyone agree somebody fight try added rahul also thanked workers party performance elections \n",
    "- 실제 요약 : do not want to make india of anyone rahul gandhi \n",
    "- 예측 요약 :  rahul gandhi is not good for any country mp cm\n",
    "- <span style=\"color:blue; font-weight:bold; font-size:15px\">그다지 좋지 않은 요약</span>\n",
    "\n",
    "17. 원문 : umpires american baseball league major league baseball wore white matches protest abusive player behaviour move come detroit second ian fined suspended recent verbal umpire angel match last monday called bad umpire \n",
    "- 실제 요약 : baseball umpires wear to protest abuse by players \n",
    "- 예측 요약 :  baseball player gets notice for ball to stop umpire\n",
    "- <span style=\"color:blue; font-weight:bold; font-size:15px\">그다지 좋지 않은 요약. 없는 얘기 지어냄 ㅎㅎ</span>\n",
    "\n",
    "18. 원문 : person killed three others sustained serious injuries following blast trinamool congress office west bengal district sunday police launched probe matter arrests made far notably locals claimed people inside office trying make bomb accidentally exploded \n",
    "- 실제 요약 : blast at tmc office kills injures in west bengal \n",
    "- 예측 요약 :  killed in blast attack on suspicion of killing in bengal\n",
    "- <span style=\"color:blue; font-weight:bold; font-size:15px\">그다지 좋지 않은 요약</span>\n",
    "\n",
    "19. 원문 : actor akshay kumar said marathi cinema hindi films adding content marathi cinema doubt better hindi cinema talking upcoming production said films gone festivals felt give name film content really good \n",
    "- 실제 요약 : marathi cinema is than hindi films akshay kumar \n",
    "- 예측 요약 :  film is not to be part of film fest akshay\n",
    "- <span style=\"color:blue; font-weight:bold; font-size:15px\">그다지 좋지 않은 요약</span>\n",
    "\n",
    "20. 원문 : actor ranveer singh said would different person actor added wanted hero hindi films today become said despite theatre background studying theory acting learnt job \n",
    "- 실제 요약 : would have been different person had not been actor ranveer \n",
    "- 예측 요약 :  ranveer singh is the best actor\n",
    "- <span style=\"color:blue; font-weight:bold; font-size:15px\">그다지 좋지 않은 요약</span>\n"
   ]
  },
  {
   "cell_type": "markdown",
   "id": "b12aff1a",
   "metadata": {},
   "source": [
    "**[결과 분석]**\n",
    "- 교재에는 \n",
    "  - 실제 요약과 다른 요약을 출력하면서도 원문의 내용을 담고 있는 의미 있는 요약들\n",
    "  - 원문에 없던 단어를 사용해서 한 요약들  <br>\n",
    "  이 있었다고 함\n",
    "  \n",
    "- 위의 20개 분석 결과 **대부분 그다지 좋지 않은 요약**임 \n",
    "- 문법 완성도 측면 및 핵심 단어 포함 측면 모두에서 성능이 아주 좋지 않음\n",
    "\n",
    "**[성능 개선 방안 (교재의 내용)]**\n",
    "- seq2seq와 어텐션의 조합을 좀 더 좋게 수정하는 방법\n",
    "- 빔 서치(beam search)\n",
    "- 사전 훈련된 워드 임베딩(pre-trained word embedding)\n",
    "- 트랜스포머(Transformer): 인코더-디코더의 구조 변경 등"
   ]
  },
  {
   "cell_type": "markdown",
   "id": "17089aaf",
   "metadata": {},
   "source": [
    "# Step 5. Summa을 이용해서 추출적 요약해보기\n",
    "- 추상적 요약은 추출적 요약과는 달리 문장의 표현력을 다양하게 가져갈 수 있지만, 추출적 요약에 비해서 난이도가 높음\n",
    "- 추출적 요약은 추상적 요약에 비해 난이도가 낮고 기존 문장에서 문장을 꺼내오는 것이므로 잘못된 요약이 나올 가능성이 낮음\n",
    "<br> <br>\n",
    "- Summa의 summarize를 사용하여 추출적 요약을 해보세요.\n",
    "  - 추출적요약에는 text만 사용"
   ]
  },
  {
   "cell_type": "markdown",
   "id": "295ce689",
   "metadata": {},
   "source": [
    "### 5-1. 필요한 패키지 불러오기"
   ]
  },
  {
   "cell_type": "code",
   "execution_count": 52,
   "id": "2b85d9ec",
   "metadata": {},
   "outputs": [],
   "source": [
    "import requests\n",
    "from summa.summarizer import summarize"
   ]
  },
  {
   "cell_type": "markdown",
   "id": "532b2d21",
   "metadata": {},
   "source": [
    "### 5-2. 데이터 불러오기\n",
    "- 추출적요약에는 text만 사용"
   ]
  },
  {
   "cell_type": "code",
   "execution_count": 66,
   "id": "7826ff65",
   "metadata": {},
   "outputs": [
    {
     "name": "stdout",
     "output_type": "stream",
     "text": [
      "전체 샘플수 : 98401\n"
     ]
    }
   ],
   "source": [
    "#text = requests.get('http://rare-technologies.com/the_matrix_synopsis.txt').text\n",
    "# print(text[:1500])\n",
    "data = pd.read_csv('news_summary_more.csv', encoding='iso-8859-1')\n",
    "print('전체 샘플수 :', (len(data)))"
   ]
  },
  {
   "cell_type": "code",
   "execution_count": 67,
   "id": "47896356",
   "metadata": {},
   "outputs": [
    {
     "data": {
      "text/html": [
       "<div>\n",
       "<style scoped>\n",
       "    .dataframe tbody tr th:only-of-type {\n",
       "        vertical-align: middle;\n",
       "    }\n",
       "\n",
       "    .dataframe tbody tr th {\n",
       "        vertical-align: top;\n",
       "    }\n",
       "\n",
       "    .dataframe thead th {\n",
       "        text-align: right;\n",
       "    }\n",
       "</style>\n",
       "<table border=\"1\" class=\"dataframe\">\n",
       "  <thead>\n",
       "    <tr style=\"text-align: right;\">\n",
       "      <th></th>\n",
       "      <th>headlines</th>\n",
       "      <th>text</th>\n",
       "    </tr>\n",
       "  </thead>\n",
       "  <tbody>\n",
       "    <tr>\n",
       "      <th>0</th>\n",
       "      <td>upGrad learner switches to career in ML &amp; Al with 90% salary hike</td>\n",
       "      <td>Saurav Kant, an alumnus of upGrad and IIIT-B's PG Program in Machine learning and Artificial Intelligence, was a Sr Systems Engineer at Infosys with almost 5 years of work experience. The program and upGrad's 360-degree career support helped him transition to a Data Scientist at Tech Mahindra with 90% salary hike. upGrad's Online Power Learning has powered 3 lakh+ careers.</td>\n",
       "    </tr>\n",
       "    <tr>\n",
       "      <th>1</th>\n",
       "      <td>Delhi techie wins free food from Swiggy for one year on CRED</td>\n",
       "      <td>Kunal Shah's credit card bill payment platform, CRED, gave users a chance to win free food from Swiggy for one year. Pranav Kaushik, a Delhi techie, bagged this reward after spending 2000 CRED coins. Users get one CRED coin per rupee of bill paid, which can be used to avail rewards from brands like Ixigo, BookMyShow, UberEats, Cult.Fit and more.</td>\n",
       "    </tr>\n",
       "    <tr>\n",
       "      <th>2</th>\n",
       "      <td>New Zealand end Rohit Sharma-led India's 12-match winning streak</td>\n",
       "      <td>New Zealand defeated India by 8 wickets in the fourth ODI at Hamilton on Thursday to win their first match of the five-match ODI series. India lost an international match under Rohit Sharma's captaincy after 12 consecutive victories dating back to March 2018. The match witnessed India getting all out for 92, their seventh lowest total in ODI cricket history.</td>\n",
       "    </tr>\n",
       "    <tr>\n",
       "      <th>3</th>\n",
       "      <td>Aegon life iTerm insurance plan helps customers save tax</td>\n",
       "      <td>With Aegon Life iTerm Insurance plan, customers can enjoy tax benefits on your premiums paid and save up to Ã¢ÂÂ¹46,800^ on taxes. The plan provides life cover up to the age of 100 years. Also, customers have options to insure against Critical Illnesses, Disability and Accidental Death Benefit Rider with a life cover up to the age of 80 years.</td>\n",
       "    </tr>\n",
       "    <tr>\n",
       "      <th>4</th>\n",
       "      <td>Have known Hirani for yrs, what if MeToo claims are not true: Sonam</td>\n",
       "      <td>Speaking about the sexual harassment allegations against Rajkumar Hirani, Sonam Kapoor said, \"I've known Hirani for many years...What if it's not true, the [#MeToo] movement will get derailed.\" \"In the #MeToo movement, I always believe a woman. But in this case, we need to reserve our judgment,\" she added. Hirani has been accused by an assistant who worked in 'Sanju'.</td>\n",
       "    </tr>\n",
       "  </tbody>\n",
       "</table>\n",
       "</div>"
      ],
      "text/plain": [
       "                                                             headlines  \\\n",
       "0    upGrad learner switches to career in ML & Al with 90% salary hike   \n",
       "1         Delhi techie wins free food from Swiggy for one year on CRED   \n",
       "2     New Zealand end Rohit Sharma-led India's 12-match winning streak   \n",
       "3             Aegon life iTerm insurance plan helps customers save tax   \n",
       "4  Have known Hirani for yrs, what if MeToo claims are not true: Sonam   \n",
       "\n",
       "                                                                                                                                                                                                                                                                                                                                                                                      text  \n",
       "0  Saurav Kant, an alumnus of upGrad and IIIT-B's PG Program in Machine learning and Artificial Intelligence, was a Sr Systems Engineer at Infosys with almost 5 years of work experience. The program and upGrad's 360-degree career support helped him transition to a Data Scientist at Tech Mahindra with 90% salary hike. upGrad's Online Power Learning has powered 3 lakh+ careers.  \n",
       "1                              Kunal Shah's credit card bill payment platform, CRED, gave users a chance to win free food from Swiggy for one year. Pranav Kaushik, a Delhi techie, bagged this reward after spending 2000 CRED coins. Users get one CRED coin per rupee of bill paid, which can be used to avail rewards from brands like Ixigo, BookMyShow, UberEats, Cult.Fit and more.  \n",
       "2                 New Zealand defeated India by 8 wickets in the fourth ODI at Hamilton on Thursday to win their first match of the five-match ODI series. India lost an international match under Rohit Sharma's captaincy after 12 consecutive victories dating back to March 2018. The match witnessed India getting all out for 92, their seventh lowest total in ODI cricket history.  \n",
       "3                               With Aegon Life iTerm Insurance plan, customers can enjoy tax benefits on your premiums paid and save up to Ã¢ÂÂ¹46,800^ on taxes. The plan provides life cover up to the age of 100 years. Also, customers have options to insure against Critical Illnesses, Disability and Accidental Death Benefit Rider with a life cover up to the age of 80 years.  \n",
       "4       Speaking about the sexual harassment allegations against Rajkumar Hirani, Sonam Kapoor said, \"I've known Hirani for many years...What if it's not true, the [#MeToo] movement will get derailed.\" \"In the #MeToo movement, I always believe a woman. But in this case, we need to reserve our judgment,\" she added. Hirani has been accused by an assistant who worked in 'Sanju'.  "
      ]
     },
     "execution_count": 67,
     "metadata": {},
     "output_type": "execute_result"
    }
   ],
   "source": [
    "#데이터 확인\n",
    "data.head()"
   ]
  },
  {
   "cell_type": "code",
   "execution_count": 68,
   "id": "09ba6ef7",
   "metadata": {},
   "outputs": [
    {
     "data": {
      "text/plain": [
       "\"Saurav Kant, an alumnus of upGrad and IIIT-B's PG Program in Machine learning and Artificial Intelligence, was a Sr Systems Engineer at Infosys with almost 5 years of work experience. The program and upGrad's 360-degree career support helped him transition to a Data Scientist at Tech Mahindra with 90% salary hike. upGrad's Online Power Learning has powered 3 lakh+ careers.\""
      ]
     },
     "execution_count": 68,
     "metadata": {},
     "output_type": "execute_result"
    }
   ],
   "source": [
    "#데이터 확인\n",
    "data['text'][0]"
   ]
  },
  {
   "cell_type": "markdown",
   "id": "a914d069",
   "metadata": {},
   "source": [
    "### 5-3. summarize 사용하기\n",
    "\n",
    "#### [인자 설명]\n",
    "- text (str) : 요약할 테스트.\n",
    "- ratio (float, optional) – 요약문에서 원본에서 선택되는 문장 비율. 0~1 사이값\n",
    "- words (int or None, optional) – 출력에 포함할 단어 수.\n",
    "  - 만약, ratio와 함께 두 파라미터가 모두 제공되는 경우 ratio는 무시한다.\n",
    "- split (bool, optional) – True면 문장 list / False는 조인(join)된 문자열을 반환\n",
    "<br> <br>\n",
    "- Summa의 summarize는 내부에서 문장 토큰화 수행 - 문장 구분이 되어있지 않은 원문 사용 가능\n",
    "- 원문의 10% 또는 20 단어 이내로 출력하도록 설정"
   ]
  },
  {
   "cell_type": "code",
   "execution_count": 72,
   "id": "e43ea1b3",
   "metadata": {},
   "outputs": [
    {
     "name": "stdout",
     "output_type": "stream",
     "text": [
      "원문: Saurav Kant, an alumnus of upGrad and IIIT-B's PG Program in Machine learning and Artificial Intelligence, was a Sr Systems Engineer at Infosys with almost 5 years of work experience. The program and upGrad's 360-degree career support helped him transition to a Data Scientist at Tech Mahindra with 90% salary hike. upGrad's Online Power Learning has powered 3 lakh+ careers.\n",
      "실제 요약: upGrad learner switches to career in ML & Al with 90% salary hike\n",
      "Extractive 요약: upGrad's Online Power Learning has powered 3 lakh+ careers.\n",
      "\n",
      "\n",
      "원문: Kunal Shah's credit card bill payment platform, CRED, gave users a chance to win free food from Swiggy for one year. Pranav Kaushik, a Delhi techie, bagged this reward after spending 2000 CRED coins. Users get one CRED coin per rupee of bill paid, which can be used to avail rewards from brands like Ixigo, BookMyShow, UberEats, Cult.Fit and more.\n",
      "실제 요약: Delhi techie wins free food from Swiggy for one year on CRED\n",
      "Extractive 요약: Users get one CRED coin per rupee of bill paid, which can be used to avail rewards from brands like Ixigo, BookMyShow, UberEats, Cult.Fit and more.\n",
      "\n",
      "\n",
      "원문: New Zealand defeated India by 8 wickets in the fourth ODI at Hamilton on Thursday to win their first match of the five-match ODI series. India lost an international match under Rohit Sharma's captaincy after 12 consecutive victories dating back to March 2018. The match witnessed India getting all out for 92, their seventh lowest total in ODI cricket history.\n",
      "실제 요약: New Zealand end Rohit Sharma-led India's 12-match winning streak\n",
      "Extractive 요약: The match witnessed India getting all out for 92, their seventh lowest total in ODI cricket history.\n",
      "\n",
      "\n",
      "원문: With Aegon Life iTerm Insurance plan, customers can enjoy tax benefits on your premiums paid and save up to Ã¢ÂÂ¹46,800^ on taxes. The plan provides life cover up to the age of 100 years. Also, customers have options to insure against Critical Illnesses, Disability and Accidental Death Benefit Rider with a life cover up to the age of 80 years.\n",
      "실제 요약: Aegon life iTerm insurance plan helps customers save tax\n",
      "Extractive 요약: Also, customers have options to insure against Critical Illnesses, Disability and Accidental Death Benefit Rider with a life cover up to the age of 80 years.\n",
      "\n",
      "\n",
      "원문: Speaking about the sexual harassment allegations against Rajkumar Hirani, Sonam Kapoor said, \"I've known Hirani for many years...What if it's not true, the [#MeToo] movement will get derailed.\" \"In the #MeToo movement, I always believe a woman. But in this case, we need to reserve our judgment,\" she added. Hirani has been accused by an assistant who worked in 'Sanju'.\n",
      "실제 요약: Have known Hirani for yrs, what if MeToo claims are not true: Sonam\n",
      "Extractive 요약: \n",
      "\n",
      "\n",
      "원문: Pakistani singer Rahat Fateh Ali Khan has denied receiving any notice from the Enforcement Directorate over allegedly smuggling foreign currency out of India. \"It would have been better if the authorities would have served the notice first if any and then publicised this,\" reads a press release issued on behalf of Rahat. The statement further called the allegation \"bizarre\".\n",
      "실제 요약: Rahat Fateh Ali Khan denies getting notice for smuggling currency\n",
      "Extractive 요약: Pakistani singer Rahat Fateh Ali Khan has denied receiving any notice from the Enforcement Directorate over allegedly smuggling foreign currency out of India.\n",
      "\n",
      "\n",
      "원문: India recorded their lowest ODI total in New Zealand after getting all out for 92 runs in 30.5 overs in the fourth ODI at Hamilton on Thursday. Seven of India's batsmen were dismissed for single-digit scores, while their number ten batsman Yuzvendra Chahal top-scored with 18*(37). India's previous lowest ODI total in New Zealand was 108.\n",
      "실제 요약: India get all out for 92, their lowest ODI total in New Zealand\n",
      "Extractive 요약: India's previous lowest ODI total in New Zealand was 108.\n",
      "\n",
      "\n",
      "원문: Weeks after ex-CBI Director Alok Verma told the Department of Personnel and Training to consider him retired, the Home Ministry asked him to join work on the last day of his fixed tenure as Director on Thursday. The ministry directed him to immediately join as DG, Fire Services, the post he was transferred to after his removal as CBI chief.\n",
      "실제 요약: Govt directs Alok Verma to join work 1 day before his retirement\n",
      "Extractive 요약: \n",
      "\n",
      "\n",
      "원문: Andhra Pradesh CM N Chandrababu Naidu has said, \"When I met then US President Bill Clinton, I addressed him as Mr Clinton, not as 'sir'. (PM Narendra) Modi is my junior in politics...I addressed him as sir 10 times.\" \"I did this...to satisfy his ego in the hope that he will do justice to the state,\" he added.\n",
      "실제 요약: Called PM Modi 'sir' 10 times to satisfy his ego: Andhra CM\n",
      "Extractive 요약: Andhra Pradesh CM N Chandrababu Naidu has said, \"When I met then US President Bill Clinton, I addressed him as Mr Clinton, not as 'sir'.\n",
      "\n",
      "\n",
      "원문: Congress candidate Shafia Zubair won the Ramgarh Assembly seat in Rajasthan, by defeating BJP's Sukhwant Singh with a margin of 12,228 votes in the bypoll. With this victory, Congress has taken its total to 100 seats in the 200-member assembly. The election to the Ramgarh seat was delayed due to the death of sitting MLA and BSP candidate Laxman Singh.\n",
      "실제 요약: Cong wins Ramgarh bypoll in Rajasthan, takes total to 100 seats\n",
      "Extractive 요약: Congress candidate Shafia Zubair won the Ramgarh Assembly seat in Rajasthan, by defeating BJP's Sukhwant Singh with a margin of 12,228 votes in the bypoll.\n",
      "\n",
      "\n",
      "원문: Two minor cousins in Uttar Pradesh's Gorakhpur were allegedly repeatedly burnt with tongs and forced to eat human excreta by their family for being friends with two boys from the same school. The cousins revealed their ordeal to the police and Child Welfare Committee after being brought back to Gorakhpur from Nepal, where they had fled to escape the torture.\n",
      "실제 요약: UP cousins fed human excreta for friendship with boys\n",
      "Extractive 요약: \n",
      "\n",
      "\n",
      "원문: Isha Ghosh, an 81-year-old member of Bharat Scouts and Guides (BSG), has been imparting physical and mental training to schoolchildren in Jharkhand for several decades. Chaibasa-based Ghosh reportedly walks seven kilometres daily and spends eight hours conducting physical training, apart from climbing and yoga sessions. She says, \"One should do something for society till one's last breath.\"\n",
      "실제 요약: 81-yr-old woman conducts physical training in J'khand schools\n",
      "Extractive 요약: Isha Ghosh, an 81-year-old member of Bharat Scouts and Guides (BSG), has been imparting physical and mental training to schoolchildren in Jharkhand for several decades.\n",
      "\n",
      "\n",
      "원문: Urging saints and seers at the Kumbh Mela to quit smoking, Yoga guru Ramdev said, \"We follow Ram and Krishna who never smoked in their life then why should we?\" Making them take a pledge to quit tobacco, he collected chillum (clay pipe) from several sadhus. He said he will deposit the chillums for display at a museum he'll build.\n",
      "실제 요약: Ram, Krishna didn't smoke, why should we: Ramdev to sadhus at Kumbh\n",
      "Extractive 요약: \n",
      "\n",
      "\n",
      "원문: Former stripper and regional sales director of a pharmaceutical company, Sunrise Lee, gave a doctor a lap dance in a nightclub to persuade him to prescribe an addictive fentanyl spray in 2012, the company's sales representative told a US court. She said she saw Lee \"sitting on [doctor's] lap, kind of bouncing around.\" Lee has been accused of bribing doctors.\n",
      "실제 요약: Pharma exec gave doctor a lap dance to sell medicine in US: Witness\n",
      "Extractive 요약: \n",
      "\n",
      "\n",
      "원문: Reliance Industries' Chairman Mukesh Ambani's daughter Isha Ambani, who got married last month, said she only cried at her 'bidaai' because she felt peer pressure as everyone was crying, especially her parents. \"I was emotional too but everyone around me would cry all the time,\" she added. \"It was a very emotional affair for everyone in my family,\" said Isha.\n",
      "실제 요약:  I only cried at my 'bidaai' as I felt peer pressure: Isha Ambani\n",
      "Extractive 요약: \"It was a very emotional affair for everyone in my family,\" said Isha.\n",
      "\n",
      "\n",
      "원문: Louis Vuitton owner LVMH, which makes high-end beverages like MoÃÂ«t & Chandon champagne and Hennessy cognac, said it's stockpiling four months' worth of wine and spirits in UK in preparation for Brexit. \"We're ready for worst case scenario if there are difficulties with deliveries,\" the French luxury giant said. The UK is scheduled to leave the EU on March 29.\n",
      "실제 요약: Louis Vuitton owner to stockpile 4 months of wine, spirits in UK\n",
      "Extractive 요약: \n",
      "\n",
      "\n",
      "원문: Filmmaker Karan Johar and actress Tabu turned showstoppers for Gaurav Gupta on the opening night of LakmÃÂ© Fashion Week Summer/ Resort 2019. While Johar wore a red sequinned jacket with black pants, Tabu walked the ramp in a grey embellished gown. The fashion show, which began on January 29, will continue till February 3.\n",
      "실제 요약: Karan Johar, Tabu turn showstoppers on opening night of LFW\n",
      "Extractive 요약: Filmmaker Karan Johar and actress Tabu turned showstoppers for Gaurav Gupta on the opening night of LakmÃÂ© Fashion Week Summer/ Resort 2019.\n",
      "\n",
      "\n",
      "원문: In a jibe at Congress President Rahul Gandhi, PM Narendra Modi on Wednesday said those on \"bail will have to go to jail.\" PM Modi added, \"He is out on bail and his associates too are facing charges...I know they will be convicted one day.\" The PM claimed he'd waged a war on corruption because he's from a common household. \n",
      "실제 요약: Those on bail will go to jail: PM Modi takes jibe at Rahul\n",
      "Extractive 요약: \n",
      "\n",
      "\n",
      "원문: Days after he threatened to step down from his post if Congress MLAs continue \"crossing the line,\" Karnataka Chief Minister HD Kumaraswamy accused them of taking potshots and asked, \"How many more days can I tolerate such stuff?\" Kumaraswamy, who made the statements after a Congress MLA demanded that Siddaramaiah be made CM again, said, \"Power is ephemeral.\"\n",
      "실제 요약: How long can I tolerate Congress leaders' potshots: K'taka CM\n",
      "Extractive 요약: \n",
      "\n",
      "\n",
      "원문: Union Minister Dharmendra Pradhan on Wednesday claimed the illegal mining mafia in Odisha operates under the control of CM Naveen Patnaik and state Congress chief Niranjan Patnaik. He added, \"The time has come for the people of Odisha to put a full stop to their activities...The time has come for us to ask for an explanation from this corrupt government.\"\n",
      "실제 요약: Odisha CM Patnaik controls mining mafia: Union Minister\n",
      "Extractive 요약: Union Minister Dharmendra Pradhan on Wednesday claimed the illegal mining mafia in Odisha operates under the control of CM Naveen Patnaik and state Congress chief Niranjan Patnaik.\n",
      "\n",
      "\n"
     ]
    }
   ],
   "source": [
    "for i in range(0, 20):\n",
    "    print(\"원문:\", data['text'][i])\n",
    "    print(\"실제 요약:\", data['headlines'][i])\n",
    "    print(\"Extractive 요약:\", summarize(data['text'][i], ratio=0.05, words=15))\n",
    "    print(\"\\n\")"
   ]
  },
  {
   "cell_type": "markdown",
   "id": "ea3a525d",
   "metadata": {},
   "source": [
    "### 5-4. 결과 분석\n",
    "\n",
    "#### [20개 예측 요약 분석]\n",
    "\n",
    "1. 원문: Saurav Kant, an alumnus of upGrad and IIIT-B's PG Program in Machine learning and Artificial Intelligence, was a Sr Systems Engineer at Infosys with almost 5 years of work experience. The program and upGrad's 360-degree career support helped him transition to a Data Scientist at Tech Mahindra with 90% salary hike. upGrad's Online Power Learning has powered 3 lakh+ careers.\n",
    "- 실제 요약: upGrad learner switches to career in ML & Al with 90% salary hike\n",
    "- Extractive 요약: upGrad's Online Power Learning has powered 3 lakh+ careers.\n",
    "- <span style=\"color:blue; font-weight:bold; font-size:15px\">나쁘지 않은 요약</span>\n",
    "\n",
    "2. 원문: Kunal Shah's credit card bill payment platform, CRED, gave users a chance to win free food from Swiggy for one year. Pranav Kaushik, a Delhi techie, bagged this reward after spending 2000 CRED coins. Users get one CRED coin per rupee of bill paid, which can be used to avail rewards from brands like Ixigo, BookMyShow, UberEats, Cult.Fit and more.\n",
    "- 실제 요약: Delhi techie wins free food from Swiggy for one year on CRED\n",
    "- Extractive 요약: Users get one CRED coin per rupee of bill paid, which can be used to avail rewards from brands like Ixigo, BookMyShow, UberEats, Cult.Fit and more.\n",
    "- <span style=\"color:blue; font-weight:bold; font-size:15px\">나쁘지 않은 요약</span>\n",
    "\n",
    "3. 원문: New Zealand defeated India by 8 wickets in the fourth ODI at Hamilton on Thursday to win their first match of the five-match ODI series. India lost an international match under Rohit Sharma's captaincy after 12 consecutive victories dating back to March 2018. The match witnessed India getting all out for 92, their seventh lowest total in ODI cricket history.\n",
    "- 실제 요약: New Zealand end Rohit Sharma-led India's 12-match winning streak\n",
    "- Extractive 요약: The match witnessed India getting all out for 92, their seventh lowest total in ODI cricket history.\n",
    "- <span style=\"color:blue; font-weight:bold; font-size:15px\">그다지 좋지 않은 요약</span>\n",
    "\n",
    "4. 원문: With Aegon Life iTerm Insurance plan, customers can enjoy tax benefits on your premiums paid and save up to Ã¢ÂÂ¹46,800^ on taxes. The plan provides life cover up to the age of 100 years. Also, customers have options to insure against Critical Illnesses, Disability and Accidental Death Benefit Rider with a life cover up to the age of 80 years.\n",
    "- 실제 요약: Aegon life iTerm insurance plan helps customers save tax\n",
    "- Extractive 요약: Also, customers have options to insure against Critical Illnesses, Disability and Accidental Death Benefit Rider with a life cover up to the age of 80 years.\n",
    "- <span style=\"color:blue; font-weight:bold; font-size:15px\">그다지 좋지 않은 요약</span>\n",
    "\n",
    "5. 원문: Speaking about the sexual harassment allegations against Rajkumar Hirani, Sonam Kapoor said, \"I've known Hirani for many years...What if it's not true, the [#MeToo] movement will get derailed.\" \"In the #MeToo movement, I always believe a woman. But in this case, we need to reserve our judgment,\" she added. Hirani has been accused by an assistant who worked in 'Sanju'.\n",
    "- 실제 요약: Have known Hirani for yrs, what if MeToo claims are not true: Sonam\n",
    "Extractive 요약: \n",
    "- <span style=\"color:blue; font-weight:bold; font-size:15px\">요약 없음</span>\n",
    "\n",
    "6. 원문: Pakistani singer Rahat Fateh Ali Khan has denied receiving any notice from the Enforcement Directorate over allegedly smuggling foreign currency out of India. \"It would have been better if the authorities would have served the notice first if any and then publicised this,\" reads a press release issued on behalf of Rahat. The statement further called the allegation \"bizarre\".\n",
    "- 실제 요약: Rahat Fateh Ali Khan denies getting notice for smuggling currency\n",
    "- Extractive 요약: Pakistani singer Rahat Fateh Ali Khan has denied receiving any notice from the Enforcement Directorate over allegedly smuggling foreign currency out of India.\n",
    "- <span style=\"color:blue; font-weight:bold; font-size:15px\">나쁘지 않은 요약</span>\n",
    "\n",
    "7. 원문: India recorded their lowest ODI total in New Zealand after getting all out for 92 runs in 30.5 overs in the fourth ODI at Hamilton on Thursday. Seven of India's batsmen were dismissed for single-digit scores, while their number ten batsman Yuzvendra Chahal top-scored with 18*(37). India's previous lowest ODI total in New Zealand was 108.\n",
    "- 실제 요약: India get all out for 92, their lowest ODI total in New Zealand\n",
    "- Extractive 요약: India's previous lowest ODI total in New Zealand was 108.\n",
    "- <span style=\"color:blue; font-weight:bold; font-size:15px\">그다지 좋지 않은 요약</span>\n",
    "\n",
    "8. 원문: Weeks after ex-CBI Director Alok Verma told the Department of Personnel and Training to consider him retired, the Home Ministry asked him to join work on the last day of his fixed tenure as Director on Thursday. The ministry directed him to immediately join as DG, Fire Services, the post he was transferred to after his removal as CBI chief.\n",
    "- 실제 요약: Govt directs Alok Verma to join work 1 day before his retirement\n",
    "- Extractive 요약: \n",
    "- <span style=\"color:blue; font-weight:bold; font-size:15px\">요약 없음</span>\n",
    "\n",
    "9. 원문: Andhra Pradesh CM N Chandrababu Naidu has said, \"When I met then US President Bill Clinton, I addressed him as Mr Clinton, not as 'sir'. (PM Narendra) Modi is my junior in politics...I addressed him as sir 10 times.\" \"I did this...to satisfy his ego in the hope that he will do justice to the state,\" he added.\n",
    "- 실제 요약: Called PM Modi 'sir' 10 times to satisfy his ego: Andhra CM\n",
    "- Extractive 요약: Andhra Pradesh CM N Chandrababu Naidu has said, \"When I met then US President Bill Clinton, I addressed him as Mr Clinton, not as 'sir'.\n",
    "- <span style=\"color:blue; font-weight:bold; font-size:15px\">그다지 좋지 않은 요약</span>\n",
    "\n",
    "10. 원문: Congress candidate Shafia Zubair won the Ramgarh Assembly seat in Rajasthan, by defeating BJP's Sukhwant Singh with a margin of 12,228 votes in the bypoll. With this victory, Congress has taken its total to 100 seats in the 200-member assembly. The election to the Ramgarh seat was delayed due to the death of sitting MLA and BSP candidate Laxman Singh.\n",
    "- 실제 요약: Cong wins Ramgarh bypoll in Rajasthan, takes total to 100 seats\n",
    "- Extractive 요약: Congress candidate Shafia Zubair won the Ramgarh Assembly seat in Rajasthan, by defeating BJP's Sukhwant Singh with a margin of 12,228 votes in the bypoll.\n",
    "- <span style=\"color:blue; font-weight:bold; font-size:15px\">나쁘지 않은 요약</span>\n",
    "\n",
    "11. 원문: Two minor cousins in Uttar Pradesh's Gorakhpur were allegedly repeatedly burnt with tongs and forced to eat human excreta by their family for being friends with two boys from the same school. The cousins revealed their ordeal to the police and Child Welfare Committee after being brought back to Gorakhpur from Nepal, where they had fled to escape the torture.\n",
    "- 실제 요약: UP cousins fed human excreta for friendship with boys\n",
    "- Extractive 요약: \n",
    "- <span style=\"color:blue; font-weight:bold; font-size:15px\">요약 없음</span>\n",
    "\n",
    "12. 원문: Isha Ghosh, an 81-year-old member of Bharat Scouts and Guides (BSG), has been imparting physical and mental training to schoolchildren in Jharkhand for several decades. Chaibasa-based Ghosh reportedly walks seven kilometres daily and spends eight hours conducting physical training, apart from climbing and yoga sessions. She says, \"One should do something for society till one's last breath.\"\n",
    "- 실제 요약: 81-yr-old woman conducts physical training in J'khand schools\n",
    "- Extractive 요약: Isha Ghosh, an 81-year-old member of Bharat Scouts and Guides (BSG), has been imparting physical and mental training to schoolchildren in Jharkhand for several decades.\n",
    "- <span style=\"color:blue; font-weight:bold; font-size:15px\">나쁘지 않은 요약</span>\n",
    "\n",
    "13. 원문: Urging saints and seers at the Kumbh Mela to quit smoking, Yoga guru Ramdev said, \"We follow Ram and Krishna who never smoked in their life then why should we?\" Making them take a pledge to quit tobacco, he collected chillum (clay pipe) from several sadhus. He said he will deposit the chillums for display at a museum he'll build.\n",
    "- 실제 요약: Ram, Krishna didn't smoke, why should we: Ramdev to sadhus at Kumbh\n",
    "- Extractive 요약: \n",
    "- <span style=\"color:blue; font-weight:bold; font-size:15px\">요약 없음</span>\n",
    "\n",
    "14. 원문: Former stripper and regional sales director of a pharmaceutical company, Sunrise Lee, gave a doctor a lap dance in a nightclub to persuade him to prescribe an addictive fentanyl spray in 2012, the company's sales representative told a US court. She said she saw Lee \"sitting on [doctor's] lap, kind of bouncing around.\" Lee has been accused of bribing doctors.\n",
    "- 실제 요약: Pharma exec gave doctor a lap dance to sell medicine in US: Witness\n",
    "- Extractive 요약: \n",
    "- <span style=\"color:blue; font-weight:bold; font-size:15px\">요약 없음</span>\n",
    "\n",
    "15. 원문: Reliance Industries' Chairman Mukesh Ambani's daughter Isha Ambani, who got married last month, said she only cried at her 'bidaai' because she felt peer pressure as everyone was crying, especially her parents. \"I was emotional too but everyone around me would cry all the time,\" she added. \"It was a very emotional affair for everyone in my family,\" said Isha.\n",
    "- 실제 요약:  I only cried at my 'bidaai' as I felt peer pressure: Isha Ambani\n",
    "- Extractive 요약: \"It was a very emotional affair for everyone in my family,\" said Isha.\n",
    "- <span style=\"color:blue; font-weight:bold; font-size:15px\">그다지 좋지 않은 요약</span>\n",
    "\n",
    "16. 원문: Louis Vuitton owner LVMH, which makes high-end beverages like MoÃÂ«t & Chandon champagne and Hennessy cognac, said it's stockpiling four months' worth of wine and spirits in UK in preparation for Brexit. \"We're ready for worst case scenario if there are difficulties with deliveries,\" the French luxury giant said. The UK is scheduled to leave the EU on March 29.\n",
    "- 실제 요약: Louis Vuitton owner to stockpile 4 months of wine, spirits in UK\n",
    "- Extractive 요약: \n",
    "- <span style=\"color:blue; font-weight:bold; font-size:15px\">요약 없음</span>\n",
    "\n",
    "17. 원문: Filmmaker Karan Johar and actress Tabu turned showstoppers for Gaurav Gupta on the opening night of LakmÃÂ© Fashion Week Summer/ Resort 2019. While Johar wore a red sequinned jacket with black pants, Tabu walked the ramp in a grey embellished gown. The fashion show, which began on January 29, will continue till February 3.\n",
    "- 실제 요약: Karan Johar, Tabu turn showstoppers on opening night of LFW\n",
    "- Extractive 요약: Filmmaker Karan Johar and actress Tabu turned showstoppers for Gaurav Gupta on the opening night of LakmÃÂ© Fashion Week Summer/ Resort 2019.\n",
    "- <span style=\"color:blue; font-weight:bold; font-size:15px\">나쁘지 않은 요약</span>\n",
    "\n",
    "18. 원문: In a jibe at Congress President Rahul Gandhi, PM Narendra Modi on Wednesday said those on \"bail will have to go to jail.\" PM Modi added, \"He is out on bail and his associates too are facing charges...I know they will be convicted one day.\" The PM claimed he'd waged a war on corruption because he's from a common household. \n",
    "- 실제 요약: Those on bail will go to jail: PM Modi takes jibe at Rahul\n",
    "- Extractive 요약: \n",
    "- <span style=\"color:blue; font-weight:bold; font-size:15px\">요약 없음</span>\n",
    "\n",
    "19. 원문: Days after he threatened to step down from his post if Congress MLAs continue \"crossing the line,\" Karnataka Chief Minister HD Kumaraswamy accused them of taking potshots and asked, \"How many more days can I tolerate such stuff?\" Kumaraswamy, who made the statements after a Congress MLA demanded that Siddaramaiah be made CM again, said, \"Power is ephemeral.\"\n",
    "- 실제 요약: How long can I tolerate Congress leaders' potshots: K'taka CM\n",
    "- Extractive 요약: \n",
    "- <span style=\"color:blue; font-weight:bold; font-size:15px\">요약 없음</span>\n",
    "\n",
    "20. 원문: Union Minister Dharmendra Pradhan on Wednesday claimed the illegal mining mafia in Odisha operates under the control of CM Naveen Patnaik and state Congress chief Niranjan Patnaik. He added, \"The time has come for the people of Odisha to put a full stop to their activities...The time has come for us to ask for an explanation from this corrupt government.\"\n",
    "- 실제 요약: Odisha CM Patnaik controls mining mafia: Union Minister\n",
    "- Extractive 요약: Union Minister Dharmendra Pradhan on Wednesday claimed the illegal mining mafia in Odisha operates under the control of CM Naveen Patnaik and state Congress chief Niranjan Patnaik.\n",
    "- <span style=\"color:blue; font-weight:bold; font-size:15px\">나쁘지 않은 요약</span>\n"
   ]
  },
  {
   "cell_type": "markdown",
   "id": "567692bc",
   "metadata": {},
   "source": [
    "**[결과 분석]**\n",
    "- 위의 20개 분석 결과\n",
    "  - 나쁘지 않은 요약: 7/20\n",
    "  - 그다지 좋지 않은 예약: 5/20\n",
    "  - 요약 없음: 8/20\n",
    "<br> <br>  \n",
    "- 원문이 짧음에도 불구하고 나쁘지 않은 요약이 상대적으로 많이 보임\n",
    "- 원문이 짧기 때문에 요약 없음이 발생한 것으로 추정됨\n",
    "- 원문이 짧은 경우에 '추출적 요약'은 적절하지 않은 것으로 보임\n",
    "- 아쉬운 점은 원문이 인도 얘기라서 요약을 평가하는 것이 쉽지 않음"
   ]
  },
  {
   "cell_type": "markdown",
   "id": "5a79756e",
   "metadata": {},
   "source": [
    "# 프로젝트 평가\n",
    "\n",
    "| 평가문항 | 상세기준 | 실행 내용 |\n",
    "|:----|:----|:----|\n",
    "| 1. Abstractive 모델 구성을 위한 텍스트 전처리 단계가 <br> 체계적으로 진행되었다. | 분석단계, 정제단계, 정규화와 불용어 제거, 데이터셋 분리, <br> 인코딩 과정이 빠짐없이 체계적으로 진행되었다. | 아래 [프로젝트 진행 순서] 참조 |\n",
    "| 2. 텍스트 요약모델이 성공적으로 학습되었음을 확인하였다. | 모델학습이 안정적으로 수렴되었음을 그래프를 통해 확인하였으며, <br> 실제 요약문과 유사한 요약문장을 얻을 수 있었다. |  3-4, 4-3, 5-4 참조 |\n",
    "| 3. Extractive 요약을 시도해 보고 <br> Abstractive 요약 결과와 함께 비교해 보았다. | 두 요약 결과를 문법완성도 측면과 핵심단어 포함 측면으로 나누어 <br> 비교분석 결과를 제시하였다. |  4-3, 5-4 참조 |\n",
    "\n"
   ]
  },
  {
   "cell_type": "markdown",
   "id": "dada1071",
   "metadata": {},
   "source": [
    "### [프로젝트 진행 순서]\n",
    "\n",
    "#### Step 0. 필요한 패키지 불러 오기\n",
    "#### Step 1. 데이터 수집하기\n",
    "- 1-1. 데이터 다운로드  \n",
    "- 1-2. 데이터프레임 열 이름 변경  \n",
    "\n",
    "#### Step 2. 데이터 전처리 하기 (추상적 요약)\n",
    "- 2-1. 중복 샘플 제거  \n",
    "- 2-2. Null값이 존재하는 샘플 제거  \n",
    "- 2-3. 텍스트 정규화(Text Normalization) 준비  \n",
    "- 2-4. 불용어(Stopwords) 제거 준비  \n",
    "- 2-5. 기타 전처리를 포함한 데이터 전처리 함수 생성  \n",
    "- 2-6. 데이터 전처리 실행  \n",
    "  - <span style=\"color:blue\">실행 시간이 많이 걸림</span>  <br>\n",
    "\n",
    "- 2-7. 전처리된 데이터 중 빈(empty) 샘플 유무 확인  \n",
    "- 2-8. 각 데이터의 최대 크기 결정 및 최대 크기로 데이터 정제  \n",
    "  - <span style=\"color:blue\">각 데이터 최대 크기 결정 기준은?\n",
    "  - <span style=\"color:blue\">결정된 최대 크기가 모델 학습시간 및 성능에 미치는 영향은?</span>\n",
    "- 2-9. 시작토큰과 종료코큰 추가하기  \n",
    "- 2-10. 훈련데이터와 테스트데이터 나누기  \n",
    "- 2-11. 단어집합 만들기와 정수 인코딩  \n",
    "  - 2-11-1. Text에 대한 단어집합 만들기  \n",
    "    - <span style=\"color:blue\">등장 빈도수를 7회 미만으로 하는 이유는?</span>\n",
    "    - <span style=\"color:blue\">이로부터 결정되는 단어집합(vocabulary)이 모델 학습시간 및 성능에 미치는 영향은?</span>\n",
    "  - 2-11-2. Text에 대한 정수 인코딩   \n",
    "  - 2-11-3. Summary에 대한 단어집합 만들기 및 정수 인코딩\n",
    "    - <span style=\"color:blue\">등장 빈도수를 6회 미만으로 하는 이유는?</span>\n",
    "    - <span style=\"color:blue\">이로부터 결정되는 단어집합(vocabulary)이 모델 학습시간 및 성능에 미치는 영향은?</span>\n",
    "- 2-12. 빈도 수 낮은 단어 삭제로 인한 빈 샘플 찾아서 삭제하기  \n",
    "- 2-13. 패딩하기  \n",
    "\n",
    "#### Step 3. 어텐션 메커니즘 사용하기 (추상적 요약)\n",
    "- 3-1. 인코더 설계  \n",
    "- 3-2. 디코더 설계  \n",
    "- 3-3. 어텐션 메커니즘 결합 디코더 출력층 수정  \n",
    "- 3-4. 모델 훈련하기  \n",
    "  - <span style=\"color:blue\">시간이 많이 걸림 (1시간 4~50분 정도 소요)</span>\n",
    "  - <span style=\"color:blue\">이로 인하여 모델 하이터파라미터 변경 실험 제약 (못 해봄)</span>\n",
    "\n",
    "#### Step 4. 실제 결과와 요약문 비교하기 (추상적 요약)\n",
    "- 4-1. 인퍼런스 모델 구현하기  \n",
    "  - 4-1-1. 실제 데이터 복원에 필요한 3개 사전 준비  \n",
    "  - 4-1-2. 인코더 설계  \n",
    "  - 4-1-3. 어텐션 메커니즘을 사용하는 출력층(디코더) 설계  \n",
    "\n",
    "- 4-2. 실제 결과와 예측된 요약문 비교 (모델 테스트) 하기  \n",
    "- 4-3. 결과 분석  \n",
    "  - <span style=\"color:blue\">예측 요약 (추상적 요약, Abstracive Summary) 결과가 아주 좋지 않음... 이유는?</span>\n",
    "    - <span style=\"color:blue\">너무 많은 요인이 존재하여 추측이 어려움 (훈련 데이터 문제, 모델링 문제, 모델 하이퍼파라미터 문제 등)</span>\n",
    "  - <span style=\"color:blue\">이는 곧 개선기회가 많을 수도 있음을 의미</span>\n",
    "  - <span style=\"color:blue\">많은 공부가 필요함</span>\n",
    "\n",
    "#### Step 5. Summa를 이용해서 추출적 요약 해보기\n",
    "- 5-1. 필요한 패키지 불러오기  \n",
    "- 5-2. 데이터 불러오기  \n",
    "- 5-3. summarize 사용하기  \n",
    "- 5-4. 결과 분석  \n",
    "  - <span style=\"color:blue\">예측 요약 (추출적 요약, Extractive Summary) 결과가 나쁘지는 않음... 그러나</span>\n",
    "    - <span style=\"color:blue\">추출적 요약은 원문에서 문장을 그대로 추출하여 예측 요약을 만드는데 <br> 프로젝트에 사용한 원문의 길이가 짧아서 모델 성능 평가가 어려움</span>\n",
    "    - <span style=\"color:blue\">예측 요약이 만들어지지 않은 이유는? 원문이 짧아서 문장 추출 불능? </span>\n",
    "  - <span style=\"color:blue\">원문 문장 길이가 긴 테스트 데이터를 대상으로 평가를 해보아야 성능 평가가 제대로 이루어질 수 있음</span>\n",
    "  - <span style=\"color:blue\">데이터가 인도(India) 신문기사라서 내용 이해가 쉽지 않으므로 요약문 성능 평가도 어려움 <br> (내용 모르고 판정하는 것이 딥러닝 모델과 다를 바 없음 ㅎㅎ)</span>\n",
    "  - <span style=\"color:blue\">한글 문장 요약은 어느 정도 수준인지 궁금함</span>"
   ]
  },
  {
   "cell_type": "code",
   "execution_count": null,
   "id": "2b4aec33",
   "metadata": {},
   "outputs": [],
   "source": []
  }
 ],
 "metadata": {
  "kernelspec": {
   "display_name": "Python 3 (ipykernel)",
   "language": "python",
   "name": "python3"
  },
  "language_info": {
   "codemirror_mode": {
    "name": "ipython",
    "version": 3
   },
   "file_extension": ".py",
   "mimetype": "text/x-python",
   "name": "python",
   "nbconvert_exporter": "python",
   "pygments_lexer": "ipython3",
   "version": "3.9.7"
  }
 },
 "nbformat": 4,
 "nbformat_minor": 5
}
