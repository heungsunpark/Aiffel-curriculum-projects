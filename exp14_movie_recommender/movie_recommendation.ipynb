{
 "cells": [
  {
   "cell_type": "markdown",
   "metadata": {},
   "source": [
    "# 프로젝트 - Movielens 영화 추천 실습\n",
    "- 이전 스텝에서 배운 MF 모델 학습 방법을 토대로, 내가 좋아할 만한 영화 추천 시스템을 제작해 보겠습니다.\n",
    "\n",
    "- 이번에 활용할 데이터셋은 추천 시스템의 MNIST라고 부를만한 **Movielens 데이터**입니다.\n",
    "<br>\n",
    "- 유저가 영화에 대해 평점을 매긴 데이터가 데이터 크기별로 있습니다. MovieLens 1M Dataset 사용을 권장합니다.\n",
    "  - 별점 데이터는 대표적인 explicit 데이터입니다. 하지만 **implicit 데이터로 간주**하고 테스트해 볼 수 있습니다.\n",
    "  - **별점을 시청횟수로 해석**해서 생각하겠습니다.\n",
    "  - 또한 유저가 **3점 미만으로 준 데이터는 선호하지 않는다**고 가정하고 제외하겠습니다.<br>\n",
    "<br>\n",
    "- Cloud Storage에 미리 업로드된 ml-1m폴더 내 파일을 심볼릭 링크로 개인 storage에 연결해 줍니다.\n",
    "- Cloud shell에서 아래 명령어를 입력해 주세요."
   ]
  },
  {
   "cell_type": "markdown",
   "metadata": {},
   "source": [
    "- \\$ mkdir -p ~/aiffel/recommendata_iu/data/ml-1m\n",
    "- \\$ ln -s ~/data/ml-1m/* ~/aiffel/recommendata_iu/data/ml-1m"
   ]
  },
  {
   "cell_type": "markdown",
   "metadata": {},
   "source": [
    "### 1) 데이터 준비와 전처리\n",
    "- Movielens 데이터는 rating.dat 안에 이미 인덱싱까지 완료된 사용자-영화-평점 데이터가 깔끔하게 정리되어 있습니다."
   ]
  },
  {
   "cell_type": "code",
   "execution_count": 1,
   "metadata": {},
   "outputs": [
    {
     "data": {
      "text/html": [
       "<div>\n",
       "<style scoped>\n",
       "    .dataframe tbody tr th:only-of-type {\n",
       "        vertical-align: middle;\n",
       "    }\n",
       "\n",
       "    .dataframe tbody tr th {\n",
       "        vertical-align: top;\n",
       "    }\n",
       "\n",
       "    .dataframe thead th {\n",
       "        text-align: right;\n",
       "    }\n",
       "</style>\n",
       "<table border=\"1\" class=\"dataframe\">\n",
       "  <thead>\n",
       "    <tr style=\"text-align: right;\">\n",
       "      <th></th>\n",
       "      <th>user_id</th>\n",
       "      <th>movie_id</th>\n",
       "      <th>ratings</th>\n",
       "      <th>timestamp</th>\n",
       "    </tr>\n",
       "  </thead>\n",
       "  <tbody>\n",
       "    <tr>\n",
       "      <th>0</th>\n",
       "      <td>1</td>\n",
       "      <td>1193</td>\n",
       "      <td>5</td>\n",
       "      <td>978300760</td>\n",
       "    </tr>\n",
       "    <tr>\n",
       "      <th>1</th>\n",
       "      <td>1</td>\n",
       "      <td>661</td>\n",
       "      <td>3</td>\n",
       "      <td>978302109</td>\n",
       "    </tr>\n",
       "    <tr>\n",
       "      <th>2</th>\n",
       "      <td>1</td>\n",
       "      <td>914</td>\n",
       "      <td>3</td>\n",
       "      <td>978301968</td>\n",
       "    </tr>\n",
       "    <tr>\n",
       "      <th>3</th>\n",
       "      <td>1</td>\n",
       "      <td>3408</td>\n",
       "      <td>4</td>\n",
       "      <td>978300275</td>\n",
       "    </tr>\n",
       "    <tr>\n",
       "      <th>4</th>\n",
       "      <td>1</td>\n",
       "      <td>2355</td>\n",
       "      <td>5</td>\n",
       "      <td>978824291</td>\n",
       "    </tr>\n",
       "  </tbody>\n",
       "</table>\n",
       "</div>"
      ],
      "text/plain": [
       "   user_id  movie_id  ratings  timestamp\n",
       "0        1      1193        5  978300760\n",
       "1        1       661        3  978302109\n",
       "2        1       914        3  978301968\n",
       "3        1      3408        4  978300275\n",
       "4        1      2355        5  978824291"
      ]
     },
     "execution_count": 1,
     "metadata": {},
     "output_type": "execute_result"
    }
   ],
   "source": [
    "import pandas as pd\n",
    "import os\n",
    "\n",
    "rating_file_path=os.getenv('HOME') + '/aiffel/recommendata_iu/data/ml-1m/ratings.dat'\n",
    "ratings_cols = ['user_id', 'movie_id', 'ratings', 'timestamp']\n",
    "ratings = pd.read_csv(rating_file_path, sep='::', names=ratings_cols, engine='python', encoding = \"ISO-8859-1\")\n",
    "orginal_data_size = len(ratings)\n",
    "ratings.head()"
   ]
  },
  {
   "cell_type": "code",
   "execution_count": 2,
   "metadata": {},
   "outputs": [
    {
     "name": "stdout",
     "output_type": "stream",
     "text": [
      "orginal_data_size: 1000209, filtered_data_size: 836478\n",
      "Ratio of Remaining Data is 83.63%\n"
     ]
    }
   ],
   "source": [
    "# 3점 이상만 남깁니다.\n",
    "ratings = ratings[ratings['ratings']>=3]\n",
    "filtered_data_size = len(ratings)\n",
    "\n",
    "print(f'orginal_data_size: {orginal_data_size}, filtered_data_size: {filtered_data_size}')\n",
    "print(f'Ratio of Remaining Data is {filtered_data_size / orginal_data_size:.2%}')"
   ]
  },
  {
   "cell_type": "code",
   "execution_count": 3,
   "metadata": {},
   "outputs": [],
   "source": [
    "# ratings 컬럼의 이름을 counts로 바꿉니다.\n",
    "ratings.rename(columns={'ratings':'counts'}, inplace=True)"
   ]
  },
  {
   "cell_type": "code",
   "execution_count": 4,
   "metadata": {},
   "outputs": [
    {
     "data": {
      "text/html": [
       "<div>\n",
       "<style scoped>\n",
       "    .dataframe tbody tr th:only-of-type {\n",
       "        vertical-align: middle;\n",
       "    }\n",
       "\n",
       "    .dataframe tbody tr th {\n",
       "        vertical-align: top;\n",
       "    }\n",
       "\n",
       "    .dataframe thead th {\n",
       "        text-align: right;\n",
       "    }\n",
       "</style>\n",
       "<table border=\"1\" class=\"dataframe\">\n",
       "  <thead>\n",
       "    <tr style=\"text-align: right;\">\n",
       "      <th></th>\n",
       "      <th>movie_id</th>\n",
       "      <th>title</th>\n",
       "      <th>genre</th>\n",
       "    </tr>\n",
       "  </thead>\n",
       "  <tbody>\n",
       "    <tr>\n",
       "      <th>0</th>\n",
       "      <td>1</td>\n",
       "      <td>Toy Story (1995)</td>\n",
       "      <td>Animation|Children's|Comedy</td>\n",
       "    </tr>\n",
       "    <tr>\n",
       "      <th>1</th>\n",
       "      <td>2</td>\n",
       "      <td>Jumanji (1995)</td>\n",
       "      <td>Adventure|Children's|Fantasy</td>\n",
       "    </tr>\n",
       "    <tr>\n",
       "      <th>2</th>\n",
       "      <td>3</td>\n",
       "      <td>Grumpier Old Men (1995)</td>\n",
       "      <td>Comedy|Romance</td>\n",
       "    </tr>\n",
       "    <tr>\n",
       "      <th>3</th>\n",
       "      <td>4</td>\n",
       "      <td>Waiting to Exhale (1995)</td>\n",
       "      <td>Comedy|Drama</td>\n",
       "    </tr>\n",
       "    <tr>\n",
       "      <th>4</th>\n",
       "      <td>5</td>\n",
       "      <td>Father of the Bride Part II (1995)</td>\n",
       "      <td>Comedy</td>\n",
       "    </tr>\n",
       "  </tbody>\n",
       "</table>\n",
       "</div>"
      ],
      "text/plain": [
       "   movie_id                               title                         genre\n",
       "0         1                    Toy Story (1995)   Animation|Children's|Comedy\n",
       "1         2                      Jumanji (1995)  Adventure|Children's|Fantasy\n",
       "2         3             Grumpier Old Men (1995)                Comedy|Romance\n",
       "3         4            Waiting to Exhale (1995)                  Comedy|Drama\n",
       "4         5  Father of the Bride Part II (1995)                        Comedy"
      ]
     },
     "execution_count": 4,
     "metadata": {},
     "output_type": "execute_result"
    }
   ],
   "source": [
    "# 영화 제목을 보기 위해 메타 데이터를 읽어옵니다.\n",
    "movie_file_path=os.getenv('HOME') + '/aiffel/recommendata_iu/data/ml-1m/movies.dat'\n",
    "cols = ['movie_id', 'title', 'genre'] \n",
    "movies = pd.read_csv(movie_file_path, sep='::', names=cols, engine='python', encoding='ISO-8859-1')\n",
    "movies.head()"
   ]
  },
  {
   "cell_type": "markdown",
   "metadata": {},
   "source": [
    "- 여기까지가 전처리입니다. 이후에는 이전 스텝에 소개했던 것과 동일한 방식으로 MF model을 구성하여 내가 좋아할 만한 영화를 추천해 볼 수 있습니다."
   ]
  },
  {
   "cell_type": "code",
   "execution_count": 5,
   "metadata": {},
   "outputs": [
    {
     "data": {
      "text/html": [
       "<div>\n",
       "<style scoped>\n",
       "    .dataframe tbody tr th:only-of-type {\n",
       "        vertical-align: middle;\n",
       "    }\n",
       "\n",
       "    .dataframe tbody tr th {\n",
       "        vertical-align: top;\n",
       "    }\n",
       "\n",
       "    .dataframe thead th {\n",
       "        text-align: right;\n",
       "    }\n",
       "</style>\n",
       "<table border=\"1\" class=\"dataframe\">\n",
       "  <thead>\n",
       "    <tr style=\"text-align: right;\">\n",
       "      <th></th>\n",
       "      <th>movie_id</th>\n",
       "      <th>title</th>\n",
       "      <th>genre</th>\n",
       "    </tr>\n",
       "  </thead>\n",
       "  <tbody>\n",
       "    <tr>\n",
       "      <th>1175</th>\n",
       "      <td>1192</td>\n",
       "      <td>Paris Is Burning (1990)</td>\n",
       "      <td>Documentary</td>\n",
       "    </tr>\n",
       "    <tr>\n",
       "      <th>1176</th>\n",
       "      <td>1193</td>\n",
       "      <td>One Flew Over the Cuckoo's Nest (1975)</td>\n",
       "      <td>Drama</td>\n",
       "    </tr>\n",
       "    <tr>\n",
       "      <th>1177</th>\n",
       "      <td>1194</td>\n",
       "      <td>Up in Smoke (1978)</td>\n",
       "      <td>Comedy</td>\n",
       "    </tr>\n",
       "  </tbody>\n",
       "</table>\n",
       "</div>"
      ],
      "text/plain": [
       "      movie_id                                   title        genre\n",
       "1175      1192                 Paris Is Burning (1990)  Documentary\n",
       "1176      1193  One Flew Over the Cuckoo's Nest (1975)        Drama\n",
       "1177      1194                      Up in Smoke (1978)       Comedy"
      ]
     },
     "execution_count": 5,
     "metadata": {},
     "output_type": "execute_result"
    }
   ],
   "source": [
    "movies.loc[1175:1177]"
   ]
  },
  {
   "cell_type": "markdown",
   "metadata": {},
   "source": [
    "<span style = \"color:blue; font-weight:bold;  font-size:25px\">[[ your code 시작]]</span>"
   ]
  },
  {
   "cell_type": "markdown",
   "metadata": {},
   "source": [
    "- 영화 제목 확인을 위해 데이터프레임 ratings와 movies를 합침\n",
    "  - pd.merge(): 두 데이터의 공통 열이름(movie_id)을 기준으로 inner(교집합) 조인"
   ]
  },
  {
   "cell_type": "code",
   "execution_count": 6,
   "metadata": {},
   "outputs": [],
   "source": [
    "data = pd.merge(ratings, movies)"
   ]
  },
  {
   "cell_type": "code",
   "execution_count": 7,
   "metadata": {},
   "outputs": [
    {
     "data": {
      "text/html": [
       "<div>\n",
       "<style scoped>\n",
       "    .dataframe tbody tr th:only-of-type {\n",
       "        vertical-align: middle;\n",
       "    }\n",
       "\n",
       "    .dataframe tbody tr th {\n",
       "        vertical-align: top;\n",
       "    }\n",
       "\n",
       "    .dataframe thead th {\n",
       "        text-align: right;\n",
       "    }\n",
       "</style>\n",
       "<table border=\"1\" class=\"dataframe\">\n",
       "  <thead>\n",
       "    <tr style=\"text-align: right;\">\n",
       "      <th></th>\n",
       "      <th>user_id</th>\n",
       "      <th>movie_id</th>\n",
       "      <th>counts</th>\n",
       "      <th>timestamp</th>\n",
       "      <th>title</th>\n",
       "      <th>genre</th>\n",
       "    </tr>\n",
       "  </thead>\n",
       "  <tbody>\n",
       "    <tr>\n",
       "      <th>0</th>\n",
       "      <td>1</td>\n",
       "      <td>1193</td>\n",
       "      <td>5</td>\n",
       "      <td>978300760</td>\n",
       "      <td>One Flew Over the Cuckoo's Nest (1975)</td>\n",
       "      <td>Drama</td>\n",
       "    </tr>\n",
       "    <tr>\n",
       "      <th>1</th>\n",
       "      <td>2</td>\n",
       "      <td>1193</td>\n",
       "      <td>5</td>\n",
       "      <td>978298413</td>\n",
       "      <td>One Flew Over the Cuckoo's Nest (1975)</td>\n",
       "      <td>Drama</td>\n",
       "    </tr>\n",
       "    <tr>\n",
       "      <th>2</th>\n",
       "      <td>12</td>\n",
       "      <td>1193</td>\n",
       "      <td>4</td>\n",
       "      <td>978220179</td>\n",
       "      <td>One Flew Over the Cuckoo's Nest (1975)</td>\n",
       "      <td>Drama</td>\n",
       "    </tr>\n",
       "  </tbody>\n",
       "</table>\n",
       "</div>"
      ],
      "text/plain": [
       "   user_id  movie_id  counts  timestamp  \\\n",
       "0        1      1193       5  978300760   \n",
       "1        2      1193       5  978298413   \n",
       "2       12      1193       4  978220179   \n",
       "\n",
       "                                    title  genre  \n",
       "0  One Flew Over the Cuckoo's Nest (1975)  Drama  \n",
       "1  One Flew Over the Cuckoo's Nest (1975)  Drama  \n",
       "2  One Flew Over the Cuckoo's Nest (1975)  Drama  "
      ]
     },
     "execution_count": 7,
     "metadata": {},
     "output_type": "execute_result"
    }
   ],
   "source": [
    "# merge한 데이터 확인\n",
    "data.head(3)"
   ]
  },
  {
   "cell_type": "code",
   "execution_count": 8,
   "metadata": {},
   "outputs": [
    {
     "data": {
      "text/plain": [
       "Index(['user_id', 'movie_id', 'counts', 'timestamp', 'title', 'genre'], dtype='object')"
      ]
     },
     "execution_count": 8,
     "metadata": {},
     "output_type": "execute_result"
    }
   ],
   "source": [
    "data.columns # 컬럼명 확인"
   ]
  },
  {
   "cell_type": "markdown",
   "metadata": {},
   "source": [
    "- 사용할 컬럼만 남기고 제거"
   ]
  },
  {
   "cell_type": "code",
   "execution_count": 9,
   "metadata": {},
   "outputs": [
    {
     "data": {
      "text/html": [
       "<div>\n",
       "<style scoped>\n",
       "    .dataframe tbody tr th:only-of-type {\n",
       "        vertical-align: middle;\n",
       "    }\n",
       "\n",
       "    .dataframe tbody tr th {\n",
       "        vertical-align: top;\n",
       "    }\n",
       "\n",
       "    .dataframe thead th {\n",
       "        text-align: right;\n",
       "    }\n",
       "</style>\n",
       "<table border=\"1\" class=\"dataframe\">\n",
       "  <thead>\n",
       "    <tr style=\"text-align: right;\">\n",
       "      <th></th>\n",
       "      <th>user_id</th>\n",
       "      <th>title</th>\n",
       "      <th>counts</th>\n",
       "    </tr>\n",
       "  </thead>\n",
       "  <tbody>\n",
       "    <tr>\n",
       "      <th>0</th>\n",
       "      <td>1</td>\n",
       "      <td>One Flew Over the Cuckoo's Nest (1975)</td>\n",
       "      <td>5</td>\n",
       "    </tr>\n",
       "    <tr>\n",
       "      <th>1</th>\n",
       "      <td>2</td>\n",
       "      <td>One Flew Over the Cuckoo's Nest (1975)</td>\n",
       "      <td>5</td>\n",
       "    </tr>\n",
       "    <tr>\n",
       "      <th>2</th>\n",
       "      <td>12</td>\n",
       "      <td>One Flew Over the Cuckoo's Nest (1975)</td>\n",
       "      <td>4</td>\n",
       "    </tr>\n",
       "  </tbody>\n",
       "</table>\n",
       "</div>"
      ],
      "text/plain": [
       "   user_id                                   title  counts\n",
       "0        1  One Flew Over the Cuckoo's Nest (1975)       5\n",
       "1        2  One Flew Over the Cuckoo's Nest (1975)       5\n",
       "2       12  One Flew Over the Cuckoo's Nest (1975)       4"
      ]
     },
     "execution_count": 9,
     "metadata": {},
     "output_type": "execute_result"
    }
   ],
   "source": [
    "# 사용하는 컬럼만 남겨줍니다.\n",
    "using_cols = ['user_id', 'title', 'counts']\n",
    "data = data[using_cols]\n",
    "data.head(3)"
   ]
  },
  {
   "cell_type": "markdown",
   "metadata": {},
   "source": [
    "- 검색을 쉽게 하기 위해 title 문자열을 소문자로 바꿈"
   ]
  },
  {
   "cell_type": "code",
   "execution_count": 10,
   "metadata": {},
   "outputs": [
    {
     "data": {
      "text/html": [
       "<div>\n",
       "<style scoped>\n",
       "    .dataframe tbody tr th:only-of-type {\n",
       "        vertical-align: middle;\n",
       "    }\n",
       "\n",
       "    .dataframe tbody tr th {\n",
       "        vertical-align: top;\n",
       "    }\n",
       "\n",
       "    .dataframe thead th {\n",
       "        text-align: right;\n",
       "    }\n",
       "</style>\n",
       "<table border=\"1\" class=\"dataframe\">\n",
       "  <thead>\n",
       "    <tr style=\"text-align: right;\">\n",
       "      <th></th>\n",
       "      <th>user_id</th>\n",
       "      <th>title</th>\n",
       "      <th>counts</th>\n",
       "    </tr>\n",
       "  </thead>\n",
       "  <tbody>\n",
       "    <tr>\n",
       "      <th>0</th>\n",
       "      <td>1</td>\n",
       "      <td>one flew over the cuckoo's nest (1975)</td>\n",
       "      <td>5</td>\n",
       "    </tr>\n",
       "    <tr>\n",
       "      <th>1</th>\n",
       "      <td>2</td>\n",
       "      <td>one flew over the cuckoo's nest (1975)</td>\n",
       "      <td>5</td>\n",
       "    </tr>\n",
       "    <tr>\n",
       "      <th>2</th>\n",
       "      <td>12</td>\n",
       "      <td>one flew over the cuckoo's nest (1975)</td>\n",
       "      <td>4</td>\n",
       "    </tr>\n",
       "  </tbody>\n",
       "</table>\n",
       "</div>"
      ],
      "text/plain": [
       "   user_id                                   title  counts\n",
       "0        1  one flew over the cuckoo's nest (1975)       5\n",
       "1        2  one flew over the cuckoo's nest (1975)       5\n",
       "2       12  one flew over the cuckoo's nest (1975)       4"
      ]
     },
     "execution_count": 10,
     "metadata": {},
     "output_type": "execute_result"
    }
   ],
   "source": [
    "data['title'] = data['title'].str.lower() # 검색을 쉽게 하기 위해 아티스트 문자열을 소문자로 바꿔줍시다.\n",
    "data.head(3)"
   ]
  },
  {
   "cell_type": "markdown",
   "metadata": {},
   "source": [
    "- 첫 번째 유저가 어떤 영화를 보는 지 확인\n",
    "  - <span style=\"color:blue\">[코드 확인] 행 조회: data.loc[행]; 열 조회: data.loc[행, 열]</span>\n",
    "  - 첫 번째 유저의 user_id = data.loc[0, 'user_id'])"
   ]
  },
  {
   "cell_type": "code",
   "execution_count": 11,
   "metadata": {},
   "outputs": [
    {
     "data": {
      "text/html": [
       "<div>\n",
       "<style scoped>\n",
       "    .dataframe tbody tr th:only-of-type {\n",
       "        vertical-align: middle;\n",
       "    }\n",
       "\n",
       "    .dataframe tbody tr th {\n",
       "        vertical-align: top;\n",
       "    }\n",
       "\n",
       "    .dataframe thead th {\n",
       "        text-align: right;\n",
       "    }\n",
       "</style>\n",
       "<table border=\"1\" class=\"dataframe\">\n",
       "  <thead>\n",
       "    <tr style=\"text-align: right;\">\n",
       "      <th></th>\n",
       "      <th>user_id</th>\n",
       "      <th>title</th>\n",
       "      <th>counts</th>\n",
       "    </tr>\n",
       "  </thead>\n",
       "  <tbody>\n",
       "    <tr>\n",
       "      <th>0</th>\n",
       "      <td>1</td>\n",
       "      <td>one flew over the cuckoo's nest (1975)</td>\n",
       "      <td>5</td>\n",
       "    </tr>\n",
       "    <tr>\n",
       "      <th>1680</th>\n",
       "      <td>1</td>\n",
       "      <td>james and the giant peach (1996)</td>\n",
       "      <td>3</td>\n",
       "    </tr>\n",
       "    <tr>\n",
       "      <th>2123</th>\n",
       "      <td>1</td>\n",
       "      <td>my fair lady (1964)</td>\n",
       "      <td>3</td>\n",
       "    </tr>\n",
       "    <tr>\n",
       "      <th>2734</th>\n",
       "      <td>1</td>\n",
       "      <td>erin brockovich (2000)</td>\n",
       "      <td>4</td>\n",
       "    </tr>\n",
       "    <tr>\n",
       "      <th>3957</th>\n",
       "      <td>1</td>\n",
       "      <td>bug's life, a (1998)</td>\n",
       "      <td>5</td>\n",
       "    </tr>\n",
       "    <tr>\n",
       "      <th>5556</th>\n",
       "      <td>1</td>\n",
       "      <td>princess bride, the (1987)</td>\n",
       "      <td>3</td>\n",
       "    </tr>\n",
       "    <tr>\n",
       "      <th>7808</th>\n",
       "      <td>1</td>\n",
       "      <td>ben-hur (1959)</td>\n",
       "      <td>5</td>\n",
       "    </tr>\n",
       "    <tr>\n",
       "      <th>8474</th>\n",
       "      <td>1</td>\n",
       "      <td>christmas story, a (1983)</td>\n",
       "      <td>5</td>\n",
       "    </tr>\n",
       "    <tr>\n",
       "      <th>9764</th>\n",
       "      <td>1</td>\n",
       "      <td>snow white and the seven dwarfs (1937)</td>\n",
       "      <td>4</td>\n",
       "    </tr>\n",
       "    <tr>\n",
       "      <th>10471</th>\n",
       "      <td>1</td>\n",
       "      <td>wizard of oz, the (1939)</td>\n",
       "      <td>4</td>\n",
       "    </tr>\n",
       "    <tr>\n",
       "      <th>12121</th>\n",
       "      <td>1</td>\n",
       "      <td>beauty and the beast (1991)</td>\n",
       "      <td>5</td>\n",
       "    </tr>\n",
       "    <tr>\n",
       "      <th>13081</th>\n",
       "      <td>1</td>\n",
       "      <td>gigi (1958)</td>\n",
       "      <td>4</td>\n",
       "    </tr>\n",
       "    <tr>\n",
       "      <th>13239</th>\n",
       "      <td>1</td>\n",
       "      <td>miracle on 34th street (1947)</td>\n",
       "      <td>4</td>\n",
       "    </tr>\n",
       "    <tr>\n",
       "      <th>13595</th>\n",
       "      <td>1</td>\n",
       "      <td>ferris bueller's day off (1986)</td>\n",
       "      <td>4</td>\n",
       "    </tr>\n",
       "    <tr>\n",
       "      <th>15006</th>\n",
       "      <td>1</td>\n",
       "      <td>sound of music, the (1965)</td>\n",
       "      <td>5</td>\n",
       "    </tr>\n",
       "    <tr>\n",
       "      <th>15782</th>\n",
       "      <td>1</td>\n",
       "      <td>airplane! (1980)</td>\n",
       "      <td>4</td>\n",
       "    </tr>\n",
       "    <tr>\n",
       "      <th>17368</th>\n",
       "      <td>1</td>\n",
       "      <td>tarzan (1999)</td>\n",
       "      <td>3</td>\n",
       "    </tr>\n",
       "    <tr>\n",
       "      <th>17757</th>\n",
       "      <td>1</td>\n",
       "      <td>bambi (1942)</td>\n",
       "      <td>4</td>\n",
       "    </tr>\n",
       "    <tr>\n",
       "      <th>18285</th>\n",
       "      <td>1</td>\n",
       "      <td>awakenings (1990)</td>\n",
       "      <td>5</td>\n",
       "    </tr>\n",
       "    <tr>\n",
       "      <th>18921</th>\n",
       "      <td>1</td>\n",
       "      <td>big (1988)</td>\n",
       "      <td>4</td>\n",
       "    </tr>\n",
       "    <tr>\n",
       "      <th>20307</th>\n",
       "      <td>1</td>\n",
       "      <td>pleasantville (1998)</td>\n",
       "      <td>3</td>\n",
       "    </tr>\n",
       "    <tr>\n",
       "      <th>21353</th>\n",
       "      <td>1</td>\n",
       "      <td>wallace &amp; gromit: the best of aardman animatio...</td>\n",
       "      <td>3</td>\n",
       "    </tr>\n",
       "    <tr>\n",
       "      <th>21777</th>\n",
       "      <td>1</td>\n",
       "      <td>back to the future (1985)</td>\n",
       "      <td>5</td>\n",
       "    </tr>\n",
       "    <tr>\n",
       "      <th>24237</th>\n",
       "      <td>1</td>\n",
       "      <td>schindler's list (1993)</td>\n",
       "      <td>5</td>\n",
       "    </tr>\n",
       "    <tr>\n",
       "      <th>26494</th>\n",
       "      <td>1</td>\n",
       "      <td>meet joe black (1998)</td>\n",
       "      <td>3</td>\n",
       "    </tr>\n",
       "    <tr>\n",
       "      <th>26760</th>\n",
       "      <td>1</td>\n",
       "      <td>pocahontas (1995)</td>\n",
       "      <td>5</td>\n",
       "    </tr>\n",
       "    <tr>\n",
       "      <th>27021</th>\n",
       "      <td>1</td>\n",
       "      <td>e.t. the extra-terrestrial (1982)</td>\n",
       "      <td>4</td>\n",
       "    </tr>\n",
       "    <tr>\n",
       "      <th>29123</th>\n",
       "      <td>1</td>\n",
       "      <td>titanic (1997)</td>\n",
       "      <td>4</td>\n",
       "    </tr>\n",
       "    <tr>\n",
       "      <th>30393</th>\n",
       "      <td>1</td>\n",
       "      <td>ponette (1996)</td>\n",
       "      <td>4</td>\n",
       "    </tr>\n",
       "    <tr>\n",
       "      <th>30461</th>\n",
       "      <td>1</td>\n",
       "      <td>close shave, a (1995)</td>\n",
       "      <td>3</td>\n",
       "    </tr>\n",
       "    <tr>\n",
       "      <th>31113</th>\n",
       "      <td>1</td>\n",
       "      <td>antz (1998)</td>\n",
       "      <td>4</td>\n",
       "    </tr>\n",
       "    <tr>\n",
       "      <th>31674</th>\n",
       "      <td>1</td>\n",
       "      <td>girl, interrupted (1999)</td>\n",
       "      <td>4</td>\n",
       "    </tr>\n",
       "    <tr>\n",
       "      <th>32044</th>\n",
       "      <td>1</td>\n",
       "      <td>hercules (1997)</td>\n",
       "      <td>4</td>\n",
       "    </tr>\n",
       "    <tr>\n",
       "      <th>32415</th>\n",
       "      <td>1</td>\n",
       "      <td>aladdin (1992)</td>\n",
       "      <td>4</td>\n",
       "    </tr>\n",
       "    <tr>\n",
       "      <th>33643</th>\n",
       "      <td>1</td>\n",
       "      <td>mulan (1998)</td>\n",
       "      <td>4</td>\n",
       "    </tr>\n",
       "    <tr>\n",
       "      <th>34086</th>\n",
       "      <td>1</td>\n",
       "      <td>hunchback of notre dame, the (1996)</td>\n",
       "      <td>4</td>\n",
       "    </tr>\n",
       "    <tr>\n",
       "      <th>34399</th>\n",
       "      <td>1</td>\n",
       "      <td>last days of disco, the (1998)</td>\n",
       "      <td>5</td>\n",
       "    </tr>\n",
       "    <tr>\n",
       "      <th>34497</th>\n",
       "      <td>1</td>\n",
       "      <td>cinderella (1950)</td>\n",
       "      <td>5</td>\n",
       "    </tr>\n",
       "    <tr>\n",
       "      <th>35022</th>\n",
       "      <td>1</td>\n",
       "      <td>sixth sense, the (1999)</td>\n",
       "      <td>4</td>\n",
       "    </tr>\n",
       "    <tr>\n",
       "      <th>37407</th>\n",
       "      <td>1</td>\n",
       "      <td>apollo 13 (1995)</td>\n",
       "      <td>5</td>\n",
       "    </tr>\n",
       "    <tr>\n",
       "      <th>38620</th>\n",
       "      <td>1</td>\n",
       "      <td>toy story (1995)</td>\n",
       "      <td>5</td>\n",
       "    </tr>\n",
       "    <tr>\n",
       "      <th>40620</th>\n",
       "      <td>1</td>\n",
       "      <td>rain man (1988)</td>\n",
       "      <td>5</td>\n",
       "    </tr>\n",
       "    <tr>\n",
       "      <th>41904</th>\n",
       "      <td>1</td>\n",
       "      <td>driving miss daisy (1989)</td>\n",
       "      <td>4</td>\n",
       "    </tr>\n",
       "    <tr>\n",
       "      <th>42515</th>\n",
       "      <td>1</td>\n",
       "      <td>run lola run (lola rennt) (1998)</td>\n",
       "      <td>4</td>\n",
       "    </tr>\n",
       "    <tr>\n",
       "      <th>43536</th>\n",
       "      <td>1</td>\n",
       "      <td>star wars: episode iv - a new hope (1977)</td>\n",
       "      <td>4</td>\n",
       "    </tr>\n",
       "    <tr>\n",
       "      <th>46446</th>\n",
       "      <td>1</td>\n",
       "      <td>mary poppins (1964)</td>\n",
       "      <td>5</td>\n",
       "    </tr>\n",
       "    <tr>\n",
       "      <th>47363</th>\n",
       "      <td>1</td>\n",
       "      <td>dumbo (1941)</td>\n",
       "      <td>5</td>\n",
       "    </tr>\n",
       "    <tr>\n",
       "      <th>47879</th>\n",
       "      <td>1</td>\n",
       "      <td>to kill a mockingbird (1962)</td>\n",
       "      <td>4</td>\n",
       "    </tr>\n",
       "    <tr>\n",
       "      <th>48786</th>\n",
       "      <td>1</td>\n",
       "      <td>saving private ryan (1998)</td>\n",
       "      <td>5</td>\n",
       "    </tr>\n",
       "    <tr>\n",
       "      <th>51347</th>\n",
       "      <td>1</td>\n",
       "      <td>secret garden, the (1993)</td>\n",
       "      <td>4</td>\n",
       "    </tr>\n",
       "    <tr>\n",
       "      <th>51656</th>\n",
       "      <td>1</td>\n",
       "      <td>toy story 2 (1999)</td>\n",
       "      <td>4</td>\n",
       "    </tr>\n",
       "    <tr>\n",
       "      <th>53172</th>\n",
       "      <td>1</td>\n",
       "      <td>fargo (1996)</td>\n",
       "      <td>4</td>\n",
       "    </tr>\n",
       "    <tr>\n",
       "      <th>55543</th>\n",
       "      <td>1</td>\n",
       "      <td>dead poets society (1989)</td>\n",
       "      <td>4</td>\n",
       "    </tr>\n",
       "  </tbody>\n",
       "</table>\n",
       "</div>"
      ],
      "text/plain": [
       "       user_id                                              title  counts\n",
       "0            1             one flew over the cuckoo's nest (1975)       5\n",
       "1680         1                   james and the giant peach (1996)       3\n",
       "2123         1                                my fair lady (1964)       3\n",
       "2734         1                             erin brockovich (2000)       4\n",
       "3957         1                               bug's life, a (1998)       5\n",
       "5556         1                         princess bride, the (1987)       3\n",
       "7808         1                                     ben-hur (1959)       5\n",
       "8474         1                          christmas story, a (1983)       5\n",
       "9764         1             snow white and the seven dwarfs (1937)       4\n",
       "10471        1                           wizard of oz, the (1939)       4\n",
       "12121        1                        beauty and the beast (1991)       5\n",
       "13081        1                                        gigi (1958)       4\n",
       "13239        1                      miracle on 34th street (1947)       4\n",
       "13595        1                    ferris bueller's day off (1986)       4\n",
       "15006        1                         sound of music, the (1965)       5\n",
       "15782        1                                   airplane! (1980)       4\n",
       "17368        1                                      tarzan (1999)       3\n",
       "17757        1                                       bambi (1942)       4\n",
       "18285        1                                  awakenings (1990)       5\n",
       "18921        1                                         big (1988)       4\n",
       "20307        1                               pleasantville (1998)       3\n",
       "21353        1  wallace & gromit: the best of aardman animatio...       3\n",
       "21777        1                          back to the future (1985)       5\n",
       "24237        1                            schindler's list (1993)       5\n",
       "26494        1                              meet joe black (1998)       3\n",
       "26760        1                                  pocahontas (1995)       5\n",
       "27021        1                  e.t. the extra-terrestrial (1982)       4\n",
       "29123        1                                     titanic (1997)       4\n",
       "30393        1                                     ponette (1996)       4\n",
       "30461        1                              close shave, a (1995)       3\n",
       "31113        1                                        antz (1998)       4\n",
       "31674        1                           girl, interrupted (1999)       4\n",
       "32044        1                                    hercules (1997)       4\n",
       "32415        1                                     aladdin (1992)       4\n",
       "33643        1                                       mulan (1998)       4\n",
       "34086        1                hunchback of notre dame, the (1996)       4\n",
       "34399        1                     last days of disco, the (1998)       5\n",
       "34497        1                                  cinderella (1950)       5\n",
       "35022        1                            sixth sense, the (1999)       4\n",
       "37407        1                                   apollo 13 (1995)       5\n",
       "38620        1                                   toy story (1995)       5\n",
       "40620        1                                    rain man (1988)       5\n",
       "41904        1                          driving miss daisy (1989)       4\n",
       "42515        1                   run lola run (lola rennt) (1998)       4\n",
       "43536        1          star wars: episode iv - a new hope (1977)       4\n",
       "46446        1                                mary poppins (1964)       5\n",
       "47363        1                                       dumbo (1941)       5\n",
       "47879        1                       to kill a mockingbird (1962)       4\n",
       "48786        1                         saving private ryan (1998)       5\n",
       "51347        1                          secret garden, the (1993)       4\n",
       "51656        1                                 toy story 2 (1999)       4\n",
       "53172        1                                       fargo (1996)       4\n",
       "55543        1                          dead poets society (1989)       4"
      ]
     },
     "execution_count": 11,
     "metadata": {},
     "output_type": "execute_result"
    }
   ],
   "source": [
    "condition = (data['user_id'] == data.loc[0, 'user_id'])\n",
    "data.loc[condition]"
   ]
  },
  {
   "cell_type": "markdown",
   "metadata": {},
   "source": [
    "- 다양한 영화들이 보임... 벤허, 죽은시인의 사회, 레인맨..."
   ]
  },
  {
   "cell_type": "markdown",
   "metadata": {},
   "source": [
    "- **<span style=\"color:blue\">내가 좋아하는 영화 찾기</span>**"
   ]
  },
  {
   "cell_type": "code",
   "execution_count": 12,
   "metadata": {},
   "outputs": [
    {
     "data": {
      "text/html": [
       "<div>\n",
       "<style scoped>\n",
       "    .dataframe tbody tr th:only-of-type {\n",
       "        vertical-align: middle;\n",
       "    }\n",
       "\n",
       "    .dataframe tbody tr th {\n",
       "        vertical-align: top;\n",
       "    }\n",
       "\n",
       "    .dataframe thead th {\n",
       "        text-align: right;\n",
       "    }\n",
       "</style>\n",
       "<table border=\"1\" class=\"dataframe\">\n",
       "  <thead>\n",
       "    <tr style=\"text-align: right;\">\n",
       "      <th></th>\n",
       "      <th>user_id</th>\n",
       "      <th>title</th>\n",
       "      <th>counts</th>\n",
       "    </tr>\n",
       "  </thead>\n",
       "  <tbody>\n",
       "    <tr>\n",
       "      <th>60339</th>\n",
       "      <td>2</td>\n",
       "      <td>few good men, a (1992)</td>\n",
       "      <td>5</td>\n",
       "    </tr>\n",
       "  </tbody>\n",
       "</table>\n",
       "</div>"
      ],
      "text/plain": [
       "       user_id                   title  counts\n",
       "60339        2  few good men, a (1992)       5"
      ]
     },
     "execution_count": 12,
     "metadata": {},
     "output_type": "execute_result"
    }
   ],
   "source": [
    "select = data.query('title.str.contains(\"few good\")') ## df.query(조건식 문자열)\n",
    "select.head(1)"
   ]
  },
  {
   "cell_type": "code",
   "execution_count": 13,
   "metadata": {},
   "outputs": [
    {
     "data": {
      "text/html": [
       "<div>\n",
       "<style scoped>\n",
       "    .dataframe tbody tr th:only-of-type {\n",
       "        vertical-align: middle;\n",
       "    }\n",
       "\n",
       "    .dataframe tbody tr th {\n",
       "        vertical-align: top;\n",
       "    }\n",
       "\n",
       "    .dataframe thead th {\n",
       "        text-align: right;\n",
       "    }\n",
       "</style>\n",
       "<table border=\"1\" class=\"dataframe\">\n",
       "  <thead>\n",
       "    <tr style=\"text-align: right;\">\n",
       "      <th></th>\n",
       "      <th>user_id</th>\n",
       "      <th>title</th>\n",
       "      <th>counts</th>\n",
       "    </tr>\n",
       "  </thead>\n",
       "  <tbody>\n",
       "    <tr>\n",
       "      <th>264335</th>\n",
       "      <td>6</td>\n",
       "      <td>top gun (1986)</td>\n",
       "      <td>4</td>\n",
       "    </tr>\n",
       "  </tbody>\n",
       "</table>\n",
       "</div>"
      ],
      "text/plain": [
       "        user_id           title  counts\n",
       "264335        6  top gun (1986)       4"
      ]
     },
     "execution_count": 13,
     "metadata": {},
     "output_type": "execute_result"
    }
   ],
   "source": [
    "select = data.query('title.str.contains(\"top gun\")') ## df.query(조건식 문자열)\n",
    "select.head(1)"
   ]
  },
  {
   "cell_type": "code",
   "execution_count": 14,
   "metadata": {},
   "outputs": [
    {
     "data": {
      "text/html": [
       "<div>\n",
       "<style scoped>\n",
       "    .dataframe tbody tr th:only-of-type {\n",
       "        vertical-align: middle;\n",
       "    }\n",
       "\n",
       "    .dataframe tbody tr th {\n",
       "        vertical-align: top;\n",
       "    }\n",
       "\n",
       "    .dataframe thead th {\n",
       "        text-align: right;\n",
       "    }\n",
       "</style>\n",
       "<table border=\"1\" class=\"dataframe\">\n",
       "  <thead>\n",
       "    <tr style=\"text-align: right;\">\n",
       "      <th></th>\n",
       "      <th>user_id</th>\n",
       "      <th>title</th>\n",
       "      <th>counts</th>\n",
       "    </tr>\n",
       "  </thead>\n",
       "  <tbody>\n",
       "    <tr>\n",
       "      <th>59058</th>\n",
       "      <td>2</td>\n",
       "      <td>mission: impossible (1996)</td>\n",
       "      <td>4</td>\n",
       "    </tr>\n",
       "  </tbody>\n",
       "</table>\n",
       "</div>"
      ],
      "text/plain": [
       "       user_id                       title  counts\n",
       "59058        2  mission: impossible (1996)       4"
      ]
     },
     "execution_count": 14,
     "metadata": {},
     "output_type": "execute_result"
    }
   ],
   "source": [
    "select = data.query('title.str.contains(\"mission\")') ## df.query(조건식 문자열)\n",
    "select.head(1)"
   ]
  },
  {
   "cell_type": "code",
   "execution_count": 15,
   "metadata": {},
   "outputs": [
    {
     "data": {
      "text/html": [
       "<div>\n",
       "<style scoped>\n",
       "    .dataframe tbody tr th:only-of-type {\n",
       "        vertical-align: middle;\n",
       "    }\n",
       "\n",
       "    .dataframe tbody tr th {\n",
       "        vertical-align: top;\n",
       "    }\n",
       "\n",
       "    .dataframe thead th {\n",
       "        text-align: right;\n",
       "    }\n",
       "</style>\n",
       "<table border=\"1\" class=\"dataframe\">\n",
       "  <thead>\n",
       "    <tr style=\"text-align: right;\">\n",
       "      <th></th>\n",
       "      <th>user_id</th>\n",
       "      <th>title</th>\n",
       "      <th>counts</th>\n",
       "    </tr>\n",
       "  </thead>\n",
       "  <tbody>\n",
       "    <tr>\n",
       "      <th>40620</th>\n",
       "      <td>1</td>\n",
       "      <td>rain man (1988)</td>\n",
       "      <td>5</td>\n",
       "    </tr>\n",
       "  </tbody>\n",
       "</table>\n",
       "</div>"
      ],
      "text/plain": [
       "       user_id            title  counts\n",
       "40620        1  rain man (1988)       5"
      ]
     },
     "execution_count": 15,
     "metadata": {},
     "output_type": "execute_result"
    }
   ],
   "source": [
    "select = data.query('title.str.contains(\"rain\")') ## df.query(조건식 문자열)\n",
    "select.head(1)"
   ]
  },
  {
   "cell_type": "code",
   "execution_count": 16,
   "metadata": {},
   "outputs": [
    {
     "data": {
      "text/html": [
       "<div>\n",
       "<style scoped>\n",
       "    .dataframe tbody tr th:only-of-type {\n",
       "        vertical-align: middle;\n",
       "    }\n",
       "\n",
       "    .dataframe tbody tr th {\n",
       "        vertical-align: top;\n",
       "    }\n",
       "\n",
       "    .dataframe thead th {\n",
       "        text-align: right;\n",
       "    }\n",
       "</style>\n",
       "<table border=\"1\" class=\"dataframe\">\n",
       "  <thead>\n",
       "    <tr style=\"text-align: right;\">\n",
       "      <th></th>\n",
       "      <th>user_id</th>\n",
       "      <th>title</th>\n",
       "      <th>counts</th>\n",
       "    </tr>\n",
       "  </thead>\n",
       "  <tbody>\n",
       "    <tr>\n",
       "      <th>304671</th>\n",
       "      <td>8</td>\n",
       "      <td>crimson tide (1995)</td>\n",
       "      <td>3</td>\n",
       "    </tr>\n",
       "  </tbody>\n",
       "</table>\n",
       "</div>"
      ],
      "text/plain": [
       "        user_id                title  counts\n",
       "304671        8  crimson tide (1995)       3"
      ]
     },
     "execution_count": 16,
     "metadata": {},
     "output_type": "execute_result"
    }
   ],
   "source": [
    "select = data.query('title.str.contains(\"crimson\")') ## df.query(조건식 문자열)\n",
    "select.head(1)"
   ]
  },
  {
   "cell_type": "markdown",
   "metadata": {},
   "source": [
    "### 2) 분석해 봅시다.\n",
    "- ratings에 있는 유니크한 영화 개수\n",
    "- ratings에 있는 유니크한 사용자 수\n",
    "- 가장 인기 있는 영화 30개(인기순)"
   ]
  },
  {
   "cell_type": "code",
   "execution_count": 17,
   "metadata": {},
   "outputs": [
    {
     "data": {
      "text/plain": [
       "3628"
      ]
     },
     "execution_count": 17,
     "metadata": {},
     "output_type": "execute_result"
    }
   ],
   "source": [
    "# 유니크한 영화 개수\n",
    "data['title'].nunique()"
   ]
  },
  {
   "cell_type": "code",
   "execution_count": 18,
   "metadata": {},
   "outputs": [
    {
     "data": {
      "text/plain": [
       "6039"
      ]
     },
     "execution_count": 18,
     "metadata": {},
     "output_type": "execute_result"
    }
   ],
   "source": [
    "# 유니크한 사용자(유저) 수\n",
    "data['user_id'].nunique()"
   ]
  },
  {
   "cell_type": "markdown",
   "metadata": {},
   "source": [
    "- <span style=\"color:blue\">[코드 설명] data['user-id']를 'title'별로 집계한 후 숫자(count())를 구해라</span>\n",
    "  - 각 영화는 몇 명의 유저를 가지고 있는가...의 의미 (중복 허용)"
   ]
  },
  {
   "cell_type": "code",
   "execution_count": 19,
   "metadata": {},
   "outputs": [
    {
     "data": {
      "text/plain": [
       "title\n",
       "american beauty (1999)                                   3211\n",
       "star wars: episode iv - a new hope (1977)                2910\n",
       "star wars: episode v - the empire strikes back (1980)    2885\n",
       "star wars: episode vi - return of the jedi (1983)        2716\n",
       "saving private ryan (1998)                               2561\n",
       "terminator 2: judgment day (1991)                        2509\n",
       "silence of the lambs, the (1991)                         2498\n",
       "raiders of the lost ark (1981)                           2473\n",
       "back to the future (1985)                                2460\n",
       "matrix, the (1999)                                       2434\n",
       "jurassic park (1993)                                     2413\n",
       "sixth sense, the (1999)                                  2385\n",
       "fargo (1996)                                             2371\n",
       "braveheart (1995)                                        2314\n",
       "men in black (1997)                                      2297\n",
       "schindler's list (1993)                                  2257\n",
       "princess bride, the (1987)                               2252\n",
       "shakespeare in love (1998)                               2213\n",
       "l.a. confidential (1997)                                 2210\n",
       "shawshank redemption, the (1994)                         2194\n",
       "godfather, the (1972)                                    2167\n",
       "groundhog day (1993)                                     2121\n",
       "e.t. the extra-terrestrial (1982)                        2102\n",
       "being john malkovich (1999)                              2066\n",
       "ghostbusters (1984)                                      2051\n",
       "pulp fiction (1994)                                      2030\n",
       "forrest gump (1994)                                      2022\n",
       "terminator, the (1984)                                   2019\n",
       "toy story (1995)                                         2000\n",
       "fugitive, the (1993)                                     1941\n",
       "Name: user_id, dtype: int64"
      ]
     },
     "execution_count": 19,
     "metadata": {},
     "output_type": "execute_result"
    }
   ],
   "source": [
    "# 가장 인기 있는 영화 30개(인기순)\n",
    "movie_count = data.groupby('title')['user_id'].count()\n",
    "movie_count.sort_values(ascending=False).head(30)"
   ]
  },
  {
   "cell_type": "markdown",
   "metadata": {},
   "source": [
    "- <span style=\"color:blue\">[코드 설명] data['title']을 'user-id'별로 집계한 후 숫자(count())를 구해라</span>\n",
    "  - 각 유저는 몇 편의 영화를 보는가? ...의 의미"
   ]
  },
  {
   "cell_type": "code",
   "execution_count": 20,
   "metadata": {},
   "outputs": [
    {
     "data": {
      "text/plain": [
       "count    6039.000000\n",
       "mean      138.512668\n",
       "std       156.241599\n",
       "min         1.000000\n",
       "25%        38.000000\n",
       "50%        81.000000\n",
       "75%       177.000000\n",
       "max      1968.000000\n",
       "Name: title, dtype: float64"
      ]
     },
     "execution_count": 20,
     "metadata": {},
     "output_type": "execute_result"
    }
   ],
   "source": [
    "# 유저별 몇 편의 영화를 보고 있는 지에 대한 통계\n",
    "user_count = data.groupby('user_id')['title'].count()\n",
    "user_count.describe()"
   ]
  },
  {
   "cell_type": "markdown",
   "metadata": {},
   "source": [
    "### 3) 내가 선호하는 영화를 5가지 골라서 ratings에 추가해 줍시다.\n",
    "- 미션 임파서블, 어퓨굿맨, 크림슨타이드, 탑건, 쇼생크탈출 추가"
   ]
  },
  {
   "cell_type": "code",
   "execution_count": 21,
   "metadata": {},
   "outputs": [
    {
     "data": {
      "text/html": [
       "<div>\n",
       "<style scoped>\n",
       "    .dataframe tbody tr th:only-of-type {\n",
       "        vertical-align: middle;\n",
       "    }\n",
       "\n",
       "    .dataframe tbody tr th {\n",
       "        vertical-align: top;\n",
       "    }\n",
       "\n",
       "    .dataframe thead th {\n",
       "        text-align: right;\n",
       "    }\n",
       "</style>\n",
       "<table border=\"1\" class=\"dataframe\">\n",
       "  <thead>\n",
       "    <tr style=\"text-align: right;\">\n",
       "      <th></th>\n",
       "      <th>user_id</th>\n",
       "      <th>title</th>\n",
       "      <th>counts</th>\n",
       "    </tr>\n",
       "  </thead>\n",
       "  <tbody>\n",
       "    <tr>\n",
       "      <th>836473</th>\n",
       "      <td>5851</td>\n",
       "      <td>one little indian (1973)</td>\n",
       "      <td>5</td>\n",
       "    </tr>\n",
       "    <tr>\n",
       "      <th>836474</th>\n",
       "      <td>5854</td>\n",
       "      <td>slaughterhouse (1987)</td>\n",
       "      <td>4</td>\n",
       "    </tr>\n",
       "    <tr>\n",
       "      <th>836475</th>\n",
       "      <td>5854</td>\n",
       "      <td>promise, the (versprechen, das) (1994)</td>\n",
       "      <td>3</td>\n",
       "    </tr>\n",
       "    <tr>\n",
       "      <th>836476</th>\n",
       "      <td>5938</td>\n",
       "      <td>five wives, three secretaries and me (1998)</td>\n",
       "      <td>4</td>\n",
       "    </tr>\n",
       "    <tr>\n",
       "      <th>836477</th>\n",
       "      <td>5948</td>\n",
       "      <td>identification of a woman (identificazione di ...</td>\n",
       "      <td>5</td>\n",
       "    </tr>\n",
       "    <tr>\n",
       "      <th>0</th>\n",
       "      <td>me</td>\n",
       "      <td>mission: impossible (1996)</td>\n",
       "      <td>5</td>\n",
       "    </tr>\n",
       "    <tr>\n",
       "      <th>1</th>\n",
       "      <td>me</td>\n",
       "      <td>few good men, a (1992)</td>\n",
       "      <td>5</td>\n",
       "    </tr>\n",
       "    <tr>\n",
       "      <th>2</th>\n",
       "      <td>me</td>\n",
       "      <td>crimson tide (1995)</td>\n",
       "      <td>5</td>\n",
       "    </tr>\n",
       "    <tr>\n",
       "      <th>3</th>\n",
       "      <td>me</td>\n",
       "      <td>top gun (1986)</td>\n",
       "      <td>5</td>\n",
       "    </tr>\n",
       "    <tr>\n",
       "      <th>4</th>\n",
       "      <td>me</td>\n",
       "      <td>shawshank redemption, the (1994)</td>\n",
       "      <td>5</td>\n",
       "    </tr>\n",
       "  </tbody>\n",
       "</table>\n",
       "</div>"
      ],
      "text/plain": [
       "       user_id                                              title  counts\n",
       "836473    5851                           one little indian (1973)       5\n",
       "836474    5854                              slaughterhouse (1987)       4\n",
       "836475    5854             promise, the (versprechen, das) (1994)       3\n",
       "836476    5938        five wives, three secretaries and me (1998)       4\n",
       "836477    5948  identification of a woman (identificazione di ...       5\n",
       "0           me                         mission: impossible (1996)       5\n",
       "1           me                             few good men, a (1992)       5\n",
       "2           me                                crimson tide (1995)       5\n",
       "3           me                                     top gun (1986)       5\n",
       "4           me                   shawshank redemption, the (1994)       5"
      ]
     },
     "execution_count": 21,
     "metadata": {},
     "output_type": "execute_result"
    }
   ],
   "source": [
    "# 본인이 좋아하시는 아티스트 데이터로 바꿔서 추가하셔도 됩니다! 단, 이름은 꼭 데이터셋에 있는 것과 동일하게 맞춰주세요. \n",
    "my_favorite = ['mission: impossible (1996)', 'few good men, a (1992)', 'crimson tide (1995)', 'top gun (1986)', 'shawshank redemption, the (1994)']\n",
    "# 'me'이라는 user_id가 위 영화에 평점 5점으로 가정\n",
    "my_playlist = pd.DataFrame({'user_id': ['me']*5, 'title': my_favorite, 'counts':[5]*5})\n",
    "\n",
    "if not data.isin({'user_id':['me']})['user_id'].any():  # user_id에 'me'이라는 데이터가 없다면\n",
    "    data = data.append(my_playlist)                           # 위에 임의로 만든 my_favorite 데이터를 추가해 줍니다. \n",
    "\n",
    "data.tail(10)       # 잘 추가되었는지 확인해 봅시다."
   ]
  },
  {
   "cell_type": "markdown",
   "metadata": {},
   "source": [
    "### + 모델에 활용하기 위한 전처리\n",
    "- **user와 movie(title) 각각에 번호 붙이기** "
   ]
  },
  {
   "cell_type": "code",
   "execution_count": 22,
   "metadata": {},
   "outputs": [],
   "source": [
    "# 고유한 유저, 영화를 찾아내는 코드\n",
    "user_unique = data['user_id'].unique()\n",
    "movie_unique = data['title'].unique()\n",
    "\n",
    "# 유저, 영화 indexing 하는 코드\n",
    "user_to_idx = {v:k for k,v in enumerate(user_unique)}\n",
    "movie_to_idx = {v:k for k,v in enumerate(movie_unique)}"
   ]
  },
  {
   "cell_type": "code",
   "execution_count": 23,
   "metadata": {},
   "outputs": [
    {
     "name": "stdout",
     "output_type": "stream",
     "text": [
      "me:  6039\n",
      "paris is burning:  234\n",
      "a few good men:  59\n"
     ]
    }
   ],
   "source": [
    "# 인덱싱이 잘 되었는지 확인\n",
    "print(\"me: \", user_to_idx['me'])    # 6040명의 유저 중 마지막으로 추가된 유저이니 6039가 나와야 함 \n",
    "print(\"paris is burning: \", movie_to_idx['paris is burning (1990)'])\n",
    "print(\"a few good men: \", movie_to_idx['few good men, a (1992)'])"
   ]
  },
  {
   "cell_type": "markdown",
   "metadata": {},
   "source": [
    "- <span style=\"color:blue\">[코드 설명] df.map함수는 Series의 값 하나하나에 접근하면서 해당 함수를 수행</span>"
   ]
  },
  {
   "cell_type": "code",
   "execution_count": 24,
   "metadata": {},
   "outputs": [
    {
     "name": "stdout",
     "output_type": "stream",
     "text": [
      "836483\n",
      "836483\n",
      "user_id column indexing OK!!\n",
      "836483\n",
      "836483\n",
      "title column indexing OK!!\n"
     ]
    },
    {
     "data": {
      "text/html": [
       "<div>\n",
       "<style scoped>\n",
       "    .dataframe tbody tr th:only-of-type {\n",
       "        vertical-align: middle;\n",
       "    }\n",
       "\n",
       "    .dataframe tbody tr th {\n",
       "        vertical-align: top;\n",
       "    }\n",
       "\n",
       "    .dataframe thead th {\n",
       "        text-align: right;\n",
       "    }\n",
       "</style>\n",
       "<table border=\"1\" class=\"dataframe\">\n",
       "  <thead>\n",
       "    <tr style=\"text-align: right;\">\n",
       "      <th></th>\n",
       "      <th>user_id</th>\n",
       "      <th>title</th>\n",
       "      <th>counts</th>\n",
       "    </tr>\n",
       "  </thead>\n",
       "  <tbody>\n",
       "    <tr>\n",
       "      <th>0</th>\n",
       "      <td>0</td>\n",
       "      <td>0</td>\n",
       "      <td>5</td>\n",
       "    </tr>\n",
       "    <tr>\n",
       "      <th>1</th>\n",
       "      <td>1</td>\n",
       "      <td>0</td>\n",
       "      <td>5</td>\n",
       "    </tr>\n",
       "    <tr>\n",
       "      <th>2</th>\n",
       "      <td>2</td>\n",
       "      <td>0</td>\n",
       "      <td>4</td>\n",
       "    </tr>\n",
       "    <tr>\n",
       "      <th>3</th>\n",
       "      <td>3</td>\n",
       "      <td>0</td>\n",
       "      <td>4</td>\n",
       "    </tr>\n",
       "    <tr>\n",
       "      <th>4</th>\n",
       "      <td>4</td>\n",
       "      <td>0</td>\n",
       "      <td>5</td>\n",
       "    </tr>\n",
       "    <tr>\n",
       "      <th>...</th>\n",
       "      <td>...</td>\n",
       "      <td>...</td>\n",
       "      <td>...</td>\n",
       "    </tr>\n",
       "    <tr>\n",
       "      <th>0</th>\n",
       "      <td>6039</td>\n",
       "      <td>58</td>\n",
       "      <td>5</td>\n",
       "    </tr>\n",
       "    <tr>\n",
       "      <th>1</th>\n",
       "      <td>6039</td>\n",
       "      <td>59</td>\n",
       "      <td>5</td>\n",
       "    </tr>\n",
       "    <tr>\n",
       "      <th>2</th>\n",
       "      <td>6039</td>\n",
       "      <td>407</td>\n",
       "      <td>5</td>\n",
       "    </tr>\n",
       "    <tr>\n",
       "      <th>3</th>\n",
       "      <td>6039</td>\n",
       "      <td>326</td>\n",
       "      <td>5</td>\n",
       "    </tr>\n",
       "    <tr>\n",
       "      <th>4</th>\n",
       "      <td>6039</td>\n",
       "      <td>157</td>\n",
       "      <td>5</td>\n",
       "    </tr>\n",
       "  </tbody>\n",
       "</table>\n",
       "<p>836483 rows × 3 columns</p>\n",
       "</div>"
      ],
      "text/plain": [
       "    user_id  title  counts\n",
       "0         0      0       5\n",
       "1         1      0       5\n",
       "2         2      0       4\n",
       "3         3      0       4\n",
       "4         4      0       5\n",
       "..      ...    ...     ...\n",
       "0      6039     58       5\n",
       "1      6039     59       5\n",
       "2      6039    407       5\n",
       "3      6039    326       5\n",
       "4      6039    157       5\n",
       "\n",
       "[836483 rows x 3 columns]"
      ]
     },
     "execution_count": 24,
     "metadata": {},
     "output_type": "execute_result"
    }
   ],
   "source": [
    "# indexing을 통해 데이터 컬럼 내 값을 바꾸는 코드\n",
    "# dictionary 자료형의 get 함수는 https://wikidocs.net/16 을 참고하세요.\n",
    "\n",
    "# user_to_idx.get을 통해 user_id 컬럼의 모든 값을 인덱싱한 Series를 구해 봅시다. \n",
    "# 혹시 정상적으로 인덱싱되지 않은 row가 있다면 인덱스가 NaN이 될 테니 dropna()로 제거합니다. \n",
    "temp_user_data = data['user_id'].map(user_to_idx.get).dropna()\n",
    "print(len(temp_user_data))\n",
    "print(len(data))\n",
    "if len(temp_user_data) == len(data):   # 모든 row가 정상적으로 인덱싱되었다면\n",
    "    print('user_id column indexing OK!!')\n",
    "    data['user_id'] = temp_user_data   # data['user_id']을 인덱싱된 Series로 교체해 줍니다. \n",
    "else:\n",
    "    print('user_id column indexing Fail!!')\n",
    "\n",
    "# movie_to_idx을 통해 movie(title) 컬럼도 동일한 방식으로 인덱싱해 줍니다. \n",
    "temp_movie_data = data['title'].map(movie_to_idx.get).dropna()\n",
    "print(len(temp_user_data))\n",
    "print(len(data))\n",
    "if len(temp_movie_data) == len(data):\n",
    "    print('title column indexing OK!!')\n",
    "    data['title'] = temp_movie_data\n",
    "else:\n",
    "    print('title column indexing Fail!!')\n",
    "\n",
    "data"
   ]
  },
  {
   "cell_type": "markdown",
   "metadata": {},
   "source": [
    "- data의 user_id와 title 컬럼 값들이 모두 정수 인덱스 값으로 잘 변경 \n",
    "- 훈련을 위한 전처리 완료!"
   ]
  },
  {
   "cell_type": "markdown",
   "metadata": {},
   "source": [
    "### 4) CSR matrix를 직접 만들어 봅시다."
   ]
  },
  {
   "attachments": {
    "image.png": {
     "image/png": "[encoded data removed]"
    }
   },
   "cell_type": "markdown",
   "metadata": {},
   "source": [
    "![image.png](attachment:image.png)"
   ]
  },
  {
   "cell_type": "code",
   "execution_count": 25,
   "metadata": {},
   "outputs": [
    {
     "data": {
      "text/plain": [
       "<6040x3628 sparse matrix of type '<class 'numpy.int64'>'\n",
       "\twith 836483 stored elements in Compressed Sparse Row format>"
      ]
     },
     "execution_count": 25,
     "metadata": {},
     "output_type": "execute_result"
    }
   ],
   "source": [
    "# 실습 위에 설명보고 이해해서 만들어보기\n",
    "from scipy.sparse import csr_matrix\n",
    "\n",
    "num_user = data['user_id'].nunique()\n",
    "num_movie = data['title'].nunique()\n",
    "\n",
    "csr_data = csr_matrix((data.counts, (data.user_id, data.title)), shape= (num_user, num_movie))\n",
    "csr_data"
   ]
  },
  {
   "cell_type": "markdown",
   "metadata": {},
   "source": [
    "### 5) als_model = AlternatingLeastSquares 모델을 직접 구성하여 훈련시켜 봅시다."
   ]
  },
  {
   "cell_type": "code",
   "execution_count": 26,
   "metadata": {},
   "outputs": [],
   "source": [
    "from implicit.als import AlternatingLeastSquares\n",
    "import numpy as np\n",
    "\n",
    "# implicit 라이브러리에서 권장하고 있는 부분입니다. 학습 내용과는 무관합니다.\n",
    "os.environ['OPENBLAS_NUM_THREADS']='1'\n",
    "os.environ['KMP_DUPLICATE_LIB_OK']='True'\n",
    "os.environ['MKL_NUM_THREADS']='1'"
   ]
  },
  {
   "cell_type": "markdown",
   "metadata": {},
   "source": [
    "- AlternatingLeastSquares 클래스의 __init__ 파라미터를 살펴보겠습니다.\n",
    "\n",
    "  1. factors: 유저와 아이템의 벡터를 몇 차원으로 할 것인지\n",
    "  2. regularization: 과적합을 방지하기 위해 정규화 값을 얼마나 사용할 것인지\n",
    "  3. use_gpu: GPU를 사용할 것인지\n",
    "  4. iterations: epochs와 같은 의미입니다. 데이터를 몇 번 반복해서 학습할 것인지  \n",
    "     - 1과 4를 늘릴수록 학습 데이터를 잘 학습하게 되지만 과적합의 우려가 있으니 좋은 값을 찾아야 합니다."
   ]
  },
  {
   "cell_type": "markdown",
   "metadata": {},
   "source": [
    "- <span style=\"color:blue\">[**코드 설명**] 유저와 영화(아이템) 벡터를 100차원으로 지정. 즉, k = 100</span>\n",
    "  - <span style=\"color:blue\">유저(6040). 영화(3628)</span>\n",
    "  - <span style=\"color:blue\">유저 x 영화 평가행렬 = 6040 x 3628 ... Sparse matrix이므로 CSR(Compressed Sparse Row) martix로 저장</span>\n",
    "  - <span style=\"color:blue\">MF(Martix Factorization)를 사용해서 (6040 x 3628) = (6040 x 100) x (100 x 3628) = User x Item (movie) = U$_i$ x I$_j$ 로 표현</span>\n",
    "  - <span style=\"color:blue\">U$_i$와 I$_j$를 구하기 위해서 implicit 패키지의 als (Alternating Least Suares) 모델 사용</span>"
   ]
  },
  {
   "cell_type": "code",
   "execution_count": 27,
   "metadata": {},
   "outputs": [
    {
     "data": {
      "text/plain": [
       "<3628x6040 sparse matrix of type '<class 'numpy.int64'>'\n",
       "\twith 836483 stored elements in Compressed Sparse Column format>"
      ]
     },
     "execution_count": 27,
     "metadata": {},
     "output_type": "execute_result"
    }
   ],
   "source": [
    "# als 모델은 input으로 (item X user 꼴의 matrix를 받기 때문에 Transpose해줍니다.)\n",
    "csr_data_transpose = csr_data.T\n",
    "csr_data_transpose"
   ]
  },
  {
   "cell_type": "code",
   "execution_count": 28,
   "metadata": {},
   "outputs": [],
   "source": [
    "# Implicit AlternatingLeastSquares 모델의 선언\n",
    "\n",
    "# factors = 100으로 고정하고 최적 iterations값 찾기\n",
    "\n",
    "factors = 100\n",
    "#als_model = AlternatingLeastSquares(factors, regularization=0.01, use_gpu=False, iterations=10, dtype=np.float32)\n",
    "#als_model = AlternatingLeastSquares(factors, regularization=0.01, use_gpu=False, iterations=15, dtype=np.float32)\n",
    "als_model = AlternatingLeastSquares(factors, regularization=0.01, use_gpu=False, iterations=20, dtype=np.float32)\n",
    "#als_model = AlternatingLeastSquares(factors, regularization=0.01, use_gpu=False, iterations=30, dtype=np.float32)\n"
   ]
  },
  {
   "cell_type": "code",
   "execution_count": 29,
   "metadata": {},
   "outputs": [
    {
     "data": {
      "application/vnd.jupyter.widget-view+json": {
       "model_id": "15716a5c0c95448d835579eeb2d1b0b9",
       "version_major": 2,
       "version_minor": 0
      },
      "text/plain": [
       "  0%|          | 0/20 [00:00<?, ?it/s]"
      ]
     },
     "metadata": {},
     "output_type": "display_data"
    }
   ],
   "source": [
    "# 모델 훈련\n",
    "als_model.fit(csr_data_transpose)"
   ]
  },
  {
   "cell_type": "markdown",
   "metadata": {},
   "source": [
    "### 모델 학습 종료! 다음 두 가지 사항 확인:\n",
    "\n",
    "  1. me 벡터와 few good men, a (1992) 벡터를 어떻게 만들고 있는지\n",
    "  2. 두 벡터를 곱하면 어떤 값이 나오는지"
   ]
  },
  {
   "cell_type": "code",
   "execution_count": 30,
   "metadata": {},
   "outputs": [
    {
     "name": "stdout",
     "output_type": "stream",
     "text": [
      "슝=3\n"
     ]
    }
   ],
   "source": [
    "me, goodmen = user_to_idx['me'], movie_to_idx['few good men, a (1992)']\n",
    "me_vector, goodmen_vector = als_model.user_factors[me], als_model.item_factors[goodmen]\n",
    "\n",
    "print('슝=3')"
   ]
  },
  {
   "cell_type": "markdown",
   "metadata": {},
   "source": [
    "- <span style=\"color:blue\">[**코드 설명**] 유저행렬(U$_i$)과 아이템(영화)행렬(I$_j$)을 구했음</span>\n",
    "- <span style=\"color:blue\">U$_{me}$과 I$_{goodmen}$를 가지고 선호도(Rating)를 확인해 보자. '1'이 나와야 함</span>\n"
   ]
  },
  {
   "cell_type": "code",
   "execution_count": 31,
   "metadata": {},
   "outputs": [
    {
     "data": {
      "text/plain": [
       "array([-4.16171283e-01,  7.32810259e-01,  3.85676414e-01,  4.36218917e-01,\n",
       "       -6.07329071e-01, -1.25831559e-01, -2.27230906e-01, -1.77314892e-01,\n",
       "       -4.30385649e-01, -8.23692232e-02, -6.46309018e-01, -8.71922299e-02,\n",
       "       -3.74217212e-01, -7.65475869e-01,  1.24012426e-01, -2.35222466e-03,\n",
       "        3.05836052e-01,  3.49976391e-01,  5.10406733e-01, -5.68129420e-01,\n",
       "        3.30959167e-03,  1.66886270e-01, -6.80783808e-01,  4.48964566e-01,\n",
       "       -2.25469023e-01,  2.66048908e-01, -3.06143820e-01,  2.86899775e-01,\n",
       "       -7.95519128e-02, -2.59681135e-01, -9.89983510e-03,  4.74856138e-01,\n",
       "       -1.97970659e-01,  2.92923093e-01,  5.88296235e-01, -6.08879983e-01,\n",
       "       -5.05068004e-01, -4.77063328e-01,  1.08677912e+00, -3.56332660e-01,\n",
       "       -3.04982930e-01,  1.03343785e-01, -3.03088665e-01,  2.47943759e-01,\n",
       "        6.04608238e-01,  5.77982545e-01,  1.22260952e+00, -3.06221843e-01,\n",
       "       -3.68695498e-01, -1.64803118e-01, -6.06233954e-01, -3.41069818e-01,\n",
       "       -2.43223861e-01, -1.91134050e-01, -1.71295121e-01,  9.08200204e-01,\n",
       "        2.10570991e-01,  1.55643761e-01,  6.50500432e-02,  1.58614844e-01,\n",
       "       -5.04610986e-02, -4.73347753e-01, -1.58826917e-01,  6.02909565e-01,\n",
       "        5.44152737e-01,  1.09849691e+00,  1.04515374e+00,  1.16713621e-01,\n",
       "       -4.17281088e-04,  1.37058362e-01,  7.41964102e-01, -1.59948543e-01,\n",
       "        4.19848025e-01, -5.13731956e-01, -3.90338361e-01, -2.26099625e-01,\n",
       "        2.62238055e-01,  1.03527062e-01,  3.10294926e-01, -5.13865888e-01,\n",
       "        2.65522003e-02,  6.71162188e-01, -3.22005898e-01, -1.25733629e-01,\n",
       "       -2.41995409e-01, -4.73191850e-02, -6.42135620e-01,  9.91215408e-02,\n",
       "        1.23279713e-01, -1.72282740e-01, -6.88863218e-01, -1.64142773e-01,\n",
       "        6.71485186e-01, -1.26477033e-01, -4.69956815e-01,  5.01619518e-01,\n",
       "       -4.14467633e-01,  2.19920039e-01,  3.44571412e-01,  5.51510096e-01],\n",
       "      dtype=float32)"
      ]
     },
     "execution_count": 31,
     "metadata": {},
     "output_type": "execute_result"
    }
   ],
   "source": [
    "me_vector"
   ]
  },
  {
   "cell_type": "code",
   "execution_count": 32,
   "metadata": {},
   "outputs": [
    {
     "data": {
      "text/plain": [
       "array([-0.01724313,  0.02616821,  0.00249853,  0.02406504, -0.00306395,\n",
       "       -0.00842843, -0.01711344,  0.01501502, -0.00728078, -0.00994824,\n",
       "       -0.00565867, -0.00705717, -0.01634696,  0.01286769,  0.00953379,\n",
       "       -0.00344566,  0.02130877,  0.00015255,  0.0065855 , -0.00054601,\n",
       "       -0.00447846,  0.02495784, -0.00877098, -0.01480241,  0.0066943 ,\n",
       "        0.01648646, -0.0125479 ,  0.01349356, -0.00293217,  0.01838988,\n",
       "        0.01552407,  0.00568752,  0.01301332,  0.03243251,  0.0217215 ,\n",
       "       -0.00602038,  0.00023958,  0.00347555,  0.0197652 ,  0.00837036,\n",
       "        0.00582733,  0.01384207, -0.0107533 ,  0.01284536,  0.02565187,\n",
       "        0.02892138,  0.02636848, -0.01591299, -0.00592536,  0.01181686,\n",
       "       -0.00740786, -0.00888557,  0.00144255,  0.00593456, -0.01873949,\n",
       "        0.01576952,  0.00881618, -0.01104119,  0.04575991,  0.00249112,\n",
       "        0.01998059, -0.00909372,  0.00797747,  0.01356093,  0.01185124,\n",
       "        0.00648328,  0.02400968,  0.01480438,  0.00183355, -0.00681701,\n",
       "        0.01462772,  0.02872103,  0.01632916, -0.01544304, -0.00341758,\n",
       "        0.0009669 ,  0.0171261 ,  0.01466511,  0.00563178, -0.00047038,\n",
       "        0.01260155,  0.00980938, -0.01689496, -0.00041942, -0.02372943,\n",
       "        0.01329359, -0.00040801,  0.02907403,  0.03079432,  0.0095882 ,\n",
       "       -0.03345074,  0.01628849,  0.0509706 , -0.02437679,  0.00256195,\n",
       "        0.01236214, -0.0017702 ,  0.01958669, -0.00628844,  0.04476225],\n",
       "      dtype=float32)"
      ]
     },
     "execution_count": 32,
     "metadata": {},
     "output_type": "execute_result"
    }
   ],
   "source": [
    "goodmen_vector"
   ]
  },
  {
   "cell_type": "code",
   "execution_count": 33,
   "metadata": {},
   "outputs": [
    {
     "data": {
      "text/plain": [
       "0.40566793"
      ]
     },
     "execution_count": 33,
     "metadata": {},
     "output_type": "execute_result"
    }
   ],
   "source": [
    "# me와 goodmen을 내적하는 코드\n",
    "np.dot(me_vector, goodmen_vector)"
   ]
  },
  {
   "cell_type": "markdown",
   "metadata": {},
   "source": [
    "- factors=100, iterations=10 ⇒ 0.3788998\n",
    "- factors=100, iterations=15 ⇒ 0.39006385\n",
    "- **<span style=\"color:blue\">factors=100, iterations=20 ⇒ 0.39486203: iterations = 20 사용</span>**\n",
    "- factors=100, iterations=30 ⇒ 0.38159403  "
   ]
  },
  {
   "cell_type": "markdown",
   "metadata": {},
   "source": [
    "### iterations = 20으로 고정하고 최적 factors값 찾기"
   ]
  },
  {
   "cell_type": "markdown",
   "metadata": {},
   "source": [
    "- factors값의 변화에 따른 preference값 변화 시각화를 위해 관련 리스트 값 초기화"
   ]
  },
  {
   "cell_type": "code",
   "execution_count": 34,
   "metadata": {},
   "outputs": [],
   "source": [
    "# factors값의 변화에 따른 preference값 변화 시각화를 위한 리스트 값 초기화\n",
    "factors_plt = []\n",
    "preference_plt = []"
   ]
  },
  {
   "cell_type": "markdown",
   "metadata": {},
   "source": [
    "- 모델 파라미터 설정, 모델 실행, preference 결과값 계산 기능을 한 데 모음"
   ]
  },
  {
   "cell_type": "code",
   "execution_count": 35,
   "metadata": {},
   "outputs": [
    {
     "data": {
      "application/vnd.jupyter.widget-view+json": {
       "model_id": "",
       "version_major": 2,
       "version_minor": 0
      },
      "text/plain": [
       "  0%|          | 0/20 [00:00<?, ?it/s]"
      ]
     },
     "metadata": {},
     "output_type": "display_data"
    },
    {
     "name": "stdout",
     "output_type": "stream",
     "text": [
      "🐯 factors: 100     💖 preference: 0.4103549\n"
     ]
    },
    {
     "data": {
      "application/vnd.jupyter.widget-view+json": {
       "model_id": "",
       "version_major": 2,
       "version_minor": 0
      },
      "text/plain": [
       "  0%|          | 0/20 [00:00<?, ?it/s]"
      ]
     },
     "metadata": {},
     "output_type": "display_data"
    },
    {
     "name": "stdout",
     "output_type": "stream",
     "text": [
      "🐯 factors: 150     💖 preference: 0.47802004\n"
     ]
    },
    {
     "data": {
      "application/vnd.jupyter.widget-view+json": {
       "model_id": "",
       "version_major": 2,
       "version_minor": 0
      },
      "text/plain": [
       "  0%|          | 0/20 [00:00<?, ?it/s]"
      ]
     },
     "metadata": {},
     "output_type": "display_data"
    },
    {
     "name": "stdout",
     "output_type": "stream",
     "text": [
      "🐯 factors: 200     💖 preference: 0.5883121\n"
     ]
    },
    {
     "data": {
      "application/vnd.jupyter.widget-view+json": {
       "model_id": "",
       "version_major": 2,
       "version_minor": 0
      },
      "text/plain": [
       "  0%|          | 0/20 [00:00<?, ?it/s]"
      ]
     },
     "metadata": {},
     "output_type": "display_data"
    },
    {
     "name": "stdout",
     "output_type": "stream",
     "text": [
      "🐯 factors: 250     💖 preference: 0.6711574\n"
     ]
    },
    {
     "data": {
      "application/vnd.jupyter.widget-view+json": {
       "model_id": "",
       "version_major": 2,
       "version_minor": 0
      },
      "text/plain": [
       "  0%|          | 0/20 [00:00<?, ?it/s]"
      ]
     },
     "metadata": {},
     "output_type": "display_data"
    },
    {
     "name": "stdout",
     "output_type": "stream",
     "text": [
      "🐯 factors: 300     💖 preference: 0.6874165\n"
     ]
    },
    {
     "data": {
      "application/vnd.jupyter.widget-view+json": {
       "model_id": "",
       "version_major": 2,
       "version_minor": 0
      },
      "text/plain": [
       "  0%|          | 0/20 [00:00<?, ?it/s]"
      ]
     },
     "metadata": {},
     "output_type": "display_data"
    },
    {
     "name": "stdout",
     "output_type": "stream",
     "text": [
      "🐯 factors: 350     💖 preference: 0.7578381\n"
     ]
    },
    {
     "data": {
      "application/vnd.jupyter.widget-view+json": {
       "model_id": "",
       "version_major": 2,
       "version_minor": 0
      },
      "text/plain": [
       "  0%|          | 0/20 [00:00<?, ?it/s]"
      ]
     },
     "metadata": {},
     "output_type": "display_data"
    },
    {
     "name": "stdout",
     "output_type": "stream",
     "text": [
      "🐯 factors: 400     💖 preference: 0.7878685\n"
     ]
    },
    {
     "data": {
      "application/vnd.jupyter.widget-view+json": {
       "model_id": "",
       "version_major": 2,
       "version_minor": 0
      },
      "text/plain": [
       "  0%|          | 0/20 [00:00<?, ?it/s]"
      ]
     },
     "metadata": {},
     "output_type": "display_data"
    },
    {
     "name": "stdout",
     "output_type": "stream",
     "text": [
      "🐯 factors: 450     💖 preference: 0.8248187\n"
     ]
    },
    {
     "data": {
      "application/vnd.jupyter.widget-view+json": {
       "model_id": "",
       "version_major": 2,
       "version_minor": 0
      },
      "text/plain": [
       "  0%|          | 0/20 [00:00<?, ?it/s]"
      ]
     },
     "metadata": {},
     "output_type": "display_data"
    },
    {
     "name": "stdout",
     "output_type": "stream",
     "text": [
      "🐯 factors: 500     💖 preference: 0.842227\n"
     ]
    },
    {
     "data": {
      "application/vnd.jupyter.widget-view+json": {
       "model_id": "",
       "version_major": 2,
       "version_minor": 0
      },
      "text/plain": [
       "  0%|          | 0/20 [00:00<?, ?it/s]"
      ]
     },
     "metadata": {},
     "output_type": "display_data"
    },
    {
     "name": "stdout",
     "output_type": "stream",
     "text": [
      "🐯 factors: 550     💖 preference: 0.8592149\n"
     ]
    },
    {
     "data": {
      "application/vnd.jupyter.widget-view+json": {
       "model_id": "",
       "version_major": 2,
       "version_minor": 0
      },
      "text/plain": [
       "  0%|          | 0/20 [00:00<?, ?it/s]"
      ]
     },
     "metadata": {},
     "output_type": "display_data"
    },
    {
     "name": "stdout",
     "output_type": "stream",
     "text": [
      "🐯 factors: 600     💖 preference: 0.85736686\n"
     ]
    },
    {
     "data": {
      "application/vnd.jupyter.widget-view+json": {
       "model_id": "",
       "version_major": 2,
       "version_minor": 0
      },
      "text/plain": [
       "  0%|          | 0/20 [00:00<?, ?it/s]"
      ]
     },
     "metadata": {},
     "output_type": "display_data"
    },
    {
     "name": "stdout",
     "output_type": "stream",
     "text": [
      "🐯 factors: 650     💖 preference: 0.88054246\n"
     ]
    },
    {
     "data": {
      "application/vnd.jupyter.widget-view+json": {
       "model_id": "",
       "version_major": 2,
       "version_minor": 0
      },
      "text/plain": [
       "  0%|          | 0/20 [00:00<?, ?it/s]"
      ]
     },
     "metadata": {},
     "output_type": "display_data"
    },
    {
     "name": "stdout",
     "output_type": "stream",
     "text": [
      "🐯 factors: 700     💖 preference: 0.9014357\n"
     ]
    }
   ],
   "source": [
    "# iterations = 20으로 고정하고 최적 factors값 찾기: 100부터 700까지 50 간격으로 모델 훈련 및 결과값 확인\n",
    "\n",
    "for factors in range(100, 750, 50):\n",
    "    #모델 설정\n",
    "    als_model = AlternatingLeastSquares(factors, regularization=0.01, use_gpu=False, iterations=20, dtype=np.float32)\n",
    "    #모델 실행\n",
    "    als_model.fit(csr_data_transpose)\n",
    "    #preference 결과값 계산\n",
    "    me, goodmen = user_to_idx['me'], movie_to_idx['few good men, a (1992)']\n",
    "    me_vector, goodmen_vector = als_model.user_factors[me], als_model.item_factors[goodmen]\n",
    "    goodmen_rate = np.dot(me_vector, goodmen_vector)\n",
    "    #결과값 시각화를 위해 값 저장\n",
    "    factors_plt.append(factors)\n",
    "    preference_plt.append(goodmen_rate)\n",
    "    #결과값 확인\n",
    "    print(\"🐯 factors:\", factors, \"    💖 preference:\", goodmen_rate)"
   ]
  },
  {
   "cell_type": "code",
   "execution_count": 36,
   "metadata": {},
   "outputs": [
    {
     "name": "stdout",
     "output_type": "stream",
     "text": [
      "🐯 factors: [100, 150, 200, 250, 300, 350, 400, 450, 500, 550, 600, 650, 700]\n",
      "💖 preference: [0.4103549, 0.47802004, 0.5883121, 0.6711574, 0.6874165, 0.7578381, 0.7878685, 0.8248187, 0.842227, 0.8592149, 0.85736686, 0.88054246, 0.9014357]\n"
     ]
    }
   ],
   "source": [
    "print(\"🐯 factors:\", factors_plt)\n",
    "print(\"💖 preference:\", preference_plt)"
   ]
  },
  {
   "cell_type": "markdown",
   "metadata": {},
   "source": [
    "### factor값의 변화에 따른 선호도 시각화"
   ]
  },
  {
   "cell_type": "code",
   "execution_count": 37,
   "metadata": {},
   "outputs": [
    {
     "data": {
      "image/png": "[encoded data removed]",
      "text/plain": [
       "<Figure size 432x288 with 1 Axes>"
      ]
     },
     "metadata": {
      "needs_background": "light"
     },
     "output_type": "display_data"
    }
   ],
   "source": [
    "import matplotlib.pyplot as plt\n",
    "import matplotlib.ticker as ticker\n",
    "\n",
    "# training result\n",
    "plt.figure(figsize=(6, 4))\n",
    "\n",
    "plt.plot(factors_plt, preference_plt, 'b-', label='@iterations = 20')\n",
    "plt.xlabel('Factors')\n",
    "\n",
    "#plt.xticks([0, 1, 2])\n",
    "#plt.yticks(np.arange(0, 7))\n",
    "\n",
    "plt.title('Preference (Rating)')\n",
    "plt.legend()\n",
    "\n",
    "plt.show()"
   ]
  },
  {
   "cell_type": "code",
   "execution_count": 38,
   "metadata": {},
   "outputs": [],
   "source": [
    "# factors값의 변화에 따른 preference값 변화 시각화를 위한 리스트 값 초기화\n",
    "factors_plt = []\n",
    "preference_plt = []"
   ]
  },
  {
   "cell_type": "code",
   "execution_count": 39,
   "metadata": {},
   "outputs": [
    {
     "data": {
      "application/vnd.jupyter.widget-view+json": {
       "model_id": "f785dda11e2e46728637ae597c6357e5",
       "version_major": 2,
       "version_minor": 0
      },
      "text/plain": [
       "  0%|          | 0/20 [00:00<?, ?it/s]"
      ]
     },
     "metadata": {},
     "output_type": "display_data"
    },
    {
     "name": "stdout",
     "output_type": "stream",
     "text": [
      "🐯 factors: 660     💖 preference: 0.8992176\n"
     ]
    },
    {
     "data": {
      "application/vnd.jupyter.widget-view+json": {
       "model_id": "4c1767ce63df4cf4bafc0da444f71e4e",
       "version_major": 2,
       "version_minor": 0
      },
      "text/plain": [
       "  0%|          | 0/20 [00:00<?, ?it/s]"
      ]
     },
     "metadata": {},
     "output_type": "display_data"
    },
    {
     "name": "stdout",
     "output_type": "stream",
     "text": [
      "🐯 factors: 680     💖 preference: 0.9025764\n"
     ]
    },
    {
     "data": {
      "application/vnd.jupyter.widget-view+json": {
       "model_id": "7ecff1ce49984bf29511e4cfc4b02e3c",
       "version_major": 2,
       "version_minor": 0
      },
      "text/plain": [
       "  0%|          | 0/20 [00:00<?, ?it/s]"
      ]
     },
     "metadata": {},
     "output_type": "display_data"
    },
    {
     "name": "stdout",
     "output_type": "stream",
     "text": [
      "🐯 factors: 700     💖 preference: 0.90406257\n"
     ]
    },
    {
     "data": {
      "application/vnd.jupyter.widget-view+json": {
       "model_id": "814115e0fcef4065865b4f625437bd97",
       "version_major": 2,
       "version_minor": 0
      },
      "text/plain": [
       "  0%|          | 0/20 [00:00<?, ?it/s]"
      ]
     },
     "metadata": {},
     "output_type": "display_data"
    },
    {
     "name": "stdout",
     "output_type": "stream",
     "text": [
      "🐯 factors: 720     💖 preference: 0.91241187\n"
     ]
    },
    {
     "data": {
      "application/vnd.jupyter.widget-view+json": {
       "model_id": "790ad38ec3b64fa5b903f325c807b566",
       "version_major": 2,
       "version_minor": 0
      },
      "text/plain": [
       "  0%|          | 0/20 [00:00<?, ?it/s]"
      ]
     },
     "metadata": {},
     "output_type": "display_data"
    },
    {
     "name": "stdout",
     "output_type": "stream",
     "text": [
      "🐯 factors: 740     💖 preference: 0.9032974\n"
     ]
    },
    {
     "data": {
      "application/vnd.jupyter.widget-view+json": {
       "model_id": "fc5325e4ce1c49299054bfd307202a3d",
       "version_major": 2,
       "version_minor": 0
      },
      "text/plain": [
       "  0%|          | 0/20 [00:00<?, ?it/s]"
      ]
     },
     "metadata": {},
     "output_type": "display_data"
    },
    {
     "name": "stdout",
     "output_type": "stream",
     "text": [
      "🐯 factors: 760     💖 preference: 0.91379774\n"
     ]
    },
    {
     "data": {
      "application/vnd.jupyter.widget-view+json": {
       "model_id": "10c4157da1844b83bf0582ed64690003",
       "version_major": 2,
       "version_minor": 0
      },
      "text/plain": [
       "  0%|          | 0/20 [00:00<?, ?it/s]"
      ]
     },
     "metadata": {},
     "output_type": "display_data"
    },
    {
     "name": "stdout",
     "output_type": "stream",
     "text": [
      "🐯 factors: 780     💖 preference: 0.91790205\n"
     ]
    },
    {
     "data": {
      "application/vnd.jupyter.widget-view+json": {
       "model_id": "bf66b78777cc4129bc6f4f0c54e6a768",
       "version_major": 2,
       "version_minor": 0
      },
      "text/plain": [
       "  0%|          | 0/20 [00:00<?, ?it/s]"
      ]
     },
     "metadata": {},
     "output_type": "display_data"
    },
    {
     "name": "stdout",
     "output_type": "stream",
     "text": [
      "🐯 factors: 800     💖 preference: 0.91807187\n"
     ]
    },
    {
     "data": {
      "application/vnd.jupyter.widget-view+json": {
       "model_id": "79c47ee666eb48dcbda0dbc31c4b21c0",
       "version_major": 2,
       "version_minor": 0
      },
      "text/plain": [
       "  0%|          | 0/20 [00:00<?, ?it/s]"
      ]
     },
     "metadata": {},
     "output_type": "display_data"
    },
    {
     "name": "stdout",
     "output_type": "stream",
     "text": [
      "🐯 factors: 820     💖 preference: 0.9210503\n"
     ]
    },
    {
     "data": {
      "application/vnd.jupyter.widget-view+json": {
       "model_id": "8ecd7fb9ac214090978e5b6a36fb4031",
       "version_major": 2,
       "version_minor": 0
      },
      "text/plain": [
       "  0%|          | 0/20 [00:00<?, ?it/s]"
      ]
     },
     "metadata": {},
     "output_type": "display_data"
    },
    {
     "name": "stdout",
     "output_type": "stream",
     "text": [
      "🐯 factors: 840     💖 preference: 0.9300234\n"
     ]
    },
    {
     "data": {
      "application/vnd.jupyter.widget-view+json": {
       "model_id": "9792cf946f8243e4905fd816cba02204",
       "version_major": 2,
       "version_minor": 0
      },
      "text/plain": [
       "  0%|          | 0/20 [00:00<?, ?it/s]"
      ]
     },
     "metadata": {},
     "output_type": "display_data"
    },
    {
     "name": "stdout",
     "output_type": "stream",
     "text": [
      "🐯 factors: 860     💖 preference: 0.9277352\n"
     ]
    },
    {
     "data": {
      "application/vnd.jupyter.widget-view+json": {
       "model_id": "49a8dbbcc2b945019f961f69a937a1f4",
       "version_major": 2,
       "version_minor": 0
      },
      "text/plain": [
       "  0%|          | 0/20 [00:00<?, ?it/s]"
      ]
     },
     "metadata": {},
     "output_type": "display_data"
    },
    {
     "name": "stdout",
     "output_type": "stream",
     "text": [
      "🐯 factors: 880     💖 preference: 0.93072987\n"
     ]
    },
    {
     "data": {
      "application/vnd.jupyter.widget-view+json": {
       "model_id": "86c224a4388c422aab0c55d3fde110a6",
       "version_major": 2,
       "version_minor": 0
      },
      "text/plain": [
       "  0%|          | 0/20 [00:00<?, ?it/s]"
      ]
     },
     "metadata": {},
     "output_type": "display_data"
    },
    {
     "name": "stdout",
     "output_type": "stream",
     "text": [
      "🐯 factors: 900     💖 preference: 0.9436888\n"
     ]
    },
    {
     "data": {
      "application/vnd.jupyter.widget-view+json": {
       "model_id": "48505b65a9c24862ba935fafdb80d647",
       "version_major": 2,
       "version_minor": 0
      },
      "text/plain": [
       "  0%|          | 0/20 [00:00<?, ?it/s]"
      ]
     },
     "metadata": {},
     "output_type": "display_data"
    },
    {
     "name": "stdout",
     "output_type": "stream",
     "text": [
      "🐯 factors: 920     💖 preference: 0.93358725\n"
     ]
    },
    {
     "data": {
      "application/vnd.jupyter.widget-view+json": {
       "model_id": "604860d5fa1d4aaca6c945aedae9da25",
       "version_major": 2,
       "version_minor": 0
      },
      "text/plain": [
       "  0%|          | 0/20 [00:00<?, ?it/s]"
      ]
     },
     "metadata": {},
     "output_type": "display_data"
    },
    {
     "name": "stdout",
     "output_type": "stream",
     "text": [
      "🐯 factors: 940     💖 preference: 0.95338184\n"
     ]
    },
    {
     "data": {
      "application/vnd.jupyter.widget-view+json": {
       "model_id": "b5f0d6c74b4744edaa02d52bf0b51e85",
       "version_major": 2,
       "version_minor": 0
      },
      "text/plain": [
       "  0%|          | 0/20 [00:00<?, ?it/s]"
      ]
     },
     "metadata": {},
     "output_type": "display_data"
    },
    {
     "name": "stdout",
     "output_type": "stream",
     "text": [
      "🐯 factors: 960     💖 preference: 0.9489526\n"
     ]
    },
    {
     "data": {
      "application/vnd.jupyter.widget-view+json": {
       "model_id": "3d3db8df43b24ce9979ca5b4a7071441",
       "version_major": 2,
       "version_minor": 0
      },
      "text/plain": [
       "  0%|          | 0/20 [00:00<?, ?it/s]"
      ]
     },
     "metadata": {},
     "output_type": "display_data"
    },
    {
     "name": "stdout",
     "output_type": "stream",
     "text": [
      "🐯 factors: 980     💖 preference: 0.93907255\n"
     ]
    },
    {
     "data": {
      "application/vnd.jupyter.widget-view+json": {
       "model_id": "f6415fa4d0d5443b858bd0d7f2534d75",
       "version_major": 2,
       "version_minor": 0
      },
      "text/plain": [
       "  0%|          | 0/20 [00:00<?, ?it/s]"
      ]
     },
     "metadata": {},
     "output_type": "display_data"
    },
    {
     "name": "stdout",
     "output_type": "stream",
     "text": [
      "🐯 factors: 1000     💖 preference: 0.9477472\n"
     ]
    }
   ],
   "source": [
    "# iterations = 20으로 고정하고 최적 factors값 찾기: 660부터 1000까지 20 간격으로 모델 훈련 및 결과값 확인\n",
    "\n",
    "for factors in range(660, 1001, 20):\n",
    "    #모델 설정\n",
    "    als_model = AlternatingLeastSquares(factors, regularization=0.01, use_gpu=False, iterations=20, dtype=np.float32)\n",
    "    #모델 실행\n",
    "    als_model.fit(csr_data_transpose)\n",
    "    #preference 결과값 계산\n",
    "    me, goodmen = user_to_idx['me'], movie_to_idx['few good men, a (1992)']\n",
    "    me_vector, goodmen_vector = als_model.user_factors[me], als_model.item_factors[goodmen]\n",
    "    goodmen_rate = np.dot(me_vector, goodmen_vector)\n",
    "    #결과값 시각화를 위해 값 저장\n",
    "    factors_plt.append(factors)\n",
    "    preference_plt.append(goodmen_rate)\n",
    "    #결과값 확인\n",
    "    print(\"🐯 factors:\", factors, \"    💖 preference:\", goodmen_rate)"
   ]
  },
  {
   "cell_type": "code",
   "execution_count": 40,
   "metadata": {},
   "outputs": [
    {
     "name": "stdout",
     "output_type": "stream",
     "text": [
      "🐯 factors: [660, 680, 700, 720, 740, 760, 780, 800, 820, 840, 860, 880, 900, 920, 940, 960, 980, 1000]\n",
      "💖 preference: [0.8992176, 0.9025764, 0.90406257, 0.91241187, 0.9032974, 0.91379774, 0.91790205, 0.91807187, 0.9210503, 0.9300234, 0.9277352, 0.93072987, 0.9436888, 0.93358725, 0.95338184, 0.9489526, 0.93907255, 0.9477472]\n"
     ]
    }
   ],
   "source": [
    "print(\"🐯 factors:\", factors_plt)\n",
    "print(\"💖 preference:\", preference_plt)"
   ]
  },
  {
   "cell_type": "code",
   "execution_count": 42,
   "metadata": {},
   "outputs": [
    {
     "data": {
      "image/png": "[encoded data removed]",
      "text/plain": [
       "<Figure size 432x288 with 1 Axes>"
      ]
     },
     "metadata": {
      "needs_background": "light"
     },
     "output_type": "display_data"
    }
   ],
   "source": [
    "import matplotlib.pyplot as plt\n",
    "import matplotlib.ticker as ticker\n",
    "\n",
    "# training result\n",
    "plt.figure(figsize=(6, 4))\n",
    "\n",
    "plt.plot(factors_plt, preference_plt, 'b-', label='@iterations = 20')\n",
    "plt.xlabel('Factors')\n",
    "\n",
    "#plt.xticks([0, 1, 2])\n",
    "#plt.yticks(np.arange(0, 7))\n",
    "\n",
    "plt.title('Preference (Rating)')\n",
    "plt.legend()\n",
    "\n",
    "plt.show()"
   ]
  },
  {
   "cell_type": "markdown",
   "metadata": {},
   "source": [
    "### ※ factors, iterations에 대한 최적값(?) 찾기 \n",
    "  - factors값을 크게 할수록 선호도 1에 가까워짐\n",
    "  - iterations값은 선호도에 큰 영향을 미치지 않음\n",
    "  - factors값을 높일수록 선호도가 올라가나 과적합이 우려되므로 **factors=840, 선호도 93% 수준의 모델**을 사용하여 예측 실행"
   ]
  },
  {
   "cell_type": "markdown",
   "metadata": {},
   "source": [
    "- **factors=100, <span style=\"color:blue\">iterations=20 ⇒ 0.39486203: iterations = 20 사용</span>**  \n",
    "  \n",
    "   \n",
    "- **<span style=\"color:blue\">factors=840</span>, iterations=20 <span style=\"color:blue\">⇒ 0.9300234 이 모델을 사용하여 예측 실행</span>**\n"
   ]
  },
  {
   "cell_type": "markdown",
   "metadata": {},
   "source": [
    "### 6) 선호하는 5가지 영화 중 하나와 그 외의 영화 하나를 골라  훈련된 모델이 예측한 나의 선호도를 파악해 보세요."
   ]
  },
  {
   "cell_type": "code",
   "execution_count": 43,
   "metadata": {},
   "outputs": [
    {
     "data": {
      "text/plain": [
       "0.9120291"
      ]
     },
     "execution_count": 43,
     "metadata": {},
     "output_type": "execute_result"
    }
   ],
   "source": [
    "c_tide = movie_to_idx['crimson tide (1995)']\n",
    "c_tide_vector = als_model.item_factors[c_tide]\n",
    "np.dot(me_vector, c_tide_vector)"
   ]
  },
  {
   "cell_type": "markdown",
   "metadata": {},
   "source": [
    "- <span style=\"color:blue; font-weight:bold; font-size:15px\"> 선호하는 영화: crimson tide (1995)에 대한 선호도 예측</span>\n",
    "  - <span style=\"color:blue; font-weight:bold; font-size:15px\"> 0.91로 아주 높게 나옴</span>"
   ]
  },
  {
   "cell_type": "code",
   "execution_count": 44,
   "metadata": {},
   "outputs": [
    {
     "data": {
      "text/plain": [
       "0.02664613"
      ]
     },
     "execution_count": 44,
     "metadata": {},
     "output_type": "execute_result"
    }
   ],
   "source": [
    "rainman = movie_to_idx['rain man (1988)']\n",
    "rainman_vector = als_model.item_factors[rainman]\n",
    "np.dot(me_vector, rainman_vector)"
   ]
  },
  {
   "cell_type": "markdown",
   "metadata": {},
   "source": [
    "- <span style=\"color:blue; font-weight:bold; font-size:15px\"> 그 외의 영화 rain man (1988)에 대한 선호도 예측</span>\n",
    "  - <span style=\"color:blue; font-weight:bold; font-size:15px\"> 0.03으로 낮게 나옴</span>\n",
    "- <span style=\"color:blue; font-weight:bold; font-size:15px\">선호하는 영화: 미션 임파서블(톰크루즈), 어퓨굿맨(톰크루즈), 크림슨타이드(덴젤워싱톤), 탑건(톰크루즈), 쇼생크탈출</span>\n",
    "- <span style=\"color:blue; font-weight:bold; font-size:15px\">'rain man (1988)'은 위 다섯 편의 영화 중 세 편과 주연 배우(탐 크루즈)는 같으나 내용(주제)이 다르기 때문에 낮은 점수가 나온 것으로 추측되며</span>\n",
    "- <span style=\"color:blue; font-weight:bold; font-size:15px\">따라서 모델이 추천을 잘하고 있다고 볼 수 있음</span>"
   ]
  },
  {
   "cell_type": "markdown",
   "metadata": {},
   "source": [
    "### 7) 내가 좋아하는 영화와 비슷한 영화를 추천받아 봅시다."
   ]
  },
  {
   "cell_type": "markdown",
   "metadata": {},
   "source": [
    "- 내가 좋아하는 few good men, a (1992)와 비슷한 영화 찾기 (10개)\n",
    "  - AlternatingLeastSquares 클래스에 구현되어 있는 similar_items 메서드 사용"
   ]
  },
  {
   "cell_type": "code",
   "execution_count": 45,
   "metadata": {},
   "outputs": [
    {
     "data": {
      "text/plain": [
       "[(59, 1.0),\n",
       " (3565, 0.47423613),\n",
       " (3422, 0.4722798),\n",
       " (3374, 0.47119808),\n",
       " (3308, 0.47097015),\n",
       " (3408, 0.47019216),\n",
       " (3406, 0.4700407),\n",
       " (3410, 0.46992466),\n",
       " (3409, 0.46987084),\n",
       " (3288, 0.4697708)]"
      ]
     },
     "execution_count": 45,
     "metadata": {},
     "output_type": "execute_result"
    }
   ],
   "source": [
    "favorite_movie = 'few good men, a (1992)'\n",
    "movie_id = movie_to_idx[favorite_movie]\n",
    "similar_movie = als_model.similar_items(movie_id, N=10)\n",
    "similar_movie"
   ]
  },
  {
   "cell_type": "markdown",
   "metadata": {},
   "source": [
    "- **(영화_id, 유사도)** Tuple로 반환\n",
    "  - 유사도: 0.5 정도\n",
    "- 영화_id를 다시 영화 이름으로 매핑"
   ]
  },
  {
   "cell_type": "code",
   "execution_count": 46,
   "metadata": {},
   "outputs": [
    {
     "data": {
      "text/plain": [
       "['few good men, a (1992)',\n",
       " 'anna (1996)',\n",
       " 'country life (1994)',\n",
       " 'peanuts - die bank zahlt alles (1996)',\n",
       " 'tigrero: a film that was never made (1994)',\n",
       " 'resurrection man (1998)',\n",
       " \"wooden man's bride, the (wu kui) (1994)\",\n",
       " 'foolish (1999)',\n",
       " 'tainted (1998)',\n",
       " 'hatchet for the honeymoon (rosso segno della follia) (1969)']"
      ]
     },
     "execution_count": 46,
     "metadata": {},
     "output_type": "execute_result"
    }
   ],
   "source": [
    "#artist_to_idx 를 뒤집어, index로부터 artist 이름을 얻는 dict를 생성합니다. \n",
    "idx_to_movie = {v:k for k,v in movie_to_idx.items()}\n",
    "[idx_to_movie[i[0]] for i in similar_movie]"
   ]
  },
  {
   "cell_type": "markdown",
   "metadata": {},
   "source": [
    "- Anna (1996) - IMDbhttps://www.imdb.com › title\n",
    "The film tells of faithful devotion to spiritual ideals. It is based on Riga St. Anna Stocken's Life Story of the Cistercian Monastery of Mary Magdalene.\n",
    "- Country Life (1994) - IMDbhttps://www.imdb.com › title\n",
    "Adaptation of Chekhov's \"Uncle Vanya\" set in rural Australia in the 1920's. Jack Dickens and his niece Sally run the family farm to support brother-in-law.\n",
    "- Peanuts - Die Bank zahlt alles (1996) - IMDbhttps://www.imdb.com › title\n",
    "The movie is based on the real life real-estate business man Jürgen Schneider, who invested in various buildings around Germany and got bankrupt.\n",
    "- Tigrero: A Film That Was Never Made (1994) - IMDbhttps://www.imdb.com › title\n",
    "In 1993, Sam Fuller takes Jim Jarmusch on a trip into Brazil's Mato Grosso, up the River Araguaia to the village of Santa Isabel Do Morro, where 40 years ...\n",
    "- Resurrection Man (1998) - IMDbhttps://www.imdb.com › title\n",
    "Belfast, in 1970s. Victor Kelly is a young protestant man who hates the Catholics so much that one night he begins to brutally murder them.\n",
    "- The Wooden Man's Bride (1994) - IMDbhttps://www.imdb.com › title\n",
    "The main character, Wu Kui, is a hired hand who is sent to bring the bride back to her future rich husband's house. On the way he displays a mischievous side by ...\n",
    "- Foolish (1999) - IMDbhttps://www.imdb.com › title\n",
    "Foolish is a decent flick , based on where it came from. Eddie Griffin does what he can with the script, but it almost takes away from his acting chops. \n",
    "- Tainted (1998) - IMDbhttps://www.imdb.com › title\n",
    "A sarcastic comedy thriller about a vampire who sets out to infect the blood of a hospital and the twenty-something slackers who set out to stop him.\n",
    "- Hatchet for the Honeymoon (1970) - IMDbhttps://www.imdb.com › title\n",
    "Hatchet for the Honeymoon: Directed by Mario Bava. With Stephen Forsyth, Dagmar Lassander, ... Stephen Forsyth in Il rosso segno della follia (1970).  \n",
    "  \n",
    "  \n",
    "- <span style=\"color:blue; font-size:15px\"> 전부 모르는 영화임 ㅎㅎ</span>\n"
   ]
  },
  {
   "cell_type": "markdown",
   "metadata": {},
   "source": [
    "- 위의 코드를 함수로 생성"
   ]
  },
  {
   "cell_type": "code",
   "execution_count": 47,
   "metadata": {},
   "outputs": [
    {
     "name": "stdout",
     "output_type": "stream",
     "text": [
      "슝=3\n"
     ]
    }
   ],
   "source": [
    "def get_similar_movie(movie_name: str):\n",
    "    movie_id = movie_to_idx[movie_name]\n",
    "    similar_movie = als_model.similar_items(movie_id)\n",
    "    similar_movie = [idx_to_movie[i[0]] for i in similar_movie]\n",
    "    return similar_movie\n",
    "\n",
    "print(\"슝=3\")"
   ]
  },
  {
   "cell_type": "markdown",
   "metadata": {},
   "source": [
    "- 'rain man (1988)'로도 확인"
   ]
  },
  {
   "cell_type": "code",
   "execution_count": 48,
   "metadata": {},
   "outputs": [
    {
     "data": {
      "text/plain": [
       "['rain man (1988)',\n",
       " 'cabinet of dr. ramirez, the (1991)',\n",
       " 'prom night iii: the last kiss (1989)',\n",
       " 'snowriders (1996)',\n",
       " 'horror express (1972)',\n",
       " 'bittersweet motel (2000)',\n",
       " 'bushwhacked (1995)',\n",
       " 'napoleon and samantha (1972)',\n",
       " 'mirage (1995)',\n",
       " 'amityville 3-d (1983)']"
      ]
     },
     "execution_count": 48,
     "metadata": {},
     "output_type": "execute_result"
    }
   ],
   "source": [
    "get_similar_movie('rain man (1988)')"
   ]
  },
  {
   "cell_type": "markdown",
   "metadata": {},
   "source": [
    "- 'mission: impossible (1996)'로도 확인"
   ]
  },
  {
   "cell_type": "code",
   "execution_count": 49,
   "metadata": {},
   "outputs": [
    {
     "data": {
      "text/plain": [
       "['mission: impossible (1996)',\n",
       " 'diamonds (1999)',\n",
       " 'montana (1998)',\n",
       " \"brown's requiem (1998)\",\n",
       " 'secret agent, the (1996)',\n",
       " 'full speed (1996)',\n",
       " 'one little indian (1973)',\n",
       " 'grandview, u.s.a. (1984)',\n",
       " \"where's marlowe? (1999)\",\n",
       " 'beautiful (2000)']"
      ]
     },
     "execution_count": 49,
     "metadata": {},
     "output_type": "execute_result"
    }
   ],
   "source": [
    "get_similar_movie('mission: impossible (1996)')"
   ]
  },
  {
   "cell_type": "markdown",
   "metadata": {},
   "source": [
    "### 8) 내가 가장 좋아할 만한 영화들을 추천받아 봅시다."
   ]
  },
  {
   "cell_type": "markdown",
   "metadata": {},
   "source": [
    "- AlternatingLeastSquares 클래스에 구현되어 있는 **recommend 메서드**를 통하여 제가 좋아할 만한 아티스트를 추천받습니다. \n",
    "- **filter_already_liked_items** 는 유저가 이미 평가한 아이템은 제외하는 Argument입니다."
   ]
  },
  {
   "cell_type": "code",
   "execution_count": 50,
   "metadata": {},
   "outputs": [
    {
     "data": {
      "text/plain": [
       "[(1547, 0.09781727),\n",
       " (56, 0.08641157),\n",
       " (751, 0.07793154),\n",
       " (188, 0.070922),\n",
       " (419, 0.068423085),\n",
       " (1358, 0.06668249),\n",
       " (1626, 0.06652028),\n",
       " (1764, 0.064453654),\n",
       " (447, 0.064264566),\n",
       " (541, 0.06364648),\n",
       " (978, 0.063607305),\n",
       " (1219, 0.06304938),\n",
       " (1866, 0.06039811),\n",
       " (1241, 0.0603254),\n",
       " (2398, 0.059137467),\n",
       " (1182, 0.05810144),\n",
       " (452, 0.05632773),\n",
       " (2075, 0.056167945),\n",
       " (778, 0.055022947),\n",
       " (1243, 0.054532647)]"
      ]
     },
     "execution_count": 50,
     "metadata": {},
     "output_type": "execute_result"
    }
   ],
   "source": [
    "user = user_to_idx['me']\n",
    "# recommend에서는 user*item CSR Matrix를 받습니다.\n",
    "movie_recommended = als_model.recommend(user, csr_data, N=20, filter_already_liked_items=True)\n",
    "movie_recommended"
   ]
  },
  {
   "cell_type": "code",
   "execution_count": 51,
   "metadata": {},
   "outputs": [
    {
     "data": {
      "text/plain": [
       "['fly ii, the (1989)',\n",
       " 'courage under fire (1996)',\n",
       " 'swing kids (1993)',\n",
       " 'indiana jones and the temple of doom (1984)',\n",
       " 'jfk (1991)',\n",
       " 'birds, the (1963)',\n",
       " 'titanic (1953)',\n",
       " \"nobody's fool (1994)\",\n",
       " 'adventures of priscilla, queen of the desert, the (1994)',\n",
       " 'all quiet on the western front (1930)',\n",
       " 'hot shots! part deux (1993)',\n",
       " 'first blood (1982)',\n",
       " 'trip to bountiful, the (1985)',\n",
       " 'flamingo kid, the (1984)',\n",
       " 'tigerland (2000)',\n",
       " 'red dawn (1984)',\n",
       " 'cruel intentions (1999)',\n",
       " 'i love trouble (1994)',\n",
       " 'conan the barbarian (1982)',\n",
       " 'flashdance (1983)']"
      ]
     },
     "execution_count": 51,
     "metadata": {},
     "output_type": "execute_result"
    }
   ],
   "source": [
    "[idx_to_movie[i[0]] for i in movie_recommended]"
   ]
  },
  {
   "cell_type": "markdown",
   "metadata": {},
   "source": [
    "- 'fly ii, the (1989)',\n",
    "  - 플라이 2, 1989년 ‧ SF/공포 ‧ 1시간 45분: 《플라이 2》는 미국에서 제작된 크리스 월러스 감독의 1989년 공포, SF 영화이다. 에릭 스톨츠 등이 주연으로 출연하였고 스티븐-찰스 자프 등이 제작에 참여하였다. 1986년 영화 플라이의 후속작이다\n",
    "-  'courage under fire (1996)',\n",
    "  - 커리지 언더 파이어 (Courage Under Fire): 《커리지 언더 파이어》는 1996년 공개된 미국의 전쟁 영화이다. 에드워드 즈윅이 감독을 맡았으며, **덴절 워싱턴**과 메그 라이언이 출연한다. 덴절 워싱턴과 에드워드 즈윅의 두번째 합작 작품이다. 영화는 미국에서 1996년 7월 12일 공개되었다.\n",
    "- 'swing kids (1993)',\n",
    "- 'indiana jones and the temple of doom (1984)',\n",
    "- 'jfk (1991)',\n",
    "- 'birds, the (1963)',\n",
    "- 'titanic (1953)',\n",
    "- 'nobody's fool (1994)',\n",
    "- 'adventures of priscilla, queen of the desert, the (1994)',\n",
    "- 'all quiet on the western front (1930)',\n",
    "- 'hot shots! part deux (1993)',\n",
    "- 'first blood (1982)',\n",
    "- 'trip to bountiful, the (1985)',\n",
    "- 'flamingo kid, the (1984)',\n",
    "- 'tigerland (2000)',\n",
    "- 'red dawn (1984)',\n",
    "- 'cruel intentions (1999)',\n",
    "- 'i love trouble (1994)',\n",
    "- 'conan the barbarian (1982)',\n",
    "- 'flashdance (1983)']\n",
    "  \n",
    "  \n",
    "- <span style=\"color:blue\">모델은 왜 courage under fire (1996)를 추천해 줬을까요?</span> \n",
    "  - AlternatingLeastSquares 클래스에 구현된 **explain 메서드**를 사용하면 제가 기록을 남긴 데이터 중 **이 추천에 기여한 정도를 확인**할 수 있습니다."
   ]
  },
  {
   "cell_type": "code",
   "execution_count": 56,
   "metadata": {},
   "outputs": [],
   "source": [
    "c_u_f = movie_to_idx['courage under fire (1996)']\n",
    "explain = als_model.explain(user, csr_data, itemid=c_u_f)"
   ]
  },
  {
   "cell_type": "markdown",
   "metadata": {},
   "source": [
    "- 이 method는 추천한 콘텐츠의 점수에 기여한 다른 콘텐츠의 기여도(합이 콘텐츠의 점수가 됩니다)를 반환합니다. 어떤 영화들이 이 추천에 얼마나 기여하고 있는 걸까요?"
   ]
  },
  {
   "cell_type": "code",
   "execution_count": 57,
   "metadata": {},
   "outputs": [
    {
     "data": {
      "text/plain": [
       "[('crimson tide (1995)', 0.06124669131438029),\n",
       " ('top gun (1986)', 0.026595772905246635),\n",
       " ('few good men, a (1992)', -0.0010712882747334622),\n",
       " ('mission: impossible (1996)', -0.0012176312039766453),\n",
       " ('shawshank redemption, the (1994)', -0.0013492977952143182)]"
      ]
     },
     "execution_count": 57,
     "metadata": {},
     "output_type": "execute_result"
    }
   ],
   "source": [
    "[(idx_to_movie[i[0]], i[1]) for i in explain[1]]"
   ]
  },
  {
   "cell_type": "markdown",
   "metadata": {},
   "source": [
    "- **추천 영화: courage under fire (1996)**\n",
    "  - 《커리지 언더 파이어》는 1996년 공개된 미국의 **전쟁 영화**이다. \n",
    "  - 에드워드 즈윅이 감독을 맡았으며, **덴절 워싱턴**과 메그 라이언이 출연한다. \n",
    "  - 공군 조종사와 관련된 스토리라고 함\n",
    "    - 덴절 워싱턴: 너새니얼 설링 중령\n",
    "    - 메그 라이언: UH-1 휴이 **조종사** 캐런 에마 월든 대위\n",
    "\n",
    "- 위 결과를 보면 'crimson tide (1995)', 0.061)와 ('top gun (1986)', 0.027)이 영향을 주었음을 알 수 있음\n",
    "  - **크림슨타이드**: **덴젤 워싱턴** 주연, 잠수함에서 **핵공격** 여부 결정을 두고 벌어지는 함장과 부함장(덴젤 워싱턴)의 갈등 스토리\n",
    "  - **탑건**: 톰 크루즈 주연. **조종사**들의 비행 훈련과 관련된 스토리\n",
    "  \n",
    "  \n",
    "- **<span style=\"color:blue\">덴젤 워싱톤, 공군, 전쟁 등의 공통점이 있음</span>**"
   ]
  },
  {
   "cell_type": "markdown",
   "metadata": {},
   "source": [
    "# 프로젝트 평가\n",
    "\n",
    "| 평가문항 | 상세기준 | 실행 결과 |\n",
    "|:---|:---|:---| \n",
    "| 1. CSR matrix가 정상적으로 만들어졌다. | 사용자와 아이템 개수를 바탕으로 정확한 사이즈로 만들었다. | 정확히 만들어졌음. 4)항 참고.<br> <6040x3628 sparse matrix of type '<class 'numpy.int64'>' with 836483 stored elements in Compressed Sparse Row format> |\n",
    "| 2. MF 모델이 정상적으로 훈련되어 그럴듯한  추천이 이루어졌다. | 사용자와 아이템 벡터 내적수치가 의미있게  형성되었다. | 의미있게 형성됨. 6)항 참고. <br> 선호하는 영화: crimson tide (1995)에 대한 선호도 예측 0.91로 아주 높게 나옴 |\n",
    "| 3. 비슷한 영화 찾기와 유저에게 추천하기의  과정이 정상적으로 진행되었다. | MF모델이 예측한 유저 선호도 및 아이템간  유사도, 기여도가 의미있게 측정되었다. | 의미있게 측정됨. 8)항 참고. <br> 《crimson tide (1995), 기여도 0.061》와 《top gun (1986), 기여도 0.027》이 영향을 주어 《커리지 언더 파이어 (1996), 0.086》 추천됨 |"
   ]
  },
  {
   "cell_type": "markdown",
   "metadata": {},
   "source": [
    "## 회고\n",
    "\n",
    "- 모델 훈련시 선호도(정확도)값만 나옴\n",
    "  - 다른 모델들에서는 training accuracy와 validation accuracy를 비교해서 과대적합을 피할 수 있었으나<br>\n",
    "    프로젝트에서 사용한 als (Alternating Least Suares) 모델에서는 어떻게 할 수 있는지???\n",
    "- 추천 결과를 보면 적은 데이터로 학습을 시켰음에도 불구하고 추천이 잘 이루어지는 것 같음\n",
    "- 실제 사용하기 위해서는 많은 보완(데이터 특성 항목 및 데이터 수 확대, 정교한 모델의 선택 등) 이 필요하겠음\n",
    "  "
   ]
  }
 ],
 "metadata": {
  "kernelspec": {
   "display_name": "Python 3",
   "language": "python",
   "name": "python3"
  },
  "language_info": {
   "codemirror_mode": {
    "name": "ipython",
    "version": 3
   },
   "file_extension": ".py",
   "mimetype": "text/x-python",
   "name": "python",
   "nbconvert_exporter": "python",
   "pygments_lexer": "ipython3",
   "version": "3.7.5"
  }
 },
 "nbformat": 4,
 "nbformat_minor": 5
}
