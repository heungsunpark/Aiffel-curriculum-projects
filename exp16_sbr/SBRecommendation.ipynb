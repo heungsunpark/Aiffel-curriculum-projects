{
 "cells": [
  {
   "cell_type": "markdown",
   "id": "4ed0029b",
   "metadata": {},
   "source": [
    "# 16-6. 프로젝트 - Movielens 영화 SBR\n",
    "- 이번에 우리는 Movielens 1M Dataset을 기반으로, Session based Recommendation 시스템을 제작해 보겠습니다."
   ]
  },
  {
   "cell_type": "markdown",
   "id": "f6f953d9",
   "metadata": {},
   "source": [
    "****\n",
    "### 코드 목차\n",
    "**Step 1. 데이터의 전처리**\n",
    "- 1-1. Data Load\n",
    "  - (1) UTC Time 형식인 Time 컬럼을 Pandas dataetime 객체로 변경\n",
    "  - (2) 데이터 확인\n",
    "  - (3) Rating값 2 이하인 행을 데이터에서 제외\n",
    "  - (4) Session 구성\n",
    "    - 1) UserId=1 인 데이터의 시각(Time) 확인\n",
    "    - 2) Time 열 기준으로 데이터 확인\n",
    "    - 3) 시각을 1분 단위로 표시\n",
    "    - 4) UserId별 1분 단위를 하나의 Session으로 하여 SessionId 생성\n",
    "- 1-2. Session Length\n",
    "- 1-3. Session Time\n",
    "- 1-4. Data Cleansing\n",
    "- 1-5. Train/Valid/Test Split\n",
    "\n",
    "(이하 교재 내용과 동일)\n",
    "**Step 2. 미니 배치의 구성**\n",
    "- 2-1. Session Dataset\n",
    "- 2-2. Session DataLoader \n",
    "\n",
    "**Step 3. 모델 구성**\n",
    "- 3-1. Evaluation Metric\n",
    "- 3-2. Model Architecture\n",
    "\n",
    "**Step 4. 모델 학습**\n",
    "\n",
    "**Step 5. 모델 테스트**  \n",
    "\n",
    "****"
   ]
  },
  {
   "cell_type": "markdown",
   "id": "3bf77aee",
   "metadata": {},
   "source": [
    "- 주요 라이브러리 Import"
   ]
  },
  {
   "cell_type": "code",
   "execution_count": 1,
   "id": "e82c9e85",
   "metadata": {},
   "outputs": [],
   "source": [
    "import datetime as dt\n",
    "from pathlib import Path\n",
    "import os\n",
    "\n",
    "import numpy as np\n",
    "import pandas as pd\n",
    "import warnings\n",
    "warnings.filterwarnings('ignore')"
   ]
  },
  {
   "cell_type": "markdown",
   "id": "f2a09ef4",
   "metadata": {},
   "source": [
    "1) 데이터 확인\n",
    "- \\$ ls -l ~/data\n",
    "\n",
    "2) 프로젝트 폴더 생성\n",
    "- \\$ mkdir -p ~/aiffel/yoochoose\n",
    "\n",
    "3) 프로젝트 폴더로 데이터 폴더 링크 연결\n",
    "- \\$ ln -s ~/data/* ~/aiffel/yoochoose/data"
   ]
  },
  {
   "cell_type": "code",
   "execution_count": 2,
   "id": "01ae0793",
   "metadata": {},
   "outputs": [
    {
     "data": {
      "text/html": [
       "<div>\n",
       "<style scoped>\n",
       "    .dataframe tbody tr th:only-of-type {\n",
       "        vertical-align: middle;\n",
       "    }\n",
       "\n",
       "    .dataframe tbody tr th {\n",
       "        vertical-align: top;\n",
       "    }\n",
       "\n",
       "    .dataframe thead th {\n",
       "        text-align: right;\n",
       "    }\n",
       "</style>\n",
       "<table border=\"1\" class=\"dataframe\">\n",
       "  <thead>\n",
       "    <tr style=\"text-align: right;\">\n",
       "      <th></th>\n",
       "      <th>UserId</th>\n",
       "      <th>ItemId</th>\n",
       "      <th>Rating</th>\n",
       "      <th>Time</th>\n",
       "    </tr>\n",
       "  </thead>\n",
       "  <tbody>\n",
       "    <tr>\n",
       "      <th>31</th>\n",
       "      <td>1</td>\n",
       "      <td>3186</td>\n",
       "      <td>4</td>\n",
       "      <td>978300019</td>\n",
       "    </tr>\n",
       "    <tr>\n",
       "      <th>22</th>\n",
       "      <td>1</td>\n",
       "      <td>1270</td>\n",
       "      <td>5</td>\n",
       "      <td>978300055</td>\n",
       "    </tr>\n",
       "    <tr>\n",
       "      <th>27</th>\n",
       "      <td>1</td>\n",
       "      <td>1721</td>\n",
       "      <td>4</td>\n",
       "      <td>978300055</td>\n",
       "    </tr>\n",
       "    <tr>\n",
       "      <th>37</th>\n",
       "      <td>1</td>\n",
       "      <td>1022</td>\n",
       "      <td>5</td>\n",
       "      <td>978300055</td>\n",
       "    </tr>\n",
       "    <tr>\n",
       "      <th>24</th>\n",
       "      <td>1</td>\n",
       "      <td>2340</td>\n",
       "      <td>3</td>\n",
       "      <td>978300103</td>\n",
       "    </tr>\n",
       "    <tr>\n",
       "      <th>...</th>\n",
       "      <td>...</td>\n",
       "      <td>...</td>\n",
       "      <td>...</td>\n",
       "      <td>...</td>\n",
       "    </tr>\n",
       "    <tr>\n",
       "      <th>1000019</th>\n",
       "      <td>6040</td>\n",
       "      <td>2917</td>\n",
       "      <td>4</td>\n",
       "      <td>997454429</td>\n",
       "    </tr>\n",
       "    <tr>\n",
       "      <th>999988</th>\n",
       "      <td>6040</td>\n",
       "      <td>1921</td>\n",
       "      <td>4</td>\n",
       "      <td>997454464</td>\n",
       "    </tr>\n",
       "    <tr>\n",
       "      <th>1000172</th>\n",
       "      <td>6040</td>\n",
       "      <td>1784</td>\n",
       "      <td>3</td>\n",
       "      <td>997454464</td>\n",
       "    </tr>\n",
       "    <tr>\n",
       "      <th>1000167</th>\n",
       "      <td>6040</td>\n",
       "      <td>161</td>\n",
       "      <td>3</td>\n",
       "      <td>997454486</td>\n",
       "    </tr>\n",
       "    <tr>\n",
       "      <th>1000042</th>\n",
       "      <td>6040</td>\n",
       "      <td>1221</td>\n",
       "      <td>4</td>\n",
       "      <td>998315055</td>\n",
       "    </tr>\n",
       "  </tbody>\n",
       "</table>\n",
       "<p>1000209 rows × 4 columns</p>\n",
       "</div>"
      ],
      "text/plain": [
       "         UserId  ItemId  Rating       Time\n",
       "31            1    3186       4  978300019\n",
       "22            1    1270       5  978300055\n",
       "27            1    1721       4  978300055\n",
       "37            1    1022       5  978300055\n",
       "24            1    2340       3  978300103\n",
       "...         ...     ...     ...        ...\n",
       "1000019    6040    2917       4  997454429\n",
       "999988     6040    1921       4  997454464\n",
       "1000172    6040    1784       3  997454464\n",
       "1000167    6040     161       3  997454486\n",
       "1000042    6040    1221       4  998315055\n",
       "\n",
       "[1000209 rows x 4 columns]"
      ]
     },
     "execution_count": 2,
     "metadata": {},
     "output_type": "execute_result"
    }
   ],
   "source": [
    "data_path = Path(os.getenv('HOME')+'/aiffel/yoochoose/data/') \n",
    "train_path = data_path / 'ratings.dat'\n",
    "\n",
    "def load_data(data_path: Path, nrows=None):\n",
    "    data = pd.read_csv(data_path, sep='::', header=None, usecols=[0, 1, 2, 3], dtype={0: np.int32, 1: np.int32, 2: np.int32}, nrows=nrows)\n",
    "    data.columns = ['UserId', 'ItemId', 'Rating', 'Time']\n",
    "    return data\n",
    "\n",
    "data = load_data(train_path, None)\n",
    "data.sort_values(['UserId', 'Time'], inplace=True)  # data를 id와 시간 순서로 정렬해줍니다.\n",
    "data"
   ]
  },
  {
   "cell_type": "markdown",
   "id": "62940226",
   "metadata": {},
   "source": [
    "- 여기서 이전 실습 내역과 가장 크게 다른 부분은 바로 SessionID 대신 UserID 항목이 들어갔다는 점입니다.\n",
    "  - 이 데이터셋은 명확한 1회 세션의 SessionID를 포함하지 않고 있습니다. \n",
    "  - 그래서 이번에는 UserID가 SessionID 역할을 해야 합니다.\n",
    "\n",
    "- Rating 정보가 포함되어 있습니다. \n",
    "  - 이전 실습 내역에서는 이런 항목이 포함되어 있지 않았으므로, 무시하고 제외할 수 있습니다. \n",
    "  - 하지만, 직전에 봤던 영화가 맘에 들었는지가 비슷한 영화를 더 고르게 하는 것과 상관이 있을 수도 있습니다. \n",
    "  - 아울러, Rating이 낮은 데이터를 어떻게 처리할지도 고민해야 합니다.\n",
    "\n",
    "- Time 항목에는 UTC time 가 포함되어, 1970년 1월 1일부터 경과된 초 단위 시간이 기재되어 있습니다.\n",
    "<br> <br> \n",
    "- 위와 같은 정보를 바탕으로 오늘의 실습과정과 유사한 프로젝트 과정을 진행해 보겠습니다."
   ]
  },
  {
   "cell_type": "markdown",
   "id": "6d5a6adf",
   "metadata": {},
   "source": [
    "# Step 1. 데이터의 전처리\n",
    "위와 같이 간단히 구성해 본 데이터셋을 꼼꼼히 살펴보면서 항목별 기본 분석, session length, session time, cleaning 등의 작업을 진행합니다.\n",
    "특히, 이 데이터셋에서는 Session이 아닌 UserID 단위로 데이터가 생성되어 있으므로, **이를 Session 단위로 어떻게 해석할지**에 주의합니다."
   ]
  },
  {
   "cell_type": "markdown",
   "id": "40155363",
   "metadata": {},
   "source": [
    "## 1-1. Data Load\n",
    "- 데이터를 불러와 살펴보고 주요 통계치들 확인\n",
    "  - 컬럼명: UserId, ItemId, Rating, Time"
   ]
  },
  {
   "cell_type": "markdown",
   "id": "e04dca07",
   "metadata": {},
   "source": [
    "### (1) UTC Time 형식인 Time 컬럼을 Pandas datetime 객체로 변경\n",
    "  - 시간 관련 정보 확인"
   ]
  },
  {
   "cell_type": "code",
   "execution_count": 3,
   "id": "ea70fc7b",
   "metadata": {},
   "outputs": [
    {
     "name": "stdout",
     "output_type": "stream",
     "text": [
      "2000-04-25 23:05:32\n",
      "2003-02-28 17:49:50\n"
     ]
    },
    {
     "data": {
      "text/html": [
       "<div>\n",
       "<style scoped>\n",
       "    .dataframe tbody tr th:only-of-type {\n",
       "        vertical-align: middle;\n",
       "    }\n",
       "\n",
       "    .dataframe tbody tr th {\n",
       "        vertical-align: top;\n",
       "    }\n",
       "\n",
       "    .dataframe thead th {\n",
       "        text-align: right;\n",
       "    }\n",
       "</style>\n",
       "<table border=\"1\" class=\"dataframe\">\n",
       "  <thead>\n",
       "    <tr style=\"text-align: right;\">\n",
       "      <th></th>\n",
       "      <th>UserId</th>\n",
       "      <th>ItemId</th>\n",
       "      <th>Rating</th>\n",
       "      <th>Time</th>\n",
       "    </tr>\n",
       "  </thead>\n",
       "  <tbody>\n",
       "    <tr>\n",
       "      <th>31</th>\n",
       "      <td>1</td>\n",
       "      <td>3186</td>\n",
       "      <td>4</td>\n",
       "      <td>2000-12-31 22:00:19</td>\n",
       "    </tr>\n",
       "    <tr>\n",
       "      <th>22</th>\n",
       "      <td>1</td>\n",
       "      <td>1270</td>\n",
       "      <td>5</td>\n",
       "      <td>2000-12-31 22:00:55</td>\n",
       "    </tr>\n",
       "    <tr>\n",
       "      <th>27</th>\n",
       "      <td>1</td>\n",
       "      <td>1721</td>\n",
       "      <td>4</td>\n",
       "      <td>2000-12-31 22:00:55</td>\n",
       "    </tr>\n",
       "    <tr>\n",
       "      <th>37</th>\n",
       "      <td>1</td>\n",
       "      <td>1022</td>\n",
       "      <td>5</td>\n",
       "      <td>2000-12-31 22:00:55</td>\n",
       "    </tr>\n",
       "    <tr>\n",
       "      <th>24</th>\n",
       "      <td>1</td>\n",
       "      <td>2340</td>\n",
       "      <td>3</td>\n",
       "      <td>2000-12-31 22:01:43</td>\n",
       "    </tr>\n",
       "  </tbody>\n",
       "</table>\n",
       "</div>"
      ],
      "text/plain": [
       "    UserId  ItemId  Rating                Time\n",
       "31       1    3186       4 2000-12-31 22:00:19\n",
       "22       1    1270       5 2000-12-31 22:00:55\n",
       "27       1    1721       4 2000-12-31 22:00:55\n",
       "37       1    1022       5 2000-12-31 22:00:55\n",
       "24       1    2340       3 2000-12-31 22:01:43"
      ]
     },
     "execution_count": 3,
     "metadata": {},
     "output_type": "execute_result"
    }
   ],
   "source": [
    "# UTC Time 형식인 Time 컬럼을 datetime 객체로 변경\n",
    "data['Time'] = data['Time'].apply(lambda x:dt.datetime.utcfromtimestamp(int(x)))\n",
    "\n",
    "# 시간 관련 정보 확인\n",
    "oldest, latest = data['Time'].min(), data['Time'].max()\n",
    "print(oldest) \n",
    "print(latest)\n",
    "data.head()"
   ]
  },
  {
   "cell_type": "markdown",
   "id": "9a3fae47",
   "metadata": {},
   "source": [
    "### (2) 데이터 확인"
   ]
  },
  {
   "cell_type": "code",
   "execution_count": 4,
   "id": "91ce8aa2",
   "metadata": {},
   "outputs": [
    {
     "name": "stdout",
     "output_type": "stream",
     "text": [
      "(1000209, 4)\n",
      "<class 'pandas.core.frame.DataFrame'>\n",
      "Int64Index: 1000209 entries, 31 to 1000042\n",
      "Data columns (total 4 columns):\n",
      " #   Column  Non-Null Count    Dtype         \n",
      "---  ------  --------------    -----         \n",
      " 0   UserId  1000209 non-null  int32         \n",
      " 1   ItemId  1000209 non-null  int32         \n",
      " 2   Rating  1000209 non-null  int32         \n",
      " 3   Time    1000209 non-null  datetime64[ns]\n",
      "dtypes: datetime64[ns](1), int32(3)\n",
      "memory usage: 26.7 MB\n",
      "None\n"
     ]
    }
   ],
   "source": [
    "print(data.shape)\n",
    "print(data.info())"
   ]
  },
  {
   "cell_type": "markdown",
   "id": "6647e4b4",
   "metadata": {},
   "source": [
    "- 컬럼별 Data Type(Dtype) 확인 및 결측치 없음 확인\n",
    "- 1백만여 개(1,000,209개)의 데이터"
   ]
  },
  {
   "cell_type": "markdown",
   "id": "e843826b",
   "metadata": {},
   "source": [
    "- Unique한 유저 수, 아이템 수 확인, 시각(Time) 수 확인"
   ]
  },
  {
   "cell_type": "code",
   "execution_count": 5,
   "id": "6ecbe76f",
   "metadata": {},
   "outputs": [
    {
     "data": {
      "text/plain": [
       "(6040, 3706, 458455)"
      ]
     },
     "execution_count": 5,
     "metadata": {},
     "output_type": "execute_result"
    }
   ],
   "source": [
    "data['UserId'].nunique(), data['ItemId'].nunique(), data['Time'].nunique()"
   ]
  },
  {
   "cell_type": "markdown",
   "id": "1960293a",
   "metadata": {},
   "source": [
    "- 유저 6,040개, 아이템 3,706개, 시각 457,192개"
   ]
  },
  {
   "cell_type": "markdown",
   "id": "58d7cb10",
   "metadata": {},
   "source": [
    "### (3) Rating값 2 이하인 행을 데이터에서 제외"
   ]
  },
  {
   "cell_type": "markdown",
   "id": "ce267445",
   "metadata": {},
   "source": [
    "- 시스템의 목적이 **추천**이므로 Rating값이 2 이하인 것을 추천에서 제외하기 위해 Rating별 데이터 수 확인"
   ]
  },
  {
   "cell_type": "code",
   "execution_count": 6,
   "id": "afad751c",
   "metadata": {},
   "outputs": [
    {
     "name": "stdout",
     "output_type": "stream",
     "text": [
      "        UserId  ItemId    Time\n",
      "Rating                        \n",
      "1        56174   56174   56174\n",
      "2       107557  107557  107557\n",
      "3       261197  261197  261197\n",
      "4       348971  348971  348971\n",
      "5       226310  226310  226310\n"
     ]
    }
   ],
   "source": [
    "count_by_rating = data.groupby('Rating').count()\n",
    "print(count_by_rating)"
   ]
  },
  {
   "cell_type": "markdown",
   "id": "40a5b5a6",
   "metadata": {},
   "source": [
    "- Rating값이 3 이상인 행만 data_1으로 저장"
   ]
  },
  {
   "cell_type": "code",
   "execution_count": 7,
   "id": "2ec60d54",
   "metadata": {},
   "outputs": [
    {
     "name": "stdout",
     "output_type": "stream",
     "text": [
      "         UserId  ItemId  Rating                Time\n",
      "31            1    3186       4 2000-12-31 22:00:19\n",
      "22            1    1270       5 2000-12-31 22:00:55\n",
      "27            1    1721       4 2000-12-31 22:00:55\n",
      "37            1    1022       5 2000-12-31 22:00:55\n",
      "24            1    2340       3 2000-12-31 22:01:43\n",
      "...         ...     ...     ...                 ...\n",
      "1000019    6040    2917       4 2001-08-10 14:40:29\n",
      "999988     6040    1921       4 2001-08-10 14:41:04\n",
      "1000172    6040    1784       3 2001-08-10 14:41:04\n",
      "1000167    6040     161       3 2001-08-10 14:41:26\n",
      "1000042    6040    1221       4 2001-08-20 13:44:15\n",
      "\n",
      "[836478 rows x 4 columns]\n"
     ]
    }
   ],
   "source": [
    "data_1 = data[data['Rating'] >= 3]\n",
    "print(data_1)"
   ]
  },
  {
   "cell_type": "markdown",
   "id": "3442f180",
   "metadata": {},
   "source": [
    "### (4) Session 구성"
   ]
  },
  {
   "cell_type": "markdown",
   "id": "ef79999d",
   "metadata": {},
   "source": [
    "1) \"UserId = 1\"인 데이터의 시각 확인"
   ]
  },
  {
   "cell_type": "code",
   "execution_count": 8,
   "id": "4a226b15",
   "metadata": {},
   "outputs": [
    {
     "name": "stdout",
     "output_type": "stream",
     "text": [
      "    UserId  ItemId  Rating                Time\n",
      "31       1    3186       4 2000-12-31 22:00:19\n",
      "22       1    1270       5 2000-12-31 22:00:55\n",
      "27       1    1721       4 2000-12-31 22:00:55\n",
      "37       1    1022       5 2000-12-31 22:00:55\n",
      "24       1    2340       3 2000-12-31 22:01:43\n",
      "36       1    1836       5 2000-12-31 22:02:52\n",
      "3        1    3408       4 2000-12-31 22:04:35\n",
      "7        1    2804       5 2000-12-31 22:11:59\n",
      "47       1    1207       4 2000-12-31 22:11:59\n",
      "0        1    1193       5 2000-12-31 22:12:40\n",
      "21       1     720       3 2000-12-31 22:12:40\n",
      "44       1     260       4 2000-12-31 22:12:40\n",
      "9        1     919       4 2000-12-31 22:22:48\n",
      "51       1     608       4 2000-12-31 22:23:18\n",
      "43       1    2692       4 2000-12-31 22:26:10\n",
      "41       1    1961       5 2000-12-31 22:26:30\n",
      "48       1    2028       5 2000-12-31 22:26:59\n",
      "18       1    3105       5 2000-12-31 22:28:33\n",
      "11       1     938       4 2000-12-31 22:29:12\n",
      "14       1    1035       5 2000-12-31 22:29:13\n",
      "42       1    1962       4 2000-12-31 22:29:13\n",
      "17       1    2018       4 2000-12-31 22:29:37\n",
      "39       1     150       5 2000-12-31 22:29:37\n",
      "45       1    1028       5 2000-12-31 22:29:37\n",
      "26       1    1097       4 2000-12-31 22:32:33\n",
      "2        1     914       3 2000-12-31 22:32:48\n",
      "6        1    1287       5 2000-12-31 22:33:59\n",
      "19       1    2797       4 2000-12-31 22:33:59\n",
      "38       1    2762       4 2000-12-31 22:34:51\n",
      "52       1    1246       4 2000-12-31 22:34:51\n",
      "1        1     661       3 2000-12-31 22:35:09\n",
      "13       1    2918       4 2000-12-31 22:35:24\n",
      "49       1     531       4 2000-12-31 22:35:49\n",
      "50       1    3114       4 2000-12-31 22:36:14\n",
      "15       1    2791       4 2000-12-31 22:36:28\n",
      "20       1    2321       3 2000-12-31 22:36:45\n",
      "46       1    1029       5 2000-12-31 22:36:45\n",
      "5        1    1197       3 2000-12-31 22:37:48\n",
      "8        1     594       4 2000-12-31 22:37:48\n",
      "12       1    2398       4 2000-12-31 22:38:01\n",
      "28       1    1545       4 2001-01-06 23:35:39\n",
      "23       1     527       5 2001-01-06 23:36:35\n",
      "10       1     595       5 2001-01-06 23:37:48\n",
      "16       1    2687       3 2001-01-06 23:37:48\n",
      "29       1     745       3 2001-01-06 23:37:48\n",
      "33       1     588       4 2001-01-06 23:37:48\n",
      "40       1       1       5 2001-01-06 23:37:48\n",
      "4        1    2355       5 2001-01-06 23:38:11\n",
      "30       1    2294       4 2001-01-06 23:38:11\n",
      "35       1     783       4 2001-01-06 23:38:11\n",
      "32       1    1566       4 2001-01-06 23:38:50\n",
      "34       1    1907       4 2001-01-06 23:38:50\n",
      "25       1      48       5 2001-01-06 23:39:11\n"
     ]
    }
   ],
   "source": [
    "print(data_1[data_1['UserId'] == 1])"
   ]
  },
  {
   "cell_type": "markdown",
   "id": "d710a5fa",
   "metadata": {},
   "source": [
    "2) Time열 기준으로 데이터 확인"
   ]
  },
  {
   "cell_type": "code",
   "execution_count": 9,
   "id": "e6b45c90",
   "metadata": {},
   "outputs": [
    {
     "data": {
      "text/html": [
       "<div>\n",
       "<style scoped>\n",
       "    .dataframe tbody tr th:only-of-type {\n",
       "        vertical-align: middle;\n",
       "    }\n",
       "\n",
       "    .dataframe tbody tr th {\n",
       "        vertical-align: top;\n",
       "    }\n",
       "\n",
       "    .dataframe thead th {\n",
       "        text-align: right;\n",
       "    }\n",
       "</style>\n",
       "<table border=\"1\" class=\"dataframe\">\n",
       "  <thead>\n",
       "    <tr style=\"text-align: right;\">\n",
       "      <th></th>\n",
       "      <th>UserId</th>\n",
       "      <th>ItemId</th>\n",
       "      <th>Rating</th>\n",
       "      <th>Time</th>\n",
       "    </tr>\n",
       "  </thead>\n",
       "  <tbody>\n",
       "    <tr>\n",
       "      <th>1000138</th>\n",
       "      <td>6040</td>\n",
       "      <td>858</td>\n",
       "      <td>4</td>\n",
       "      <td>2000-04-25 23:05:32</td>\n",
       "    </tr>\n",
       "    <tr>\n",
       "      <th>1000153</th>\n",
       "      <td>6040</td>\n",
       "      <td>2384</td>\n",
       "      <td>4</td>\n",
       "      <td>2000-04-25 23:05:54</td>\n",
       "    </tr>\n",
       "    <tr>\n",
       "      <th>999873</th>\n",
       "      <td>6040</td>\n",
       "      <td>593</td>\n",
       "      <td>5</td>\n",
       "      <td>2000-04-25 23:05:54</td>\n",
       "    </tr>\n",
       "    <tr>\n",
       "      <th>1000192</th>\n",
       "      <td>6040</td>\n",
       "      <td>2019</td>\n",
       "      <td>5</td>\n",
       "      <td>2000-04-25 23:06:17</td>\n",
       "    </tr>\n",
       "    <tr>\n",
       "      <th>1000007</th>\n",
       "      <td>6040</td>\n",
       "      <td>1961</td>\n",
       "      <td>4</td>\n",
       "      <td>2000-04-25 23:06:17</td>\n",
       "    </tr>\n",
       "    <tr>\n",
       "      <th>...</th>\n",
       "      <td>...</td>\n",
       "      <td>...</td>\n",
       "      <td>...</td>\n",
       "      <td>...</td>\n",
       "    </tr>\n",
       "    <tr>\n",
       "      <th>825526</th>\n",
       "      <td>4958</td>\n",
       "      <td>3489</td>\n",
       "      <td>4</td>\n",
       "      <td>2003-02-28 17:45:20</td>\n",
       "    </tr>\n",
       "    <tr>\n",
       "      <th>825438</th>\n",
       "      <td>4958</td>\n",
       "      <td>1407</td>\n",
       "      <td>5</td>\n",
       "      <td>2003-02-28 17:47:23</td>\n",
       "    </tr>\n",
       "    <tr>\n",
       "      <th>825731</th>\n",
       "      <td>4958</td>\n",
       "      <td>2634</td>\n",
       "      <td>3</td>\n",
       "      <td>2003-02-28 17:49:08</td>\n",
       "    </tr>\n",
       "    <tr>\n",
       "      <th>825724</th>\n",
       "      <td>4958</td>\n",
       "      <td>3264</td>\n",
       "      <td>4</td>\n",
       "      <td>2003-02-28 17:49:08</td>\n",
       "    </tr>\n",
       "    <tr>\n",
       "      <th>825603</th>\n",
       "      <td>4958</td>\n",
       "      <td>1924</td>\n",
       "      <td>4</td>\n",
       "      <td>2003-02-28 17:49:50</td>\n",
       "    </tr>\n",
       "  </tbody>\n",
       "</table>\n",
       "<p>836478 rows × 4 columns</p>\n",
       "</div>"
      ],
      "text/plain": [
       "         UserId  ItemId  Rating                Time\n",
       "1000138    6040     858       4 2000-04-25 23:05:32\n",
       "1000153    6040    2384       4 2000-04-25 23:05:54\n",
       "999873     6040     593       5 2000-04-25 23:05:54\n",
       "1000192    6040    2019       5 2000-04-25 23:06:17\n",
       "1000007    6040    1961       4 2000-04-25 23:06:17\n",
       "...         ...     ...     ...                 ...\n",
       "825526     4958    3489       4 2003-02-28 17:45:20\n",
       "825438     4958    1407       5 2003-02-28 17:47:23\n",
       "825731     4958    2634       3 2003-02-28 17:49:08\n",
       "825724     4958    3264       4 2003-02-28 17:49:08\n",
       "825603     4958    1924       4 2003-02-28 17:49:50\n",
       "\n",
       "[836478 rows x 4 columns]"
      ]
     },
     "execution_count": 9,
     "metadata": {},
     "output_type": "execute_result"
    }
   ],
   "source": [
    "data_1.sort_values(by=['Time'], axis=0)"
   ]
  },
  {
   "cell_type": "markdown",
   "id": "453a0461",
   "metadata": {},
   "source": [
    "- <span style=\"color:blue\">**1)과 2)를 통해 UserID 무관하게 Time 기준 1분 단위로 Session 구성하기로 함**</span>\n",
    "- <span style=\"color:blue\">세션 기반 추천의 세션 구성으로 적절하다고 판단</span>"
   ]
  },
  {
   "cell_type": "markdown",
   "id": "6fafddda",
   "metadata": {},
   "source": [
    "3) 시각을 1분 단위로 표시"
   ]
  },
  {
   "cell_type": "code",
   "execution_count": 10,
   "id": "d6f68126",
   "metadata": {},
   "outputs": [
    {
     "data": {
      "text/html": [
       "<div>\n",
       "<style scoped>\n",
       "    .dataframe tbody tr th:only-of-type {\n",
       "        vertical-align: middle;\n",
       "    }\n",
       "\n",
       "    .dataframe tbody tr th {\n",
       "        vertical-align: top;\n",
       "    }\n",
       "\n",
       "    .dataframe thead th {\n",
       "        text-align: right;\n",
       "    }\n",
       "</style>\n",
       "<table border=\"1\" class=\"dataframe\">\n",
       "  <thead>\n",
       "    <tr style=\"text-align: right;\">\n",
       "      <th></th>\n",
       "      <th>UserId</th>\n",
       "      <th>ItemId</th>\n",
       "      <th>Rating</th>\n",
       "      <th>Time</th>\n",
       "      <th>Time_min</th>\n",
       "    </tr>\n",
       "  </thead>\n",
       "  <tbody>\n",
       "    <tr>\n",
       "      <th>31</th>\n",
       "      <td>1</td>\n",
       "      <td>3186</td>\n",
       "      <td>4</td>\n",
       "      <td>2000-12-31 22:00:19</td>\n",
       "      <td>2000-12-31 22:00</td>\n",
       "    </tr>\n",
       "    <tr>\n",
       "      <th>22</th>\n",
       "      <td>1</td>\n",
       "      <td>1270</td>\n",
       "      <td>5</td>\n",
       "      <td>2000-12-31 22:00:55</td>\n",
       "      <td>2000-12-31 22:00</td>\n",
       "    </tr>\n",
       "    <tr>\n",
       "      <th>27</th>\n",
       "      <td>1</td>\n",
       "      <td>1721</td>\n",
       "      <td>4</td>\n",
       "      <td>2000-12-31 22:00:55</td>\n",
       "      <td>2000-12-31 22:00</td>\n",
       "    </tr>\n",
       "    <tr>\n",
       "      <th>37</th>\n",
       "      <td>1</td>\n",
       "      <td>1022</td>\n",
       "      <td>5</td>\n",
       "      <td>2000-12-31 22:00:55</td>\n",
       "      <td>2000-12-31 22:00</td>\n",
       "    </tr>\n",
       "    <tr>\n",
       "      <th>24</th>\n",
       "      <td>1</td>\n",
       "      <td>2340</td>\n",
       "      <td>3</td>\n",
       "      <td>2000-12-31 22:01:43</td>\n",
       "      <td>2000-12-31 22:01</td>\n",
       "    </tr>\n",
       "  </tbody>\n",
       "</table>\n",
       "</div>"
      ],
      "text/plain": [
       "    UserId  ItemId  Rating                Time          Time_min\n",
       "31       1    3186       4 2000-12-31 22:00:19  2000-12-31 22:00\n",
       "22       1    1270       5 2000-12-31 22:00:55  2000-12-31 22:00\n",
       "27       1    1721       4 2000-12-31 22:00:55  2000-12-31 22:00\n",
       "37       1    1022       5 2000-12-31 22:00:55  2000-12-31 22:00\n",
       "24       1    2340       3 2000-12-31 22:01:43  2000-12-31 22:01"
      ]
     },
     "execution_count": 10,
     "metadata": {},
     "output_type": "execute_result"
    }
   ],
   "source": [
    "def sec_min(time):\n",
    "    return time.strftime('%Y-%m-%d %H:%M')\n",
    "        \n",
    "data_1['Time_min'] = data_1['Time'].apply(sec_min)\n",
    "data_1.head()"
   ]
  },
  {
   "cell_type": "markdown",
   "id": "9a1b762e",
   "metadata": {},
   "source": [
    "4) **UserId별 1분 단위를 하나의 세션으로 하여 SessionID 생성**"
   ]
  },
  {
   "cell_type": "markdown",
   "id": "c9053bed",
   "metadata": {},
   "source": [
    "- 데이터를 UserId별 1분 단위로 묶은 후 분 단위로 발생한 아이템 수 확인 "
   ]
  },
  {
   "cell_type": "code",
   "execution_count": 11,
   "id": "cadb3691",
   "metadata": {},
   "outputs": [
    {
     "data": {
      "text/plain": [
       "UserId  Time_min        \n",
       "1       2000-12-31 22:00    4\n",
       "        2000-12-31 22:01    1\n",
       "        2000-12-31 22:02    1\n",
       "        2000-12-31 22:04    1\n",
       "        2000-12-31 22:11    2\n",
       "                           ..\n",
       "6040    2001-08-10 14:36    3\n",
       "        2001-08-10 14:39    3\n",
       "        2001-08-10 14:40    1\n",
       "        2001-08-10 14:41    3\n",
       "        2001-08-20 13:44    1\n",
       "Name: ItemId, Length: 265481, dtype: int64"
      ]
     },
     "execution_count": 11,
     "metadata": {},
     "output_type": "execute_result"
    }
   ],
   "source": [
    "data_min = data_1.groupby(['UserId', 'Time_min'])['ItemId'].count()\n",
    "data_min"
   ]
  },
  {
   "cell_type": "markdown",
   "id": "cbfc67a3",
   "metadata": {},
   "source": [
    "- <span style=\"color:blue\">**data_min 시리즈를 데이터프레임(min_frame)으로 변경**</span>\n",
    "- <span style=\"color:blue\">**이를 reset_index 해서 Time_min을 컬럼으로 변경 (= reindex_min)**</span>"
   ]
  },
  {
   "cell_type": "code",
   "execution_count": 12,
   "id": "f44b57d0",
   "metadata": {},
   "outputs": [
    {
     "data": {
      "text/html": [
       "<div>\n",
       "<style scoped>\n",
       "    .dataframe tbody tr th:only-of-type {\n",
       "        vertical-align: middle;\n",
       "    }\n",
       "\n",
       "    .dataframe tbody tr th {\n",
       "        vertical-align: top;\n",
       "    }\n",
       "\n",
       "    .dataframe thead th {\n",
       "        text-align: right;\n",
       "    }\n",
       "</style>\n",
       "<table border=\"1\" class=\"dataframe\">\n",
       "  <thead>\n",
       "    <tr style=\"text-align: right;\">\n",
       "      <th></th>\n",
       "      <th>UserId</th>\n",
       "      <th>Time_min</th>\n",
       "      <th>ItemId</th>\n",
       "    </tr>\n",
       "  </thead>\n",
       "  <tbody>\n",
       "    <tr>\n",
       "      <th>0</th>\n",
       "      <td>1</td>\n",
       "      <td>2000-12-31 22:00</td>\n",
       "      <td>4</td>\n",
       "    </tr>\n",
       "    <tr>\n",
       "      <th>1</th>\n",
       "      <td>1</td>\n",
       "      <td>2000-12-31 22:01</td>\n",
       "      <td>1</td>\n",
       "    </tr>\n",
       "    <tr>\n",
       "      <th>2</th>\n",
       "      <td>1</td>\n",
       "      <td>2000-12-31 22:02</td>\n",
       "      <td>1</td>\n",
       "    </tr>\n",
       "    <tr>\n",
       "      <th>3</th>\n",
       "      <td>1</td>\n",
       "      <td>2000-12-31 22:04</td>\n",
       "      <td>1</td>\n",
       "    </tr>\n",
       "    <tr>\n",
       "      <th>4</th>\n",
       "      <td>1</td>\n",
       "      <td>2000-12-31 22:11</td>\n",
       "      <td>2</td>\n",
       "    </tr>\n",
       "    <tr>\n",
       "      <th>...</th>\n",
       "      <td>...</td>\n",
       "      <td>...</td>\n",
       "      <td>...</td>\n",
       "    </tr>\n",
       "    <tr>\n",
       "      <th>265476</th>\n",
       "      <td>6040</td>\n",
       "      <td>2001-08-10 14:36</td>\n",
       "      <td>3</td>\n",
       "    </tr>\n",
       "    <tr>\n",
       "      <th>265477</th>\n",
       "      <td>6040</td>\n",
       "      <td>2001-08-10 14:39</td>\n",
       "      <td>3</td>\n",
       "    </tr>\n",
       "    <tr>\n",
       "      <th>265478</th>\n",
       "      <td>6040</td>\n",
       "      <td>2001-08-10 14:40</td>\n",
       "      <td>1</td>\n",
       "    </tr>\n",
       "    <tr>\n",
       "      <th>265479</th>\n",
       "      <td>6040</td>\n",
       "      <td>2001-08-10 14:41</td>\n",
       "      <td>3</td>\n",
       "    </tr>\n",
       "    <tr>\n",
       "      <th>265480</th>\n",
       "      <td>6040</td>\n",
       "      <td>2001-08-20 13:44</td>\n",
       "      <td>1</td>\n",
       "    </tr>\n",
       "  </tbody>\n",
       "</table>\n",
       "<p>265481 rows × 3 columns</p>\n",
       "</div>"
      ],
      "text/plain": [
       "        UserId          Time_min  ItemId\n",
       "0            1  2000-12-31 22:00       4\n",
       "1            1  2000-12-31 22:01       1\n",
       "2            1  2000-12-31 22:02       1\n",
       "3            1  2000-12-31 22:04       1\n",
       "4            1  2000-12-31 22:11       2\n",
       "...        ...               ...     ...\n",
       "265476    6040  2001-08-10 14:36       3\n",
       "265477    6040  2001-08-10 14:39       3\n",
       "265478    6040  2001-08-10 14:40       1\n",
       "265479    6040  2001-08-10 14:41       3\n",
       "265480    6040  2001-08-20 13:44       1\n",
       "\n",
       "[265481 rows x 3 columns]"
      ]
     },
     "execution_count": 12,
     "metadata": {},
     "output_type": "execute_result"
    }
   ],
   "source": [
    "min_frame = data_min.to_frame()\n",
    "reindex_min = min_frame.reset_index()\n",
    "reindex_min"
   ]
  },
  {
   "cell_type": "markdown",
   "id": "04d78108",
   "metadata": {},
   "source": [
    "- <span style=\"color:blue\">**데이터프레임 reindex_min의 index를 Session ID로 사용하기 위해 다시 reset_index**</span>"
   ]
  },
  {
   "cell_type": "code",
   "execution_count": 13,
   "id": "0715d54a",
   "metadata": {},
   "outputs": [
    {
     "data": {
      "text/html": [
       "<div>\n",
       "<style scoped>\n",
       "    .dataframe tbody tr th:only-of-type {\n",
       "        vertical-align: middle;\n",
       "    }\n",
       "\n",
       "    .dataframe tbody tr th {\n",
       "        vertical-align: top;\n",
       "    }\n",
       "\n",
       "    .dataframe thead th {\n",
       "        text-align: right;\n",
       "    }\n",
       "</style>\n",
       "<table border=\"1\" class=\"dataframe\">\n",
       "  <thead>\n",
       "    <tr style=\"text-align: right;\">\n",
       "      <th></th>\n",
       "      <th>index</th>\n",
       "      <th>UserId</th>\n",
       "      <th>Time_min</th>\n",
       "      <th>ItemId</th>\n",
       "    </tr>\n",
       "  </thead>\n",
       "  <tbody>\n",
       "    <tr>\n",
       "      <th>0</th>\n",
       "      <td>0</td>\n",
       "      <td>1</td>\n",
       "      <td>2000-12-31 22:00</td>\n",
       "      <td>4</td>\n",
       "    </tr>\n",
       "    <tr>\n",
       "      <th>1</th>\n",
       "      <td>1</td>\n",
       "      <td>1</td>\n",
       "      <td>2000-12-31 22:01</td>\n",
       "      <td>1</td>\n",
       "    </tr>\n",
       "    <tr>\n",
       "      <th>2</th>\n",
       "      <td>2</td>\n",
       "      <td>1</td>\n",
       "      <td>2000-12-31 22:02</td>\n",
       "      <td>1</td>\n",
       "    </tr>\n",
       "    <tr>\n",
       "      <th>3</th>\n",
       "      <td>3</td>\n",
       "      <td>1</td>\n",
       "      <td>2000-12-31 22:04</td>\n",
       "      <td>1</td>\n",
       "    </tr>\n",
       "    <tr>\n",
       "      <th>4</th>\n",
       "      <td>4</td>\n",
       "      <td>1</td>\n",
       "      <td>2000-12-31 22:11</td>\n",
       "      <td>2</td>\n",
       "    </tr>\n",
       "    <tr>\n",
       "      <th>...</th>\n",
       "      <td>...</td>\n",
       "      <td>...</td>\n",
       "      <td>...</td>\n",
       "      <td>...</td>\n",
       "    </tr>\n",
       "    <tr>\n",
       "      <th>265476</th>\n",
       "      <td>265476</td>\n",
       "      <td>6040</td>\n",
       "      <td>2001-08-10 14:36</td>\n",
       "      <td>3</td>\n",
       "    </tr>\n",
       "    <tr>\n",
       "      <th>265477</th>\n",
       "      <td>265477</td>\n",
       "      <td>6040</td>\n",
       "      <td>2001-08-10 14:39</td>\n",
       "      <td>3</td>\n",
       "    </tr>\n",
       "    <tr>\n",
       "      <th>265478</th>\n",
       "      <td>265478</td>\n",
       "      <td>6040</td>\n",
       "      <td>2001-08-10 14:40</td>\n",
       "      <td>1</td>\n",
       "    </tr>\n",
       "    <tr>\n",
       "      <th>265479</th>\n",
       "      <td>265479</td>\n",
       "      <td>6040</td>\n",
       "      <td>2001-08-10 14:41</td>\n",
       "      <td>3</td>\n",
       "    </tr>\n",
       "    <tr>\n",
       "      <th>265480</th>\n",
       "      <td>265480</td>\n",
       "      <td>6040</td>\n",
       "      <td>2001-08-20 13:44</td>\n",
       "      <td>1</td>\n",
       "    </tr>\n",
       "  </tbody>\n",
       "</table>\n",
       "<p>265481 rows × 4 columns</p>\n",
       "</div>"
      ],
      "text/plain": [
       "         index  UserId          Time_min  ItemId\n",
       "0            0       1  2000-12-31 22:00       4\n",
       "1            1       1  2000-12-31 22:01       1\n",
       "2            2       1  2000-12-31 22:02       1\n",
       "3            3       1  2000-12-31 22:04       1\n",
       "4            4       1  2000-12-31 22:11       2\n",
       "...        ...     ...               ...     ...\n",
       "265476  265476    6040  2001-08-10 14:36       3\n",
       "265477  265477    6040  2001-08-10 14:39       3\n",
       "265478  265478    6040  2001-08-10 14:40       1\n",
       "265479  265479    6040  2001-08-10 14:41       3\n",
       "265480  265480    6040  2001-08-20 13:44       1\n",
       "\n",
       "[265481 rows x 4 columns]"
      ]
     },
     "execution_count": 13,
     "metadata": {},
     "output_type": "execute_result"
    }
   ],
   "source": [
    "q = reindex_min.reset_index()\n",
    "q"
   ]
  },
  {
   "cell_type": "markdown",
   "id": "330bee3b",
   "metadata": {},
   "source": [
    "- 컬럼명 index를 SessionID로 변경"
   ]
  },
  {
   "cell_type": "code",
   "execution_count": 14,
   "id": "31e3172c",
   "metadata": {},
   "outputs": [
    {
     "data": {
      "text/html": [
       "<div>\n",
       "<style scoped>\n",
       "    .dataframe tbody tr th:only-of-type {\n",
       "        vertical-align: middle;\n",
       "    }\n",
       "\n",
       "    .dataframe tbody tr th {\n",
       "        vertical-align: top;\n",
       "    }\n",
       "\n",
       "    .dataframe thead th {\n",
       "        text-align: right;\n",
       "    }\n",
       "</style>\n",
       "<table border=\"1\" class=\"dataframe\">\n",
       "  <thead>\n",
       "    <tr style=\"text-align: right;\">\n",
       "      <th></th>\n",
       "      <th>SessionId</th>\n",
       "      <th>UserId</th>\n",
       "      <th>Time_min</th>\n",
       "      <th>ItemId_min</th>\n",
       "    </tr>\n",
       "  </thead>\n",
       "  <tbody>\n",
       "    <tr>\n",
       "      <th>0</th>\n",
       "      <td>0</td>\n",
       "      <td>1</td>\n",
       "      <td>2000-12-31 22:00</td>\n",
       "      <td>4</td>\n",
       "    </tr>\n",
       "    <tr>\n",
       "      <th>1</th>\n",
       "      <td>1</td>\n",
       "      <td>1</td>\n",
       "      <td>2000-12-31 22:01</td>\n",
       "      <td>1</td>\n",
       "    </tr>\n",
       "    <tr>\n",
       "      <th>2</th>\n",
       "      <td>2</td>\n",
       "      <td>1</td>\n",
       "      <td>2000-12-31 22:02</td>\n",
       "      <td>1</td>\n",
       "    </tr>\n",
       "    <tr>\n",
       "      <th>3</th>\n",
       "      <td>3</td>\n",
       "      <td>1</td>\n",
       "      <td>2000-12-31 22:04</td>\n",
       "      <td>1</td>\n",
       "    </tr>\n",
       "    <tr>\n",
       "      <th>4</th>\n",
       "      <td>4</td>\n",
       "      <td>1</td>\n",
       "      <td>2000-12-31 22:11</td>\n",
       "      <td>2</td>\n",
       "    </tr>\n",
       "    <tr>\n",
       "      <th>...</th>\n",
       "      <td>...</td>\n",
       "      <td>...</td>\n",
       "      <td>...</td>\n",
       "      <td>...</td>\n",
       "    </tr>\n",
       "    <tr>\n",
       "      <th>265476</th>\n",
       "      <td>265476</td>\n",
       "      <td>6040</td>\n",
       "      <td>2001-08-10 14:36</td>\n",
       "      <td>3</td>\n",
       "    </tr>\n",
       "    <tr>\n",
       "      <th>265477</th>\n",
       "      <td>265477</td>\n",
       "      <td>6040</td>\n",
       "      <td>2001-08-10 14:39</td>\n",
       "      <td>3</td>\n",
       "    </tr>\n",
       "    <tr>\n",
       "      <th>265478</th>\n",
       "      <td>265478</td>\n",
       "      <td>6040</td>\n",
       "      <td>2001-08-10 14:40</td>\n",
       "      <td>1</td>\n",
       "    </tr>\n",
       "    <tr>\n",
       "      <th>265479</th>\n",
       "      <td>265479</td>\n",
       "      <td>6040</td>\n",
       "      <td>2001-08-10 14:41</td>\n",
       "      <td>3</td>\n",
       "    </tr>\n",
       "    <tr>\n",
       "      <th>265480</th>\n",
       "      <td>265480</td>\n",
       "      <td>6040</td>\n",
       "      <td>2001-08-20 13:44</td>\n",
       "      <td>1</td>\n",
       "    </tr>\n",
       "  </tbody>\n",
       "</table>\n",
       "<p>265481 rows × 4 columns</p>\n",
       "</div>"
      ],
      "text/plain": [
       "        SessionId  UserId          Time_min  ItemId_min\n",
       "0               0       1  2000-12-31 22:00           4\n",
       "1               1       1  2000-12-31 22:01           1\n",
       "2               2       1  2000-12-31 22:02           1\n",
       "3               3       1  2000-12-31 22:04           1\n",
       "4               4       1  2000-12-31 22:11           2\n",
       "...           ...     ...               ...         ...\n",
       "265476     265476    6040  2001-08-10 14:36           3\n",
       "265477     265477    6040  2001-08-10 14:39           3\n",
       "265478     265478    6040  2001-08-10 14:40           1\n",
       "265479     265479    6040  2001-08-10 14:41           3\n",
       "265480     265480    6040  2001-08-20 13:44           1\n",
       "\n",
       "[265481 rows x 4 columns]"
      ]
     },
     "execution_count": 14,
     "metadata": {},
     "output_type": "execute_result"
    }
   ],
   "source": [
    "q = q.rename(columns={'index':'SessionId', 'ItemId':'ItemId_min'})\n",
    "q"
   ]
  },
  {
   "cell_type": "markdown",
   "id": "b6eb9d1a",
   "metadata": {},
   "source": [
    "- <span style=\"color:blue\">**UserID와 Time_min 컬럼 기준으로 데이터프레임 data_1과 q를 merge 하여 data_final 생성**</span>\n",
    "  - <span style=\"color:blue\">원천 데이터셋 data_1의 맨 마지막 컬럼으로 SessionId 추가됨</span>\n",
    "  - ItemId_min은 의미없는 값이므로 사용하지 않을 예정"
   ]
  },
  {
   "cell_type": "code",
   "execution_count": 15,
   "id": "ede22a69",
   "metadata": {},
   "outputs": [
    {
     "data": {
      "text/html": [
       "<div>\n",
       "<style scoped>\n",
       "    .dataframe tbody tr th:only-of-type {\n",
       "        vertical-align: middle;\n",
       "    }\n",
       "\n",
       "    .dataframe tbody tr th {\n",
       "        vertical-align: top;\n",
       "    }\n",
       "\n",
       "    .dataframe thead th {\n",
       "        text-align: right;\n",
       "    }\n",
       "</style>\n",
       "<table border=\"1\" class=\"dataframe\">\n",
       "  <thead>\n",
       "    <tr style=\"text-align: right;\">\n",
       "      <th></th>\n",
       "      <th>UserId</th>\n",
       "      <th>ItemId</th>\n",
       "      <th>Rating</th>\n",
       "      <th>Time</th>\n",
       "      <th>Time_min</th>\n",
       "      <th>SessionId</th>\n",
       "      <th>ItemId_min</th>\n",
       "    </tr>\n",
       "  </thead>\n",
       "  <tbody>\n",
       "    <tr>\n",
       "      <th>0</th>\n",
       "      <td>1</td>\n",
       "      <td>3186</td>\n",
       "      <td>4</td>\n",
       "      <td>2000-12-31 22:00:19</td>\n",
       "      <td>2000-12-31 22:00</td>\n",
       "      <td>0</td>\n",
       "      <td>4</td>\n",
       "    </tr>\n",
       "    <tr>\n",
       "      <th>1</th>\n",
       "      <td>1</td>\n",
       "      <td>1270</td>\n",
       "      <td>5</td>\n",
       "      <td>2000-12-31 22:00:55</td>\n",
       "      <td>2000-12-31 22:00</td>\n",
       "      <td>0</td>\n",
       "      <td>4</td>\n",
       "    </tr>\n",
       "    <tr>\n",
       "      <th>2</th>\n",
       "      <td>1</td>\n",
       "      <td>1721</td>\n",
       "      <td>4</td>\n",
       "      <td>2000-12-31 22:00:55</td>\n",
       "      <td>2000-12-31 22:00</td>\n",
       "      <td>0</td>\n",
       "      <td>4</td>\n",
       "    </tr>\n",
       "    <tr>\n",
       "      <th>3</th>\n",
       "      <td>1</td>\n",
       "      <td>1022</td>\n",
       "      <td>5</td>\n",
       "      <td>2000-12-31 22:00:55</td>\n",
       "      <td>2000-12-31 22:00</td>\n",
       "      <td>0</td>\n",
       "      <td>4</td>\n",
       "    </tr>\n",
       "    <tr>\n",
       "      <th>4</th>\n",
       "      <td>1</td>\n",
       "      <td>2340</td>\n",
       "      <td>3</td>\n",
       "      <td>2000-12-31 22:01:43</td>\n",
       "      <td>2000-12-31 22:01</td>\n",
       "      <td>1</td>\n",
       "      <td>1</td>\n",
       "    </tr>\n",
       "    <tr>\n",
       "      <th>...</th>\n",
       "      <td>...</td>\n",
       "      <td>...</td>\n",
       "      <td>...</td>\n",
       "      <td>...</td>\n",
       "      <td>...</td>\n",
       "      <td>...</td>\n",
       "      <td>...</td>\n",
       "    </tr>\n",
       "    <tr>\n",
       "      <th>836473</th>\n",
       "      <td>6040</td>\n",
       "      <td>2917</td>\n",
       "      <td>4</td>\n",
       "      <td>2001-08-10 14:40:29</td>\n",
       "      <td>2001-08-10 14:40</td>\n",
       "      <td>265478</td>\n",
       "      <td>1</td>\n",
       "    </tr>\n",
       "    <tr>\n",
       "      <th>836474</th>\n",
       "      <td>6040</td>\n",
       "      <td>1921</td>\n",
       "      <td>4</td>\n",
       "      <td>2001-08-10 14:41:04</td>\n",
       "      <td>2001-08-10 14:41</td>\n",
       "      <td>265479</td>\n",
       "      <td>3</td>\n",
       "    </tr>\n",
       "    <tr>\n",
       "      <th>836475</th>\n",
       "      <td>6040</td>\n",
       "      <td>1784</td>\n",
       "      <td>3</td>\n",
       "      <td>2001-08-10 14:41:04</td>\n",
       "      <td>2001-08-10 14:41</td>\n",
       "      <td>265479</td>\n",
       "      <td>3</td>\n",
       "    </tr>\n",
       "    <tr>\n",
       "      <th>836476</th>\n",
       "      <td>6040</td>\n",
       "      <td>161</td>\n",
       "      <td>3</td>\n",
       "      <td>2001-08-10 14:41:26</td>\n",
       "      <td>2001-08-10 14:41</td>\n",
       "      <td>265479</td>\n",
       "      <td>3</td>\n",
       "    </tr>\n",
       "    <tr>\n",
       "      <th>836477</th>\n",
       "      <td>6040</td>\n",
       "      <td>1221</td>\n",
       "      <td>4</td>\n",
       "      <td>2001-08-20 13:44:15</td>\n",
       "      <td>2001-08-20 13:44</td>\n",
       "      <td>265480</td>\n",
       "      <td>1</td>\n",
       "    </tr>\n",
       "  </tbody>\n",
       "</table>\n",
       "<p>836478 rows × 7 columns</p>\n",
       "</div>"
      ],
      "text/plain": [
       "        UserId  ItemId  Rating                Time          Time_min  \\\n",
       "0            1    3186       4 2000-12-31 22:00:19  2000-12-31 22:00   \n",
       "1            1    1270       5 2000-12-31 22:00:55  2000-12-31 22:00   \n",
       "2            1    1721       4 2000-12-31 22:00:55  2000-12-31 22:00   \n",
       "3            1    1022       5 2000-12-31 22:00:55  2000-12-31 22:00   \n",
       "4            1    2340       3 2000-12-31 22:01:43  2000-12-31 22:01   \n",
       "...        ...     ...     ...                 ...               ...   \n",
       "836473    6040    2917       4 2001-08-10 14:40:29  2001-08-10 14:40   \n",
       "836474    6040    1921       4 2001-08-10 14:41:04  2001-08-10 14:41   \n",
       "836475    6040    1784       3 2001-08-10 14:41:04  2001-08-10 14:41   \n",
       "836476    6040     161       3 2001-08-10 14:41:26  2001-08-10 14:41   \n",
       "836477    6040    1221       4 2001-08-20 13:44:15  2001-08-20 13:44   \n",
       "\n",
       "        SessionId  ItemId_min  \n",
       "0               0           4  \n",
       "1               0           4  \n",
       "2               0           4  \n",
       "3               0           4  \n",
       "4               1           1  \n",
       "...           ...         ...  \n",
       "836473     265478           1  \n",
       "836474     265479           3  \n",
       "836475     265479           3  \n",
       "836476     265479           3  \n",
       "836477     265480           1  \n",
       "\n",
       "[836478 rows x 7 columns]"
      ]
     },
     "execution_count": 15,
     "metadata": {},
     "output_type": "execute_result"
    }
   ],
   "source": [
    "data_final = data_1.merge(q, on=['UserId', 'Time_min'])\n",
    "data_final"
   ]
  },
  {
   "cell_type": "markdown",
   "id": "5a6a633f",
   "metadata": {},
   "source": [
    "- <span style=\"color:blue\">**최종 데이터셋 data 생성**</span>\n",
    "  - data_final에서 필요한 컬럼만 가져 옴\n",
    "  - UserId와 Rating은 사용하지 않을 예정이나 참고로 사용할 수도 있어서 유지"
   ]
  },
  {
   "cell_type": "code",
   "execution_count": 16,
   "id": "33a5b9b2",
   "metadata": {},
   "outputs": [
    {
     "data": {
      "text/html": [
       "<div>\n",
       "<style scoped>\n",
       "    .dataframe tbody tr th:only-of-type {\n",
       "        vertical-align: middle;\n",
       "    }\n",
       "\n",
       "    .dataframe tbody tr th {\n",
       "        vertical-align: top;\n",
       "    }\n",
       "\n",
       "    .dataframe thead th {\n",
       "        text-align: right;\n",
       "    }\n",
       "</style>\n",
       "<table border=\"1\" class=\"dataframe\">\n",
       "  <thead>\n",
       "    <tr style=\"text-align: right;\">\n",
       "      <th></th>\n",
       "      <th>SessionId</th>\n",
       "      <th>Time</th>\n",
       "      <th>ItemId</th>\n",
       "      <th>UserId</th>\n",
       "      <th>Rating</th>\n",
       "    </tr>\n",
       "  </thead>\n",
       "  <tbody>\n",
       "    <tr>\n",
       "      <th>0</th>\n",
       "      <td>0</td>\n",
       "      <td>2000-12-31 22:00:19</td>\n",
       "      <td>3186</td>\n",
       "      <td>1</td>\n",
       "      <td>4</td>\n",
       "    </tr>\n",
       "    <tr>\n",
       "      <th>1</th>\n",
       "      <td>0</td>\n",
       "      <td>2000-12-31 22:00:55</td>\n",
       "      <td>1270</td>\n",
       "      <td>1</td>\n",
       "      <td>5</td>\n",
       "    </tr>\n",
       "    <tr>\n",
       "      <th>2</th>\n",
       "      <td>0</td>\n",
       "      <td>2000-12-31 22:00:55</td>\n",
       "      <td>1721</td>\n",
       "      <td>1</td>\n",
       "      <td>4</td>\n",
       "    </tr>\n",
       "    <tr>\n",
       "      <th>3</th>\n",
       "      <td>0</td>\n",
       "      <td>2000-12-31 22:00:55</td>\n",
       "      <td>1022</td>\n",
       "      <td>1</td>\n",
       "      <td>5</td>\n",
       "    </tr>\n",
       "    <tr>\n",
       "      <th>4</th>\n",
       "      <td>1</td>\n",
       "      <td>2000-12-31 22:01:43</td>\n",
       "      <td>2340</td>\n",
       "      <td>1</td>\n",
       "      <td>3</td>\n",
       "    </tr>\n",
       "    <tr>\n",
       "      <th>...</th>\n",
       "      <td>...</td>\n",
       "      <td>...</td>\n",
       "      <td>...</td>\n",
       "      <td>...</td>\n",
       "      <td>...</td>\n",
       "    </tr>\n",
       "    <tr>\n",
       "      <th>836473</th>\n",
       "      <td>265478</td>\n",
       "      <td>2001-08-10 14:40:29</td>\n",
       "      <td>2917</td>\n",
       "      <td>6040</td>\n",
       "      <td>4</td>\n",
       "    </tr>\n",
       "    <tr>\n",
       "      <th>836474</th>\n",
       "      <td>265479</td>\n",
       "      <td>2001-08-10 14:41:04</td>\n",
       "      <td>1921</td>\n",
       "      <td>6040</td>\n",
       "      <td>4</td>\n",
       "    </tr>\n",
       "    <tr>\n",
       "      <th>836475</th>\n",
       "      <td>265479</td>\n",
       "      <td>2001-08-10 14:41:04</td>\n",
       "      <td>1784</td>\n",
       "      <td>6040</td>\n",
       "      <td>3</td>\n",
       "    </tr>\n",
       "    <tr>\n",
       "      <th>836476</th>\n",
       "      <td>265479</td>\n",
       "      <td>2001-08-10 14:41:26</td>\n",
       "      <td>161</td>\n",
       "      <td>6040</td>\n",
       "      <td>3</td>\n",
       "    </tr>\n",
       "    <tr>\n",
       "      <th>836477</th>\n",
       "      <td>265480</td>\n",
       "      <td>2001-08-20 13:44:15</td>\n",
       "      <td>1221</td>\n",
       "      <td>6040</td>\n",
       "      <td>4</td>\n",
       "    </tr>\n",
       "  </tbody>\n",
       "</table>\n",
       "<p>836478 rows × 5 columns</p>\n",
       "</div>"
      ],
      "text/plain": [
       "        SessionId                Time  ItemId  UserId  Rating\n",
       "0               0 2000-12-31 22:00:19    3186       1       4\n",
       "1               0 2000-12-31 22:00:55    1270       1       5\n",
       "2               0 2000-12-31 22:00:55    1721       1       4\n",
       "3               0 2000-12-31 22:00:55    1022       1       5\n",
       "4               1 2000-12-31 22:01:43    2340       1       3\n",
       "...           ...                 ...     ...     ...     ...\n",
       "836473     265478 2001-08-10 14:40:29    2917    6040       4\n",
       "836474     265479 2001-08-10 14:41:04    1921    6040       4\n",
       "836475     265479 2001-08-10 14:41:04    1784    6040       3\n",
       "836476     265479 2001-08-10 14:41:26     161    6040       3\n",
       "836477     265480 2001-08-20 13:44:15    1221    6040       4\n",
       "\n",
       "[836478 rows x 5 columns]"
      ]
     },
     "execution_count": 16,
     "metadata": {},
     "output_type": "execute_result"
    }
   ],
   "source": [
    "data = data_final[['SessionId', 'Time', 'ItemId', 'UserId', 'Rating']]\n",
    "data"
   ]
  },
  {
   "cell_type": "markdown",
   "id": "6863483e",
   "metadata": {},
   "source": [
    "- SessionId 컬럼 기준 정렬해서 데이터 확인 한번 더"
   ]
  },
  {
   "cell_type": "code",
   "execution_count": 17,
   "id": "12598086",
   "metadata": {},
   "outputs": [
    {
     "data": {
      "text/html": [
       "<div>\n",
       "<style scoped>\n",
       "    .dataframe tbody tr th:only-of-type {\n",
       "        vertical-align: middle;\n",
       "    }\n",
       "\n",
       "    .dataframe tbody tr th {\n",
       "        vertical-align: top;\n",
       "    }\n",
       "\n",
       "    .dataframe thead th {\n",
       "        text-align: right;\n",
       "    }\n",
       "</style>\n",
       "<table border=\"1\" class=\"dataframe\">\n",
       "  <thead>\n",
       "    <tr style=\"text-align: right;\">\n",
       "      <th></th>\n",
       "      <th>SessionId</th>\n",
       "      <th>Time</th>\n",
       "      <th>ItemId</th>\n",
       "      <th>UserId</th>\n",
       "      <th>Rating</th>\n",
       "    </tr>\n",
       "  </thead>\n",
       "  <tbody>\n",
       "    <tr>\n",
       "      <th>0</th>\n",
       "      <td>0</td>\n",
       "      <td>2000-12-31 22:00:19</td>\n",
       "      <td>3186</td>\n",
       "      <td>1</td>\n",
       "      <td>4</td>\n",
       "    </tr>\n",
       "    <tr>\n",
       "      <th>1</th>\n",
       "      <td>0</td>\n",
       "      <td>2000-12-31 22:00:55</td>\n",
       "      <td>1270</td>\n",
       "      <td>1</td>\n",
       "      <td>5</td>\n",
       "    </tr>\n",
       "    <tr>\n",
       "      <th>2</th>\n",
       "      <td>0</td>\n",
       "      <td>2000-12-31 22:00:55</td>\n",
       "      <td>1721</td>\n",
       "      <td>1</td>\n",
       "      <td>4</td>\n",
       "    </tr>\n",
       "    <tr>\n",
       "      <th>3</th>\n",
       "      <td>0</td>\n",
       "      <td>2000-12-31 22:00:55</td>\n",
       "      <td>1022</td>\n",
       "      <td>1</td>\n",
       "      <td>5</td>\n",
       "    </tr>\n",
       "    <tr>\n",
       "      <th>4</th>\n",
       "      <td>1</td>\n",
       "      <td>2000-12-31 22:01:43</td>\n",
       "      <td>2340</td>\n",
       "      <td>1</td>\n",
       "      <td>3</td>\n",
       "    </tr>\n",
       "    <tr>\n",
       "      <th>...</th>\n",
       "      <td>...</td>\n",
       "      <td>...</td>\n",
       "      <td>...</td>\n",
       "      <td>...</td>\n",
       "      <td>...</td>\n",
       "    </tr>\n",
       "    <tr>\n",
       "      <th>836473</th>\n",
       "      <td>265478</td>\n",
       "      <td>2001-08-10 14:40:29</td>\n",
       "      <td>2917</td>\n",
       "      <td>6040</td>\n",
       "      <td>4</td>\n",
       "    </tr>\n",
       "    <tr>\n",
       "      <th>836474</th>\n",
       "      <td>265479</td>\n",
       "      <td>2001-08-10 14:41:04</td>\n",
       "      <td>1921</td>\n",
       "      <td>6040</td>\n",
       "      <td>4</td>\n",
       "    </tr>\n",
       "    <tr>\n",
       "      <th>836475</th>\n",
       "      <td>265479</td>\n",
       "      <td>2001-08-10 14:41:04</td>\n",
       "      <td>1784</td>\n",
       "      <td>6040</td>\n",
       "      <td>3</td>\n",
       "    </tr>\n",
       "    <tr>\n",
       "      <th>836476</th>\n",
       "      <td>265479</td>\n",
       "      <td>2001-08-10 14:41:26</td>\n",
       "      <td>161</td>\n",
       "      <td>6040</td>\n",
       "      <td>3</td>\n",
       "    </tr>\n",
       "    <tr>\n",
       "      <th>836477</th>\n",
       "      <td>265480</td>\n",
       "      <td>2001-08-20 13:44:15</td>\n",
       "      <td>1221</td>\n",
       "      <td>6040</td>\n",
       "      <td>4</td>\n",
       "    </tr>\n",
       "  </tbody>\n",
       "</table>\n",
       "<p>836478 rows × 5 columns</p>\n",
       "</div>"
      ],
      "text/plain": [
       "        SessionId                Time  ItemId  UserId  Rating\n",
       "0               0 2000-12-31 22:00:19    3186       1       4\n",
       "1               0 2000-12-31 22:00:55    1270       1       5\n",
       "2               0 2000-12-31 22:00:55    1721       1       4\n",
       "3               0 2000-12-31 22:00:55    1022       1       5\n",
       "4               1 2000-12-31 22:01:43    2340       1       3\n",
       "...           ...                 ...     ...     ...     ...\n",
       "836473     265478 2001-08-10 14:40:29    2917    6040       4\n",
       "836474     265479 2001-08-10 14:41:04    1921    6040       4\n",
       "836475     265479 2001-08-10 14:41:04    1784    6040       3\n",
       "836476     265479 2001-08-10 14:41:26     161    6040       3\n",
       "836477     265480 2001-08-20 13:44:15    1221    6040       4\n",
       "\n",
       "[836478 rows x 5 columns]"
      ]
     },
     "execution_count": 17,
     "metadata": {},
     "output_type": "execute_result"
    }
   ],
   "source": [
    "data.sort_values(['SessionId', 'Time'], inplace=True)  # data를 id와 시간 순서로 정렬해줍니다.\n",
    "data"
   ]
  },
  {
   "cell_type": "markdown",
   "id": "520b75ac",
   "metadata": {},
   "source": [
    "- 최종 세션 수, 아이템 수 확인"
   ]
  },
  {
   "cell_type": "code",
   "execution_count": 18,
   "id": "44f69887",
   "metadata": {},
   "outputs": [
    {
     "data": {
      "text/plain": [
       "(265481, 3628)"
      ]
     },
     "execution_count": 18,
     "metadata": {},
     "output_type": "execute_result"
    }
   ],
   "source": [
    "data['SessionId'].nunique(), data['ItemId'].nunique()"
   ]
  },
  {
   "cell_type": "markdown",
   "id": "a3de05f1",
   "metadata": {},
   "source": [
    "- 세션 수: 265,481개\n",
    "- 아이템 수: 3,628개"
   ]
  },
  {
   "cell_type": "markdown",
   "id": "a394716c",
   "metadata": {},
   "source": [
    "## 1-2. Session Length\n",
    "- 각 세션의 클릭 수 확인"
   ]
  },
  {
   "cell_type": "code",
   "execution_count": 19,
   "id": "49e95cbf",
   "metadata": {},
   "outputs": [
    {
     "data": {
      "text/plain": [
       "SessionId\n",
       "0         4\n",
       "1         1\n",
       "2         1\n",
       "3         1\n",
       "4         2\n",
       "         ..\n",
       "265476    3\n",
       "265477    3\n",
       "265478    1\n",
       "265479    3\n",
       "265480    1\n",
       "Length: 265481, dtype: int64"
      ]
     },
     "execution_count": 19,
     "metadata": {},
     "output_type": "execute_result"
    }
   ],
   "source": [
    "session_length = data.groupby('SessionId').size()\n",
    "session_length"
   ]
  },
  {
   "cell_type": "markdown",
   "id": "f464561c",
   "metadata": {},
   "source": [
    "- session_length: 해당 세션 사용자의 그 세션 동안의 클릭 횟수"
   ]
  },
  {
   "cell_type": "code",
   "execution_count": 20,
   "id": "175f6253",
   "metadata": {},
   "outputs": [
    {
     "data": {
      "text/plain": [
       "(2.0, 3.1508017522911245)"
      ]
     },
     "execution_count": 20,
     "metadata": {},
     "output_type": "execute_result"
    }
   ],
   "source": [
    "session_length.median(), session_length.mean()"
   ]
  },
  {
   "cell_type": "code",
   "execution_count": 21,
   "id": "68ea4b17",
   "metadata": {},
   "outputs": [
    {
     "data": {
      "text/plain": [
       "(1, 32)"
      ]
     },
     "execution_count": 21,
     "metadata": {},
     "output_type": "execute_result"
    }
   ],
   "source": [
    "session_length.min(), session_length.max()"
   ]
  },
  {
   "cell_type": "code",
   "execution_count": 22,
   "id": "e60a57b1",
   "metadata": {},
   "outputs": [
    {
     "data": {
      "text/plain": [
       "16.0"
      ]
     },
     "execution_count": 22,
     "metadata": {},
     "output_type": "execute_result"
    }
   ],
   "source": [
    "session_length.quantile(0.999)"
   ]
  },
  {
   "cell_type": "markdown",
   "id": "6331177a",
   "metadata": {},
   "source": [
    "- 각 세션의 길이: 보통 2(중앙값)~3(평균) 정도\n",
    "- 99.9% 세션은 길이가 16 이하\n",
    "- 길이가 32인 세션 내용 확인"
   ]
  },
  {
   "cell_type": "code",
   "execution_count": 23,
   "id": "770dc960",
   "metadata": {},
   "outputs": [
    {
     "data": {
      "text/html": [
       "<div>\n",
       "<style scoped>\n",
       "    .dataframe tbody tr th:only-of-type {\n",
       "        vertical-align: middle;\n",
       "    }\n",
       "\n",
       "    .dataframe tbody tr th {\n",
       "        vertical-align: top;\n",
       "    }\n",
       "\n",
       "    .dataframe thead th {\n",
       "        text-align: right;\n",
       "    }\n",
       "</style>\n",
       "<table border=\"1\" class=\"dataframe\">\n",
       "  <thead>\n",
       "    <tr style=\"text-align: right;\">\n",
       "      <th></th>\n",
       "      <th>SessionId</th>\n",
       "      <th>Time</th>\n",
       "      <th>ItemId</th>\n",
       "      <th>UserId</th>\n",
       "      <th>Rating</th>\n",
       "    </tr>\n",
       "  </thead>\n",
       "  <tbody>\n",
       "    <tr>\n",
       "      <th>94639</th>\n",
       "      <td>30004</td>\n",
       "      <td>2000-11-29 19:56:21</td>\n",
       "      <td>2054</td>\n",
       "      <td>731</td>\n",
       "      <td>4</td>\n",
       "    </tr>\n",
       "    <tr>\n",
       "      <th>94640</th>\n",
       "      <td>30004</td>\n",
       "      <td>2000-11-29 19:56:21</td>\n",
       "      <td>2</td>\n",
       "      <td>731</td>\n",
       "      <td>5</td>\n",
       "    </tr>\n",
       "    <tr>\n",
       "      <th>94641</th>\n",
       "      <td>30004</td>\n",
       "      <td>2000-11-29 19:56:21</td>\n",
       "      <td>2087</td>\n",
       "      <td>731</td>\n",
       "      <td>5</td>\n",
       "    </tr>\n",
       "    <tr>\n",
       "      <th>94642</th>\n",
       "      <td>30004</td>\n",
       "      <td>2000-11-29 19:56:21</td>\n",
       "      <td>788</td>\n",
       "      <td>731</td>\n",
       "      <td>4</td>\n",
       "    </tr>\n",
       "    <tr>\n",
       "      <th>94643</th>\n",
       "      <td>30004</td>\n",
       "      <td>2000-11-29 19:56:21</td>\n",
       "      <td>1654</td>\n",
       "      <td>731</td>\n",
       "      <td>5</td>\n",
       "    </tr>\n",
       "    <tr>\n",
       "      <th>94644</th>\n",
       "      <td>30004</td>\n",
       "      <td>2000-11-29 19:56:21</td>\n",
       "      <td>247</td>\n",
       "      <td>731</td>\n",
       "      <td>4</td>\n",
       "    </tr>\n",
       "    <tr>\n",
       "      <th>94645</th>\n",
       "      <td>30004</td>\n",
       "      <td>2000-11-29 19:56:21</td>\n",
       "      <td>260</td>\n",
       "      <td>731</td>\n",
       "      <td>3</td>\n",
       "    </tr>\n",
       "    <tr>\n",
       "      <th>94646</th>\n",
       "      <td>30004</td>\n",
       "      <td>2000-11-29 19:56:21</td>\n",
       "      <td>2100</td>\n",
       "      <td>731</td>\n",
       "      <td>5</td>\n",
       "    </tr>\n",
       "    <tr>\n",
       "      <th>94647</th>\n",
       "      <td>30004</td>\n",
       "      <td>2000-11-29 19:56:21</td>\n",
       "      <td>2105</td>\n",
       "      <td>731</td>\n",
       "      <td>4</td>\n",
       "    </tr>\n",
       "    <tr>\n",
       "      <th>94648</th>\n",
       "      <td>30004</td>\n",
       "      <td>2000-11-29 19:56:21</td>\n",
       "      <td>653</td>\n",
       "      <td>731</td>\n",
       "      <td>4</td>\n",
       "    </tr>\n",
       "    <tr>\n",
       "      <th>94649</th>\n",
       "      <td>30004</td>\n",
       "      <td>2000-11-29 19:56:21</td>\n",
       "      <td>2140</td>\n",
       "      <td>731</td>\n",
       "      <td>4</td>\n",
       "    </tr>\n",
       "    <tr>\n",
       "      <th>94650</th>\n",
       "      <td>30004</td>\n",
       "      <td>2000-11-29 19:56:21</td>\n",
       "      <td>2161</td>\n",
       "      <td>731</td>\n",
       "      <td>4</td>\n",
       "    </tr>\n",
       "    <tr>\n",
       "      <th>94651</th>\n",
       "      <td>30004</td>\n",
       "      <td>2000-11-29 19:56:21</td>\n",
       "      <td>2173</td>\n",
       "      <td>731</td>\n",
       "      <td>4</td>\n",
       "    </tr>\n",
       "    <tr>\n",
       "      <th>94652</th>\n",
       "      <td>30004</td>\n",
       "      <td>2000-11-29 19:56:21</td>\n",
       "      <td>2174</td>\n",
       "      <td>731</td>\n",
       "      <td>5</td>\n",
       "    </tr>\n",
       "    <tr>\n",
       "      <th>94653</th>\n",
       "      <td>30004</td>\n",
       "      <td>2000-11-29 19:56:21</td>\n",
       "      <td>2193</td>\n",
       "      <td>731</td>\n",
       "      <td>4</td>\n",
       "    </tr>\n",
       "    <tr>\n",
       "      <th>94654</th>\n",
       "      <td>30004</td>\n",
       "      <td>2000-11-29 19:56:21</td>\n",
       "      <td>1920</td>\n",
       "      <td>731</td>\n",
       "      <td>4</td>\n",
       "    </tr>\n",
       "    <tr>\n",
       "      <th>94655</th>\n",
       "      <td>30004</td>\n",
       "      <td>2000-11-29 19:56:21</td>\n",
       "      <td>1009</td>\n",
       "      <td>731</td>\n",
       "      <td>4</td>\n",
       "    </tr>\n",
       "    <tr>\n",
       "      <th>94656</th>\n",
       "      <td>30004</td>\n",
       "      <td>2000-11-29 19:56:21</td>\n",
       "      <td>1967</td>\n",
       "      <td>731</td>\n",
       "      <td>4</td>\n",
       "    </tr>\n",
       "    <tr>\n",
       "      <th>94657</th>\n",
       "      <td>30004</td>\n",
       "      <td>2000-11-29 19:56:21</td>\n",
       "      <td>367</td>\n",
       "      <td>731</td>\n",
       "      <td>4</td>\n",
       "    </tr>\n",
       "    <tr>\n",
       "      <th>94658</th>\n",
       "      <td>30004</td>\n",
       "      <td>2000-11-29 19:56:21</td>\n",
       "      <td>2797</td>\n",
       "      <td>731</td>\n",
       "      <td>4</td>\n",
       "    </tr>\n",
       "    <tr>\n",
       "      <th>94659</th>\n",
       "      <td>30004</td>\n",
       "      <td>2000-11-29 19:56:21</td>\n",
       "      <td>60</td>\n",
       "      <td>731</td>\n",
       "      <td>3</td>\n",
       "    </tr>\n",
       "    <tr>\n",
       "      <th>94660</th>\n",
       "      <td>30004</td>\n",
       "      <td>2000-11-29 19:56:21</td>\n",
       "      <td>2005</td>\n",
       "      <td>731</td>\n",
       "      <td>4</td>\n",
       "    </tr>\n",
       "    <tr>\n",
       "      <th>94661</th>\n",
       "      <td>30004</td>\n",
       "      <td>2000-11-29 19:56:21</td>\n",
       "      <td>2015</td>\n",
       "      <td>731</td>\n",
       "      <td>4</td>\n",
       "    </tr>\n",
       "    <tr>\n",
       "      <th>94662</th>\n",
       "      <td>30004</td>\n",
       "      <td>2000-11-29 19:56:21</td>\n",
       "      <td>2017</td>\n",
       "      <td>731</td>\n",
       "      <td>3</td>\n",
       "    </tr>\n",
       "    <tr>\n",
       "      <th>94663</th>\n",
       "      <td>30004</td>\n",
       "      <td>2000-11-29 19:56:21</td>\n",
       "      <td>1073</td>\n",
       "      <td>731</td>\n",
       "      <td>3</td>\n",
       "    </tr>\n",
       "    <tr>\n",
       "      <th>94664</th>\n",
       "      <td>30004</td>\n",
       "      <td>2000-11-29 19:56:21</td>\n",
       "      <td>2021</td>\n",
       "      <td>731</td>\n",
       "      <td>4</td>\n",
       "    </tr>\n",
       "    <tr>\n",
       "      <th>94665</th>\n",
       "      <td>30004</td>\n",
       "      <td>2000-11-29 19:56:21</td>\n",
       "      <td>1097</td>\n",
       "      <td>731</td>\n",
       "      <td>5</td>\n",
       "    </tr>\n",
       "    <tr>\n",
       "      <th>94666</th>\n",
       "      <td>30004</td>\n",
       "      <td>2000-11-29 19:56:21</td>\n",
       "      <td>2043</td>\n",
       "      <td>731</td>\n",
       "      <td>3</td>\n",
       "    </tr>\n",
       "    <tr>\n",
       "      <th>94667</th>\n",
       "      <td>30004</td>\n",
       "      <td>2000-11-29 19:56:22</td>\n",
       "      <td>3466</td>\n",
       "      <td>731</td>\n",
       "      <td>5</td>\n",
       "    </tr>\n",
       "    <tr>\n",
       "      <th>94668</th>\n",
       "      <td>30004</td>\n",
       "      <td>2000-11-29 19:56:22</td>\n",
       "      <td>3489</td>\n",
       "      <td>731</td>\n",
       "      <td>5</td>\n",
       "    </tr>\n",
       "    <tr>\n",
       "      <th>94669</th>\n",
       "      <td>30004</td>\n",
       "      <td>2000-11-29 19:56:22</td>\n",
       "      <td>2872</td>\n",
       "      <td>731</td>\n",
       "      <td>3</td>\n",
       "    </tr>\n",
       "    <tr>\n",
       "      <th>94670</th>\n",
       "      <td>30004</td>\n",
       "      <td>2000-11-29 19:56:22</td>\n",
       "      <td>2968</td>\n",
       "      <td>731</td>\n",
       "      <td>5</td>\n",
       "    </tr>\n",
       "  </tbody>\n",
       "</table>\n",
       "</div>"
      ],
      "text/plain": [
       "       SessionId                Time  ItemId  UserId  Rating\n",
       "94639      30004 2000-11-29 19:56:21    2054     731       4\n",
       "94640      30004 2000-11-29 19:56:21       2     731       5\n",
       "94641      30004 2000-11-29 19:56:21    2087     731       5\n",
       "94642      30004 2000-11-29 19:56:21     788     731       4\n",
       "94643      30004 2000-11-29 19:56:21    1654     731       5\n",
       "94644      30004 2000-11-29 19:56:21     247     731       4\n",
       "94645      30004 2000-11-29 19:56:21     260     731       3\n",
       "94646      30004 2000-11-29 19:56:21    2100     731       5\n",
       "94647      30004 2000-11-29 19:56:21    2105     731       4\n",
       "94648      30004 2000-11-29 19:56:21     653     731       4\n",
       "94649      30004 2000-11-29 19:56:21    2140     731       4\n",
       "94650      30004 2000-11-29 19:56:21    2161     731       4\n",
       "94651      30004 2000-11-29 19:56:21    2173     731       4\n",
       "94652      30004 2000-11-29 19:56:21    2174     731       5\n",
       "94653      30004 2000-11-29 19:56:21    2193     731       4\n",
       "94654      30004 2000-11-29 19:56:21    1920     731       4\n",
       "94655      30004 2000-11-29 19:56:21    1009     731       4\n",
       "94656      30004 2000-11-29 19:56:21    1967     731       4\n",
       "94657      30004 2000-11-29 19:56:21     367     731       4\n",
       "94658      30004 2000-11-29 19:56:21    2797     731       4\n",
       "94659      30004 2000-11-29 19:56:21      60     731       3\n",
       "94660      30004 2000-11-29 19:56:21    2005     731       4\n",
       "94661      30004 2000-11-29 19:56:21    2015     731       4\n",
       "94662      30004 2000-11-29 19:56:21    2017     731       3\n",
       "94663      30004 2000-11-29 19:56:21    1073     731       3\n",
       "94664      30004 2000-11-29 19:56:21    2021     731       4\n",
       "94665      30004 2000-11-29 19:56:21    1097     731       5\n",
       "94666      30004 2000-11-29 19:56:21    2043     731       3\n",
       "94667      30004 2000-11-29 19:56:22    3466     731       5\n",
       "94668      30004 2000-11-29 19:56:22    3489     731       5\n",
       "94669      30004 2000-11-29 19:56:22    2872     731       3\n",
       "94670      30004 2000-11-29 19:56:22    2968     731       5"
      ]
     },
     "execution_count": 23,
     "metadata": {},
     "output_type": "execute_result"
    }
   ],
   "source": [
    "long_session = session_length[session_length==32].index[0]\n",
    "data[data['SessionId']==long_session]"
   ]
  },
  {
   "cell_type": "markdown",
   "id": "8471b5fe",
   "metadata": {},
   "source": [
    "- 2000-11-29 19시56분 21~22초에 UserId 731의 데이터를 일괄 업로드(?)한 것으로 추측됨\n",
    "- 데이터 수도 적고, 테스트 목적이므로 모든 데이터를 사용"
   ]
  },
  {
   "cell_type": "markdown",
   "id": "791313de",
   "metadata": {},
   "source": [
    "- 세션 길이 시각화: 세션 길이 기준 하위 99.9%까지의 분포 누적합"
   ]
  },
  {
   "cell_type": "code",
   "execution_count": 24,
   "id": "8366aa4b",
   "metadata": {},
   "outputs": [
    {
     "data": {
      "text/plain": [
       "1     0.312290\n",
       "2     0.516071\n",
       "3     0.665897\n",
       "4     0.773144\n",
       "5     0.849552\n",
       "6     0.901899\n",
       "7     0.937125\n",
       "8     0.960509\n",
       "9     0.974929\n",
       "10    0.984210\n",
       "11    0.990052\n",
       "12    0.993679\n",
       "13    0.996116\n",
       "14    0.997574\n",
       "15    0.998516\n",
       "dtype: float64"
      ]
     },
     "execution_count": 24,
     "metadata": {},
     "output_type": "execute_result"
    }
   ],
   "source": [
    "length_count = session_length.groupby(session_length).size()\n",
    "length_percent_cumsum = length_count.cumsum() / length_count.sum()\n",
    "length_percent_cumsum_999 = length_percent_cumsum[length_percent_cumsum < 0.999]\n",
    "\n",
    "length_percent_cumsum_999"
   ]
  },
  {
   "cell_type": "code",
   "execution_count": 25,
   "id": "6375cb12",
   "metadata": {},
   "outputs": [
    {
     "data": {
      "image/png": "[encoded data removed]",
      "text/plain": [
       "<Figure size 1080x360 with 1 Axes>"
      ]
     },
     "metadata": {
      "needs_background": "light"
     },
     "output_type": "display_data"
    }
   ],
   "source": [
    "import matplotlib.pyplot as plt\n",
    "\n",
    "plt.figure(figsize=(15, 5))\n",
    "plt.bar(x=length_percent_cumsum_999.index, height=length_percent_cumsum_999, color='red')\n",
    "plt.xticks(length_percent_cumsum_999.index, rotation=90)\n",
    "plt.yticks(np.arange(0, 1.01, 0.05))\n",
    "plt.xlabel('Session Length')\n",
    "plt.title('Cumsum Percentage Until 0.999', size=15)\n",
    "\n",
    "plt.show()"
   ]
  },
  {
   "cell_type": "markdown",
   "id": "cf6ad9fe",
   "metadata": {},
   "source": [
    "## 1-3. Session Time"
   ]
  },
  {
   "cell_type": "markdown",
   "id": "d73b5fd2",
   "metadata": {},
   "source": [
    "- 데이터의 시간 관련 정보 확인"
   ]
  },
  {
   "cell_type": "code",
   "execution_count": 26,
   "id": "d6be4bac",
   "metadata": {},
   "outputs": [
    {
     "name": "stdout",
     "output_type": "stream",
     "text": [
      "2000-04-25 23:05:32\n",
      "2003-02-28 17:49:50\n",
      "Data Period: 1038 days 18:44:18\n"
     ]
    }
   ],
   "source": [
    "oldest, latest = data['Time'].min(), data['Time'].max()\n",
    "print(oldest) \n",
    "print(latest)\n",
    "print(\"Data Period:\", latest-oldest)"
   ]
  },
  {
   "cell_type": "markdown",
   "id": "c2f88634",
   "metadata": {},
   "source": [
    "- 1038/30 = 34.6개월치 데이터\n",
    "- 데이터 수가 적으므로 전체 데이터 사용"
   ]
  },
  {
   "cell_type": "code",
   "execution_count": 27,
   "id": "e371e3f2",
   "metadata": {},
   "outputs": [
    {
     "data": {
      "text/plain": [
       "pandas._libs.tslibs.timestamps.Timestamp"
      ]
     },
     "execution_count": 27,
     "metadata": {},
     "output_type": "execute_result"
    }
   ],
   "source": [
    "type(latest)"
   ]
  },
  {
   "cell_type": "markdown",
   "id": "9da3d060",
   "metadata": {},
   "source": [
    "- latest는 Timestamp 객체이기 때문에 int 객체와의 사칙연산을 지원하지 않습니다.\n",
    "- 날짜끼리의 차이를 구하고 싶을 때는 datetime 라이브러리의 timedelta 객체를 사용합니다."
   ]
  },
  {
   "cell_type": "code",
   "execution_count": 28,
   "id": "e1bb7cbf",
   "metadata": {},
   "outputs": [
    {
     "data": {
      "text/plain": [
       "(836478, 5)"
      ]
     },
     "execution_count": 28,
     "metadata": {},
     "output_type": "execute_result"
    }
   ],
   "source": [
    "data.shape"
   ]
  },
  {
   "cell_type": "markdown",
   "id": "46d673a1",
   "metadata": {},
   "source": [
    "- 1038일 분량 데이터 전체를 사용할 것이므로 timedelta값으로 넉넉하게 2000 지정"
   ]
  },
  {
   "cell_type": "code",
   "execution_count": 29,
   "id": "ef2b5a17",
   "metadata": {},
   "outputs": [
    {
     "data": {
      "text/html": [
       "<div>\n",
       "<style scoped>\n",
       "    .dataframe tbody tr th:only-of-type {\n",
       "        vertical-align: middle;\n",
       "    }\n",
       "\n",
       "    .dataframe tbody tr th {\n",
       "        vertical-align: top;\n",
       "    }\n",
       "\n",
       "    .dataframe thead th {\n",
       "        text-align: right;\n",
       "    }\n",
       "</style>\n",
       "<table border=\"1\" class=\"dataframe\">\n",
       "  <thead>\n",
       "    <tr style=\"text-align: right;\">\n",
       "      <th></th>\n",
       "      <th>SessionId</th>\n",
       "      <th>Time</th>\n",
       "      <th>ItemId</th>\n",
       "      <th>UserId</th>\n",
       "      <th>Rating</th>\n",
       "    </tr>\n",
       "  </thead>\n",
       "  <tbody>\n",
       "    <tr>\n",
       "      <th>0</th>\n",
       "      <td>0</td>\n",
       "      <td>2000-12-31 22:00:19</td>\n",
       "      <td>3186</td>\n",
       "      <td>1</td>\n",
       "      <td>4</td>\n",
       "    </tr>\n",
       "    <tr>\n",
       "      <th>1</th>\n",
       "      <td>0</td>\n",
       "      <td>2000-12-31 22:00:55</td>\n",
       "      <td>1270</td>\n",
       "      <td>1</td>\n",
       "      <td>5</td>\n",
       "    </tr>\n",
       "    <tr>\n",
       "      <th>2</th>\n",
       "      <td>0</td>\n",
       "      <td>2000-12-31 22:00:55</td>\n",
       "      <td>1721</td>\n",
       "      <td>1</td>\n",
       "      <td>4</td>\n",
       "    </tr>\n",
       "    <tr>\n",
       "      <th>3</th>\n",
       "      <td>0</td>\n",
       "      <td>2000-12-31 22:00:55</td>\n",
       "      <td>1022</td>\n",
       "      <td>1</td>\n",
       "      <td>5</td>\n",
       "    </tr>\n",
       "    <tr>\n",
       "      <th>4</th>\n",
       "      <td>1</td>\n",
       "      <td>2000-12-31 22:01:43</td>\n",
       "      <td>2340</td>\n",
       "      <td>1</td>\n",
       "      <td>3</td>\n",
       "    </tr>\n",
       "    <tr>\n",
       "      <th>...</th>\n",
       "      <td>...</td>\n",
       "      <td>...</td>\n",
       "      <td>...</td>\n",
       "      <td>...</td>\n",
       "      <td>...</td>\n",
       "    </tr>\n",
       "    <tr>\n",
       "      <th>836473</th>\n",
       "      <td>265478</td>\n",
       "      <td>2001-08-10 14:40:29</td>\n",
       "      <td>2917</td>\n",
       "      <td>6040</td>\n",
       "      <td>4</td>\n",
       "    </tr>\n",
       "    <tr>\n",
       "      <th>836474</th>\n",
       "      <td>265479</td>\n",
       "      <td>2001-08-10 14:41:04</td>\n",
       "      <td>1921</td>\n",
       "      <td>6040</td>\n",
       "      <td>4</td>\n",
       "    </tr>\n",
       "    <tr>\n",
       "      <th>836475</th>\n",
       "      <td>265479</td>\n",
       "      <td>2001-08-10 14:41:04</td>\n",
       "      <td>1784</td>\n",
       "      <td>6040</td>\n",
       "      <td>3</td>\n",
       "    </tr>\n",
       "    <tr>\n",
       "      <th>836476</th>\n",
       "      <td>265479</td>\n",
       "      <td>2001-08-10 14:41:26</td>\n",
       "      <td>161</td>\n",
       "      <td>6040</td>\n",
       "      <td>3</td>\n",
       "    </tr>\n",
       "    <tr>\n",
       "      <th>836477</th>\n",
       "      <td>265480</td>\n",
       "      <td>2001-08-20 13:44:15</td>\n",
       "      <td>1221</td>\n",
       "      <td>6040</td>\n",
       "      <td>4</td>\n",
       "    </tr>\n",
       "  </tbody>\n",
       "</table>\n",
       "<p>836478 rows × 5 columns</p>\n",
       "</div>"
      ],
      "text/plain": [
       "        SessionId                Time  ItemId  UserId  Rating\n",
       "0               0 2000-12-31 22:00:19    3186       1       4\n",
       "1               0 2000-12-31 22:00:55    1270       1       5\n",
       "2               0 2000-12-31 22:00:55    1721       1       4\n",
       "3               0 2000-12-31 22:00:55    1022       1       5\n",
       "4               1 2000-12-31 22:01:43    2340       1       3\n",
       "...           ...                 ...     ...     ...     ...\n",
       "836473     265478 2001-08-10 14:40:29    2917    6040       4\n",
       "836474     265479 2001-08-10 14:41:04    1921    6040       4\n",
       "836475     265479 2001-08-10 14:41:04    1784    6040       3\n",
       "836476     265479 2001-08-10 14:41:26     161    6040       3\n",
       "836477     265480 2001-08-20 13:44:15    1221    6040       4\n",
       "\n",
       "[836478 rows x 5 columns]"
      ]
     },
     "execution_count": 29,
     "metadata": {},
     "output_type": "execute_result"
    }
   ],
   "source": [
    "month_ago = latest - dt.timedelta(2000)     # 최종 날짜로부터 2000일 이전 날짜를 구한다.  \n",
    "data = data[data['Time'] > month_ago]   # 방금 구한 날짜 이후의 데이터만 모은다. \n",
    "data"
   ]
  },
  {
   "cell_type": "markdown",
   "id": "a73c82f8",
   "metadata": {},
   "source": [
    "## 1-4. Data Cleansing\n",
    "- 길이가 1인 세션 제거\n",
    "- 너무 적게 클릭된 아이템 제거"
   ]
  },
  {
   "cell_type": "code",
   "execution_count": 30,
   "id": "c17c751c",
   "metadata": {},
   "outputs": [],
   "source": [
    "# short_session을 제거한 다음 unpopular item을 제거하면 다시 길이가 1인 session이 생길 수 있습니다.\n",
    "# 이를 위해 반복문을 통해 지속적으로 제거 합니다.\n",
    "def cleanse_recursive(data: pd.DataFrame, shortest, least_click) -> pd.DataFrame:\n",
    "    while True:\n",
    "        before_len = len(data)\n",
    "        data = cleanse_short_session(data, shortest)\n",
    "        data = cleanse_unpopular_item(data, least_click)\n",
    "        after_len = len(data)\n",
    "        if before_len == after_len:\n",
    "            break\n",
    "    return data\n",
    "\n",
    "\n",
    "def cleanse_short_session(data: pd.DataFrame, shortest):\n",
    "    session_len = data.groupby('SessionId').size()\n",
    "    session_use = session_len[session_len >= shortest].index\n",
    "    data = data[data['SessionId'].isin(session_use)]\n",
    "    return data\n",
    "\n",
    "\n",
    "def cleanse_unpopular_item(data: pd.DataFrame, least_click):\n",
    "    item_popular = data.groupby('ItemId').size()\n",
    "    item_use = item_popular[item_popular >= least_click].index\n",
    "    data = data[data['ItemId'].isin(item_use)]\n",
    "    return data"
   ]
  },
  {
   "cell_type": "code",
   "execution_count": 31,
   "id": "e467c263",
   "metadata": {},
   "outputs": [
    {
     "data": {
      "text/html": [
       "<div>\n",
       "<style scoped>\n",
       "    .dataframe tbody tr th:only-of-type {\n",
       "        vertical-align: middle;\n",
       "    }\n",
       "\n",
       "    .dataframe tbody tr th {\n",
       "        vertical-align: top;\n",
       "    }\n",
       "\n",
       "    .dataframe thead th {\n",
       "        text-align: right;\n",
       "    }\n",
       "</style>\n",
       "<table border=\"1\" class=\"dataframe\">\n",
       "  <thead>\n",
       "    <tr style=\"text-align: right;\">\n",
       "      <th></th>\n",
       "      <th>SessionId</th>\n",
       "      <th>Time</th>\n",
       "      <th>ItemId</th>\n",
       "      <th>UserId</th>\n",
       "      <th>Rating</th>\n",
       "    </tr>\n",
       "  </thead>\n",
       "  <tbody>\n",
       "    <tr>\n",
       "      <th>0</th>\n",
       "      <td>0</td>\n",
       "      <td>2000-12-31 22:00:19</td>\n",
       "      <td>3186</td>\n",
       "      <td>1</td>\n",
       "      <td>4</td>\n",
       "    </tr>\n",
       "    <tr>\n",
       "      <th>1</th>\n",
       "      <td>0</td>\n",
       "      <td>2000-12-31 22:00:55</td>\n",
       "      <td>1270</td>\n",
       "      <td>1</td>\n",
       "      <td>5</td>\n",
       "    </tr>\n",
       "    <tr>\n",
       "      <th>2</th>\n",
       "      <td>0</td>\n",
       "      <td>2000-12-31 22:00:55</td>\n",
       "      <td>1721</td>\n",
       "      <td>1</td>\n",
       "      <td>4</td>\n",
       "    </tr>\n",
       "    <tr>\n",
       "      <th>3</th>\n",
       "      <td>0</td>\n",
       "      <td>2000-12-31 22:00:55</td>\n",
       "      <td>1022</td>\n",
       "      <td>1</td>\n",
       "      <td>5</td>\n",
       "    </tr>\n",
       "    <tr>\n",
       "      <th>7</th>\n",
       "      <td>4</td>\n",
       "      <td>2000-12-31 22:11:59</td>\n",
       "      <td>2804</td>\n",
       "      <td>1</td>\n",
       "      <td>5</td>\n",
       "    </tr>\n",
       "    <tr>\n",
       "      <th>...</th>\n",
       "      <td>...</td>\n",
       "      <td>...</td>\n",
       "      <td>...</td>\n",
       "      <td>...</td>\n",
       "      <td>...</td>\n",
       "    </tr>\n",
       "    <tr>\n",
       "      <th>836471</th>\n",
       "      <td>265477</td>\n",
       "      <td>2001-08-10 14:39:27</td>\n",
       "      <td>3671</td>\n",
       "      <td>6040</td>\n",
       "      <td>4</td>\n",
       "    </tr>\n",
       "    <tr>\n",
       "      <th>836472</th>\n",
       "      <td>265477</td>\n",
       "      <td>2001-08-10 14:39:58</td>\n",
       "      <td>232</td>\n",
       "      <td>6040</td>\n",
       "      <td>5</td>\n",
       "    </tr>\n",
       "    <tr>\n",
       "      <th>836474</th>\n",
       "      <td>265479</td>\n",
       "      <td>2001-08-10 14:41:04</td>\n",
       "      <td>1921</td>\n",
       "      <td>6040</td>\n",
       "      <td>4</td>\n",
       "    </tr>\n",
       "    <tr>\n",
       "      <th>836475</th>\n",
       "      <td>265479</td>\n",
       "      <td>2001-08-10 14:41:04</td>\n",
       "      <td>1784</td>\n",
       "      <td>6040</td>\n",
       "      <td>3</td>\n",
       "    </tr>\n",
       "    <tr>\n",
       "      <th>836476</th>\n",
       "      <td>265479</td>\n",
       "      <td>2001-08-10 14:41:26</td>\n",
       "      <td>161</td>\n",
       "      <td>6040</td>\n",
       "      <td>3</td>\n",
       "    </tr>\n",
       "  </tbody>\n",
       "</table>\n",
       "<p>752682 rows × 5 columns</p>\n",
       "</div>"
      ],
      "text/plain": [
       "        SessionId                Time  ItemId  UserId  Rating\n",
       "0               0 2000-12-31 22:00:19    3186       1       4\n",
       "1               0 2000-12-31 22:00:55    1270       1       5\n",
       "2               0 2000-12-31 22:00:55    1721       1       4\n",
       "3               0 2000-12-31 22:00:55    1022       1       5\n",
       "7               4 2000-12-31 22:11:59    2804       1       5\n",
       "...           ...                 ...     ...     ...     ...\n",
       "836471     265477 2001-08-10 14:39:27    3671    6040       4\n",
       "836472     265477 2001-08-10 14:39:58     232    6040       5\n",
       "836474     265479 2001-08-10 14:41:04    1921    6040       4\n",
       "836475     265479 2001-08-10 14:41:04    1784    6040       3\n",
       "836476     265479 2001-08-10 14:41:26     161    6040       3\n",
       "\n",
       "[752682 rows x 5 columns]"
      ]
     },
     "execution_count": 31,
     "metadata": {},
     "output_type": "execute_result"
    }
   ],
   "source": [
    "data = cleanse_recursive(data, shortest=2, least_click=5)\n",
    "data"
   ]
  },
  {
   "cell_type": "code",
   "execution_count": 32,
   "id": "06c00fb1",
   "metadata": {},
   "outputs": [
    {
     "data": {
      "text/plain": [
       "(182392, 3239)"
      ]
     },
     "execution_count": 32,
     "metadata": {},
     "output_type": "execute_result"
    }
   ],
   "source": [
    "data['SessionId'].nunique(), data['ItemId'].nunique()"
   ]
  },
  {
   "cell_type": "markdown",
   "id": "e5983287",
   "metadata": {},
   "source": [
    "## 1-5. Train / Valid / Test Split\n",
    "- 모델 평가를 위한 Valid Set과 Test Set 생성\n",
    "- 일반적인 경우 train:validation:test = 6:2:2:로 하나, 추천에 사용할 것이므로 (임의로) 8:1:1로 분할하기로 함\n",
    "  - 1038일 분량의 데이터이므로 train:validation:test = 838:100:100으로 분할"
   ]
  },
  {
   "cell_type": "code",
   "execution_count": 33,
   "id": "ca9fc675",
   "metadata": {},
   "outputs": [],
   "source": [
    "#test_path = data_path / 'yoochoose-test.dat'\n",
    "#test= load_data(test_path)\n",
    "#test['Time'].min(), test['Time'].max()"
   ]
  },
  {
   "cell_type": "markdown",
   "id": "05af3148",
   "metadata": {},
   "source": [
    "- 가장 마지막 100일 기간 동안을 Test로, 그 다음 100일 기간을 valid set으로 나누기"
   ]
  },
  {
   "cell_type": "code",
   "execution_count": 34,
   "id": "2546ad3b",
   "metadata": {},
   "outputs": [],
   "source": [
    "def split_by_date(data: pd.DataFrame, n_days: int):\n",
    "    final_time = data['Time'].max()\n",
    "    session_last_time = data.groupby('SessionId')['Time'].max()\n",
    "    session_in_train = session_last_time[session_last_time < final_time - dt.timedelta(n_days)].index\n",
    "    session_in_test = session_last_time[session_last_time >= final_time - dt.timedelta(n_days)].index\n",
    "\n",
    "    before_date = data[data['SessionId'].isin(session_in_train)]\n",
    "    after_date = data[data['SessionId'].isin(session_in_test)]\n",
    "    after_date = after_date[after_date['ItemId'].isin(before_date['ItemId'])]\n",
    "    return before_date, after_date"
   ]
  },
  {
   "cell_type": "code",
   "execution_count": 35,
   "id": "469dce1e",
   "metadata": {},
   "outputs": [],
   "source": [
    "tr, test = split_by_date(data, n_days=100)\n",
    "tr, val = split_by_date(tr, n_days=100)"
   ]
  },
  {
   "cell_type": "code",
   "execution_count": 36,
   "id": "f74cb1ae",
   "metadata": {},
   "outputs": [],
   "source": [
    "# data에 대한 정보를 살펴봅니다.\n",
    "def stats_info(data: pd.DataFrame, status: str):\n",
    "    print(f'* {status} Set Stats Info\\n'\n",
    "          f'\\t Events: {len(data)}\\n'\n",
    "          f'\\t Sessions: {data[\"SessionId\"].nunique()}\\n'\n",
    "          f'\\t Items: {data[\"ItemId\"].nunique()}\\n'\n",
    "          f'\\t First Time : {data[\"Time\"].min()}\\n'\n",
    "          f'\\t Last Time : {data[\"Time\"].max()}\\n')"
   ]
  },
  {
   "cell_type": "code",
   "execution_count": 37,
   "id": "5426845a",
   "metadata": {},
   "outputs": [
    {
     "name": "stdout",
     "output_type": "stream",
     "text": [
      "* train Set Stats Info\n",
      "\t Events: 747232\n",
      "\t Sessions: 180657\n",
      "\t Items: 3239\n",
      "\t First Time : 2000-04-25 23:05:32\n",
      "\t Last Time : 2002-08-12 13:49:48\n",
      "\n",
      "* valid Set Stats Info\n",
      "\t Events: 2838\n",
      "\t Sessions: 911\n",
      "\t Items: 1358\n",
      "\t First Time : 2002-08-13 09:05:17\n",
      "\t Last Time : 2002-11-20 16:38:40\n",
      "\n",
      "* test Set Stats Info\n",
      "\t Events: 2612\n",
      "\t Sessions: 824\n",
      "\t Items: 1254\n",
      "\t First Time : 2002-11-21 01:02:06\n",
      "\t Last Time : 2003-02-28 17:49:50\n",
      "\n"
     ]
    }
   ],
   "source": [
    "stats_info(tr, 'train')\n",
    "stats_info(val, 'valid')\n",
    "stats_info(test, 'test')"
   ]
  },
  {
   "cell_type": "code",
   "execution_count": 38,
   "id": "98cdfe82",
   "metadata": {},
   "outputs": [],
   "source": [
    "# train set에 없는 아이템이 val, test기간에 생길 수 있으므로 train data를 기준으로 인덱싱합니다.\n",
    "id2idx = {item_id : index for index, item_id in enumerate(tr['ItemId'].unique())}\n",
    "\n",
    "def indexing(df, id2idx):\n",
    "    df['item_idx'] = df['ItemId'].map(lambda x: id2idx.get(x, -1))  # id2idx에 없는 아이템은 모르는 값(-1) 처리 해줍니다.\n",
    "    return df\n",
    "\n",
    "tr = indexing(tr, id2idx)\n",
    "val = indexing(val, id2idx)\n",
    "test = indexing(test, id2idx)"
   ]
  },
  {
   "cell_type": "markdown",
   "id": "305560b2",
   "metadata": {},
   "source": [
    "- 이제 데이터 준비를 마쳤습니다! 데이터를 저장한 다음 data pipeline을 구축하는 단계로 넘어가겠습니다."
   ]
  },
  {
   "cell_type": "code",
   "execution_count": 39,
   "id": "ba63c2bd",
   "metadata": {},
   "outputs": [],
   "source": [
    "save_path = data_path / 'processed'\n",
    "save_path.mkdir(parents=True, exist_ok=True)\n",
    "\n",
    "tr.to_pickle(save_path / 'train.pkl')\n",
    "val.to_pickle(save_path / 'valid.pkl')\n",
    "test.to_pickle(save_path / 'test.pkl')"
   ]
  },
  {
   "cell_type": "markdown",
   "id": "372de52b",
   "metadata": {},
   "source": [
    "# Step 2. 미니 배치의 구성\n",
    "- 실습 코드 내역을 참고하여 데이터셋과 미니 배치를 구성해 봅시다. \n",
    "  - Session-Parallel Mini-Batch의 개념에 따라, 학습 속도의 저하가 최소화될 수 있도록 구성합니다.\n",
    "  - 단, 위 Step 1에서 Session 단위를 어떻게 정의했느냐에 따라서 Session-Parallel Mini-Batch이 굳이 필요하지 않을 수도 있습니다."
   ]
  },
  {
   "cell_type": "markdown",
   "id": "3e41a43c",
   "metadata": {},
   "source": [
    "## 2-1. SessionDataset\n",
    "- 데이터가 주어지면 세션이 시작되는 인덱스를 담는 값과 세션을 새로 인덱싱한 값을 갖는 클래스를 만듭니다."
   ]
  },
  {
   "cell_type": "code",
   "execution_count": 40,
   "id": "8a9d1272",
   "metadata": {},
   "outputs": [],
   "source": [
    "class SessionDataset:\n",
    "    \"\"\"Credit to yhs-968/pyGRU4REC.\"\"\"\n",
    "\n",
    "    def __init__(self, data):\n",
    "        self.df = data\n",
    "        self.click_offsets = self.get_click_offsets()\n",
    "        self.session_idx = np.arange(self.df['SessionId'].nunique())  # indexing to SessionId\n",
    "\n",
    "    def get_click_offsets(self):\n",
    "        \"\"\"\n",
    "        Return the indexes of the first click of each session IDs,\n",
    "        \"\"\"\n",
    "        offsets = np.zeros(self.df['SessionId'].nunique() + 1, dtype=np.int32)\n",
    "        offsets[1:] = self.df.groupby('SessionId').size().cumsum()\n",
    "        return offsets"
   ]
  },
  {
   "cell_type": "markdown",
   "id": "eb31f4b6",
   "metadata": {},
   "source": [
    "- train데이터로 SessionDataset 객체를 만들고 인스턴스 변수들을 살펴보겠습니다.\n",
    "  - click_offsets 변수는 각 세션이 시작된 인덱스를 담고 있습니다.\n",
    "  - session_idx 변수는 각 세션을 인덱싱한 np.array 입니다."
   ]
  },
  {
   "cell_type": "code",
   "execution_count": 41,
   "id": "1fd576e7",
   "metadata": {},
   "outputs": [
    {
     "data": {
      "text/html": [
       "<div>\n",
       "<style scoped>\n",
       "    .dataframe tbody tr th:only-of-type {\n",
       "        vertical-align: middle;\n",
       "    }\n",
       "\n",
       "    .dataframe tbody tr th {\n",
       "        vertical-align: top;\n",
       "    }\n",
       "\n",
       "    .dataframe thead th {\n",
       "        text-align: right;\n",
       "    }\n",
       "</style>\n",
       "<table border=\"1\" class=\"dataframe\">\n",
       "  <thead>\n",
       "    <tr style=\"text-align: right;\">\n",
       "      <th></th>\n",
       "      <th>SessionId</th>\n",
       "      <th>Time</th>\n",
       "      <th>ItemId</th>\n",
       "      <th>UserId</th>\n",
       "      <th>Rating</th>\n",
       "      <th>item_idx</th>\n",
       "    </tr>\n",
       "  </thead>\n",
       "  <tbody>\n",
       "    <tr>\n",
       "      <th>0</th>\n",
       "      <td>0</td>\n",
       "      <td>2000-12-31 22:00:19</td>\n",
       "      <td>3186</td>\n",
       "      <td>1</td>\n",
       "      <td>4</td>\n",
       "      <td>0</td>\n",
       "    </tr>\n",
       "    <tr>\n",
       "      <th>1</th>\n",
       "      <td>0</td>\n",
       "      <td>2000-12-31 22:00:55</td>\n",
       "      <td>1270</td>\n",
       "      <td>1</td>\n",
       "      <td>5</td>\n",
       "      <td>1</td>\n",
       "    </tr>\n",
       "    <tr>\n",
       "      <th>2</th>\n",
       "      <td>0</td>\n",
       "      <td>2000-12-31 22:00:55</td>\n",
       "      <td>1721</td>\n",
       "      <td>1</td>\n",
       "      <td>4</td>\n",
       "      <td>2</td>\n",
       "    </tr>\n",
       "    <tr>\n",
       "      <th>3</th>\n",
       "      <td>0</td>\n",
       "      <td>2000-12-31 22:00:55</td>\n",
       "      <td>1022</td>\n",
       "      <td>1</td>\n",
       "      <td>5</td>\n",
       "      <td>3</td>\n",
       "    </tr>\n",
       "    <tr>\n",
       "      <th>7</th>\n",
       "      <td>4</td>\n",
       "      <td>2000-12-31 22:11:59</td>\n",
       "      <td>2804</td>\n",
       "      <td>1</td>\n",
       "      <td>5</td>\n",
       "      <td>4</td>\n",
       "    </tr>\n",
       "    <tr>\n",
       "      <th>8</th>\n",
       "      <td>4</td>\n",
       "      <td>2000-12-31 22:11:59</td>\n",
       "      <td>1207</td>\n",
       "      <td>1</td>\n",
       "      <td>4</td>\n",
       "      <td>5</td>\n",
       "    </tr>\n",
       "    <tr>\n",
       "      <th>9</th>\n",
       "      <td>5</td>\n",
       "      <td>2000-12-31 22:12:40</td>\n",
       "      <td>1193</td>\n",
       "      <td>1</td>\n",
       "      <td>5</td>\n",
       "      <td>6</td>\n",
       "    </tr>\n",
       "    <tr>\n",
       "      <th>10</th>\n",
       "      <td>5</td>\n",
       "      <td>2000-12-31 22:12:40</td>\n",
       "      <td>720</td>\n",
       "      <td>1</td>\n",
       "      <td>3</td>\n",
       "      <td>7</td>\n",
       "    </tr>\n",
       "    <tr>\n",
       "      <th>11</th>\n",
       "      <td>5</td>\n",
       "      <td>2000-12-31 22:12:40</td>\n",
       "      <td>260</td>\n",
       "      <td>1</td>\n",
       "      <td>4</td>\n",
       "      <td>8</td>\n",
       "    </tr>\n",
       "    <tr>\n",
       "      <th>14</th>\n",
       "      <td>8</td>\n",
       "      <td>2000-12-31 22:26:10</td>\n",
       "      <td>2692</td>\n",
       "      <td>1</td>\n",
       "      <td>4</td>\n",
       "      <td>9</td>\n",
       "    </tr>\n",
       "  </tbody>\n",
       "</table>\n",
       "</div>"
      ],
      "text/plain": [
       "    SessionId                Time  ItemId  UserId  Rating  item_idx\n",
       "0           0 2000-12-31 22:00:19    3186       1       4         0\n",
       "1           0 2000-12-31 22:00:55    1270       1       5         1\n",
       "2           0 2000-12-31 22:00:55    1721       1       4         2\n",
       "3           0 2000-12-31 22:00:55    1022       1       5         3\n",
       "7           4 2000-12-31 22:11:59    2804       1       5         4\n",
       "8           4 2000-12-31 22:11:59    1207       1       4         5\n",
       "9           5 2000-12-31 22:12:40    1193       1       5         6\n",
       "10          5 2000-12-31 22:12:40     720       1       3         7\n",
       "11          5 2000-12-31 22:12:40     260       1       4         8\n",
       "14          8 2000-12-31 22:26:10    2692       1       4         9"
      ]
     },
     "execution_count": 41,
     "metadata": {},
     "output_type": "execute_result"
    }
   ],
   "source": [
    "tr_dataset = SessionDataset(tr)\n",
    "tr_dataset.df.head(10)"
   ]
  },
  {
   "cell_type": "code",
   "execution_count": 42,
   "id": "9a5ed0dd",
   "metadata": {},
   "outputs": [
    {
     "data": {
      "text/plain": [
       "array([     0,      4,      6, ..., 747226, 747229, 747232], dtype=int32)"
      ]
     },
     "execution_count": 42,
     "metadata": {},
     "output_type": "execute_result"
    }
   ],
   "source": [
    "#click_offsets 변수는 각 세션이 시작된 인덱스를 담고 있습니다.\n",
    "tr_dataset.click_offsets"
   ]
  },
  {
   "cell_type": "code",
   "execution_count": 43,
   "id": "7bf6e328",
   "metadata": {},
   "outputs": [
    {
     "data": {
      "text/plain": [
       "array([     0,      1,      2, ..., 180654, 180655, 180656])"
      ]
     },
     "execution_count": 43,
     "metadata": {},
     "output_type": "execute_result"
    }
   ],
   "source": [
    "#session_idx 변수는 각 세션을 인덱싱한 np.array 입니다.\n",
    "tr_dataset.session_idx"
   ]
  },
  {
   "cell_type": "markdown",
   "id": "017bd539",
   "metadata": {},
   "source": [
    "## 2-2. SessionDataLoader\n",
    "- 파이썬 문법 중 iterator, generator에 대한 좀 더 친절한 안내가 필요하신 분은 이 [자료](https://dojang.io/mod/page/view.php?id=2405)를 먼저 보시길 권장합니다.\n",
    "<br> <br> \n",
    "- SessionDataset 객체를 받아서 Session-Parallel mini-batch를 만드는 클래스를 만듭니다.\n",
    "  - __iter__ 메서드는 모델 인풋, 라벨, 세션이 끝나는 곳의 위치를 yield합니다.\n",
    "  - mask는 후에 RNN Cell State를 초기화하는데 사용할 것입니다."
   ]
  },
  {
   "cell_type": "code",
   "execution_count": 44,
   "id": "aa9b9c98",
   "metadata": {},
   "outputs": [],
   "source": [
    "class SessionDataLoader:\n",
    "    \"\"\"Credit to yhs-968/pyGRU4REC.\"\"\"\n",
    "\n",
    "    def __init__(self, dataset: SessionDataset, batch_size=50):\n",
    "        self.dataset = dataset\n",
    "        self.batch_size = batch_size\n",
    "\n",
    "    def __iter__(self):   ## 모델 input, label, session이 끝나는 곳의 위치를 생성하는 함수\n",
    "        \"\"\" Returns the iterator for producing session-parallel training mini-batches.\n",
    "        Yields:\n",
    "            input (B,):  Item indices that will be encoded as one-hot vectors later.\n",
    "            target (B,): a Variable that stores the target item indices\n",
    "            masks: Numpy array indicating the positions of the sessions to be terminated\n",
    "        \"\"\"\n",
    "\n",
    "        start, end, mask, last_session, finished = self.initialize()  # initialize 메소드에서 확인해주세요.\n",
    "        \"\"\"\n",
    "        start : Index Where Session Start\n",
    "        end : Index Where Session End\n",
    "        mask : indicator for the sessions to be terminated\n",
    "        \"\"\"\n",
    "\n",
    "        while not finished:\n",
    "            min_len = (end - start).min() - 1  # Shortest Length Among Sessions\n",
    "            for i in range(min_len):\n",
    "                # Build inputs & targets\n",
    "                inp = self.dataset.df['item_idx'].values[start + i]\n",
    "                target = self.dataset.df['item_idx'].values[start + i + 1]\n",
    "                yield inp, target, mask\n",
    "\n",
    "            start, end, mask, last_session, finished = self.update_status(start, end, min_len, last_session, finished)\n",
    "\n",
    "    def initialize(self):\n",
    "        first_iters = np.arange(self.batch_size)    # 첫 배치에 사용할 세션 Index를 가져옵니다.\n",
    "        last_session = self.batch_size - 1    # 마지막으로 다루고 있는 세션 Index를 저장해둡니다.\n",
    "        start = self.dataset.click_offsets[self.dataset.session_idx[first_iters]]       # data 상에서 session이 시작된 위치를 가져옵니다.\n",
    "        end = self.dataset.click_offsets[self.dataset.session_idx[first_iters] + 1]  # session이 끝난 위치 바로 다음 위치를 가져옵니다.\n",
    "        mask = np.array([])   # session의 모든 아이템을 다 돌은 경우 mask에 추가해줄 것입니다.\n",
    "        finished = False         # data를 전부 돌았는지 기록하기 위한 변수입니다.\n",
    "        return start, end, mask, last_session, finished\n",
    "\n",
    "    def update_status(self, start: np.ndarray, end: np.ndarray, min_len: int, last_session: int, finished: bool):  \n",
    "        # 다음 배치 데이터를 생성하기 위해 상태를 update합니다.\n",
    "        \n",
    "        start += min_len   # __iter__에서 min_len 만큼 for문을 돌았으므로 start를 min_len 만큼 더해줍니다.\n",
    "        mask = np.arange(self.batch_size)[(end - start) == 1]  \n",
    "        # end는 다음 세션이 시작되는 위치인데 start와 한 칸 차이난다는 것은 session이 끝났다는 뜻입니다. mask에 기록해줍니다.\n",
    "\n",
    "        for i, idx in enumerate(mask, start=1):  # mask에 추가된 세션 개수만큼 새로운 세션을 돌것입니다.\n",
    "            new_session = last_session + i  \n",
    "            if new_session > self.dataset.session_idx[-1]:  # 만약 새로운 세션이 마지막 세션 index보다 크다면 모든 학습데이터를 돈 것입니다.\n",
    "                finished = True\n",
    "                break\n",
    "            # update the next starting/ending point\n",
    "            start[idx] = self.dataset.click_offsets[self.dataset.session_idx[new_session]]     # 종료된 세션 대신 새로운 세션의 시작점을 기록합니다.\n",
    "            end[idx] = self.dataset.click_offsets[self.dataset.session_idx[new_session] + 1]\n",
    "\n",
    "        last_session += len(mask)  # 마지막 세션의 위치를 기록해둡니다.\n",
    "        return start, end, mask, last_session, finished"
   ]
  },
  {
   "cell_type": "code",
   "execution_count": 45,
   "id": "d0ac5e85",
   "metadata": {},
   "outputs": [
    {
     "data": {
      "text/html": [
       "<div>\n",
       "<style scoped>\n",
       "    .dataframe tbody tr th:only-of-type {\n",
       "        vertical-align: middle;\n",
       "    }\n",
       "\n",
       "    .dataframe tbody tr th {\n",
       "        vertical-align: top;\n",
       "    }\n",
       "\n",
       "    .dataframe thead th {\n",
       "        text-align: right;\n",
       "    }\n",
       "</style>\n",
       "<table border=\"1\" class=\"dataframe\">\n",
       "  <thead>\n",
       "    <tr style=\"text-align: right;\">\n",
       "      <th></th>\n",
       "      <th>SessionId</th>\n",
       "      <th>Time</th>\n",
       "      <th>ItemId</th>\n",
       "      <th>UserId</th>\n",
       "      <th>Rating</th>\n",
       "      <th>item_idx</th>\n",
       "    </tr>\n",
       "  </thead>\n",
       "  <tbody>\n",
       "    <tr>\n",
       "      <th>0</th>\n",
       "      <td>0</td>\n",
       "      <td>2000-12-31 22:00:19</td>\n",
       "      <td>3186</td>\n",
       "      <td>1</td>\n",
       "      <td>4</td>\n",
       "      <td>0</td>\n",
       "    </tr>\n",
       "    <tr>\n",
       "      <th>1</th>\n",
       "      <td>0</td>\n",
       "      <td>2000-12-31 22:00:55</td>\n",
       "      <td>1270</td>\n",
       "      <td>1</td>\n",
       "      <td>5</td>\n",
       "      <td>1</td>\n",
       "    </tr>\n",
       "    <tr>\n",
       "      <th>2</th>\n",
       "      <td>0</td>\n",
       "      <td>2000-12-31 22:00:55</td>\n",
       "      <td>1721</td>\n",
       "      <td>1</td>\n",
       "      <td>4</td>\n",
       "      <td>2</td>\n",
       "    </tr>\n",
       "    <tr>\n",
       "      <th>3</th>\n",
       "      <td>0</td>\n",
       "      <td>2000-12-31 22:00:55</td>\n",
       "      <td>1022</td>\n",
       "      <td>1</td>\n",
       "      <td>5</td>\n",
       "      <td>3</td>\n",
       "    </tr>\n",
       "    <tr>\n",
       "      <th>7</th>\n",
       "      <td>4</td>\n",
       "      <td>2000-12-31 22:11:59</td>\n",
       "      <td>2804</td>\n",
       "      <td>1</td>\n",
       "      <td>5</td>\n",
       "      <td>4</td>\n",
       "    </tr>\n",
       "    <tr>\n",
       "      <th>8</th>\n",
       "      <td>4</td>\n",
       "      <td>2000-12-31 22:11:59</td>\n",
       "      <td>1207</td>\n",
       "      <td>1</td>\n",
       "      <td>4</td>\n",
       "      <td>5</td>\n",
       "    </tr>\n",
       "    <tr>\n",
       "      <th>9</th>\n",
       "      <td>5</td>\n",
       "      <td>2000-12-31 22:12:40</td>\n",
       "      <td>1193</td>\n",
       "      <td>1</td>\n",
       "      <td>5</td>\n",
       "      <td>6</td>\n",
       "    </tr>\n",
       "    <tr>\n",
       "      <th>10</th>\n",
       "      <td>5</td>\n",
       "      <td>2000-12-31 22:12:40</td>\n",
       "      <td>720</td>\n",
       "      <td>1</td>\n",
       "      <td>3</td>\n",
       "      <td>7</td>\n",
       "    </tr>\n",
       "    <tr>\n",
       "      <th>11</th>\n",
       "      <td>5</td>\n",
       "      <td>2000-12-31 22:12:40</td>\n",
       "      <td>260</td>\n",
       "      <td>1</td>\n",
       "      <td>4</td>\n",
       "      <td>8</td>\n",
       "    </tr>\n",
       "    <tr>\n",
       "      <th>14</th>\n",
       "      <td>8</td>\n",
       "      <td>2000-12-31 22:26:10</td>\n",
       "      <td>2692</td>\n",
       "      <td>1</td>\n",
       "      <td>4</td>\n",
       "      <td>9</td>\n",
       "    </tr>\n",
       "    <tr>\n",
       "      <th>15</th>\n",
       "      <td>8</td>\n",
       "      <td>2000-12-31 22:26:30</td>\n",
       "      <td>1961</td>\n",
       "      <td>1</td>\n",
       "      <td>5</td>\n",
       "      <td>10</td>\n",
       "    </tr>\n",
       "    <tr>\n",
       "      <th>16</th>\n",
       "      <td>8</td>\n",
       "      <td>2000-12-31 22:26:59</td>\n",
       "      <td>2028</td>\n",
       "      <td>1</td>\n",
       "      <td>5</td>\n",
       "      <td>11</td>\n",
       "    </tr>\n",
       "    <tr>\n",
       "      <th>18</th>\n",
       "      <td>10</td>\n",
       "      <td>2000-12-31 22:29:12</td>\n",
       "      <td>938</td>\n",
       "      <td>1</td>\n",
       "      <td>4</td>\n",
       "      <td>12</td>\n",
       "    </tr>\n",
       "    <tr>\n",
       "      <th>19</th>\n",
       "      <td>10</td>\n",
       "      <td>2000-12-31 22:29:13</td>\n",
       "      <td>1035</td>\n",
       "      <td>1</td>\n",
       "      <td>5</td>\n",
       "      <td>13</td>\n",
       "    </tr>\n",
       "    <tr>\n",
       "      <th>20</th>\n",
       "      <td>10</td>\n",
       "      <td>2000-12-31 22:29:13</td>\n",
       "      <td>1962</td>\n",
       "      <td>1</td>\n",
       "      <td>4</td>\n",
       "      <td>14</td>\n",
       "    </tr>\n",
       "  </tbody>\n",
       "</table>\n",
       "</div>"
      ],
      "text/plain": [
       "    SessionId                Time  ItemId  UserId  Rating  item_idx\n",
       "0           0 2000-12-31 22:00:19    3186       1       4         0\n",
       "1           0 2000-12-31 22:00:55    1270       1       5         1\n",
       "2           0 2000-12-31 22:00:55    1721       1       4         2\n",
       "3           0 2000-12-31 22:00:55    1022       1       5         3\n",
       "7           4 2000-12-31 22:11:59    2804       1       5         4\n",
       "8           4 2000-12-31 22:11:59    1207       1       4         5\n",
       "9           5 2000-12-31 22:12:40    1193       1       5         6\n",
       "10          5 2000-12-31 22:12:40     720       1       3         7\n",
       "11          5 2000-12-31 22:12:40     260       1       4         8\n",
       "14          8 2000-12-31 22:26:10    2692       1       4         9\n",
       "15          8 2000-12-31 22:26:30    1961       1       5        10\n",
       "16          8 2000-12-31 22:26:59    2028       1       5        11\n",
       "18         10 2000-12-31 22:29:12     938       1       4        12\n",
       "19         10 2000-12-31 22:29:13    1035       1       5        13\n",
       "20         10 2000-12-31 22:29:13    1962       1       4        14"
      ]
     },
     "execution_count": 45,
     "metadata": {},
     "output_type": "execute_result"
    }
   ],
   "source": [
    "tr_data_loader = SessionDataLoader(tr_dataset, batch_size=4)\n",
    "tr_dataset.df.head(15)"
   ]
  },
  {
   "cell_type": "code",
   "execution_count": 46,
   "id": "d03e4958",
   "metadata": {},
   "outputs": [],
   "source": [
    "iter_ex = iter(tr_data_loader)"
   ]
  },
  {
   "cell_type": "markdown",
   "id": "7e0c58be",
   "metadata": {},
   "source": [
    "- 아래 셀을 반복 실행하면 next가 계속 다음 데이터를 만듭니다.\n",
    "- input, output, mask의 감을 잡아 봅시다."
   ]
  },
  {
   "cell_type": "code",
   "execution_count": 47,
   "id": "e1435c5b",
   "metadata": {},
   "outputs": [
    {
     "name": "stdout",
     "output_type": "stream",
     "text": [
      "Model Input Item Idx are : [0 4 6 9]\n",
      "Label Item Idx are :       [ 1  5  7 10]\n",
      "Previous Masked Input Idx are []\n"
     ]
    }
   ],
   "source": [
    "inputs, labels, mask =  next(iter_ex)\n",
    "print(f'Model Input Item Idx are : {inputs}')\n",
    "print(f'Label Item Idx are : {\"\":5} {labels}')\n",
    "print(f'Previous Masked Input Idx are {mask}')"
   ]
  },
  {
   "cell_type": "markdown",
   "id": "61fdf050",
   "metadata": {},
   "source": [
    "# Step 3. 모델 구성\n",
    "이 부분도 실습 코드 내역을 참고하여 다양하게 모델 구조를 시도해 볼 수 있습니다."
   ]
  },
  {
   "cell_type": "markdown",
   "id": "f9254eec",
   "metadata": {},
   "source": [
    "## 3-1. Evaluation Metric\n",
    "- 이번 자료에서는 **MRR**(Mean Reciprocal Rank)과 **Recall@k**를 사용하겠습니다. \n",
    "  - MRR은 정답 아이템이 나온 순번의 역수 값입니다.\n",
    "  - 따라서 정답 아이템이 추천 결과 앞쪽 순번에 나온다면 지표가 높아질 것이고 뒤쪽에 나오거나 안 나온다면 지표가 낮아질 것입니다.\n",
    "\n"
   ]
  },
  {
   "cell_type": "code",
   "execution_count": 48,
   "id": "a67a954e",
   "metadata": {},
   "outputs": [],
   "source": [
    "def mrr_k(pred, truth: int, k: int):\n",
    "    indexing = np.where(pred[:k] == truth)[0]\n",
    "    if len(indexing) > 0:\n",
    "        return 1 / (indexing[0] + 1)\n",
    "    else:\n",
    "        return 0\n",
    "\n",
    "\n",
    "def recall_k(pred, truth: int, k: int) -> int:\n",
    "    answer = truth in pred[:k]\n",
    "    return int(answer)"
   ]
  },
  {
   "cell_type": "markdown",
   "id": "93bf1eb7",
   "metadata": {},
   "source": [
    "## 3-2. Model Architecture\n",
    "- (교재 내용) GRU4REC 모델 구조를 구현하겠습니다. 모델 구조가 간단한 편이므로 Functional하게 모델을 만들겠습니다."
   ]
  },
  {
   "cell_type": "code",
   "execution_count": 49,
   "id": "c017576d",
   "metadata": {},
   "outputs": [],
   "source": [
    "import numpy as np\n",
    "import tensorflow as tf\n",
    "from tensorflow.keras.layers import Input, Dense, Dropout, GRU\n",
    "from tensorflow.keras.losses import categorical_crossentropy\n",
    "from tensorflow.keras.models import Model\n",
    "from tensorflow.keras.optimizers import Adam\n",
    "from tensorflow.keras.utils import to_categorical\n",
    "from tqdm import tqdm"
   ]
  },
  {
   "cell_type": "code",
   "execution_count": 50,
   "id": "e6efcd19",
   "metadata": {},
   "outputs": [],
   "source": [
    "def create_model(args):\n",
    "    inputs = Input(batch_shape=(args.batch_size, 1, args.num_items))\n",
    "    gru, _ = GRU(args.hsz, stateful=True, return_state=True, name='GRU')(inputs)\n",
    "    dropout = Dropout(args.drop_rate)(gru)\n",
    "    predictions = Dense(args.num_items, activation='softmax')(dropout)\n",
    "    model = Model(inputs=inputs, outputs=[predictions])\n",
    "    model.compile(loss=categorical_crossentropy, optimizer=Adam(args.lr), metrics=['accuracy'])\n",
    "    model.summary()\n",
    "    return model"
   ]
  },
  {
   "cell_type": "markdown",
   "id": "2f648e6a",
   "metadata": {},
   "source": [
    "- 모델에 사용할 hyper-parameter를 class형식으로 관리하겠습니다."
   ]
  },
  {
   "cell_type": "code",
   "execution_count": 80,
   "id": "8f80ee45",
   "metadata": {},
   "outputs": [],
   "source": [
    "class Args:\n",
    "    def __init__(self, tr, val, test, batch_size, hsz, drop_rate, lr, epochs, k):\n",
    "        self.tr = tr\n",
    "        self.val = val\n",
    "        self.test = test\n",
    "        self.num_items = tr['ItemId'].nunique()\n",
    "        self.num_sessions = tr['SessionId'].nunique()\n",
    "        self.batch_size = batch_size\n",
    "        self.hsz = hsz\n",
    "        self.drop_rate = drop_rate\n",
    "        self.lr = lr\n",
    "        self.epochs = epochs\n",
    "        self.k = k\n",
    "\n",
    "#args = Args(tr, val, test, batch_size=2048, hsz=50, drop_rate=0.1, lr=0.001, epochs=3, k=20)\n",
    "#args = Args(tr, val, test, batch_size=256, hsz=50, drop_rate=0.1, lr=0.001, epochs=10, k=20)\n",
    "#args = Args(tr, val, test, batch_size=256, hsz=50, drop_rate=0.1, lr=0.001, epochs=12, k=20)\n",
    "#args = Args(tr, val, test, batch_size=512, hsz=50, drop_rate=0.1, lr=0.001, epochs=12, k=20)\n",
    "#args = Args(tr, val, test, batch_size=128, hsz=50, drop_rate=0.1, lr=0.001, epochs=9, k=20)\n",
    "#args = Args(tr, val, test, batch_size=64, hsz=50, drop_rate=0.1, lr=0.001, epochs=17, k=20)\n",
    "args = Args(tr, val, test, batch_size=32, hsz=50, drop_rate=0.1, lr=0.001, epochs=6, k=20)"
   ]
  },
  {
   "cell_type": "code",
   "execution_count": 81,
   "id": "5415882e",
   "metadata": {},
   "outputs": [
    {
     "name": "stdout",
     "output_type": "stream",
     "text": [
      "Model: \"model_7\"\n",
      "_________________________________________________________________\n",
      "Layer (type)                 Output Shape              Param #   \n",
      "=================================================================\n",
      "input_8 (InputLayer)         [(32, 1, 3239)]           0         \n",
      "_________________________________________________________________\n",
      "GRU (GRU)                    [(32, 50), (32, 50)]      493650    \n",
      "_________________________________________________________________\n",
      "dropout_7 (Dropout)          (32, 50)                  0         \n",
      "_________________________________________________________________\n",
      "dense_7 (Dense)              (32, 3239)                165189    \n",
      "=================================================================\n",
      "Total params: 658,839\n",
      "Trainable params: 658,839\n",
      "Non-trainable params: 0\n",
      "_________________________________________________________________\n"
     ]
    }
   ],
   "source": [
    "model = create_model(args)"
   ]
  },
  {
   "cell_type": "markdown",
   "id": "1a93f916",
   "metadata": {},
   "source": [
    "# Step 4. 모델 학습\n",
    "- 다양한 하이퍼파라미터를 변경해 보며 검증해 보도록 합니다. \n",
    "- 실습 코드에 언급되었던 Recall, MRR 등의 개념들도 함께 관리될 수 있도록 합니다."
   ]
  },
  {
   "cell_type": "code",
   "execution_count": 82,
   "id": "dd7848be",
   "metadata": {},
   "outputs": [],
   "source": [
    "# train 셋으로 학습하면서 valid 셋으로 검증합니다.\n",
    "def train_model(model, args):\n",
    "    train_dataset = SessionDataset(args.tr)\n",
    "    train_loader = SessionDataLoader(train_dataset, batch_size=args.batch_size)\n",
    "\n",
    "    for epoch in range(1, args.epochs + 1):\n",
    "        total_step = len(args.tr) - args.tr['SessionId'].nunique()\n",
    "        tr_loader = tqdm(train_loader, total=total_step // args.batch_size, desc='Train', mininterval=1)\n",
    "        for feat, target, mask in tr_loader:\n",
    "            reset_hidden_states(model, mask)  # 종료된 session은 hidden_state를 초기화합니다. 아래 메서드에서 확인해주세요.\n",
    "\n",
    "            input_ohe = to_categorical(feat, num_classes=args.num_items)\n",
    "            input_ohe = np.expand_dims(input_ohe, axis=1)\n",
    "            target_ohe = to_categorical(target, num_classes=args.num_items)\n",
    "\n",
    "            result = model.train_on_batch(input_ohe, target_ohe)\n",
    "            tr_loader.set_postfix(train_loss=result[0], accuracy = result[1])\n",
    "\n",
    "        val_recall, val_mrr = get_metrics(args.val, model, args, args.k)  # valid set에 대해 검증합니다.\n",
    "\n",
    "        print(f\"\\t - Recall@{args.k} epoch {epoch}: {val_recall:3f}\")\n",
    "        print(f\"\\t - MRR@{args.k}    epoch {epoch}: {val_mrr:3f}\\n\")\n",
    "\n",
    "\n",
    "def reset_hidden_states(model, mask):\n",
    "    gru_layer = model.get_layer(name='GRU')  # model에서 gru layer를 가져옵니다.\n",
    "    hidden_states = gru_layer.states[0].numpy()  # gru_layer의 parameter를 가져옵니다.\n",
    "    for elt in mask:  # mask된 인덱스 즉, 종료된 세션의 인덱스를 돌면서\n",
    "        hidden_states[elt, :] = 0  # parameter를 초기화 합니다.\n",
    "    gru_layer.reset_states(states=hidden_states)\n",
    "    \n",
    "    \n",
    "def get_metrics(data, model, args, k: int):  # valid셋과 test셋을 평가하는 코드입니다. \n",
    "                                             # train과 거의 같지만 mrr, recall을 구하는 라인이 있습니다.\n",
    "    dataset = SessionDataset(data)\n",
    "    loader = SessionDataLoader(dataset, batch_size=args.batch_size)\n",
    "    recall_list, mrr_list = [], []\n",
    "\n",
    "    total_step = len(data) - data['SessionId'].nunique()\n",
    "    for inputs, label, mask in tqdm(loader, total=total_step // args.batch_size, desc='Evaluation', mininterval=1):\n",
    "        reset_hidden_states(model, mask)\n",
    "        input_ohe = to_categorical(inputs, num_classes=args.num_items)\n",
    "        input_ohe = np.expand_dims(input_ohe, axis=1)\n",
    "\n",
    "        pred = model.predict(input_ohe, batch_size=args.batch_size)\n",
    "        pred_arg = tf.argsort(pred, direction='DESCENDING')  # softmax 값이 큰 순서대로 sorting 합니다.\n",
    "\n",
    "        length = len(inputs)\n",
    "        recall_list.extend([recall_k(pred_arg[i], label[i], k) for i in range(length)])\n",
    "        mrr_list.extend([mrr_k(pred_arg[i], label[i], k) for i in range(length)])\n",
    "\n",
    "    recall, mrr = np.mean(recall_list), np.mean(mrr_list)\n",
    "    return recall, mrr"
   ]
  },
  {
   "cell_type": "code",
   "execution_count": 83,
   "id": "5492bde1",
   "metadata": {},
   "outputs": [
    {
     "name": "stderr",
     "output_type": "stream",
     "text": [
      "Train: 100%|█████████▉| 17704/17705 [02:49<00:00, 104.37it/s, accuracy=0.0312, train_loss=6.57]\n",
      "Evaluation:  97%|█████████▋| 58/60 [00:08<00:00,  6.49it/s]\n"
     ]
    },
    {
     "name": "stdout",
     "output_type": "stream",
     "text": [
      "\t - Recall@20 epoch 1: 0.154634\n",
      "\t - MRR@20    epoch 1: 0.047398\n",
      "\n"
     ]
    },
    {
     "name": "stderr",
     "output_type": "stream",
     "text": [
      "Train: 100%|█████████▉| 17704/17705 [02:46<00:00, 106.07it/s, accuracy=0.0312, train_loss=6.49]\n",
      "Evaluation:  97%|█████████▋| 58/60 [00:08<00:00,  6.73it/s]\n"
     ]
    },
    {
     "name": "stdout",
     "output_type": "stream",
     "text": [
      "\t - Recall@20 epoch 2: 0.173491\n",
      "\t - MRR@20    epoch 2: 0.052865\n",
      "\n"
     ]
    },
    {
     "name": "stderr",
     "output_type": "stream",
     "text": [
      "Train: 100%|█████████▉| 17704/17705 [02:47<00:00, 105.49it/s, accuracy=0.0312, train_loss=6.44]\n",
      "Evaluation:  97%|█████████▋| 58/60 [00:08<00:00,  6.69it/s]\n"
     ]
    },
    {
     "name": "stdout",
     "output_type": "stream",
     "text": [
      "\t - Recall@20 epoch 3: 0.173491\n",
      "\t - MRR@20    epoch 3: 0.053427\n",
      "\n"
     ]
    },
    {
     "name": "stderr",
     "output_type": "stream",
     "text": [
      "Train: 100%|█████████▉| 17704/17705 [02:46<00:00, 106.42it/s, accuracy=0, train_loss=6.35]     \n",
      "Evaluation:  97%|█████████▋| 58/60 [00:08<00:00,  6.62it/s]\n"
     ]
    },
    {
     "name": "stdout",
     "output_type": "stream",
     "text": [
      "\t - Recall@20 epoch 4: 0.182651\n",
      "\t - MRR@20    epoch 4: 0.057326\n",
      "\n"
     ]
    },
    {
     "name": "stderr",
     "output_type": "stream",
     "text": [
      "Train: 100%|█████████▉| 17704/17705 [02:46<00:00, 106.38it/s, accuracy=0, train_loss=6.44]     \n",
      "Evaluation:  97%|█████████▋| 58/60 [00:08<00:00,  6.75it/s]\n"
     ]
    },
    {
     "name": "stdout",
     "output_type": "stream",
     "text": [
      "\t - Recall@20 epoch 5: 0.181034\n",
      "\t - MRR@20    epoch 5: 0.057924\n",
      "\n"
     ]
    },
    {
     "name": "stderr",
     "output_type": "stream",
     "text": [
      "Train: 100%|█████████▉| 17704/17705 [02:45<00:00, 106.71it/s, accuracy=0.0312, train_loss=6.51]\n",
      "Evaluation:  97%|█████████▋| 58/60 [00:08<00:00,  6.55it/s]"
     ]
    },
    {
     "name": "stdout",
     "output_type": "stream",
     "text": [
      "\t - Recall@20 epoch 6: 0.183728\n",
      "\t - MRR@20    epoch 6: 0.058069\n",
      "\n"
     ]
    },
    {
     "name": "stderr",
     "output_type": "stream",
     "text": [
      "\n"
     ]
    }
   ],
   "source": [
    "# 모델 학습\n",
    "train_model(model, args)"
   ]
  },
  {
   "cell_type": "markdown",
   "id": "0f23b8ed",
   "metadata": {},
   "source": [
    "# Step 5. 모델 테스트\n",
    "- 미리 구성한 테스트셋을 바탕으로 Recall, MRR 을 확인해 봅니다."
   ]
  },
  {
   "cell_type": "code",
   "execution_count": 84,
   "id": "8524204c",
   "metadata": {},
   "outputs": [
    {
     "name": "stderr",
     "output_type": "stream",
     "text": [
      "Evaluation: 100%|██████████| 55/55 [00:07<00:00,  6.92it/s]"
     ]
    },
    {
     "name": "stdout",
     "output_type": "stream",
     "text": [
      "\t - Recall@20: 0.234659\n",
      "\t - MRR@20: 0.079173\n",
      "\n"
     ]
    },
    {
     "name": "stderr",
     "output_type": "stream",
     "text": [
      "\n"
     ]
    }
   ],
   "source": [
    "def test_model(model, args, test):\n",
    "    test_recall, test_mrr = get_metrics(test, model, args, 20)\n",
    "    print(f\"\\t - Recall@{args.k}: {test_recall:3f}\")\n",
    "    print(f\"\\t - MRR@{args.k}: {test_mrr:3f}\\n\")\n",
    "\n",
    "test_model(model, args, test)"
   ]
  },
  {
   "cell_type": "markdown",
   "id": "bc0664e6",
   "metadata": {},
   "source": [
    "# ※ 결과 정리\n"
   ]
  },
  {
   "cell_type": "markdown",
   "id": "2d007dd1",
   "metadata": {},
   "source": [
    "### 하이퍼 파라미터 설명\n",
    "- k = 모델이 제시한 아이템 수\n",
    "\n",
    "### 성능 평가 지표 설명\n",
    "- Reall@K = 모델이 k개 아이템을 추천했을 때, 실제 True인 데이터를 True라고 인식한 확률\n",
    "- MRR@K = 모델이 k개 아이템을 추천했을 때, 정답 아이템이 나온 순번의 역수 값"
   ]
  },
  {
   "cell_type": "markdown",
   "id": "ef6f272b",
   "metadata": {},
   "source": [
    "### 실행 결과 정리\n"
   ]
  },
  {
   "cell_type": "markdown",
   "id": "ce6a2d6b",
   "metadata": {},
   "source": [
    "\n",
    "| # | 하이퍼 파라미터 | 테스트 결과 | 비고 |\n",
    "|:---|:---|:---|:---| \n",
    "| 1 | batch_size=256, epochs=10, k=20 | Recall@20=0.199, MRR@20=0.064 | |\n",
    "| 2 | batch_size=256, epochs=12, k=20 | Recall@20=0.208, MRR@20=0.069 | epoch=30으로 실행한 결과 epoch=12에서 정확도 제일 높음 |\n",
    "| 3 | batch_size=512, epochs=12, k=20 | Recall@20=0.152, MRR@20=0.052 |  |\n",
    "| 4 | batch_size=128, epochs=9, k=20 | Recall@20=0.221, MRR@20=0.076 | epoch=12로 실행한 결과 epoch=9에서 정확도 제일 높음 |\n",
    "| **5** | **batch_size=64**, epochs=17, k=20 | **Recall@20=0.243, MRR@20=0.082** | epoch=20으로 실행한 결과 epoch=17에서 정확도 제일 높음 |\n",
    "| 6 | batch_size=32, epochs=6, k=20 | Recall@20=0.235, MRR@20=0.080 | epoch=20으로 실행한 결과 epoch=6에서 정확도 제일 높음 |\n",
    "\n",
    "- batch_size=64에서 성능 제일 우수... Recall=0.23 수준에 불과"
   ]
  },
  {
   "attachments": {
    "image-2.png": {
     "image/png": "[encoded data removed]"
    },
    "image.png": {
     "image/png": "[encoded data removed]"
    }
   },
   "cell_type": "markdown",
   "id": "8c3e24ec",
   "metadata": {},
   "source": [
    "#### [ #1 ]\n",
    "![image.png](attachment:image.png)\n",
    "![image-2.png](attachment:image-2.png)"
   ]
  },
  {
   "attachments": {
    "image-4.png": {
     "image/png": "[encoded data removed]"
    },
    "image-5.png": {
     "image/png": "[encoded data removed]"
    },
    "image-6.png": {
     "image/png": "[encoded data removed]"
    }
   },
   "cell_type": "markdown",
   "id": "c2a20c86",
   "metadata": {},
   "source": [
    "#### [ #2 ] epoch 12에서 정확도 제일 높음\n",
    "![image-4.png](attachment:image-4.png)\n",
    "![image-5.png](attachment:image-5.png)\n",
    "![image-6.png](attachment:image-6.png)"
   ]
  },
  {
   "attachments": {
    "image-2.png": {
     "image/png": "[encoded data removed]"
    },
    "image-3.png": {
     "image/png": "[encoded data removed]"
    },
    "image.png": {
     "image/png": "[encoded data removed]"
    }
   },
   "cell_type": "markdown",
   "id": "5eebd568",
   "metadata": {},
   "source": [
    "#### [ #3 ] \n",
    "![image.png](attachment:image.png)\n",
    "![image-2.png](attachment:image-2.png)\n",
    "![image-3.png](attachment:image-3.png)"
   ]
  },
  {
   "attachments": {
    "image-4.png": {
     "image/png": "[encoded data removed]"
    },
    "image-5.png": {
     "image/png": "[encoded data removed]"
    },
    "image-6.png": {
     "image/png": "[encoded data removed]"
    }
   },
   "cell_type": "markdown",
   "id": "801a62ee",
   "metadata": {},
   "source": [
    "#### [ #4 ] \n",
    "![image-4.png](attachment:image-4.png)\n",
    "![image-5.png](attachment:image-5.png)\n",
    "![image-6.png](attachment:image-6.png)"
   ]
  },
  {
   "attachments": {
    "image-10.png": {
     "image/png": "[encoded data removed]"
    },
    "image-11.png": {
     "image/png": "[encoded data removed]"
    },
    "image-12.png": {
     "image/png": "[encoded data removed]"
    }
   },
   "cell_type": "markdown",
   "id": "28a06610",
   "metadata": {},
   "source": [
    "#### [ #5 ] \n",
    "![image-10.png](attachment:image-10.png)\n",
    "![image-11.png](attachment:image-11.png)\n",
    "![image-12.png](attachment:image-12.png)"
   ]
  },
  {
   "attachments": {
    "image-2.png": {
     "image/png": "[encoded data removed]"
    },
    "image-3.png": {
     "image/png": "[encoded data removed]"
    },
    "image.png": {
     "image/png": "[encoded data removed]"
    }
   },
   "cell_type": "markdown",
   "id": "3e76b461",
   "metadata": {},
   "source": [
    "#### [ #6 ] \n",
    "![image.png](attachment:image.png)\n",
    "![image-2.png](attachment:image-2.png)\n",
    "![image-3.png](attachment:image-3.png)"
   ]
  },
  {
   "cell_type": "markdown",
   "id": "ef002bca",
   "metadata": {},
   "source": [
    "# 프로젝트 평가\n",
    "\n",
    "| 평가문항 | 상세기준 | 실행 내용 |\n",
    "|:---|:---|:---|\n",
    "| 1. Movielens 데이터셋을 session based recommendation <br> 관점으로 전처리하는 과정이 체계적으로 진행되었다. | 데이터셋의 면밀한 분석을 토대로 세션단위 정의 과정 <br> (길이분석, 시간분석)을 합리적으로 수행한 과정이 기술되었다. | 1-1 부분 참고 |\n",
    "| 2. RNN 기반의 예측 모델이 정상적으로 구성되어 <br> 안정적으로 훈련이 진행되었다. | 적절한 epoch만큼의 학습이 진행되는 과정에서 train loss가 <br> 안정적으로 감소하고, validation 단계에서의 Recall, MRR이 <br> 개선되는 것이 확인된다. | Step 4, 5 참고 |\n",
    "| 3. 세션정의, 모델구조, 하이퍼파라미터 등을 변경해서 <br> 실험하여 Recall, MRR 등의 변화추이를 관찰하였다. | 3가지 이상의 변화를 시도하고 그 실험결과를 체계적으로 <br> 분석하였다. | Step 4, 5 참고 |\n"
   ]
  },
  {
   "cell_type": "markdown",
   "id": "2036ea48",
   "metadata": {},
   "source": [
    "****\n",
    "### 코드 목차\n",
    "**Step 1. 데이터의 전처리**\n",
    "- 1-1. Data Load\n",
    "  - (1) UTC Time 형식인 Time 컬럼을 Pandas dataetime 객체로 변경\n",
    "  - (2) 데이터 확인\n",
    "  - (3) Rating값 2 이하인 행을 데이터에서 제외\n",
    "  - (4) Session 구성\n",
    "    - 1) UserId=1 인 데이터의 시각(Time) 확인\n",
    "    - 2) Time 열 기준으로 데이터 확인\n",
    "    - 3) 시각을 1분 단위로 표시\n",
    "    - 4) UserId별 1분 단위를 하나의 Session으로 하여 SessionId 생성\n",
    "- 1-2. Session Length\n",
    "- 1-3. Session Time\n",
    "- 1-4. Data Cleansing\n",
    "- 1-5. Train/Valid/Test Split\n",
    "\n",
    "(이하 교재 내용과 동일)  \n",
    "**Step 2. 미니 배치의 구성**\n",
    "- 2-1. Session Dataset\n",
    "- 2-2. Session DataLoader \n",
    "\n",
    "**Step 3. 모델 구성**\n",
    "- 3-1. Evaluation Metric\n",
    "- 3-2. Model Architecture\n",
    "\n",
    "**Step 4. 모델 학습**\n",
    "\n",
    "**Step 5. 모델 테스트**  \n",
    "\n",
    "****"
   ]
  },
  {
   "cell_type": "markdown",
   "id": "1c4f00cd",
   "metadata": {},
   "source": [
    "## 회고"
   ]
  },
  {
   "cell_type": "markdown",
   "id": "32777cb3",
   "metadata": {},
   "source": [
    "- Session 구성하는 방법에 대해서는 적절히 이해하고 실행했다고 생각됨\n",
    "  - UserId별 1분 단위로 세션을 구성하여 인풋 데이터로 사용\n",
    "  - UserId를 무시하고 1분 단위로 세션을 구성하는 방법도 고려해 볼 수 있음\n",
    "  - 기능 측면에서는 판다스(Pandas)를 얼마나 잘쓸 수 있는가가 관건임\n",
    "- Train/Valid/Test Split 관련\n",
    "  - Train/Valid/Test를 8:1:1로 나누어서 모델 훈련, 검증 및 테스트 진행\n",
    "  - 영화 추천이므로 영화의 유행 주기와 맞추어 세션 구성 및 데이터를 분할하는 방법이 있을 수 있겠음 \n",
    "  - 영화 평가 자료를 사용, SBR 모델로 영화 추천하는 것의 정확도가 얼마나 될 지 의문임\n",
    "    - 위의 실행 결과는 0.23 수준. 기존 다른 모델들의 정확도에 비해 턱없이 낮음\n",
    "- 모델이 어떻게 작동하는지 이해가 없는 상태로 실행시킴\n",
    "  - 논문을 읽고 모델을 코딩하여 작동시키고\n",
    "  - 장단점을 파악하고\n",
    "  - 여러 변형 모델을 테스트 해보고\n",
    "  - 개선안도 생각해보고...\n",
    "  - 할 수 있어야 하는데, 갈 길이 ...\n",
    "  - 모델 구성을 정확히 파악했다면 Pretrained 모델을 사용할 수도 있었는데 못함\n",
    "    - 교재와 같이, trained_model을 불러와 실행시켰을 때 에러 발생. 이유를 알 수 없었음\n",
    "    > \\# 학습된 모델을 불러옵니다.<br>\n",
    "    > model = tf.keras.models.load_model(data_path / 'trained_model')\n",
    "  - 또한... 아래와 같은 문제에 부딪힘\n",
    "- 교재에 있는 Argument를 사용해서 실행시 에러 발생\n",
    "  - 아래 스크린샷 참고\n",
    "  - batch_size=2048이 문제를 일으킴!!\n",
    "  - 이유를 찾아낼 수 없어서 다른 사람의 코드를 확인해서 발견 (시간 많이 소비...)\n",
    "  - 교재에 내용을 포함시키거나 아니면 다른 값으로 수정해주면 좋을 듯~~\n",
    "    - 무지로 인해 엉뚱한 데에서 에러 찾느라 애쓰지 않도록\n",
    "    - 교재에서 잘 실행된 것이라 철석같이 믿고 인풋 데이터 잘못 만들었나 하고 시간 많이 보냄 ㅋㅎ~ \n"
   ]
  },
  {
   "attachments": {
    "image-2.png": {
     "image/png": "[encoded data removed]"
    },
    "image.png": {
     "image/png": "[encoded data removed]"
    }
   },
   "cell_type": "markdown",
   "id": "2c6da7c0",
   "metadata": {},
   "source": [
    "![image.png](attachment:image.png)\n",
    "![image-2.png](attachment:image-2.png)"
   ]
  }
 ],
 "metadata": {
  "kernelspec": {
   "display_name": "Python 3 (ipykernel)",
   "language": "python",
   "name": "python3"
  },
  "language_info": {
   "codemirror_mode": {
    "name": "ipython",
    "version": 3
   },
   "file_extension": ".py",
   "mimetype": "text/x-python",
   "name": "python",
   "nbconvert_exporter": "python",
   "pygments_lexer": "ipython3",
   "version": "3.9.7"
  }
 },
 "nbformat": 4,
 "nbformat_minor": 5
}
